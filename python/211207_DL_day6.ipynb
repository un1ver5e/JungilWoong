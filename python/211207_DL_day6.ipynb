{
 "cells": [
  {
   "cell_type": "markdown",
   "id": "054ddb0a",
   "metadata": {},
   "source": [
    "# 오전"
   ]
  },
  {
   "cell_type": "markdown",
   "id": "74fc8ba4",
   "metadata": {},
   "source": [
    "### 어제 복습"
   ]
  },
  {
   "cell_type": "code",
   "execution_count": 4,
   "id": "590de903",
   "metadata": {},
   "outputs": [],
   "source": [
    "from keras.models import Sequential\n",
    "from keras.layers import Dense, Flatten\n",
    "from sklearn.model_selection import train_test_split\n",
    "from tensorflow import keras\n",
    "\n",
    "(train_input, train_target), (test_input, test_target) = keras.datasets.fashion_mnist.load_data()\n",
    "\n",
    "train_scaled = train_input / 255.0\n",
    "\n",
    "train_scaled, val_scaled, train_target, val_target = train_test_split(\n",
    "    train_scaled, train_target, test_size=0.2, random_state=42)"
   ]
  },
  {
   "cell_type": "code",
   "execution_count": 5,
   "id": "06ca9800",
   "metadata": {},
   "outputs": [],
   "source": [
    "def model_fn(a_layer=None):\n",
    "    model = Sequential()\n",
    "    model.add(Flatten(input_shape=(28, 28)))\n",
    "    model.add(Dense(100, activation='relu'))\n",
    "    if a_layer:\n",
    "        model.add(a_layer)\n",
    "    model.add(Dense(10, activation='softmax'))\n",
    "    return model"
   ]
  },
  {
   "cell_type": "code",
   "execution_count": 6,
   "id": "137044bf",
   "metadata": {},
   "outputs": [
    {
     "name": "stdout",
     "output_type": "stream",
     "text": [
      "Model: \"sequential\"\n",
      "_________________________________________________________________\n",
      " Layer (type)                Output Shape              Param #   \n",
      "=================================================================\n",
      " flatten (Flatten)           (None, 784)               0         \n",
      "                                                                 \n",
      " dense (Dense)               (None, 100)               78500     \n",
      "                                                                 \n",
      " dense_1 (Dense)             (None, 10)                1010      \n",
      "                                                                 \n",
      "=================================================================\n",
      "Total params: 79,510\n",
      "Trainable params: 79,510\n",
      "Non-trainable params: 0\n",
      "_________________________________________________________________\n"
     ]
    }
   ],
   "source": [
    "model = model_fn()\n",
    "\n",
    "model.summary()"
   ]
  },
  {
   "cell_type": "code",
   "execution_count": 7,
   "id": "e2059ed1",
   "metadata": {},
   "outputs": [],
   "source": [
    "# 모델 컴파일\n",
    "model.compile(loss='sparse_categorical_crossentropy', metrics='accuracy')\n",
    "\n",
    "# 모델 실행\n",
    "history = model.fit(train_scaled, train_target, epochs=5, verbose=0)"
   ]
  },
  {
   "cell_type": "code",
   "execution_count": 8,
   "id": "04577851",
   "metadata": {},
   "outputs": [],
   "source": [
    "# 손실율 , 정확도\n",
    "import matplotlib.pyplot as plt\n",
    "\n",
    "def plot_loss_acc(history):    \n",
    "    fig, ax1 = plt.subplots()\n",
    "    plt.title(\"Train Result\")\n",
    "    line1 = ax1.plot(history.epoch, history.history['loss'],color='red', \n",
    "                     label='loss')\n",
    "    ax1.set_xlabel('epoch')\n",
    "    ax1.set_ylabel('loss')\n",
    "\n",
    "    ax2 = ax1.twinx()\n",
    "    line2 = ax2.plot(history.epoch, history.history['accuracy'], color='blue',\n",
    "                     label='acc')\n",
    "    ax2.set_ylabel('accuracy')\n",
    "\n",
    "    lines = line1 + line2\n",
    "    labels = [l.get_label() for l in lines]\n",
    "    ax1.legend(lines, labels, loc='center right')\n",
    "    plt.show()\n",
    "    \n",
    "def plot_train_val(history):    \n",
    "    plt.plot(history.history['loss'])\n",
    "    plt.plot(history.history['val_loss'])\n",
    "    plt.xlabel('epoch')\n",
    "    plt.ylabel('loss')\n",
    "    plt.legend(['train', 'val'])\n",
    "    plt.show()"
   ]
  },
  {
   "cell_type": "code",
   "execution_count": 9,
   "id": "826908c3",
   "metadata": {},
   "outputs": [
    {
     "name": "stdout",
     "output_type": "stream",
     "text": [
      "dict_keys(['loss', 'accuracy'])\n"
     ]
    },
    {
     "data": {
      "image/png": "[encoded data removed]",
      "text/plain": [
       "<Figure size 432x288 with 2 Axes>"
      ]
     },
     "metadata": {
      "needs_background": "light"
     },
     "output_type": "display_data"
    }
   ],
   "source": [
    "print(history.history.keys())\n",
    "\n",
    "plot_loss_acc(history)  # 그래프"
   ]
  },
  {
   "cell_type": "code",
   "execution_count": 25,
   "id": "11325619",
   "metadata": {},
   "outputs": [
    {
     "data": {
      "text/plain": [
       "{'loss': [0.590941309928894,\n",
       "  0.44256556034088135,\n",
       "  0.4013495147228241,\n",
       "  0.3810086250305176,\n",
       "  0.36416923999786377,\n",
       "  0.3525434136390686,\n",
       "  0.34405064582824707,\n",
       "  0.3327654004096985,\n",
       "  0.32267528772354126,\n",
       "  0.317351371049881,\n",
       "  0.3133005201816559,\n",
       "  0.3086412847042084,\n",
       "  0.30447667837142944,\n",
       "  0.2954542636871338,\n",
       "  0.2928309440612793,\n",
       "  0.29121020436286926,\n",
       "  0.28333595395088196,\n",
       "  0.28302910923957825,\n",
       "  0.27590060234069824,\n",
       "  0.27199220657348633],\n",
       " 'accuracy': [0.7925000190734863,\n",
       "  0.8403333425521851,\n",
       "  0.8533750176429749,\n",
       "  0.8608541488647461,\n",
       "  0.8662916421890259,\n",
       "  0.8723958134651184,\n",
       "  0.8742708563804626,\n",
       "  0.8767291903495789,\n",
       "  0.8819791674613953,\n",
       "  0.8818333148956299,\n",
       "  0.883145809173584,\n",
       "  0.8855208158493042,\n",
       "  0.8850625157356262,\n",
       "  0.8899166584014893,\n",
       "  0.8912500143051147,\n",
       "  0.8910624980926514,\n",
       "  0.8940208554267883,\n",
       "  0.8947291374206543,\n",
       "  0.895520806312561,\n",
       "  0.8978124856948853],\n",
       " 'val_loss': [0.4374728500843048,\n",
       "  0.38286706805229187,\n",
       "  0.385687917470932,\n",
       "  0.34989526867866516,\n",
       "  0.3405029773712158,\n",
       "  0.3573860824108124,\n",
       "  0.3304336965084076,\n",
       "  0.32735615968704224,\n",
       "  0.33336764574050903,\n",
       "  0.32789722084999084,\n",
       "  0.32171404361724854,\n",
       "  0.33649423718452454,\n",
       "  0.32935774326324463,\n",
       "  0.3290436267852783,\n",
       "  0.3300327658653259,\n",
       "  0.3234255313873291,\n",
       "  0.3273126780986786,\n",
       "  0.31980690360069275,\n",
       "  0.3185316324234009,\n",
       "  0.31737542152404785],\n",
       " 'val_accuracy': [0.8389166593551636,\n",
       "  0.8608333468437195,\n",
       "  0.8539166450500488,\n",
       "  0.8705833554267883,\n",
       "  0.8763333559036255,\n",
       "  0.8690833449363708,\n",
       "  0.8801666498184204,\n",
       "  0.8787500262260437,\n",
       "  0.8796666860580444,\n",
       "  0.8833333253860474,\n",
       "  0.887666642665863,\n",
       "  0.8824166655540466,\n",
       "  0.8847500085830688,\n",
       "  0.8814166784286499,\n",
       "  0.8826666474342346,\n",
       "  0.8849999904632568,\n",
       "  0.8809166550636292,\n",
       "  0.8848333358764648,\n",
       "  0.8887500166893005,\n",
       "  0.890250027179718]}"
      ]
     },
     "execution_count": 25,
     "metadata": {},
     "output_type": "execute_result"
    }
   ],
   "source": [
    "history.history"
   ]
  },
  {
   "cell_type": "code",
   "execution_count": 14,
   "id": "c28905af",
   "metadata": {},
   "outputs": [],
   "source": [
    "# epochs 수 변경\n",
    "model = model_fn()\n",
    "model.compile(loss='sparse_categorical_crossentropy', metrics='accuracy')\n",
    "\n",
    "history = model.fit(train_scaled, train_target, epochs=20, verbose=0)"
   ]
  },
  {
   "cell_type": "code",
   "execution_count": 15,
   "id": "c220e1c7",
   "metadata": {},
   "outputs": [
    {
     "data": {
      "image/png": "[encoded data removed]",
      "text/plain": [
       "<Figure size 432x288 with 2 Axes>"
      ]
     },
     "metadata": {
      "needs_background": "light"
     },
     "output_type": "display_data"
    }
   ],
   "source": [
    "plot_loss_acc(history)"
   ]
  },
  {
   "cell_type": "code",
   "execution_count": 19,
   "id": "ccde235d",
   "metadata": {},
   "outputs": [],
   "source": [
    "# 검증 데이터 결과\n",
    "model = model_fn()\n",
    "model.compile(loss='sparse_categorical_crossentropy', metrics='accuracy')\n",
    "\n",
    "history = model.fit(train_scaled, train_target, epochs=20, verbose=0, \n",
    "                    validation_data=(val_scaled, val_target))"
   ]
  },
  {
   "cell_type": "code",
   "execution_count": 20,
   "id": "100aca23",
   "metadata": {},
   "outputs": [
    {
     "data": {
      "text/plain": [
       "{'loss': [0.5276532173156738,\n",
       "  0.3897850215435028,\n",
       "  0.3538677990436554,\n",
       "  0.33484262228012085,\n",
       "  0.32276129722595215,\n",
       "  0.30898913741111755,\n",
       "  0.3005897104740143,\n",
       "  0.2926056385040283,\n",
       "  0.28489041328430176,\n",
       "  0.279816597700119,\n",
       "  0.27280551195144653,\n",
       "  0.2680041790008545,\n",
       "  0.2613857686519623,\n",
       "  0.257179856300354,\n",
       "  0.25403502583503723,\n",
       "  0.25105226039886475,\n",
       "  0.24705879390239716,\n",
       "  0.23867268860340118,\n",
       "  0.2352050542831421,\n",
       "  0.23549200594425201],\n",
       " 'accuracy': [0.8132500052452087,\n",
       "  0.8609374761581421,\n",
       "  0.872041642665863,\n",
       "  0.8802083134651184,\n",
       "  0.8842708468437195,\n",
       "  0.890375018119812,\n",
       "  0.893583357334137,\n",
       "  0.898520827293396,\n",
       "  0.9004999995231628,\n",
       "  0.9004999995231628,\n",
       "  0.905875027179718,\n",
       "  0.9062291383743286,\n",
       "  0.9104583263397217,\n",
       "  0.911104142665863,\n",
       "  0.9121249914169312,\n",
       "  0.9134791493415833,\n",
       "  0.9158541560173035,\n",
       "  0.9180208444595337,\n",
       "  0.918916642665863,\n",
       "  0.9198333621025085],\n",
       " 'val_loss': [0.41766560077667236,\n",
       "  0.3777417838573456,\n",
       "  0.3787038028240204,\n",
       "  0.35836726427078247,\n",
       "  0.35705333948135376,\n",
       "  0.37427574396133423,\n",
       "  0.37112024426460266,\n",
       "  0.3635290265083313,\n",
       "  0.37672850489616394,\n",
       "  0.3836457431316376,\n",
       "  0.3989056348800659,\n",
       "  0.3850661516189575,\n",
       "  0.3852796256542206,\n",
       "  0.4227811396121979,\n",
       "  0.4693164825439453,\n",
       "  0.415996789932251,\n",
       "  0.46037405729293823,\n",
       "  0.47432684898376465,\n",
       "  0.4421021044254303,\n",
       "  0.4802454710006714],\n",
       " 'val_accuracy': [0.8509166836738586,\n",
       "  0.8655833601951599,\n",
       "  0.8700000047683716,\n",
       "  0.8755833506584167,\n",
       "  0.8837500214576721,\n",
       "  0.8744999766349792,\n",
       "  0.8784999847412109,\n",
       "  0.8826666474342346,\n",
       "  0.8799999952316284,\n",
       "  0.8840000033378601,\n",
       "  0.8730833530426025,\n",
       "  0.8819166421890259,\n",
       "  0.8855833411216736,\n",
       "  0.8830833435058594,\n",
       "  0.8734999895095825,\n",
       "  0.8865833282470703,\n",
       "  0.875166654586792,\n",
       "  0.8777499794960022,\n",
       "  0.8858333230018616,\n",
       "  0.8834166526794434]}"
      ]
     },
     "execution_count": 20,
     "metadata": {},
     "output_type": "execute_result"
    }
   ],
   "source": [
    "history.history"
   ]
  },
  {
   "cell_type": "code",
   "execution_count": 21,
   "id": "51e2578f",
   "metadata": {},
   "outputs": [
    {
     "data": {
      "image/png": "[encoded data removed]",
      "text/plain": [
       "<Figure size 432x288 with 1 Axes>"
      ]
     },
     "metadata": {
      "needs_background": "light"
     },
     "output_type": "display_data"
    }
   ],
   "source": [
    "plot_train_val(history)"
   ]
  },
  {
   "cell_type": "code",
   "execution_count": 22,
   "id": "8647e30d",
   "metadata": {},
   "outputs": [
    {
     "name": "stdout",
     "output_type": "stream",
     "text": [
      "Model: \"sequential_3\"\n",
      "_________________________________________________________________\n",
      " Layer (type)                Output Shape              Param #   \n",
      "=================================================================\n",
      " flatten_3 (Flatten)         (None, 784)               0         \n",
      "                                                                 \n",
      " dense_6 (Dense)             (None, 100)               78500     \n",
      "                                                                 \n",
      " dropout (Dropout)           (None, 100)               0         \n",
      "                                                                 \n",
      " dense_7 (Dense)             (None, 10)                1010      \n",
      "                                                                 \n",
      "=================================================================\n",
      "Total params: 79,510\n",
      "Trainable params: 79,510\n",
      "Non-trainable params: 0\n",
      "_________________________________________________________________\n"
     ]
    }
   ],
   "source": [
    "# 드롭 아웃 : 과적합 해결\n",
    "model = model_fn(keras.layers.Dropout(0.3))\n",
    "\n",
    "model.summary()"
   ]
  },
  {
   "cell_type": "code",
   "execution_count": 23,
   "id": "29b854d3",
   "metadata": {},
   "outputs": [],
   "source": [
    "model.compile(optimizer='adam', loss='sparse_categorical_crossentropy', \n",
    "              metrics='accuracy')\n",
    "\n",
    "history = model.fit(train_scaled, train_target, epochs=20, verbose=0, \n",
    "                    validation_data=(val_scaled, val_target))"
   ]
  },
  {
   "cell_type": "code",
   "execution_count": 24,
   "id": "bc79cd1c",
   "metadata": {},
   "outputs": [
    {
     "data": {
      "image/png": "[encoded data removed]",
      "text/plain": [
       "<Figure size 432x288 with 1 Axes>"
      ]
     },
     "metadata": {
      "needs_background": "light"
     },
     "output_type": "display_data"
    }
   ],
   "source": [
    "plot_train_val(history)"
   ]
  },
  {
   "cell_type": "code",
   "execution_count": 26,
   "id": "0eb51548",
   "metadata": {},
   "outputs": [],
   "source": [
    "# 모델 저장과 복원\n",
    "model = model_fn(keras.layers.Dropout(0.3))\n",
    "model.compile(optimizer='adam', loss='sparse_categorical_crossentropy', \n",
    "              metrics='accuracy')\n",
    "\n",
    "history = model.fit(train_scaled, train_target, epochs=10, verbose=0, \n",
    "                    validation_data=(val_scaled, val_target))"
   ]
  },
  {
   "cell_type": "code",
   "execution_count": 27,
   "id": "de6e55dd",
   "metadata": {},
   "outputs": [],
   "source": [
    "model.save_weights('model-weights.h5')\n",
    "model.save('model-whole.h5')"
   ]
  },
  {
   "cell_type": "code",
   "execution_count": 28,
   "id": "2c988114",
   "metadata": {},
   "outputs": [
    {
     "name": "stdout",
     "output_type": "stream",
     "text": [
      " C 드라이브의 볼륨에는 이름이 없습니다.\n",
      " 볼륨 일련 번호: FC77-EBE7\n",
      "\n",
      " C:\\Users\\ygl\\Desktop\\deeplearning 디렉터리\n",
      "\n",
      "2021-12-06  오후 03:09         7,572,232 best-cnn-model.h5\n",
      "2021-12-07  오전 10:07           333,448 model-weights.h5\n",
      "2021-12-07  오전 10:07           982,688 model-whole.h5\n",
      "2021-12-02  오후 02:07            62,928 sona_model.h5\n",
      "               4개 파일           8,951,296 바이트\n",
      "               0개 디렉터리  170,280,673,280 바이트 남음\n"
     ]
    }
   ],
   "source": [
    "!dir  *.h5"
   ]
  },
  {
   "cell_type": "code",
   "execution_count": 29,
   "id": "6c65a611",
   "metadata": {},
   "outputs": [
    {
     "name": "stdout",
     "output_type": "stream",
     "text": [
      "0.8796666666666667\n"
     ]
    }
   ],
   "source": [
    "import numpy as np\n",
    "\n",
    "# 검증 결과\n",
    "val_labels = np.argmax(model.predict(val_scaled), axis=-1)\n",
    "# 검증 결과와 기존의값 비교 -> 평균\n",
    "print(np.mean(val_labels == val_target))"
   ]
  },
  {
   "cell_type": "code",
   "execution_count": 30,
   "id": "984ca5c4",
   "metadata": {},
   "outputs": [
    {
     "name": "stdout",
     "output_type": "stream",
     "text": [
      "375/375 [==============================] - 0s 930us/step - loss: 0.3317 - accuracy: 0.8797\n"
     ]
    },
    {
     "data": {
      "text/plain": [
       "[0.33169665932655334, 0.8796666860580444]"
      ]
     },
     "execution_count": 30,
     "metadata": {},
     "output_type": "execute_result"
    }
   ],
   "source": [
    "# 저장된 모델 로드\n",
    "model = keras.models.load_model('model-whole.h5')\n",
    "# model.compile(optimizer='adam', loss='sparse_categorical_crossentropy', \n",
    "#               metrics='accuracy')\n",
    "\n",
    "# 검증 데이터로 손실함수 와 정확도 계산\n",
    "model.evaluate(val_scaled, val_target)"
   ]
  },
  {
   "cell_type": "code",
   "execution_count": 31,
   "id": "a0ea5052",
   "metadata": {},
   "outputs": [
    {
     "data": {
      "text/plain": [
       "<keras.callbacks.History at 0x14011a7cf40>"
      ]
     },
     "execution_count": 31,
     "metadata": {},
     "output_type": "execute_result"
    }
   ],
   "source": [
    "# 콜백 : 성능을 위해서\n",
    "model = model_fn(keras.layers.Dropout(0.3))\n",
    "model.compile(optimizer='adam', loss='sparse_categorical_crossentropy', \n",
    "              metrics='accuracy')\n",
    "\n",
    "checkpoint_cb = keras.callbacks.ModelCheckpoint('best-model.h5')\n",
    "\n",
    "model.fit(train_scaled, train_target, epochs=20, verbose=0, \n",
    "          validation_data=(val_scaled, val_target),\n",
    "          callbacks=[checkpoint_cb])"
   ]
  },
  {
   "cell_type": "code",
   "execution_count": 32,
   "id": "5df14dfb",
   "metadata": {},
   "outputs": [
    {
     "name": "stdout",
     "output_type": "stream",
     "text": [
      "375/375 [==============================] - 0s 966us/step - loss: 0.3310 - accuracy: 0.88360s - loss: 0.3294 - accuracy: 0.88\n"
     ]
    },
    {
     "data": {
      "text/plain": [
       "[0.3310427665710449, 0.8835833072662354]"
      ]
     },
     "execution_count": 32,
     "metadata": {},
     "output_type": "execute_result"
    }
   ],
   "source": [
    "model = keras.models.load_model('best-model.h5')\n",
    "\n",
    "model.evaluate(val_scaled, val_target)"
   ]
  },
  {
   "cell_type": "code",
   "execution_count": 33,
   "id": "485ecc59",
   "metadata": {},
   "outputs": [],
   "source": [
    "# 콜백  : 조기 멈춤 성능을 위해서\n",
    "model = model_fn(keras.layers.Dropout(0.3))\n",
    "model.compile(optimizer='adam', loss='sparse_categorical_crossentropy', \n",
    "              metrics='accuracy')\n",
    "\n",
    "checkpoint_cb = keras.callbacks.ModelCheckpoint('best-model.h5')\n",
    "early_stopping_cb = keras.callbacks.EarlyStopping(patience=2,\n",
    "                                                  restore_best_weights=True)\n",
    "\n",
    "history = model.fit(train_scaled, train_target, epochs=20, verbose=0, \n",
    "                    validation_data=(val_scaled, val_target),\n",
    "                    callbacks=[checkpoint_cb, early_stopping_cb])"
   ]
  },
  {
   "cell_type": "code",
   "execution_count": 34,
   "id": "edb0d12f",
   "metadata": {},
   "outputs": [
    {
     "name": "stdout",
     "output_type": "stream",
     "text": [
      "15\n"
     ]
    }
   ],
   "source": [
    "print(early_stopping_cb.stopped_epoch)"
   ]
  },
  {
   "cell_type": "code",
   "execution_count": 35,
   "id": "99f4f48c",
   "metadata": {},
   "outputs": [
    {
     "data": {
      "image/png": "[encoded data removed]",
      "text/plain": [
       "<Figure size 432x288 with 1 Axes>"
      ]
     },
     "metadata": {
      "needs_background": "light"
     },
     "output_type": "display_data"
    }
   ],
   "source": [
    "plot_train_val(history)   # 학습자료와 검증자료의 loss 결과 시각화"
   ]
  },
  {
   "cell_type": "code",
   "execution_count": 36,
   "id": "a271d7ce",
   "metadata": {},
   "outputs": [
    {
     "name": "stdout",
     "output_type": "stream",
     "text": [
      "375/375 [==============================] - 0s 919us/step - loss: 0.3216 - accuracy: 0.8848\n"
     ]
    },
    {
     "data": {
      "text/plain": [
       "[0.3215600848197937, 0.8847500085830688]"
      ]
     },
     "execution_count": 36,
     "metadata": {},
     "output_type": "execute_result"
    }
   ],
   "source": [
    "model.evaluate(val_scaled, val_target)"
   ]
  },
  {
   "cell_type": "code",
   "execution_count": 37,
   "id": "246ce600",
   "metadata": {},
   "outputs": [
    {
     "data": {
      "text/plain": [
       "[<keras.layers.convolutional.Conv2D at 0x1400f813d60>,\n",
       " <keras.layers.convolutional.Conv2D at 0x1400f71e340>,\n",
       " <keras.layers.pooling.MaxPooling2D at 0x14010886a60>,\n",
       " <keras.layers.core.dropout.Dropout at 0x1400f81aca0>,\n",
       " <keras.layers.core.flatten.Flatten at 0x1401089ac40>,\n",
       " <keras.layers.core.dense.Dense at 0x1401088ae80>,\n",
       " <keras.layers.core.dropout.Dropout at 0x1401089ac10>,\n",
       " <keras.layers.core.dense.Dense at 0x1401089b7f0>]"
      ]
     },
     "execution_count": 37,
     "metadata": {},
     "output_type": "execute_result"
    }
   ],
   "source": [
    "# 가중치 시각화\n",
    "\n",
    "model = keras.models.load_model('best-cnn-model.h5')\n",
    "model.layers"
   ]
  },
  {
   "cell_type": "code",
   "execution_count": 38,
   "id": "7d9b4a62",
   "metadata": {},
   "outputs": [
    {
     "name": "stdout",
     "output_type": "stream",
     "text": [
      "(3, 3, 1, 32) (32,)\n",
      "-0.00043421486 0.10770597\n"
     ]
    },
    {
     "data": {
      "image/png": "[encoded data removed]",
      "text/plain": [
       "<Figure size 432x288 with 1 Axes>"
      ]
     },
     "metadata": {
      "needs_background": "light"
     },
     "output_type": "display_data"
    }
   ],
   "source": [
    "# 가중치 히스토그램으로 확인\n",
    "conv = model.layers[0]\n",
    "print(conv.weights[0].shape, conv.weights[1].shape)\n",
    "\n",
    "conv_weights = conv.weights[0].numpy()\n",
    "print(conv_weights.mean(), conv_weights.std())\n",
    "\n",
    "plt.hist(conv_weights.reshape(-1, 1))\n",
    "plt.xlabel('weight')\n",
    "plt.ylabel('count')\n",
    "plt.show()"
   ]
  },
  {
   "cell_type": "code",
   "execution_count": 39,
   "id": "c26f3d8a",
   "metadata": {},
   "outputs": [
    {
     "data": {
      "image/png": "[encoded data removed]",
      "text/plain": [
       "<Figure size 1080x144 with 32 Axes>"
      ]
     },
     "metadata": {
      "needs_background": "light"
     },
     "output_type": "display_data"
    }
   ],
   "source": [
    "# 가중치 이미지로 확인\n",
    "\n",
    "fig, axs = plt.subplots(2, 16, figsize=(15,2))\n",
    "\n",
    "for i in range(2):\n",
    "    for j in range(16):\n",
    "        axs[i, j].imshow(conv_weights[:,:,0,i*16 + j], vmin=-0.5, vmax=0.5)\n",
    "        axs[i, j].axis('off')\n",
    "\n",
    "plt.show()"
   ]
  },
  {
   "cell_type": "code",
   "execution_count": 44,
   "id": "9afdaa02",
   "metadata": {},
   "outputs": [
    {
     "data": {
      "text/plain": [
       "[<keras.layers.convolutional.Conv2D at 0x1400d691280>]"
      ]
     },
     "execution_count": 44,
     "metadata": {},
     "output_type": "execute_result"
    }
   ],
   "source": [
    "# 실행하지 않은 모델의 가중치 확인\n",
    "no_training_model = keras.Sequential()\n",
    "\n",
    "no_training_model.add(keras.layers.Conv2D(32, kernel_size=3, \n",
    "                                          activation='relu', \n",
    "                                          padding='same', \n",
    "                                          input_shape=(28,28,1)))\n",
    "no_training_model.layers"
   ]
  },
  {
   "cell_type": "code",
   "execution_count": 47,
   "id": "34c82e52",
   "metadata": {},
   "outputs": [
    {
     "name": "stdout",
     "output_type": "stream",
     "text": [
      "(3, 3, 1, 32)\n",
      "-0.005706662 0.08287352\n"
     ]
    },
    {
     "data": {
      "text/plain": [
       "array([[[[-0.03541319, -0.12781137, -0.11499402,  0.03991899,\n",
       "          -0.00408542,  0.10845576,  0.02068362,  0.13270868,\n",
       "           0.08868311,  0.04482384, -0.0028892 , -0.00043102,\n",
       "          -0.13586086,  0.08469371,  0.10102244,  0.05770296,\n",
       "           0.13530476,  0.09371243,  0.06068993, -0.10374522,\n",
       "           0.06306584,  0.12360765,  0.07542814, -0.0111098 ,\n",
       "           0.11115281, -0.09836662,  0.03496893,  0.06421797,\n",
       "           0.0888927 , -0.11771751,  0.12025328,  0.05251786]],\n",
       "\n",
       "        [[ 0.09288093, -0.07225693, -0.07267154, -0.1172681 ,\n",
       "          -0.10397945, -0.00869556,  0.12620588, -0.0177977 ,\n",
       "           0.11548509, -0.05422263, -0.14091364,  0.14194496,\n",
       "          -0.08298089,  0.08336879,  0.05789235, -0.07194401,\n",
       "          -0.05387128, -0.00233908,  0.02048683,  0.05795187,\n",
       "          -0.08000022, -0.11626388,  0.00699228,  0.13889728,\n",
       "          -0.08999543,  0.03907248,  0.08537056, -0.13350654,\n",
       "          -0.01032771, -0.14000393, -0.01240948,  0.0411059 ]],\n",
       "\n",
       "        [[-0.07856204, -0.10563647, -0.12925555,  0.09326538,\n",
       "           0.08740363, -0.06708789, -0.11482835,  0.04616727,\n",
       "          -0.09468547,  0.04421824, -0.04453586,  0.09336458,\n",
       "           0.1003233 ,  0.07545169, -0.10174742, -0.01160601,\n",
       "          -0.11769996, -0.02594761,  0.10905536, -0.08779749,\n",
       "           0.05343793, -0.04512269, -0.01345155, -0.07512065,\n",
       "          -0.1051674 , -0.0722696 , -0.13304581, -0.06124961,\n",
       "           0.02391735, -0.12940864,  0.12851389, -0.04096472]]],\n",
       "\n",
       "\n",
       "       [[[-0.13577415,  0.11213376, -0.1392664 , -0.10220599,\n",
       "           0.00973906, -0.05861223, -0.00838853,  0.00828017,\n",
       "          -0.08869649, -0.07013328, -0.06424708,  0.05811666,\n",
       "           0.11567132, -0.0760741 ,  0.05309014, -0.11716457,\n",
       "           0.00033887, -0.12131255, -0.05509489,  0.00809595,\n",
       "           0.03374369, -0.09180698, -0.1401008 ,  0.1337172 ,\n",
       "           0.10986055, -0.12809321, -0.13219818, -0.03338134,\n",
       "           0.0246383 , -0.09362967, -0.11862891,  0.11576714]],\n",
       "\n",
       "        [[-0.06156127, -0.06049304, -0.07996498,  0.11791013,\n",
       "           0.1415859 ,  0.00250247,  0.13319404, -0.12604804,\n",
       "          -0.13963476, -0.08146761,  0.11623795, -0.0628616 ,\n",
       "          -0.04902618, -0.05026157, -0.13486905,  0.03435171,\n",
       "           0.13674857,  0.12713315, -0.01099469,  0.0249617 ,\n",
       "          -0.0846194 , -0.03073958, -0.0103597 , -0.08188114,\n",
       "           0.04204389,  0.05958219, -0.10645932,  0.04105394,\n",
       "           0.07905924,  0.05868471,  0.06594284,  0.03920592]],\n",
       "\n",
       "        [[ 0.06212689, -0.11411485,  0.05949895,  0.01341464,\n",
       "           0.04012085, -0.06433465, -0.03585731,  0.11591233,\n",
       "           0.05152571, -0.0290157 , -0.00398396, -0.03779923,\n",
       "           0.00877804, -0.08952775,  0.06784585, -0.1289293 ,\n",
       "           0.13307802, -0.0539273 ,  0.12310927,  0.03257522,\n",
       "          -0.01508024,  0.02659875, -0.12288198, -0.09740422,\n",
       "          -0.06792928, -0.07305132, -0.10685618, -0.03084358,\n",
       "          -0.00150423,  0.05700542,  0.13466884, -0.01826202]]],\n",
       "\n",
       "\n",
       "       [[[ 0.13942821, -0.0771119 ,  0.10299811, -0.01119699,\n",
       "          -0.13746652, -0.06228992, -0.04685999,  0.07313627,\n",
       "          -0.07370846,  0.10640535,  0.07037973,  0.04600684,\n",
       "          -0.0623969 , -0.13397005,  0.07376407,  0.09590985,\n",
       "           0.07679737,  0.11155947, -0.05552258, -0.11299151,\n",
       "          -0.00237513, -0.01876003, -0.08346971, -0.09908693,\n",
       "          -0.13428628, -0.00253952, -0.09678587, -0.06749935,\n",
       "          -0.11133951,  0.02403846,  0.03595187, -0.02320853]],\n",
       "\n",
       "        [[-0.07532635, -0.11268768,  0.10341299, -0.01581936,\n",
       "          -0.08921222,  0.12679024, -0.02287064,  0.10400771,\n",
       "          -0.03291722,  0.08258179,  0.12666593,  0.06793793,\n",
       "          -0.01612218, -0.01636301,  0.03887244, -0.0298562 ,\n",
       "           0.06619889, -0.13523343,  0.08884919, -0.08228762,\n",
       "          -0.13066217, -0.00469536,  0.00514448, -0.13623331,\n",
       "          -0.09551676,  0.03894509, -0.08755686,  0.10865931,\n",
       "          -0.0079291 ,  0.13137276, -0.01515879,  0.07079218]],\n",
       "\n",
       "        [[-0.12315395, -0.02541679,  0.00687933, -0.01411143,\n",
       "           0.033426  ,  0.12689926,  0.04516864,  0.0348914 ,\n",
       "           0.00244135, -0.02739833, -0.02001512,  0.11803742,\n",
       "          -0.021323  , -0.09750439, -0.06087685,  0.0808734 ,\n",
       "           0.12282477,  0.00837308, -0.11090782,  0.11305283,\n",
       "           0.05379422, -0.01354697,  0.06630445, -0.04971503,\n",
       "          -0.04254207, -0.03506151, -0.05956399, -0.04592396,\n",
       "          -0.04141542,  0.04182515,  0.0070397 ,  0.01732308]]]],\n",
       "      dtype=float32)"
      ]
     },
     "execution_count": 47,
     "metadata": {},
     "output_type": "execute_result"
    }
   ],
   "source": [
    "no_training_conv = no_training_model.layers[0]\n",
    "print(no_training_conv.weights[0].shape)\n",
    "\n",
    "no_training_weights = no_training_conv.weights[0].numpy()\n",
    "print(no_training_weights.mean(), no_training_weights.std())\n",
    "no_training_weights"
   ]
  },
  {
   "cell_type": "code",
   "execution_count": 46,
   "id": "677e3f00",
   "metadata": {},
   "outputs": [
    {
     "data": {
      "image/png": "[encoded data removed]",
      "text/plain": [
       "<Figure size 432x288 with 1 Axes>"
      ]
     },
     "metadata": {
      "needs_background": "light"
     },
     "output_type": "display_data"
    }
   ],
   "source": [
    "plt.hist(no_training_weights.reshape(-1, 1))\n",
    "plt.xlabel('weight')\n",
    "plt.ylabel('count')\n",
    "plt.show()"
   ]
  },
  {
   "cell_type": "code",
   "execution_count": 48,
   "id": "3550cca0",
   "metadata": {},
   "outputs": [
    {
     "data": {
      "image/png": "[encoded data removed]",
      "text/plain": [
       "<Figure size 1080x144 with 32 Axes>"
      ]
     },
     "metadata": {
      "needs_background": "light"
     },
     "output_type": "display_data"
    }
   ],
   "source": [
    "fig, axs = plt.subplots(2, 16, figsize=(15,2))\n",
    "\n",
    "for i in range(2):\n",
    "    for j in range(16):\n",
    "        axs[i, j].imshow(no_training_weights[:,:,0,i*16 + j], \n",
    "                         vmin=-0.5, vmax=0.5)\n",
    "        axs[i, j].axis('off')\n",
    "\n",
    "plt.show()"
   ]
  },
  {
   "cell_type": "markdown",
   "id": "4fbb4b3e",
   "metadata": {},
   "source": [
    "### 함수형 API\n",
    "\n",
    "    dense1 = Dense(100, activation='sigmoid')\n",
    "    dense2 = Dense(10, activation='softmax')\n",
    "\n",
    "    hidden = dense1(inputs)\n",
    "    outputs = dense2(hidden)"
   ]
  },
  {
   "cell_type": "code",
   "execution_count": 50,
   "id": "2e997d2a",
   "metadata": {},
   "outputs": [
    {
     "name": "stdout",
     "output_type": "stream",
     "text": [
      "KerasTensor(type_spec=TensorSpec(shape=(None, 28, 28, 1), dtype=tf.float32, name='conv2d_input'), name='conv2d_input', description=\"created by layer 'conv2d_input'\")\n"
     ]
    },
    {
     "data": {
      "text/plain": [
       "[<keras.layers.convolutional.Conv2D at 0x1400f813d60>,\n",
       " <keras.layers.convolutional.Conv2D at 0x1400f71e340>,\n",
       " <keras.layers.pooling.MaxPooling2D at 0x14010886a60>,\n",
       " <keras.layers.core.dropout.Dropout at 0x1400f81aca0>,\n",
       " <keras.layers.core.flatten.Flatten at 0x1401089ac40>,\n",
       " <keras.layers.core.dense.Dense at 0x1401088ae80>,\n",
       " <keras.layers.core.dropout.Dropout at 0x1401089ac10>,\n",
       " <keras.layers.core.dense.Dense at 0x1401089b7f0>]"
      ]
     },
     "execution_count": 50,
     "metadata": {},
     "output_type": "execute_result"
    }
   ],
   "source": [
    "inputs = keras.Input(shape=28*28,)\n",
    "print(model.input)\n",
    "model.layers"
   ]
  },
  {
   "cell_type": "code",
   "execution_count": 52,
   "id": "535c3648",
   "metadata": {},
   "outputs": [
    {
     "name": "stdout",
     "output_type": "stream",
     "text": [
      "KerasTensor(type_spec=TensorSpec(shape=(None, 26, 26, 32), dtype=tf.float32, name=None), name='conv2d/Relu:0', description=\"created by layer 'conv2d'\")\n"
     ]
    }
   ],
   "source": [
    "# 모델 결합\n",
    "conv_acti = keras.models.Model(model.input, model.layers[0].output)\n",
    "print(model.layers[0].output)"
   ]
  },
  {
   "cell_type": "code",
   "execution_count": 53,
   "id": "aaa2ca5a",
   "metadata": {},
   "outputs": [
    {
     "data": {
      "image/png": "[encoded data removed]",
      "text/plain": [
       "<Figure size 432x288 with 1 Axes>"
      ]
     },
     "metadata": {
      "needs_background": "light"
     },
     "output_type": "display_data"
    }
   ],
   "source": [
    "# 특성 맵 시각화\n",
    "plt.imshow(train_input[0], cmap='gray_r')\n",
    "plt.show()"
   ]
  },
  {
   "cell_type": "code",
   "execution_count": 54,
   "id": "50a08b38",
   "metadata": {},
   "outputs": [],
   "source": [
    "inputs = train_input[0:1].reshape(-1, 28, 28, 1)/255.0\n",
    "\n",
    "feature_maps = conv_acti.predict(inputs)"
   ]
  },
  {
   "cell_type": "code",
   "execution_count": 55,
   "id": "d82f768f",
   "metadata": {},
   "outputs": [
    {
     "name": "stdout",
     "output_type": "stream",
     "text": [
      "(1, 26, 26, 32)\n"
     ]
    }
   ],
   "source": [
    "print(feature_maps.shape)"
   ]
  },
  {
   "cell_type": "code",
   "execution_count": 56,
   "id": "34cd9af9",
   "metadata": {},
   "outputs": [
    {
     "data": {
      "image/png": "[encoded data removed]",
      "text/plain": [
       "<Figure size 1080x576 with 32 Axes>"
      ]
     },
     "metadata": {
      "needs_background": "light"
     },
     "output_type": "display_data"
    }
   ],
   "source": [
    "fig, axs = plt.subplots(4, 8, figsize=(15,8))\n",
    "\n",
    "for i in range(4):\n",
    "    for j in range(8):\n",
    "        axs[i, j].imshow(feature_maps[0,:,:,i*8 + j])\n",
    "        axs[i, j].axis('off')\n",
    "\n",
    "plt.show()"
   ]
  },
  {
   "cell_type": "code",
   "execution_count": 57,
   "id": "4f366cad",
   "metadata": {},
   "outputs": [
    {
     "name": "stdout",
     "output_type": "stream",
     "text": [
      "(1, 12, 12, 64)\n"
     ]
    }
   ],
   "source": [
    "conv2_acti = keras.models.Model(model.input, model.layers[2].output)\n",
    "\n",
    "feature_maps = conv2_acti.predict(train_input[0:1].reshape(-1, 28, 28, 1)/255.0)\n",
    "print(feature_maps.shape)"
   ]
  },
  {
   "cell_type": "code",
   "execution_count": 58,
   "id": "7fd20616",
   "metadata": {},
   "outputs": [
    {
     "data": {
      "image/png": "[encoded data removed]",
      "text/plain": [
       "<Figure size 864x864 with 64 Axes>"
      ]
     },
     "metadata": {
      "needs_background": "light"
     },
     "output_type": "display_data"
    }
   ],
   "source": [
    "fig, axs = plt.subplots(8, 8, figsize=(12,12))\n",
    "\n",
    "for i in range(8):\n",
    "    for j in range(8):\n",
    "        axs[i, j].imshow(feature_maps[0,:,:,i*8 + j])\n",
    "        axs[i, j].axis('off')\n",
    "\n",
    "plt.show()"
   ]
  },
  {
   "cell_type": "markdown",
   "id": "51b15b8b",
   "metadata": {},
   "source": [
    "### 텍스트의 토큰화"
   ]
  },
  {
   "cell_type": "code",
   "execution_count": 15,
   "id": "20c5292e",
   "metadata": {},
   "outputs": [],
   "source": [
    "from keras.preprocessing.text import text_to_word_sequence, Tokenizer"
   ]
  },
  {
   "cell_type": "code",
   "execution_count": 16,
   "id": "322b06b7",
   "metadata": {},
   "outputs": [
    {
     "data": {
      "text/plain": [
       "['해보지', '않으면', '해낼', '수', '없다']"
      ]
     },
     "execution_count": 16,
     "metadata": {},
     "output_type": "execute_result"
    }
   ],
   "source": [
    "text = ' 해보지 않으면 해낼 수 없다'\n",
    "\n",
    "# tokenization 결과,  단어로 쪼갠 결과 반환, 리스트로\n",
    "result = text_to_word_sequence(text)\n",
    "result"
   ]
  },
  {
   "cell_type": "code",
   "execution_count": 17,
   "id": "ed50716e",
   "metadata": {},
   "outputs": [],
   "source": [
    "# 단어를 빈도수로 정리 \n",
    "# 토큰화 함수에 적용 후 단어의 빈도수 출력\n",
    "docs = ['먼저 텍스트의 각 단어를 나누어 토큰화 합니다.',\n",
    "       '텍스트의 단어로 토큰화 해야 딥러닝에서 인식됩니다.',\n",
    "       '토큰화 한 결과는 딥러닝에서 사용 할 수 있습니다.',\n",
    "       ]"
   ]
  },
  {
   "cell_type": "code",
   "execution_count": 18,
   "id": "f321cfa2",
   "metadata": {},
   "outputs": [],
   "source": [
    "token = Tokenizer()   # 토큰화 함수 지정\n",
    "token.fit_on_texts(docs) # 단어 분리\n",
    "token_result = token.word_counts # "
   ]
  },
  {
   "cell_type": "code",
   "execution_count": 19,
   "id": "3b24ba68",
   "metadata": {},
   "outputs": [
    {
     "name": "stdout",
     "output_type": "stream",
     "text": [
      "문장 :  3\n",
      "\n",
      "각 단어의 수 :  OrderedDict([('먼저', 1), ('텍스트의', 2), ('각', 1), ('단어를', 1), ('나누어', 1), ('토큰화', 3), ('합니다', 1), ('단어로', 1), ('해야', 1), ('딥러닝에서', 2), ('인식됩니다', 1), ('한', 1), ('결과는', 1), ('사용', 1), ('할', 1), ('수', 1), ('있습니다', 1)])\n",
      "\n",
      "각 단어에 매겨진 인덱스 :  {'토큰화': 1, '텍스트의': 2, '딥러닝에서': 3, '먼저': 4, '각': 5, '단어를': 6, '나누어': 7, '합니다': 8, '단어로': 9, '해야': 10, '인식됩니다': 11, '한': 12, '결과는': 13, '사용': 14, '할': 15, '수': 16, '있습니다': 17}\n"
     ]
    }
   ],
   "source": [
    "print(\"문장 : \", token.document_count)\n",
    "print(\"\\n각 단어의 수 : \", token.word_counts)\n",
    "print(\"\\n각 단어에 매겨진 인덱스 : \", token.word_index)"
   ]
  },
  {
   "cell_type": "code",
   "execution_count": 20,
   "id": "c4e50519",
   "metadata": {},
   "outputs": [],
   "source": [
    "# 텍스트 리뷰로 부정과 긍정을 도출\n",
    "docs = [\"너무 재밌네요\",\"최고예요\",\"참 잘 만든 영화예요\",\n",
    "        \"추천하고 싶은 영화입니다\",\"한번 더 보고싶네요\",\"글쎄요\",\n",
    "        \"별로예요\",\"생각보다 지루하네요\",\"연기가 어색해요\",\"재미없어요\"]"
   ]
  },
  {
   "cell_type": "code",
   "execution_count": 21,
   "id": "ef6859d3",
   "metadata": {},
   "outputs": [],
   "source": [
    "import numpy as np\n",
    "# 1은 긍정, 0는 부정\n",
    "classes  = np.array([1,1,1,1,1,0,0,0,0,0])"
   ]
  },
  {
   "cell_type": "code",
   "execution_count": 22,
   "id": "78550e48",
   "metadata": {},
   "outputs": [],
   "source": [
    "# 토큰화\n",
    "token = Tokenizer()\n",
    "token.fit_on_texts(docs)"
   ]
  },
  {
   "cell_type": "code",
   "execution_count": 23,
   "id": "662dad9d",
   "metadata": {},
   "outputs": [
    {
     "name": "stdout",
     "output_type": "stream",
     "text": [
      "[[1, 2], [3], [4, 5, 6, 7], [8, 9, 10], [11, 12, 13], [14], [15], [16, 17], [18, 19], [20]]\n"
     ]
    }
   ],
   "source": [
    "from keras.preprocessing.sequence import pad_sequences\n",
    "\n",
    "# padding : 데이터의 길이를 4로 길이를 맞춤\n",
    "x = token.texts_to_sequences(docs)  # 각 문장마다 단어를 분리함, 숫자로 반환\n",
    "print(x)\n",
    "padded_x = pad_sequences(x, 4) # 단어의 수가 4가 아니면 채워줌, 많으면 뒤 4개 남겨놓고 앞에서부터 자름\n",
    "# padded_x"
   ]
  },
  {
   "cell_type": "code",
   "execution_count": 26,
   "id": "eb875ab0",
   "metadata": {
    "collapsed": true
   },
   "outputs": [
    {
     "data": {
      "text/plain": [
       "{1: '너무',\n",
       " 2: '재밌네요',\n",
       " 3: '최고예요',\n",
       " 4: '참',\n",
       " 5: '잘',\n",
       " 6: '만든',\n",
       " 7: '영화예요',\n",
       " 8: '추천하고',\n",
       " 9: '싶은',\n",
       " 10: '영화입니다',\n",
       " 11: '한번',\n",
       " 12: '더',\n",
       " 13: '보고싶네요',\n",
       " 14: '글쎄요',\n",
       " 15: '별로예요',\n",
       " 16: '생각보다',\n",
       " 17: '지루하네요',\n",
       " 18: '연기가',\n",
       " 19: '어색해요',\n",
       " 20: '재미없어요'}"
      ]
     },
     "execution_count": 26,
     "metadata": {},
     "output_type": "execute_result"
    }
   ],
   "source": [
    "token.index_word"
   ]
  },
  {
   "cell_type": "code",
   "execution_count": 31,
   "id": "bf239265",
   "metadata": {},
   "outputs": [],
   "source": [
    "# 단어 임베딩을 포함하여 모델 생성\n",
    "from keras.models import Sequential\n",
    "from keras.layers import Dense, Flatten, Embedding"
   ]
  },
  {
   "cell_type": "code",
   "execution_count": 35,
   "id": "54a57176",
   "metadata": {},
   "outputs": [
    {
     "name": "stdout",
     "output_type": "stream",
     "text": [
      "Epoch 1/20\n",
      "1/1 [==============================] - 0s 319ms/step - loss: 0.6871 - accuracy: 0.6000\n",
      "Epoch 2/20\n",
      "1/1 [==============================] - 0s 3ms/step - loss: 0.6851 - accuracy: 0.6000\n",
      "Epoch 3/20\n",
      "1/1 [==============================] - 0s 2ms/step - loss: 0.6831 - accuracy: 0.7000\n",
      "Epoch 4/20\n",
      "1/1 [==============================] - 0s 2ms/step - loss: 0.6811 - accuracy: 0.8000\n",
      "Epoch 5/20\n",
      "1/1 [==============================] - 0s 3ms/step - loss: 0.6791 - accuracy: 0.8000\n",
      "Epoch 6/20\n",
      "1/1 [==============================] - 0s 3ms/step - loss: 0.6771 - accuracy: 0.8000\n",
      "Epoch 7/20\n",
      "1/1 [==============================] - 0s 3ms/step - loss: 0.6751 - accuracy: 0.8000\n",
      "Epoch 8/20\n",
      "1/1 [==============================] - 0s 2ms/step - loss: 0.6731 - accuracy: 0.9000\n",
      "Epoch 9/20\n",
      "1/1 [==============================] - 0s 2ms/step - loss: 0.6711 - accuracy: 0.9000\n",
      "Epoch 10/20\n",
      "1/1 [==============================] - 0s 2ms/step - loss: 0.6691 - accuracy: 0.9000\n",
      "Epoch 11/20\n",
      "1/1 [==============================] - 0s 2ms/step - loss: 0.6671 - accuracy: 0.9000\n",
      "Epoch 12/20\n",
      "1/1 [==============================] - 0s 2ms/step - loss: 0.6650 - accuracy: 0.9000\n",
      "Epoch 13/20\n",
      "1/1 [==============================] - 0s 2ms/step - loss: 0.6630 - accuracy: 0.9000\n",
      "Epoch 14/20\n",
      "1/1 [==============================] - 0s 3ms/step - loss: 0.6610 - accuracy: 0.9000\n",
      "Epoch 15/20\n",
      "1/1 [==============================] - 0s 3ms/step - loss: 0.6589 - accuracy: 0.9000\n",
      "Epoch 16/20\n",
      "1/1 [==============================] - 0s 3ms/step - loss: 0.6569 - accuracy: 0.9000\n",
      "Epoch 17/20\n",
      "1/1 [==============================] - 0s 2ms/step - loss: 0.6548 - accuracy: 0.9000\n",
      "Epoch 18/20\n",
      "1/1 [==============================] - 0s 3ms/step - loss: 0.6527 - accuracy: 0.9000\n",
      "Epoch 19/20\n",
      "1/1 [==============================] - 0s 2ms/step - loss: 0.6507 - accuracy: 0.9000\n",
      "Epoch 20/20\n",
      "1/1 [==============================] - 0s 3ms/step - loss: 0.6486 - accuracy: 0.9000\n",
      "1/1 [==============================] - 0s 83ms/step - loss: 0.6465 - accuracy: 0.9000\n",
      "\n",
      " Accuracy : 0.9000\n"
     ]
    }
   ],
   "source": [
    "model = Sequential()\n",
    "model.add(Embedding(len(token.index_word)+1,8, input_length=4)) # padding 해주고 embedding\n",
    "model.add(Flatten())\n",
    "model.add(Dense(1, activation='sigmoid'))\n",
    "model.compile(loss='binary_crossentropy', optimizer='adam',\n",
    "             metrics='accuracy')\n",
    "model.fit(padded_x, classes, epochs=20)\n",
    "print(\"\\n Accuracy : %.4f\" % (model.evaluate(padded_x, classes)[1]))"
   ]
  },
  {
   "cell_type": "markdown",
   "id": "aca65c07",
   "metadata": {},
   "source": [
    "### RNN"
   ]
  },
  {
   "cell_type": "code",
   "execution_count": 36,
   "id": "0104fd54",
   "metadata": {},
   "outputs": [],
   "source": [
    "import numpy as np\n",
    "import tensorflow as tf\n",
    "import matplotlib.pyplot as plt"
   ]
  },
  {
   "cell_type": "code",
   "execution_count": 51,
   "id": "900035c8",
   "metadata": {},
   "outputs": [],
   "source": [
    "from keras.datasets import reuters\n",
    "from keras.models import Sequential\n",
    "from keras.layers import Dense, LSTM, Embedding, Flatten\n",
    "from keras.preprocessing import sequence\n",
    "from keras.utils import np_utils"
   ]
  },
  {
   "cell_type": "code",
   "execution_count": 39,
   "id": "e79008db",
   "metadata": {},
   "outputs": [
    {
     "name": "stdout",
     "output_type": "stream",
     "text": [
      "Downloading data from https://storage.googleapis.com/tensorflow/tf-keras-datasets/reuters.npz\n",
      "2113536/2110848 [==============================] - 0s 0us/step\n",
      "2121728/2110848 [==============================] - 0s 0us/step\n",
      "(8982,) (8982,)\n"
     ]
    }
   ],
   "source": [
    "(x_train, y_train), (x_test, y_test) = reuters.load_data(num_words = 1000, test_split = 0.2)\n",
    "print(x_train.shape, y_train.shape)"
   ]
  },
  {
   "cell_type": "code",
   "execution_count": 42,
   "id": "120006d6",
   "metadata": {},
   "outputs": [
    {
     "name": "stdout",
     "output_type": "stream",
     "text": [
      "category : 46\n"
     ]
    }
   ],
   "source": [
    "# y는 category로 분류돼 있음\n",
    "# category는 당연하게 max값을 찾음\n",
    "category = np.max(y_train) + 1\n",
    "print(\"category :\", category)"
   ]
  },
  {
   "cell_type": "code",
   "execution_count": 44,
   "id": "9ec82968",
   "metadata": {},
   "outputs": [
    {
     "name": "stdout",
     "output_type": "stream",
     "text": [
      "8982 2246\n"
     ]
    }
   ],
   "source": [
    "# x_train 데이터의 갯수와 x_test의 갯수 확인\n",
    "print(len(x_train), len(x_test))"
   ]
  },
  {
   "cell_type": "code",
   "execution_count": 45,
   "id": "eed8d5be",
   "metadata": {},
   "outputs": [
    {
     "name": "stdout",
     "output_type": "stream",
     "text": [
      "[1, 2, 2, 8, 43, 10, 447, 5, 25, 207, 270, 5, 2, 111, 16, 369, 186, 90, 67, 7, 89, 5, 19, 102, 6, 19, 124, 15, 90, 67, 84, 22, 482, 26, 7, 48, 4, 49, 8, 864, 39, 209, 154, 6, 151, 6, 83, 11, 15, 22, 155, 11, 15, 7, 48, 9, 2, 2, 504, 6, 258, 6, 272, 11, 15, 22, 134, 44, 11, 15, 16, 8, 197, 2, 90, 67, 52, 29, 209, 30, 32, 132, 6, 109, 15, 17, 12]\n"
     ]
    }
   ],
   "source": [
    "print(x_train[0])"
   ]
  },
  {
   "cell_type": "code",
   "execution_count": 46,
   "id": "914bdcf0",
   "metadata": {},
   "outputs": [],
   "source": [
    "# 데이터 전처리\n",
    "# 1. padding -> 기사 하나의 단어가 100개\n",
    "x_train = sequence.pad_sequences(x_train, maxlen = 100)\n",
    "x_test = sequence.pad_sequences(x_test, maxlen = 100)"
   ]
  },
  {
   "cell_type": "code",
   "execution_count": 48,
   "id": "30bdcc03",
   "metadata": {},
   "outputs": [],
   "source": [
    "# category로 분류를 하는데 OHE\n",
    "y_train = np_utils.to_categorical(y_train)\n",
    "y_test = np_utils.to_categorical(y_test)"
   ]
  },
  {
   "cell_type": "code",
   "execution_count": 52,
   "id": "c4dfb7e7",
   "metadata": {},
   "outputs": [],
   "source": [
    "# 모델 설정\n",
    "model = Sequential()\n",
    "model.add(Embedding(1000, 100))\n",
    "model.add(LSTM(100, activation = \"tanh\"))\n",
    "# 혹시 모르면 flatten()\n",
    "model.add(Dense(category, activation = \"softmax\"))"
   ]
  },
  {
   "cell_type": "code",
   "execution_count": 55,
   "id": "a293e1e4",
   "metadata": {},
   "outputs": [],
   "source": [
    "# 모델 컴파일\n",
    "model.compile(loss = \"categorical_crossentropy\", optimizer = \"adam\", metrics = \"ACC\")"
   ]
  },
  {
   "cell_type": "code",
   "execution_count": 56,
   "id": "e0af1899",
   "metadata": {},
   "outputs": [
    {
     "name": "stdout",
     "output_type": "stream",
     "text": [
      "Epoch 1/20\n",
      "90/90 [==============================] - ETA: 0s - loss: 2.6096 - ACC: 0.3469WARNING:tensorflow:5 out of the last 6754 calls to <function Model.make_test_function.<locals>.test_function at 0x00000262681603A0> triggered tf.function retracing. Tracing is expensive and the excessive number of tracings could be due to (1) creating @tf.function repeatedly in a loop, (2) passing tensors with different shapes, (3) passing Python objects instead of tensors. For (1), please define your @tf.function outside of the loop. For (2), @tf.function has experimental_relax_shapes=True option that relaxes argument shapes that can avoid unnecessary retracing. For (3), please refer to https://www.tensorflow.org/guide/function#controlling_retracing and https://www.tensorflow.org/api_docs/python/tf/function for  more details.\n",
      "90/90 [==============================] - 10s 99ms/step - loss: 2.6096 - ACC: 0.3469 - val_loss: 2.4225 - val_ACC: 0.3620\n",
      "Epoch 2/20\n",
      "90/90 [==============================] - 9s 101ms/step - loss: 2.1427 - ACC: 0.4522 - val_loss: 1.9753 - val_ACC: 0.4982\n",
      "Epoch 3/20\n",
      "90/90 [==============================] - 11s 118ms/step - loss: 1.8395 - ACC: 0.5189 - val_loss: 1.7753 - val_ACC: 0.5396\n",
      "Epoch 4/20\n",
      "90/90 [==============================] - 11s 122ms/step - loss: 1.6956 - ACC: 0.5577 - val_loss: 1.7153 - val_ACC: 0.5659\n",
      "Epoch 5/20\n",
      "90/90 [==============================] - 14s 154ms/step - loss: 1.6522 - ACC: 0.5711 - val_loss: 1.6728 - val_ACC: 0.5699\n",
      "Epoch 6/20\n",
      "90/90 [==============================] - 17s 195ms/step - loss: 1.5805 - ACC: 0.5935 - val_loss: 1.6559 - val_ACC: 0.5779\n",
      "Epoch 7/20\n",
      "90/90 [==============================] - 15s 163ms/step - loss: 1.4610 - ACC: 0.6253 - val_loss: 1.4877 - val_ACC: 0.6287\n",
      "Epoch 8/20\n",
      "90/90 [==============================] - 13s 139ms/step - loss: 1.3345 - ACC: 0.6560 - val_loss: 1.3988 - val_ACC: 0.6541\n",
      "Epoch 9/20\n",
      "90/90 [==============================] - 12s 139ms/step - loss: 1.2361 - ACC: 0.6874 - val_loss: 1.3953 - val_ACC: 0.6576\n",
      "Epoch 10/20\n",
      "90/90 [==============================] - 16s 180ms/step - loss: 1.1718 - ACC: 0.7022 - val_loss: 1.2993 - val_ACC: 0.6670\n",
      "Epoch 11/20\n",
      "90/90 [==============================] - 15s 169ms/step - loss: 1.0907 - ACC: 0.7238 - val_loss: 1.2592 - val_ACC: 0.6848\n",
      "Epoch 12/20\n",
      "90/90 [==============================] - 17s 188ms/step - loss: 1.0477 - ACC: 0.7350 - val_loss: 1.2523 - val_ACC: 0.6866\n",
      "Epoch 13/20\n",
      "90/90 [==============================] - 14s 159ms/step - loss: 0.9991 - ACC: 0.7494 - val_loss: 1.2151 - val_ACC: 0.6946\n",
      "Epoch 14/20\n",
      "90/90 [==============================] - 13s 141ms/step - loss: 0.9472 - ACC: 0.7636 - val_loss: 1.2651 - val_ACC: 0.6923\n",
      "Epoch 15/20\n",
      "90/90 [==============================] - 12s 132ms/step - loss: 0.9070 - ACC: 0.7715 - val_loss: 1.2058 - val_ACC: 0.7066\n",
      "Epoch 16/20\n",
      "90/90 [==============================] - 12s 129ms/step - loss: 0.8793 - ACC: 0.7792 - val_loss: 1.2042 - val_ACC: 0.7004\n",
      "Epoch 17/20\n",
      "90/90 [==============================] - 13s 140ms/step - loss: 0.8793 - ACC: 0.7792 - val_loss: 1.2289 - val_ACC: 0.7004\n",
      "Epoch 18/20\n",
      "90/90 [==============================] - 19s 208ms/step - loss: 0.8398 - ACC: 0.7850 - val_loss: 1.2309 - val_ACC: 0.6972\n",
      "Epoch 19/20\n",
      "90/90 [==============================] - 18s 199ms/step - loss: 0.7980 - ACC: 0.7967 - val_loss: 1.2351 - val_ACC: 0.6972\n",
      "Epoch 20/20\n",
      "90/90 [==============================] - 12s 137ms/step - loss: 0.7579 - ACC: 0.8090 - val_loss: 1.2058 - val_ACC: 0.7021\n"
     ]
    }
   ],
   "source": [
    "history = model.fit(x_train, y_train, validation_data = (x_test, y_test), epochs = 20,\n",
    "                   batch_size = 100)"
   ]
  },
  {
   "cell_type": "code",
   "execution_count": 61,
   "id": "35f3121c",
   "metadata": {},
   "outputs": [
    {
     "name": "stdout",
     "output_type": "stream",
     "text": [
      "71/71 [==============================] - 1s 13ms/step - loss: 1.2058 - ACC: 0.7021\n",
      "\n",
      " Test ACC : 0.7021\n"
     ]
    }
   ],
   "source": [
    "# 테스트의 정확도 출력\n",
    "print(\"\\n Test ACC : %.4f\" % (model.evaluate(x_test, y_test)[1]))"
   ]
  },
  {
   "cell_type": "code",
   "execution_count": 57,
   "id": "88899cdf",
   "metadata": {},
   "outputs": [],
   "source": [
    "def plot_train_val(history):\n",
    "    plt.plot(history.history[\"loss\"])\n",
    "    plt.plot(history.history[\"val_loss\"])\n",
    "    plt.xlabel(\"epoch\")\n",
    "    plt.ylabel(\"loss\")\n",
    "    plt.legend([\"train\", \"val\"])\n",
    "    plt.show()"
   ]
  },
  {
   "cell_type": "code",
   "execution_count": 62,
   "id": "133f8893",
   "metadata": {},
   "outputs": [
    {
     "data": {
      "image/png": "[encoded data removed]",
      "text/plain": [
       "<Figure size 432x288 with 1 Axes>"
      ]
     },
     "metadata": {
      "needs_background": "light"
     },
     "output_type": "display_data"
    }
   ],
   "source": [
    "plot_train_val(history)"
   ]
  },
  {
   "cell_type": "markdown",
   "id": "83b85ff1",
   "metadata": {},
   "source": [
    "# 오후"
   ]
  },
  {
   "cell_type": "markdown",
   "id": "a7c7f2d6",
   "metadata": {},
   "source": [
    "### RNN_CNN"
   ]
  },
  {
   "cell_type": "code",
   "execution_count": 232,
   "id": "51b3f17b",
   "metadata": {},
   "outputs": [],
   "source": [
    "from tensorflow import keras\n",
    "import numpy as np\n",
    "import matplotlib.pyplot as plt"
   ]
  },
  {
   "cell_type": "code",
   "execution_count": 233,
   "id": "a997e9a6",
   "metadata": {},
   "outputs": [],
   "source": [
    "# 학습셋, 테스트 셋 가져오기\n",
    "(x_train, y_train), (x_test, y_test) =\\\n",
    "keras.datasets.imdb.load_data(num_words = 5000)"
   ]
  },
  {
   "cell_type": "code",
   "execution_count": 234,
   "id": "28c78a4b",
   "metadata": {},
   "outputs": [],
   "source": [
    "# 데이터 확인하기\n",
    "# print(x_train.shape, y_train.shape)\n",
    "# print(\"\\n\", x_train[0], len(x_train[0]), len(x_train[1]))\n",
    "# print(\"\\n\", y_train.shape, y_train[0])"
   ]
  },
  {
   "cell_type": "code",
   "execution_count": 235,
   "id": "5eba774a",
   "metadata": {},
   "outputs": [],
   "source": [
    "# x_test 데이터를 50%는 valid_data로, 50%는 test_data로\n",
    "from sklearn.model_selection import train_test_split\n",
    "x_val, x_test, y_val, y_test = train_test_split(x_test, y_test,\n",
    "                                                   test_size = 0.5)"
   ]
  },
  {
   "cell_type": "code",
   "execution_count": 236,
   "id": "d2adafad",
   "metadata": {},
   "outputs": [
    {
     "data": {
      "text/plain": [
       "(12500,)"
      ]
     },
     "execution_count": 236,
     "metadata": {},
     "output_type": "execute_result"
    }
   ],
   "source": [
    "x_val.shape"
   ]
  },
  {
   "cell_type": "code",
   "execution_count": 237,
   "id": "53f590c9",
   "metadata": {},
   "outputs": [],
   "source": [
    "# 데이터 전처리 : 각문장의 단어수를 100개로 padding\n",
    "x_train = keras.preprocessing.sequence.pad_sequences(x_train, maxlen = 100)\n",
    "x_test = keras.preprocessing.sequence.pad_sequences(x_test, maxlen = 100)\n",
    "x_val = keras.preprocessing.sequence.pad_sequences(x_val, maxlen = 100)"
   ]
  },
  {
   "cell_type": "code",
   "execution_count": 238,
   "id": "9089dffc",
   "metadata": {},
   "outputs": [
    {
     "data": {
      "text/plain": [
       "(12500, 100)"
      ]
     },
     "execution_count": 238,
     "metadata": {},
     "output_type": "execute_result"
    }
   ],
   "source": [
    "x_val.shape"
   ]
  },
  {
   "cell_type": "code",
   "execution_count": 239,
   "id": "ea84cfbf",
   "metadata": {},
   "outputs": [],
   "source": [
    "# model 설정\n",
    "model = keras.models.Sequential()"
   ]
  },
  {
   "cell_type": "code",
   "execution_count": 240,
   "id": "ca76a441",
   "metadata": {},
   "outputs": [],
   "source": [
    "# embedding\n",
    "model.add(keras.layers.Embedding(5000, 100))"
   ]
  },
  {
   "cell_type": "code",
   "execution_count": 241,
   "id": "bd9e1ef9",
   "metadata": {},
   "outputs": [],
   "source": [
    "# dropout(50%)\n",
    "model.add(keras.layers.Dropout(0.5))"
   ]
  },
  {
   "cell_type": "code",
   "execution_count": 242,
   "id": "f68dc720",
   "metadata": {},
   "outputs": [],
   "source": [
    "# conv(64, kernel = 3, strides = 1)\n",
    "model.add(keras.layers.Conv1D(64, kernel_size = 3, strides = 1))"
   ]
  },
  {
   "cell_type": "code",
   "execution_count": 243,
   "id": "691c0285",
   "metadata": {},
   "outputs": [],
   "source": [
    "# maxpulling(size 2)\n",
    "model.add(keras.layers.MaxPooling1D(pool_size = 2))"
   ]
  },
  {
   "cell_type": "code",
   "execution_count": 244,
   "id": "df878394",
   "metadata": {},
   "outputs": [],
   "source": [
    "# LSTM(60)\n",
    "model.add(keras.layers.LSTM(60))\n",
    "# 혹시 모르면 flatten()"
   ]
  },
  {
   "cell_type": "code",
   "execution_count": 245,
   "id": "d1331411",
   "metadata": {},
   "outputs": [],
   "source": [
    "# sigmoid\n",
    "model.add(keras.layers.Dense(1, activation = \"sigmoid\"))"
   ]
  },
  {
   "cell_type": "code",
   "execution_count": 246,
   "id": "8ee181bf",
   "metadata": {},
   "outputs": [],
   "source": [
    "# 모델 컴파일 \n",
    "model.compile(optimizer = \"adam\", loss = \"BCE\", \n",
    "              metrics= [\"ACC\"])"
   ]
  },
  {
   "cell_type": "code",
   "execution_count": 247,
   "id": "024757cc",
   "metadata": {},
   "outputs": [],
   "source": [
    "# 콜백 설정\n",
    "checkpoint = keras.callbacks.ModelCheckpoint(\"best_RNN_CNN_model.h5\")\n",
    "early_stopping = keras.callbacks.EarlyStopping(patience = 2,\n",
    "                                               restore_best_weights = True)"
   ]
  },
  {
   "cell_type": "code",
   "execution_count": 229,
   "id": "c74de063",
   "metadata": {
    "scrolled": true
   },
   "outputs": [
    {
     "name": "stdout",
     "output_type": "stream",
     "text": [
      "Epoch 1/20\n",
      "782/782 [==============================] - 25s 30ms/step - loss: 0.4222 - ACC: 0.7971 - val_loss: 0.3476 - val_ACC: 0.8494\n",
      "Epoch 2/20\n",
      "782/782 [==============================] - 27s 34ms/step - loss: 0.2920 - ACC: 0.8781 - val_loss: 0.3268 - val_ACC: 0.8603\n",
      "Epoch 3/20\n",
      "782/782 [==============================] - 31s 40ms/step - loss: 0.2467 - ACC: 0.9018 - val_loss: 0.3271 - val_ACC: 0.8638\n",
      "Epoch 4/20\n",
      "782/782 [==============================] - 29s 37ms/step - loss: 0.2111 - ACC: 0.9164 - val_loss: 0.3442 - val_ACC: 0.8549\n"
     ]
    }
   ],
   "source": [
    "# 모델 실행\n",
    "history = model.fit(x_train, y_train, epochs = 20, \n",
    "                    validation_data = (x_val, y_val),\n",
    "                    callbacks = [checkpoint, early_stopping])"
   ]
  },
  {
   "cell_type": "code",
   "execution_count": 248,
   "id": "596033c0",
   "metadata": {},
   "outputs": [
    {
     "name": "stdout",
     "output_type": "stream",
     "text": [
      "Epoch 1/20\n",
      "782/782 [==============================] - 26s 31ms/step - loss: 0.4176 - ACC: 0.8016 - val_loss: 0.3611 - val_ACC: 0.8426\n",
      "Epoch 2/20\n",
      "782/782 [==============================] - 28s 36ms/step - loss: 0.2952 - ACC: 0.8758 - val_loss: 0.3538 - val_ACC: 0.8421\n",
      "Epoch 3/20\n",
      "782/782 [==============================] - 36s 46ms/step - loss: 0.2442 - ACC: 0.8998 - val_loss: 0.3308 - val_ACC: 0.8582\n",
      "Epoch 4/20\n",
      "782/782 [==============================] - 30s 38ms/step - loss: 0.2041 - ACC: 0.9198 - val_loss: 0.3709 - val_ACC: 0.8482\n",
      "Epoch 5/20\n",
      "782/782 [==============================] - 32s 41ms/step - loss: 0.1739 - ACC: 0.9323 - val_loss: 0.3903 - val_ACC: 0.8549\n"
     ]
    }
   ],
   "source": [
    "history1 = model.fit(x_train, y_train, epochs = 20, \n",
    "                     validation_data = (x_val, y_val),\n",
    "                     callbacks = [checkpoint, early_stopping])"
   ]
  },
  {
   "cell_type": "code",
   "execution_count": 230,
   "id": "f197964a",
   "metadata": {},
   "outputs": [
    {
     "name": "stdout",
     "output_type": "stream",
     "text": [
      "Model: \"sequential_17\"\n",
      "_________________________________________________________________\n",
      " Layer (type)                Output Shape              Param #   \n",
      "=================================================================\n",
      " embedding_14 (Embedding)    (None, None, 100)         500000    \n",
      "                                                                 \n",
      " dropout_7 (Dropout)         (None, None, 100)         0         \n",
      "                                                                 \n",
      " conv1d_10 (Conv1D)          (None, None, 64)          19264     \n",
      "                                                                 \n",
      " max_pooling1d_8 (MaxPooling  (None, None, 64)         0         \n",
      " 1D)                                                             \n",
      "                                                                 \n",
      " lstm_9 (LSTM)               (None, 60)                30000     \n",
      "                                                                 \n",
      " dense_19 (Dense)            (None, 1)                 61        \n",
      "                                                                 \n",
      "=================================================================\n",
      "Total params: 549,325\n",
      "Trainable params: 549,325\n",
      "Non-trainable params: 0\n",
      "_________________________________________________________________\n"
     ]
    }
   ],
   "source": [
    "# 모델 summary\n",
    "model.summary()"
   ]
  },
  {
   "cell_type": "code",
   "execution_count": 250,
   "id": "1c6fd23b",
   "metadata": {},
   "outputs": [
    {
     "name": "stdout",
     "output_type": "stream",
     "text": [
      "Model: \"sequential_18\"\n",
      "_________________________________________________________________\n",
      " Layer (type)                Output Shape              Param #   \n",
      "=================================================================\n",
      " embedding_15 (Embedding)    (None, None, 100)         500000    \n",
      "                                                                 \n",
      " dropout_8 (Dropout)         (None, None, 100)         0         \n",
      "                                                                 \n",
      " conv1d_11 (Conv1D)          (None, None, 64)          19264     \n",
      "                                                                 \n",
      " max_pooling1d_9 (MaxPooling  (None, None, 64)         0         \n",
      " 1D)                                                             \n",
      "                                                                 \n",
      " lstm_10 (LSTM)              (None, 60)                30000     \n",
      "                                                                 \n",
      " dense_20 (Dense)            (None, 1)                 61        \n",
      "                                                                 \n",
      "=================================================================\n",
      "Total params: 549,325\n",
      "Trainable params: 549,325\n",
      "Non-trainable params: 0\n",
      "_________________________________________________________________\n"
     ]
    }
   ],
   "source": [
    "model.summary()"
   ]
  },
  {
   "cell_type": "code",
   "execution_count": 251,
   "id": "bbff665c",
   "metadata": {},
   "outputs": [
    {
     "data": {
      "image/png": "[encoded data removed]",
      "text/plain": [
       "<Figure size 432x288 with 1 Axes>"
      ]
     },
     "metadata": {
      "needs_background": "light"
     },
     "output_type": "display_data"
    },
    {
     "data": {
      "image/png": "[encoded data removed]",
      "text/plain": [
       "<Figure size 432x288 with 1 Axes>"
      ]
     },
     "metadata": {
      "needs_background": "light"
     },
     "output_type": "display_data"
    }
   ],
   "source": [
    "# 모델 학습과 검증의 손실률 그래프로 표현\n",
    "plot_train_val(history)\n",
    "plot_train_val(history1)"
   ]
  },
  {
   "cell_type": "code",
   "execution_count": 212,
   "id": "c58775e4",
   "metadata": {},
   "outputs": [
    {
     "name": "stdout",
     "output_type": "stream",
     "text": [
      "391/391 [==============================] - 2s 4ms/step - loss: 0.3374 - ACC: 0.8536\n",
      "\n",
      " ACC : 0.8536\n"
     ]
    }
   ],
   "source": [
    "# 테스트 결과 출력\n",
    "print(\"\\n ACC : %.4f\" % model.evaluate(x_test, y_test)[1])"
   ]
  },
  {
   "cell_type": "code",
   "execution_count": 252,
   "id": "184f380a",
   "metadata": {},
   "outputs": [
    {
     "name": "stdout",
     "output_type": "stream",
     "text": [
      "391/391 [==============================] - 3s 8ms/step - loss: 0.3283 - ACC: 0.8568\n",
      "\n",
      " ACC : 0.8568\n"
     ]
    }
   ],
   "source": [
    "print(\"\\n ACC : %.4f\" % model.evaluate(x_test, y_test)[1])"
   ]
  }
 ],
 "metadata": {
  "kernelspec": {
   "display_name": "Python 3",
   "language": "python",
   "name": "python3"
  },
  "language_info": {
   "codemirror_mode": {
    "name": "ipython",
    "version": 3
   },
   "file_extension": ".py",
   "mimetype": "text/x-python",
   "name": "python",
   "nbconvert_exporter": "python",
   "pygments_lexer": "ipython3",
   "version": "3.8.8"
  }
 },
 "nbformat": 4,
 "nbformat_minor": 5
}
