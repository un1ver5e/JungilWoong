{
 "cells": [
  {
   "cell_type": "code",
   "execution_count": 1,
   "id": "427d5982",
   "metadata": {},
   "outputs": [],
   "source": [
    "import numpy as np\n",
    "import cv2\n",
    "import sys\n",
    "import matplotlib.pyplot as plt"
   ]
  },
  {
   "cell_type": "markdown",
   "id": "097d9a24",
   "metadata": {},
   "source": [
    "### 영상의 히스토그램"
   ]
  },
  {
   "cell_type": "code",
   "execution_count": 5,
   "id": "cb5f9bfd",
   "metadata": {},
   "outputs": [
    {
     "data": {
      "image/png": "[encoded data removed]",
      "text/plain": [
       "<Figure size 432x288 with 1 Axes>"
      ]
     },
     "metadata": {
      "needs_background": "light"
     },
     "output_type": "display_data"
    }
   ],
   "source": [
    "src = cv2.imread(\"./fig/lenna.bmp\", 1)\n",
    "\n",
    "if src is None:\n",
    "    print(\"image read failed\")\n",
    "    sys.exit()\n",
    "    \n",
    "\n",
    "    \n",
    "# 결과를 리스트, 채널, 마스크\n",
    "# hist0 = cv2.calcHist([src], [0], None, [256], [0, 256])\n",
    "# hist1 = cv2.calcHist([src], [1], None, [256], [0, 256])\n",
    "# hist2 = cv2.calcHist([src], [2], None, [256], [0, 256])\n",
    "\n",
    "bgr = cv2.split(src)\n",
    "colors = [\"b\", \"g\", \"r\"]\n",
    "\n",
    "for (p, c) in zip(bgr, colors):\n",
    "    hist = cv2.calcHist([p], [0], None, [256], [0, 256])\n",
    "    plt.plot(hist, color = c)\n",
    "\n",
    "# plt.plot(hist0)\n",
    "# plt.plot(hist1)\n",
    "# plt.plot(hist2)\n",
    "plt.show()\n",
    "\n",
    "cv2.imshow(\"src\", src)\n",
    "\n",
    "cv2.waitKey()\n",
    "cv2.destroyAllWindows()"
   ]
  },
  {
   "cell_type": "markdown",
   "id": "a4354aac",
   "metadata": {},
   "source": [
    "### 명암비 조절"
   ]
  },
  {
   "cell_type": "code",
   "execution_count": 14,
   "id": "e443c897",
   "metadata": {},
   "outputs": [],
   "source": [
    "src = cv2.imread(\"./fig/Hawkes.jpg\", 0)\n",
    "\n",
    "# 256 = 빈사이즈\n",
    "# hist = cv2.calcHist([src], [0], None, [256], [0, 256])\n",
    "\n",
    "# plt.plot(hist)\n",
    "# plt.show()\n",
    "\n",
    "smin, smax, _, _ = cv2.minMaxLoc(src)\n",
    "# dst = np.clip((src - smin) / (smax - smin) * 255, 0, 255).astype(np.uint8)\n",
    "dst_norm = cv2.normalize(src, None, 0, 255, cv2.NORM_MINMAX, -1) # 위와 같음\n",
    "dst_eq = cv2.equalizeHist(src)\n",
    "\n",
    "cv2.imshow(\"src\", src)\n",
    "cv2.imshow(\"dst_norm\", dst_norm)\n",
    "cv2.imshow(\"dst_eq\", dst_eq)\n",
    "\n",
    "cv2.waitKey()\n",
    "cv2.destroyAllWindows()"
   ]
  },
  {
   "cell_type": "markdown",
   "id": "58c87970",
   "metadata": {},
   "source": [
    "### 색상 찾기"
   ]
  },
  {
   "cell_type": "code",
   "execution_count": 16,
   "id": "21f95c73",
   "metadata": {},
   "outputs": [
    {
     "ename": "error",
     "evalue": "OpenCV(4.5.4) D:\\a\\opencv-python\\opencv-python\\opencv\\modules\\highgui\\src\\window.cpp:868: error: (-215:Assertion failed) trackbar in function 'cv::getTrackbarPos'\n",
     "output_type": "error",
     "traceback": [
      "\u001b[1;31m---------------------------------------------------------------------------\u001b[0m",
      "\u001b[1;31merror\u001b[0m                                     Traceback (most recent call last)",
      "\u001b[1;32m<ipython-input-16-a2dc05284d1c>\u001b[0m in \u001b[0;36mcall_trackbar\u001b[1;34m(pos)\u001b[0m\n\u001b[0;32m      1\u001b[0m \u001b[1;32mdef\u001b[0m \u001b[0mcall_trackbar\u001b[0m\u001b[1;33m(\u001b[0m\u001b[0mpos\u001b[0m\u001b[1;33m)\u001b[0m\u001b[1;33m:\u001b[0m\u001b[1;33m\u001b[0m\u001b[1;33m\u001b[0m\u001b[0m\n\u001b[0;32m      2\u001b[0m     \u001b[0mhmin\u001b[0m \u001b[1;33m=\u001b[0m \u001b[0mcv2\u001b[0m\u001b[1;33m.\u001b[0m\u001b[0mgetTrackbarPos\u001b[0m\u001b[1;33m(\u001b[0m\u001b[1;34m\"min\"\u001b[0m\u001b[1;33m,\u001b[0m \u001b[1;34m\"dst\"\u001b[0m\u001b[1;33m,\u001b[0m\u001b[1;33m)\u001b[0m\u001b[1;33m\u001b[0m\u001b[1;33m\u001b[0m\u001b[0m\n\u001b[1;32m----> 3\u001b[1;33m     \u001b[0mhmax\u001b[0m \u001b[1;33m=\u001b[0m \u001b[0mcv2\u001b[0m\u001b[1;33m.\u001b[0m\u001b[0mgetTrackbarPos\u001b[0m\u001b[1;33m(\u001b[0m\u001b[1;34m\"max\"\u001b[0m\u001b[1;33m,\u001b[0m \u001b[1;34m\"dst\"\u001b[0m\u001b[1;33m,\u001b[0m\u001b[1;33m)\u001b[0m\u001b[1;33m\u001b[0m\u001b[1;33m\u001b[0m\u001b[0m\n\u001b[0m\u001b[0;32m      4\u001b[0m     \u001b[0mdst\u001b[0m \u001b[1;33m=\u001b[0m \u001b[0mcv2\u001b[0m\u001b[1;33m.\u001b[0m\u001b[0minRange\u001b[0m\u001b[1;33m(\u001b[0m\u001b[0msrc_hsv\u001b[0m\u001b[1;33m,\u001b[0m \u001b[1;33m(\u001b[0m\u001b[0mhmin\u001b[0m\u001b[1;33m,\u001b[0m \u001b[1;36m150\u001b[0m\u001b[1;33m,\u001b[0m \u001b[1;36m100\u001b[0m\u001b[1;33m)\u001b[0m\u001b[1;33m,\u001b[0m \u001b[1;33m(\u001b[0m\u001b[0mhmax\u001b[0m\u001b[1;33m,\u001b[0m \u001b[1;36m255\u001b[0m\u001b[1;33m,\u001b[0m \u001b[1;36m255\u001b[0m\u001b[1;33m)\u001b[0m\u001b[1;33m)\u001b[0m\u001b[1;33m\u001b[0m\u001b[1;33m\u001b[0m\u001b[0m\n\u001b[0;32m      5\u001b[0m     \u001b[0mcv2\u001b[0m\u001b[1;33m.\u001b[0m\u001b[0mimshow\u001b[0m\u001b[1;33m(\u001b[0m\u001b[1;34m\"dst\"\u001b[0m\u001b[1;33m,\u001b[0m \u001b[0mdst\u001b[0m\u001b[1;33m)\u001b[0m\u001b[1;33m\u001b[0m\u001b[1;33m\u001b[0m\u001b[0m\n",
      "\u001b[1;31merror\u001b[0m: OpenCV(4.5.4) D:\\a\\opencv-python\\opencv-python\\opencv\\modules\\highgui\\src\\window.cpp:868: error: (-215:Assertion failed) trackbar in function 'cv::getTrackbarPos'\n"
     ]
    }
   ],
   "source": [
    "def call_trackbar(pos):\n",
    "    hmin = cv2.getTrackbarPos(\"min\", \"dst\",)\n",
    "    hmax = cv2.getTrackbarPos(\"max\", \"dst\",)\n",
    "    dst = cv2.inRange(src_hsv, (hmin, 150, 100), (hmax, 255, 255))\n",
    "    cv2.imshow(\"dst\", dst)\n",
    "\n",
    "src = cv2.imread(\"./fig/candies.png\", 1)\n",
    "\n",
    "src_hsv = cv2.cvtColor(src, cv2.COLOR_BGR2HSV)\n",
    "\n",
    "cv2.namedWindow(\"dst\")\n",
    "cv2.createTrackbar(\"min\", \"dst\", 50, 179, call_trackbar)\n",
    "cv2.createTrackbar(\"max\", \"dst\", 80, 179, call_trackbar)\n",
    "\n",
    "cv2.imshow(\"src\", src)\n",
    "cv2.waitKey()\n",
    "cv2.destroyAllWindows()"
   ]
  },
  {
   "cell_type": "markdown",
   "id": "aab7742b",
   "metadata": {},
   "source": [
    "### histogram 역투영"
   ]
  },
  {
   "cell_type": "code",
   "execution_count": 19,
   "id": "d12ceb5c",
   "metadata": {
    "scrolled": true
   },
   "outputs": [
    {
     "ename": "error",
     "evalue": "OpenCV(4.5.4) :-1: error: (-5:Bad argument) in function 'calcBackProject'\n> Overload resolution failed:\n>  - hist is not a numpy array, neither a scalar\n>  - Expected Ptr<cv::UMat> for argument 'hist'\n",
     "output_type": "error",
     "traceback": [
      "\u001b[1;31m---------------------------------------------------------------------------\u001b[0m",
      "\u001b[1;31merror\u001b[0m                                     Traceback (most recent call last)",
      "\u001b[1;32m<ipython-input-19-a6d21acd157e>\u001b[0m in \u001b[0;36m<module>\u001b[1;34m\u001b[0m\n\u001b[0;32m     13\u001b[0m \u001b[1;33m\u001b[0m\u001b[0m\n\u001b[0;32m     14\u001b[0m \u001b[1;31m# 마스크 없고 1은 스케일 사이즈\u001b[0m\u001b[1;33m\u001b[0m\u001b[1;33m\u001b[0m\u001b[1;33m\u001b[0m\u001b[0m\n\u001b[1;32m---> 15\u001b[1;33m \u001b[0mbackproj\u001b[0m \u001b[1;33m=\u001b[0m \u001b[0mcv2\u001b[0m\u001b[1;33m.\u001b[0m\u001b[0mcalcBackProject\u001b[0m\u001b[1;33m(\u001b[0m\u001b[1;33m[\u001b[0m\u001b[0msrc_ycrcb\u001b[0m\u001b[1;33m]\u001b[0m\u001b[1;33m,\u001b[0m \u001b[0mchannels\u001b[0m\u001b[1;33m,\u001b[0m \u001b[0mhistsize\u001b[0m\u001b[1;33m,\u001b[0m \u001b[0mranges\u001b[0m\u001b[1;33m,\u001b[0m \u001b[1;36m1\u001b[0m\u001b[1;33m)\u001b[0m\u001b[1;33m\u001b[0m\u001b[1;33m\u001b[0m\u001b[0m\n\u001b[0m\u001b[0;32m     16\u001b[0m \u001b[1;33m\u001b[0m\u001b[0m\n\u001b[0;32m     17\u001b[0m \u001b[0msrc\u001b[0m \u001b[1;33m=\u001b[0m \u001b[0mcv2\u001b[0m\u001b[1;33m.\u001b[0m\u001b[0mcopyTo\u001b[0m\u001b[1;33m(\u001b[0m\u001b[0msrc\u001b[0m\u001b[1;33m,\u001b[0m \u001b[0mbackproj\u001b[0m\u001b[1;33m)\u001b[0m\u001b[1;33m\u001b[0m\u001b[1;33m\u001b[0m\u001b[0m\n",
      "\u001b[1;31merror\u001b[0m: OpenCV(4.5.4) :-1: error: (-5:Bad argument) in function 'calcBackProject'\n> Overload resolution failed:\n>  - hist is not a numpy array, neither a scalar\n>  - Expected Ptr<cv::UMat> for argument 'hist'\n"
     ]
    }
   ],
   "source": [
    "src = cv2.imread(\"./fig/cropland.png\", 1)\n",
    "src_ycrcb = cv2.cvtColor(src, cv2.COLOR_BGR2YCrCb)\n",
    "\n",
    "x, y, w, h = cv2.selectROI(src)\n",
    "# print(x, y, w, h)\n",
    "crop = src_ycrcb[y : y + h, x : x + w]\n",
    "\n",
    "channels = [1, 2]\n",
    "histsize = [256, 256]\n",
    "ranges = [0, 256, 0, 256]\n",
    "\n",
    "hist = cv2.calcHist([crop], channels, None, histsize, ranges)\n",
    "\n",
    "# 마스크 없고 1은 스케일 사이즈\n",
    "backproj = cv2.calcBackProject([src_ycrcb], channels, histsize, ranges, 1)\n",
    "\n",
    "src = cv2.copyTo(src, backproj)\n",
    "\n",
    "cv2.imshow(\"src\", src)\n",
    "cv2.imshow(\"dst\", dst)\n",
    "cv2.imshow(\"hist\", hist)\n",
    "cv2.imshow(\"backproj\", backproj)\n",
    "\n",
    "cv2.waitKey()\n",
    "cv2.destroyAllWindows()"
   ]
  },
  {
   "cell_type": "markdown",
   "id": "6be45abe",
   "metadata": {},
   "source": [
    "# filter"
   ]
  },
  {
   "cell_type": "markdown",
   "id": "2eb4f40f",
   "metadata": {},
   "source": [
    "### blur - high frequency의 noise 제거"
   ]
  },
  {
   "cell_type": "code",
   "execution_count": 6,
   "id": "6e0edf5a",
   "metadata": {},
   "outputs": [],
   "source": [
    "src = cv2.imread(\"./fig/blue_eyes.png\", 1)\n",
    "\n",
    "# kernel_3 = np.ones((3, 3), np.float32) / 9.\n",
    "# kernel_5 = np.ones((5, 5), np.float32) / 25.\n",
    "\n",
    "# dst3 = cv2.filter2D(src, -1, kernel_3)\n",
    "# dst5 = cv2.filter2D(src, -1, kernel_5)\n",
    "\n",
    "# 위의 작업을 하는데 커널 사이즈만 잡아주면 됨\n",
    "dst_blur = cv2.blur(src, (7, 7))\n",
    "# 가우시안은 커널 사이즈 알아서 하게\n",
    "# 시그마 지정\n",
    "dst_g = cv2.GaussianBlur(src, (0, 0), 1)\n",
    "\n",
    "cv2.imshow(\"src\", src)\n",
    "# cv2.imshow(\"dst3\", dst3)\n",
    "# cv2.imshow(\"dst5\", dst5)\n",
    "cv2.imshow(\"dst_blur\", dst_blur)\n",
    "cv2.imshow(\"dst_g\", dst_g)\n",
    "\n",
    "cv2.waitKey()\n",
    "cv2.destroyAllWindows()"
   ]
  },
  {
   "cell_type": "markdown",
   "id": "ba7b05e0",
   "metadata": {},
   "source": [
    "### sharpening or edge filter"
   ]
  },
  {
   "cell_type": "code",
   "execution_count": 19,
   "id": "c61a2b16",
   "metadata": {},
   "outputs": [],
   "source": [
    "src = cv2.imread(\"./fig/blue_eyes.png\", 1)\n",
    "\n",
    "src_hsv = cv2.cvtColor(src, cv2.COLOR_BGR2HSV)\n",
    "src_blr = cv2.GaussianBlur(src_hsv[:, :, 2].astype(np.float32), (0, 0), 1)\n",
    "\n",
    "src_h[:, :, 2] = cv2.addWeighted(src_hsv[:, :, 2].astype(np.float32),\n",
    "                                 2, src_blr, -1, 0)\n",
    "\n",
    "dst = cv2.cvtColor(src_hsv, cv2.COLOR_HSV2BGR)\n",
    "\n",
    "# blr = cv2.GaussianBlur(src, (0, 0), 1)\n",
    "# dst1 = np.clip(src * 2. - blr, 0, 255).astype(np.uint8)\n",
    "# dst2 = np.clip(src * 3. - blr * 2., 0, 255).astype(np.uint8)\n",
    "# dst3 = cv2.addWeighted(src, 2, blr, -1, 0) # 4라인과 같음\n",
    "\n",
    "cv2.imshow(\"src\", src)\n",
    "cv2.imshow(\"blr\", blr)\n",
    "cv2.imshow(\"dst3\", dst3)\n",
    "\n",
    "cv2.waitKey()\n",
    "cv2.destroyAllWindows()"
   ]
  },
  {
   "cell_type": "code",
   "execution_count": 22,
   "id": "8a7e36fe",
   "metadata": {},
   "outputs": [],
   "source": [
    "src = cv2.imread(\"./fig/KakaoTalk_20211222_091042463.jpg\", 1)\n",
    "\n",
    "src_ycrcb = cv2.cvtColor(src, cv2.COLOR_BGR2YCrCb)\n",
    "src1 = src_ycrcb[:, :, 2].astype(np.uint8)\n",
    "blr = cv2.GaussianBlur(src1, (0, 0), 2, 0)\n",
    "\n",
    "src_ycrcb[:, :, 2] = np.clip(3. * src1 - 2. * blr, 0, 255).astype(np.uint8)\n",
    "\n",
    "dst = cv2.cvtColor(src_ycrcb, cv2.COLOR_YCrCb2BGR)\n",
    "\n",
    "cv2.imshow(\"src\", src)\n",
    "cv2.imshow(\"dst\", dst)\n",
    "\n",
    "cv2.waitKey()\n",
    "cv2.destroyAllWindows()"
   ]
  },
  {
   "cell_type": "markdown",
   "id": "a18a4bdd",
   "metadata": {},
   "source": [
    "### noise filter"
   ]
  },
  {
   "cell_type": "code",
   "execution_count": 27,
   "id": "75dd158e",
   "metadata": {},
   "outputs": [],
   "source": [
    "import numpy as np\n",
    "import cv2\n",
    "import sys\n",
    "import matplotlib.pyplot as plt"
   ]
  },
  {
   "cell_type": "code",
   "execution_count": 32,
   "id": "dc58ceff",
   "metadata": {},
   "outputs": [],
   "source": [
    "# pepper and salt noise\n",
    "sp1 = np.random.choice((0, 255), src.shape, p = (0.99, 0.01)).astype(np.float32)\n",
    "sp2 = np.random.choice((0, 255), src.shape, p = (0.99, 0.01)).astype(np.float32)\n",
    "\n",
    "src = cv2.imread(\"./fig/blue_eyes.png\", 0)\n",
    "\n",
    "src_noise = np.clip((src + sp1 - sp2), 0, 255).astype(np.uint8)\n",
    "\n",
    "dst = cv2.medianBlur(src_noise, 3)\n",
    "\n",
    "cv2.imshow(\"src\", src)\n",
    "cv2.imshow(\"src_noise\", src_noise)\n",
    "cv2.imshow(\"dst\", dst)\n",
    "\n",
    "cv2.waitKey()\n",
    "cv2.destroyAllWindows()"
   ]
  },
  {
   "cell_type": "markdown",
   "id": "6970072f",
   "metadata": {},
   "source": [
    "### 양방향 필터"
   ]
  },
  {
   "cell_type": "code",
   "execution_count": 34,
   "id": "c2b2a3dc",
   "metadata": {},
   "outputs": [],
   "source": [
    "src = cv2.imread(\"./fig/blue_eyes.png\", 0)\n",
    "\n",
    "dst_Gaussian = cv2.GaussianBlur(src, (0, 0), 3)\n",
    "dst_bilteral = cv2.bilateralFilter(src, -1, 10, 5)\n",
    "\n",
    "cv2.imshow('src', src)\n",
    "cv2.imshow('dst_Gaussian', dst_Gaussian)\n",
    "cv2.imshow('dst_bilteral', dst_bilteral)\n",
    "\n",
    "cv2.waitKey()\n",
    "cv2.destroyAllWindows()"
   ]
  },
  {
   "cell_type": "markdown",
   "id": "7ba4e224",
   "metadata": {},
   "source": [
    "# Geometric transform - 기하학적 변환"
   ]
  },
  {
   "cell_type": "markdown",
   "id": "baa42bc6",
   "metadata": {},
   "source": [
    "### 이동변환 (translate)"
   ]
  },
  {
   "cell_type": "code",
   "execution_count": 43,
   "id": "e92f540a",
   "metadata": {},
   "outputs": [],
   "source": [
    "src = cv2.imread(\"./fig/puppy.bmp\")\n",
    "\n",
    "# warpAffine(src, M, dsize[, dst[, flags[, borderMode[, borderValue]]]]) -> dst\n",
    "# src: 입력영상\n",
    "# M: affine transform matrix (size: 2 x 3)\n",
    "# dsize: 출력영상 크기, (0, 0) = 입력영상크기로 출력\n",
    "# borderValue: 값이 없는 영역을 채우는 값, default  = 0\n",
    "\n",
    "M = np.array([[1.2, 0, 10], \n",
    "              [0, 0.8, 20]], np.float32)\n",
    "\n",
    "dst = cv2.warpAffine(src, M, (0, 0))\n",
    "\n",
    "cv2.imshow('src', src)\n",
    "cv2.imshow('dst', dst)\n",
    "\n",
    "cv2.waitKey()\n",
    "cv2.destroyAllWindows()"
   ]
  },
  {
   "cell_type": "code",
   "execution_count": 53,
   "id": "dce45202",
   "metadata": {},
   "outputs": [],
   "source": [
    "src = cv2.imread(\"./fig/rose.jpg\")\n",
    "h = src.shape[0]\n",
    "w = src.shape[1]\n",
    "\n",
    "dst_nearest = cv2.resize(src, (h * 2, w * 2), \n",
    "                         interpolation = cv2.INTER_NEAREST) # 보간\n",
    "dst_bilinear = cv2.resize(src, (h * 2, w * 2), \n",
    "                         interpolation = cv2.INTER_LINEAR)\n",
    "dst_cubic = cv2.resize(src, (h * 2, w * 2), \n",
    "                         interpolation = cv2.INTER_CUBIC)\n",
    "\n",
    "cv2.imshow('src', src)\n",
    "cv2.imshow('dst_nearest', dst_nearest)\n",
    "cv2.imshow('dst_bilinear', dst_bilinear)\n",
    "cv2.imshow('dst_cubic', dst_cubic)\n",
    "\n",
    "cv2.waitKey()\n",
    "cv2.destroyAllWindows()"
   ]
  },
  {
   "cell_type": "code",
   "execution_count": 55,
   "id": "bf286720",
   "metadata": {},
   "outputs": [],
   "source": [
    "src = cv2.imread(\"./fig/rose.jpg\")\n",
    "h = src.shape[0]\n",
    "w = src.shape[1]\n",
    "\n",
    "# getRotationMatrix2D(center, angle, scale) -> retval\n",
    "# center: 영상의 center\n",
    "# angle: 회전각도\n",
    "# scale: 확대율\n",
    "center = (h // 2, w // 2)\n",
    "rot = cv2.getRotationMatrix2D(center, 30, 1)\n",
    "\n",
    "dst = cv2.warpAffine(src, rot, (0, 0))\n",
    "\n",
    "cv2.imshow('src', src)\n",
    "cv2.imshow('dst', dst)\n",
    "\n",
    "cv2.waitKey()\n",
    "cv2.destroyAllWindows()"
   ]
  },
  {
   "cell_type": "code",
   "execution_count": 57,
   "id": "f0c5eabb",
   "metadata": {},
   "outputs": [],
   "source": [
    "dst = cv2.flip(src, 0)\n",
    "\n",
    "cv2.imshow('dst', dst)\n",
    "\n",
    "cv2.waitKey()\n",
    "cv2.destroyAllWindows()"
   ]
  }
 ],
 "metadata": {
  "kernelspec": {
   "display_name": "Python 3",
   "language": "python",
   "name": "python3"
  },
  "language_info": {
   "codemirror_mode": {
    "name": "ipython",
    "version": 3
   },
   "file_extension": ".py",
   "mimetype": "text/x-python",
   "name": "python",
   "nbconvert_exporter": "python",
   "pygments_lexer": "ipython3",
   "version": "3.8.8"
  }
 },
 "nbformat": 4,
 "nbformat_minor": 5
}
