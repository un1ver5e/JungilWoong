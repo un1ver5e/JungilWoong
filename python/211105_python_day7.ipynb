{
 "cells": [
  {
   "cell_type": "code",
   "execution_count": null,
   "id": "d3c57ae9",
   "metadata": {},
   "outputs": [],
   "source": [
    "# class 정의, class 생성\n",
    "# class 클래스명:\n",
    "# 클래스명() -> 생성자 -> instance (객체)\n",
    "class Aclass:\n",
    "    def __init__(self, num1, num2): # class 안의 함수 == 매서드\n",
    "        self.num1 = num1\n",
    "        self.num2 = num2\n",
    "        print(\"class 생성\")\n",
    "        \n",
    "    def __del__(self): # 프로그램 종료 시 자동으로 실행\n",
    "        print(\"class 소멸\")\n",
    "\n",
    "    def get_sum(self):\n",
    "        print(\"class 내부 함수 실행\")\n",
    "        return self.num1 + self.num2\n",
    "    \n",
    "a = Aclass(10, 20) # 생성자 => class 내부의 __init__ 함수가 실행\n",
    "print(a.num1, a.num2, a.get_sum()) \n",
    "print()\n",
    "b = Aclass(30, 40)\n",
    "print(b.num1, b.num2) # init 말고 다른 함수는 수행 안 됨\n",
    "\n",
    "a_list = [a, b]\n",
    "print()\n",
    "print(a_list[0].num1 + a_list[1].num2)\n",
    "\n",
    "class Student:\n",
    "    def __init__(self, name, korean, math, english, science):\n",
    "        self.name = name\n",
    "        self.korean = korean\n",
    "        self.math = math\n",
    "        self.english = english\n",
    "        self.science = science\n",
    "        \n",
    "    def get_sum(self):\n",
    "        return self.korean + self.math + self.english + self.science\n",
    "    def get_avg(self):\n",
    "        return self.get_sum()/4\n",
    "    def to_string(self):\n",
    "        return \"{}\\t{}\\t{}\\t{}\\t{}\\t{}\\t{}\".format(self.name, self.get_sum(), self.get_avg(), self.korean, self.math, \n",
    "                                                   self.english, self.science)\n",
    "        \n",
    "students_class = [\n",
    "    Student(\"윤인성\", 87, 98, 88, 95),\n",
    "    Student(\"연하진\", 92, 98, 96, 98),\n",
    "    Student(\"구지연\", 76, 96, 94, 90),\n",
    "    Student(\"나선주\", 98, 92, 96, 92),\n",
    "    Student(\"윤아린\", 95, 98, 98, 98),\n",
    "    Student(\"윤명월\", 64, 88, 92, 92)\n",
    "]"
   ]
  },
  {
   "cell_type": "code",
   "execution_count": null,
   "id": "06ed6638",
   "metadata": {},
   "outputs": [],
   "source": [
    "class Student:\n",
    "    def __init__(self, name, korean, math, english, science):\n",
    "        self.name = name\n",
    "        self.korean = korean\n",
    "        self.math = math\n",
    "        self.english = english\n",
    "        self.science = science\n",
    "    \n",
    "    def file_write(self):\n",
    "        fp.write(self.name + \",\" + str(self.kor) + \",\" + str(self.english) + \"\\n\")\n",
    "        \n",
    "    def input_data():\n",
    "        name = input(\"이름 :\")\n",
    "        if name == \"q\":\n",
    "            return \"q\"\n",
    "        while True:\n",
    "            score = input(\"국어, 영어, 점수 입력 : (50 40)\".split())\n",
    "            if len(score) == 2:\n",
    "                break\n",
    "        student = Student(name, int(score[0]), int(score[1]))\n",
    "        student.file_write()\n",
    "        return\n",
    "    \n",
    "def search_data():\n",
    "    fe.seek(0)\n",
    "    s_name = input(\"검색할 이름 : \")\n",
    "    for line in fp:\n",
    "        line_data = line.split(\",\")\n",
    "        if s_name == line_data[0]:\n",
    "            return line_data\n",
    "        return\n",
    "    \n",
    "fp = open(\"class_flie.txt\" \"r\")\n",
    "\n",
    "try:\n",
    "    while True:\n",
    "        name = input(\"이름 :\")\n",
    "        if name == \"q\":\n",
    "            break\n",
    "        score = int(input(\"점수 입력 : \"))\n",
    "        student = Student(name, score)\n",
    "        student.file_write()\n",
    "        \n",
    "        data = search_data()\n",
    "        if data:\n",
    "            print(\"{} : {}, {}\".format(data[0], data[1], data[2]))\n",
    "        else:\n",
    "            print(\"검색할 자료 없음\")\n",
    "            \n",
    "except Exception as e:\n",
    "    print(\"error\", e)\n",
    "finally:\n",
    "    fp.close()"
   ]
  },
  {
   "cell_type": "code",
   "execution_count": null,
   "id": "4dac1b15",
   "metadata": {},
   "outputs": [],
   "source": [
    "# 학생 클래스를 선언합니다.\n",
    "class Student:\n",
    "    def study(self):\n",
    "        print(\"공부를 합니다.\")\n",
    "\n",
    "# 선생님 클래스를 선언합니다.\n",
    "class Teacher:\n",
    "    def teach(self):\n",
    "        print(\"학생을 가르칩니다.\")\n",
    "\n",
    "# 교실 내부의 객체 리스트를 생성합니다.\n",
    "classroom = [Student(), Student(), Teacher(), Student(), Student()]\n",
    "\n",
    "# 반복을 적용해서 적절한 함수를 호출하게 합니다.\n",
    "for person in classroom:\n",
    "    if isinstance(person, Student):\n",
    "        person.study()\n",
    "    elif isinstance(person, Teacher):\n",
    "        person.teach()"
   ]
  },
  {
   "cell_type": "code",
   "execution_count": null,
   "id": "015a46ad",
   "metadata": {},
   "outputs": [],
   "source": [
    "class Student:\n",
    "    def __init__(self, name, korean, math, english, science):\n",
    "        self.name = name\n",
    "        self.korean = korean\n",
    "        self.math = math\n",
    "        self.english = english\n",
    "        self.science = science\n",
    "        \n",
    "    def get_sum(self):\n",
    "        return self.korean + self.math + self.english + self.science\n",
    "    def get_avg(self):\n",
    "        return self.get_sum()/4\n",
    "#    def to_string(self):\n",
    "    def __str__(self, student):\n",
    "        return \"{}\\t{}\\t{}\\t{}\\t{}\\t{}\\t{}\".format(self.name, self.get_sum(), self.get_avg(), self.korean, self.math, \n",
    "                                                   self.english, self.science)"
   ]
  },
  {
   "cell_type": "code",
   "execution_count": null,
   "id": "b41eb89e",
   "metadata": {},
   "outputs": [],
   "source": [
    "students = [\n",
    "    Student(\"윤인성\", 87, 98, 88, 95),\n",
    "    Student(\"연하진\", 92, 98, 96, 98),\n",
    "    Student(\"구지연\", 76, 96, 94, 90),\n",
    "    Student(\"나선주\", 98, 92, 96, 92),\n",
    "    Student(\"윤아린\", 95, 98, 98, 98),\n",
    "    Student(\"윤명월\", 64, 88, 92, 92)\n",
    "]"
   ]
  },
  {
   "cell_type": "code",
   "execution_count": null,
   "id": "2200661b",
   "metadata": {},
   "outputs": [],
   "source": [
    "for student in students:\n",
    "    print(str(student)"
   ]
  },
  {
   "cell_type": "code",
   "execution_count": null,
   "id": "40766c2f",
   "metadata": {},
   "outputs": [],
   "source": [
    "class Stu:\n",
    "    count = 0\n",
    "    \n",
    "    def __init__(self, name, score):\n",
    "        self.name = name\n",
    "        self.score = score\n",
    "        \n",
    "        Stu.count += 1\n",
    "        print(\"{} 번째 입력\".format(Stu.count))"
   ]
  },
  {
   "cell_type": "code",
   "execution_count": null,
   "id": "45083194",
   "metadata": {},
   "outputs": [],
   "source": [
    "stu_list = [Stu(\"a\", 90), Stu(\"b\", 80)]\n",
    "print(Stu.count)"
   ]
  },
  {
   "cell_type": "code",
   "execution_count": null,
   "id": "504baee1",
   "metadata": {},
   "outputs": [],
   "source": [
    "# 이름, 성적을 입력받아 Student 클래스에 instance에 저장하는데 이 부분을 리스트로\n",
    "# 이름에 q 입력되면 입력 종료\n",
    "# 입력된 숫자만큼 데이터 출력\n",
    "class Student:\n",
    "    count = 0\n",
    "    \n",
    "    def __init__(self, name, score):\n",
    "        self.name = name\n",
    "        self.score = score\n",
    "        \n",
    "        Student.count += 1\n",
    "        \n",
    "students = []\n",
    "while True:\n",
    "    name = input(\"이름: \")\n",
    "    if name == \"q\":\n",
    "        break\n",
    "\n",
    "    score = int(input(\"점수: \"))\n",
    "    students.append(Student(name, score))\n",
    "\n",
    "print(\"입력한 총 개수 : {}\".format(Student.count))\n",
    "\n",
    "for i in range(Student.count):\n",
    "    print(students[i].name, students[i].score)"
   ]
  },
  {
   "cell_type": "code",
   "execution_count": null,
   "id": "53620b07",
   "metadata": {},
   "outputs": [],
   "source": [
    "# 모듈을 가져옵니다.\n",
    "import math\n",
    "\n",
    "# 클래스를 선언합니다.\n",
    "class Circle:\n",
    "    def __init__(self, radius):\n",
    "        self.__radius = radius # __변수명 : privite 변수\n",
    "    def get_circumference(self):\n",
    "        return 2 * math.pi * self.__radius\n",
    "    def get_area(self):\n",
    "        return math.pi * (self.__radius ** 2)\n",
    "    \n",
    "    def get_radius(self):\n",
    "        return self.__radius\n",
    "    def set_radius(self, value):\n",
    "        self.__radius = value\n",
    "\n",
    "# 원의 둘레와 넓이를 구합니다.\n",
    "circle = Circle(10)\n",
    "print(\"원의 둘레:\", circle.get_circumference())\n",
    "print(\"원의 넓이:\", circle.get_area())\n",
    "print(circle.get_radius())\n",
    "circle.set_radius(20)\n",
    "print(circle.get_radius())"
   ]
  },
  {
   "cell_type": "code",
   "execution_count": null,
   "id": "5b1b5f39",
   "metadata": {},
   "outputs": [],
   "source": [
    "# 상속\n",
    "class Parent:\n",
    "    def __init__(self):\n",
    "        self.value = \"테스트\"\n",
    "        print(\"Parent 클래스의 __init()__ 메서드가 호출되었습니다.\")\n",
    "    def test(self):\n",
    "        print(\"Parent 클래스의 test() 메서드입니다.\")\n",
    "\n",
    "# 자식 클래스를 선언합니다.\n",
    "class Child(Parent):\n",
    "    def __init__(self):\n",
    "        Parent.__init__(self) \n",
    "        print(\"Child 클래스의 __init()__ 메서드가 호출되었습니다.\")\n",
    "\n",
    "# 자식 클래스의 인스턴스를 생성하고 부모의 메서드를 호출합니다.\n",
    "child = Child()\n",
    "child.test()\n",
    "print(child.value)"
   ]
  },
  {
   "cell_type": "code",
   "execution_count": 1,
   "id": "27d95f62",
   "metadata": {},
   "outputs": [],
   "source": [
    "# numpy : 배열의 연산등을 쉽게 처리하는 모듈\n",
    "# reshape\n",
    "import numpy as np"
   ]
  },
  {
   "cell_type": "code",
   "execution_count": 52,
   "id": "7e3b51dd",
   "metadata": {},
   "outputs": [
    {
     "name": "stdout",
     "output_type": "stream",
     "text": [
      "[[ 0  1  2  3  4]\n",
      " [ 5  6  7  8  9]\n",
      " [10 11 12 13 14]] <class 'numpy.ndarray'>\n",
      "2 (3, 5) 15 int32 4\n"
     ]
    }
   ],
   "source": [
    "a = np.arange(15).reshape(3,5)\n",
    "print(a, type(a))\n",
    "print(a.ndim, a.shape, a.size, a.dtype.name, a.dtype.itemsize)"
   ]
  },
  {
   "cell_type": "code",
   "execution_count": null,
   "id": "20e6611d",
   "metadata": {},
   "outputs": [],
   "source": [
    "np.arange(-10, 5, 0.5)"
   ]
  },
  {
   "cell_type": "code",
   "execution_count": 53,
   "id": "f3ead623",
   "metadata": {
    "scrolled": true
   },
   "outputs": [
    {
     "data": {
      "text/plain": [
       "array([[-10. ,  -9.5,  -9. ,  -8.5,  -8. ,  -7.5],\n",
       "       [ -7. ,  -6.5,  -6. ,  -5.5,  -5. ,  -4.5],\n",
       "       [ -4. ,  -3.5,  -3. ,  -2.5,  -2. ,  -1.5],\n",
       "       [ -1. ,  -0.5,   0. ,   0.5,   1. ,   1.5],\n",
       "       [  2. ,   2.5,   3. ,   3.5,   4. ,   4.5]])"
      ]
     },
     "execution_count": 53,
     "metadata": {},
     "output_type": "execute_result"
    }
   ],
   "source": [
    "np.arange(-10, 5, 0.5).reshape(5, 6)"
   ]
  },
  {
   "cell_type": "code",
   "execution_count": null,
   "id": "18bd1d6b",
   "metadata": {},
   "outputs": [],
   "source": [
    "a_list = [1, 2, 3, 4, 5, 6]\n",
    "a_array = np.array(a_list)\n",
    "print(type(a_list), type(a_array), a_list, a_array)"
   ]
  },
  {
   "cell_type": "code",
   "execution_count": null,
   "id": "fb1c57a3",
   "metadata": {},
   "outputs": [],
   "source": [
    "# inf, Nan 초기값 설정한 배열 생성\n",
    "a = np.zeros(5)\n",
    "b = np.zeros((2, 3))\n",
    "c = np.zeros((5, 2), dtype = \"i\")\n",
    "d = np.zeros(5, dtype = \"U4\")\n",
    "e = np.ones((2, 3, 4), dtype = \"i8\")\n",
    "f = np.ones_like(b, dtype = \"f\")\n",
    "g = ()\n",
    "g = np.empty((4, 3)) # 초기화 되어있지 않아 쓰레기 값이 들어가 있음\n",
    "\n",
    "print(a)\n",
    "print(b)\n",
    "print(c)\n",
    "print(d)\n",
    "print(e)\n",
    "print(f)\n",
    "print(g)"
   ]
  },
  {
   "cell_type": "code",
   "execution_count": null,
   "id": "24c09209",
   "metadata": {
    "scrolled": true
   },
   "outputs": [],
   "source": [
    "z2 = np.array([[5.0],[10.0],[15.0]])\n",
    "print(z2)"
   ]
  },
  {
   "cell_type": "code",
   "execution_count": null,
   "id": "3b589b74",
   "metadata": {},
   "outputs": [],
   "source": [
    "# array 연산\n",
    "x1 = np.array([1, 2, 3, 4])\n",
    "y1 = np.array([4, 5, 6, 8])\n",
    "x2 = np.array([[1, 2], [3, 4]])\n",
    "z1 = np.array([-1, -2])\n",
    "z2 = np.array([[1, 2, 3, 4], [4, 5, 6, 8]])\n",
    "\n",
    "print(x1 + y1)\n",
    "print(x2 + z1)\n",
    "print(x2.flatten())\n",
    "print(x1.reshape(2, 2))\n",
    "print(z2.reshape(2, 2, 2))"
   ]
  },
  {
   "cell_type": "code",
   "execution_count": null,
   "id": "8be5d168",
   "metadata": {},
   "outputs": [],
   "source": [
    "# indexing, slicing, iterating\n",
    "a = np.arange(10) ** 2\n",
    "print(a)\n",
    "print(a[2]) # 0 index 부터 시작, 4\n",
    "print(a[3:5]) # 시작은 포함, 끝은 미포함\n",
    "print(a[0:6:2]) # [start : end : step]\n",
    "a[0:6:2] = -a[0:6:2]\n",
    "print(a[0:6:2])\n",
    "print(a[::-1])\n",
    "\n",
    "b = a.reshape(2, 5)\n",
    "print(b)\n",
    "print(b[:,1]) # [1, 36], 모든행, 1열\n",
    "print(b[-1,-1]) # 81"
   ]
  },
  {
   "cell_type": "code",
   "execution_count": null,
   "id": "3fcaddc2",
   "metadata": {},
   "outputs": [],
   "source": [
    "a = np.array([[2, 3, 4], [5, 6, 2], [9, 6, 7]])\n",
    "print(np.argmax(a, axis = 1)) # axis = 0 행, axis = 1 열 / arg = index"
   ]
  },
  {
   "cell_type": "code",
   "execution_count": null,
   "id": "4108d81d",
   "metadata": {},
   "outputs": [],
   "source": [
    "print(np.mean(a), np.var(a), np.median(a), len(a), a.size)"
   ]
  },
  {
   "cell_type": "code",
   "execution_count": null,
   "id": "81bc8c66",
   "metadata": {},
   "outputs": [],
   "source": [
    "np.random.seed(0)\n",
    "np.random.rand(5)"
   ]
  },
  {
   "cell_type": "code",
   "execution_count": null,
   "id": "3373b277",
   "metadata": {},
   "outputs": [],
   "source": [
    "np.random.choice(5, 3, replace = False)"
   ]
  },
  {
   "cell_type": "code",
   "execution_count": null,
   "id": "e7706704",
   "metadata": {},
   "outputs": [],
   "source": [
    "# np.random.seed(0)\n",
    "np.random.randint(10, 20, size = 10)\n",
    "np.random.randint(10, 20, size = (2,5))"
   ]
  },
  {
   "cell_type": "code",
   "execution_count": 15,
   "id": "10970d70",
   "metadata": {},
   "outputs": [
    {
     "name": "stdout",
     "output_type": "stream",
     "text": [
      "[ 0  1  2  3  4  5  6  7  8  9 10 11 12 13 14 15 16 17 18 19 20]\n",
      "[ 0  3  6  9 12 15 18]\n",
      "[ 1  5  9 13 17]\n",
      "[9]\n"
     ]
    }
   ],
   "source": [
    "x = np.arange(20 + 1)\n",
    "print(x)\n",
    "print(x[x % 3 == 0])\n",
    "print(x[x % 4 == 1])\n",
    "print(x[(x % 3 == 0) & (x % 4 == 1)]) # &, |"
   ]
  },
  {
   "cell_type": "code",
   "execution_count": 58,
   "id": "05f13ca7",
   "metadata": {},
   "outputs": [
    {
     "name": "stdout",
     "output_type": "stream",
     "text": [
      "[ 3  6  9 12 15 18 21 24 27 30 33 36 39 42 45 48 51 54 57 60 63 66 69 72\n",
      " 75 78 81 84 87 90 93 96 99]\n",
      "[72 42 69 54 99]\n",
      "\n",
      "[[ 3  6  9 12 15 18 21 24 27 30 33]\n",
      " [36 39 42 45 48 51 54 57 60 63 66]\n",
      " [69 72 75 78 81 84 87 90 93 96 99]]\n",
      "\n",
      "[15 30 45 60 75 90]\n"
     ]
    }
   ],
   "source": [
    "# 1부터 100까지의 수중에서 3의 배수만 배열로 생성\n",
    "x = np.arange(1, 100 + 1)\n",
    "x = x[x % 3 == 0]\n",
    "print(x)\n",
    "\n",
    "# 위에서 생성된 배열의 값 중에서 임의로 5개의 값을 출력\n",
    "y = np.random.choice(x, 5)\n",
    "print(y)\n",
    "\n",
    "# 위의 배열의 사이즈를 확인한 후 행이 3인 2차원 배열을 생성\n",
    "print()\n",
    "print(x.reshape(3, int(x.size / 3)))\n",
    "# 배열의 원소중에서 5의 배수만 출력\n",
    "print()\n",
    "print(z[z % 5 == 0])"
   ]
  }
 ],
 "metadata": {
  "kernelspec": {
   "display_name": "Python 3",
   "language": "python",
   "name": "python3"
  },
  "language_info": {
   "codemirror_mode": {
    "name": "ipython",
    "version": 3
   },
   "file_extension": ".py",
   "mimetype": "text/x-python",
   "name": "python",
   "nbconvert_exporter": "python",
   "pygments_lexer": "ipython3",
   "version": "3.8.8"
  }
 },
 "nbformat": 4,
 "nbformat_minor": 5
}
