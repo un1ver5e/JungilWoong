{
 "cells": [
  {
   "cell_type": "code",
   "execution_count": 1,
   "id": "fdbd8cf9",
   "metadata": {},
   "outputs": [
    {
     "name": "stdout",
     "output_type": "stream",
     "text": [
      "test\n",
      "test\n",
      "test\n"
     ]
    },
    {
     "ename": "NameError",
     "evalue": "name 'n' is not defined",
     "output_type": "error",
     "traceback": [
      "\u001b[1;31m---------------------------------------------------------------------------\u001b[0m",
      "\u001b[1;31mNameError\u001b[0m                                 Traceback (most recent call last)",
      "\u001b[1;32m<ipython-input-1-59d0234ce24e>\u001b[0m in \u001b[0;36m<module>\u001b[1;34m\u001b[0m\n\u001b[0;32m      5\u001b[0m \u001b[1;33m\u001b[0m\u001b[0m\n\u001b[0;32m      6\u001b[0m \u001b[0mprint_n_values\u001b[0m\u001b[1;33m(\u001b[0m\u001b[1;34m\"test\"\u001b[0m\u001b[1;33m,\u001b[0m \u001b[1;36m3\u001b[0m\u001b[1;33m)\u001b[0m\u001b[1;33m\u001b[0m\u001b[1;33m\u001b[0m\u001b[0m\n\u001b[1;32m----> 7\u001b[1;33m \u001b[0mprint\u001b[0m\u001b[1;33m(\u001b[0m\u001b[0mn\u001b[0m\u001b[1;33m)\u001b[0m\u001b[1;33m\u001b[0m\u001b[1;33m\u001b[0m\u001b[0m\n\u001b[0m",
      "\u001b[1;31mNameError\u001b[0m: name 'n' is not defined"
     ]
    }
   ],
   "source": [
    "# 함수 리뷰\n",
    "def print_n_values(value, n):\n",
    "    for i in range(n):\n",
    "        print(value)\n",
    "        \n",
    "print_n_values(\"test\", 3) # value = test, n = 3 호출하고 함수가 끝나면 사라짐"
   ]
  },
  {
   "cell_type": "code",
   "execution_count": 2,
   "id": "947f22ac",
   "metadata": {},
   "outputs": [
    {
     "name": "stdout",
     "output_type": "stream",
     "text": [
      "test\n",
      "test\n"
     ]
    }
   ],
   "source": [
    "# 함수 리뷰\n",
    "def print_n_values(value, n = 2):\n",
    "    for i in range(n):\n",
    "        print(value)\n",
    "        \n",
    "print_n_values(\"test\") # value = test, n = 3 호출하고 함수가 끝나면 사라짐"
   ]
  },
  {
   "cell_type": "code",
   "execution_count": 25,
   "id": "fe6874a7",
   "metadata": {},
   "outputs": [
    {
     "name": "stdout",
     "output_type": "stream",
     "text": [
      "1 1 1.00000000000000000000000000000000000000000000000000\n",
      "1 2 2.00000000000000000000000000000000000000000000000000\n",
      "2 3 1.50000000000000000000000000000000000000000000000000\n",
      "3 5 1.66666666666666674068153497501043602824211120605469\n",
      "5 8 1.60000000000000008881784197001252323389053344726562\n",
      "8 13 1.62500000000000000000000000000000000000000000000000\n",
      "13 21 1.61538461538461541877609306538943201303482055664062\n",
      "21 34 1.61904761904761906876615285000298172235488891601562\n",
      "34 55 1.61764705882352943788760057941544800996780395507812\n",
      "55 89 1.61818181818181816566948327817954123020172119140625\n",
      "89 144 1.61797752808988759554154057695996016263961791992188\n",
      "144 233 1.61805555555555558022717832500347867608070373535156\n",
      "233 377 1.61802575107296142675750161288306117057800292968750\n",
      "377 610 1.61803713527851455999950758268823847174644470214844\n",
      "610 987 1.61803278688524598827314093796303495764732360839844\n",
      "987 1597 1.61803444782168193150084789522225037217140197753906\n",
      "1597 2584 1.61803381340012530920091649022651836276054382324219\n",
      "2584 4181 1.61803405572755409913554558443138375878334045410156\n",
      "4181 6765 1.61803396316670644594637451518792659044265747070312\n",
      "6765 10946 1.61803399852180329610007447627140209078788757324219\n",
      "10946 17711 1.61803398501735795633749148692004382610321044921875\n",
      "17711 28657 1.61803399017559712547154049389064311981201171875000\n",
      "28657 46368 1.61803398820532495783197646233020350337028503417969\n",
      "46368 75025 1.61803398895790206957201462500961497426033020019531\n",
      "75025 121393 1.61803398867044312403606909356312826275825500488281\n",
      "121393 196418 1.61803398878024262685926260019186884164810180664062\n",
      "196418 317811 1.61803398873830306392562761175213381648063659667969\n",
      "317811 514229 1.61803398875432247194794399547390639781951904296875\n",
      "514229 832040 1.61803398874820358877002490771701559424400329589844\n",
      "832040 1346269 1.61803398875054083028146578726591542363166809082031\n",
      "1346269 2178309 1.61803398874964821096966716140741482377052307128906\n",
      "2178309 3524578 1.61803398874998904943822708446532487869262695312500\n",
      "3524578 5702887 1.61803398874985893129974101611878722906112670898438\n",
      "5702887 9227465 1.61803398874990866929124422313179820775985717773438\n",
      "9227465 14930352 1.61803398874988957345522067043930292129516601562500\n",
      "14930352 24157817 1.61803398874989690092718319647246971726417541503906\n",
      "24157817 39088169 1.61803398874989401434731917106546461582183837890625\n",
      "39088169 63245986 1.61803398874989512457034379622200503945350646972656\n",
      "63245986 102334155 1.61803398874989468048113394615938887000083923339844\n",
      "102334155 165580141 1.61803398874989490252573887119069695472717285156250\n",
      "165580141 267914296 1.61803398874989490252573887119069695472717285156250\n",
      "267914296 433494437 1.61803398874989490252573887119069695472717285156250\n",
      "433494437 701408733 1.61803398874989490252573887119069695472717285156250\n",
      "701408733 1134903170 1.61803398874989490252573887119069695472717285156250\n",
      "1134903170 1836311903 1.61803398874989490252573887119069695472717285156250\n",
      "1836311903 2971215073 1.61803398874989490252573887119069695472717285156250\n",
      "2971215073 4807526976 1.61803398874989490252573887119069695472717285156250\n",
      "4807526976 7778742049 1.61803398874989490252573887119069695472717285156250\n",
      "7778742049 12586269025 1.61803398874989490252573887119069695472717285156250\n",
      "12586269025 20365011074 1.61803398874989490252573887119069695472717285156250\n",
      "20365011074 32951280099 1.61803398874989490252573887119069695472717285156250\n",
      "32951280099 53316291173 1.61803398874989490252573887119069695472717285156250\n",
      "53316291173 86267571272 1.61803398874989490252573887119069695472717285156250\n",
      "86267571272 139583862445 1.61803398874989490252573887119069695472717285156250\n",
      "139583862445 225851433717 1.61803398874989490252573887119069695472717285156250\n",
      "225851433717 365435296162 1.61803398874989490252573887119069695472717285156250\n",
      "365435296162 591286729879 1.61803398874989490252573887119069695472717285156250\n",
      "591286729879 956722026041 1.61803398874989490252573887119069695472717285156250\n",
      "956722026041 1548008755920 1.61803398874989490252573887119069695472717285156250\n",
      "1548008755920 2504730781961 1.61803398874989490252573887119069695472717285156250\n",
      "2504730781961 4052739537881 1.61803398874989490252573887119069695472717285156250\n",
      "4052739537881 6557470319842 1.61803398874989490252573887119069695472717285156250\n",
      "6557470319842 10610209857723 1.61803398874989490252573887119069695472717285156250\n",
      "10610209857723 17167680177565 1.61803398874989490252573887119069695472717285156250\n",
      "17167680177565 27777890035288 1.61803398874989490252573887119069695472717285156250\n",
      "27777890035288 44945570212853 1.61803398874989490252573887119069695472717285156250\n",
      "44945570212853 72723460248141 1.61803398874989490252573887119069695472717285156250\n",
      "72723460248141 117669030460994 1.61803398874989490252573887119069695472717285156250\n",
      "117669030460994 190392490709135 1.61803398874989490252573887119069695472717285156250\n",
      "190392490709135 308061521170129 1.61803398874989490252573887119069695472717285156250\n",
      "308061521170129 498454011879264 1.61803398874989490252573887119069695472717285156250\n",
      "498454011879264 806515533049393 1.61803398874989490252573887119069695472717285156250\n",
      "806515533049393 1304969544928657 1.61803398874989490252573887119069695472717285156250\n",
      "1304969544928657 2111485077978050 1.61803398874989490252573887119069695472717285156250\n",
      "2111485077978050 3416454622906707 1.61803398874989490252573887119069695472717285156250\n",
      "3416454622906707 5527939700884757 1.61803398874989490252573887119069695472717285156250\n",
      "5527939700884757 8944394323791464 1.61803398874989490252573887119069695472717285156250\n",
      "8944394323791464 14472334024676221 1.61803398874989490252573887119069695472717285156250\n",
      "14472334024676221 23416728348467685 1.61803398874989490252573887119069695472717285156250\n",
      "23416728348467685 37889062373143906 1.61803398874989490252573887119069695472717285156250\n",
      "37889062373143906 61305790721611591 1.61803398874989490252573887119069695472717285156250\n",
      "61305790721611591 99194853094755497 1.61803398874989490252573887119069695472717285156250\n",
      "99194853094755497 160500643816367088 1.61803398874989490252573887119069695472717285156250\n",
      "160500643816367088 259695496911122585 1.61803398874989490252573887119069695472717285156250\n",
      "259695496911122585 420196140727489673 1.61803398874989490252573887119069695472717285156250\n",
      "420196140727489673 679891637638612258 1.61803398874989490252573887119069695472717285156250\n",
      "679891637638612258 1100087778366101931 1.61803398874989490252573887119069695472717285156250\n",
      "1100087778366101931 1779979416004714189 1.61803398874989490252573887119069695472717285156250\n",
      "1779979416004714189 2880067194370816120 1.61803398874989490252573887119069695472717285156250\n",
      "2880067194370816120 4660046610375530309 1.61803398874989490252573887119069695472717285156250\n",
      "4660046610375530309 7540113804746346429 1.61803398874989490252573887119069695472717285156250\n",
      "7540113804746346429 12200160415121876738 1.61803398874989490252573887119069695472717285156250\n",
      "12200160415121876738 19740274219868223167 1.61803398874989490252573887119069695472717285156250\n",
      "19740274219868223167 31940434634990099905 1.61803398874989490252573887119069695472717285156250\n",
      "31940434634990099905 51680708854858323072 1.61803398874989490252573887119069695472717285156250\n",
      "51680708854858323072 83621143489848422977 1.61803398874989490252573887119069695472717285156250\n",
      "83621143489848422977 135301852344706746049 1.61803398874989490252573887119069695472717285156250\n",
      "135301852344706746049 218922995834555169026 1.61803398874989490252573887119069695472717285156250\n",
      "218922995834555169026 354224848179261915075 1.61803398874989490252573887119069695472717285156250\n",
      "354224848179261915075 573147844013817084101 1.61803398874989490252573887119069695472717285156250\n"
     ]
    }
   ],
   "source": [
    "# 피보나치 수열 1\n",
    "x, y = 0, 1\n",
    "for i in range(100):\n",
    "    x, y = y, x + y\n",
    "    z = y / x\n",
    "    print(\"{} {} {:.50f}\".format(x, y, z))"
   ]
  },
  {
   "cell_type": "code",
   "execution_count": 29,
   "id": "6644fd8a",
   "metadata": {},
   "outputs": [],
   "source": [
    "# 피보나치 수열\n",
    "def fibo(n):\n",
    "    global count\n",
    "    count += 1\n",
    "    if n == 1:\n",
    "        return  1\n",
    "    if n == 2:\n",
    "        return 1\n",
    "    else:\n",
    "        return fibo(n-1) + fibo(n-2)"
   ]
  },
  {
   "cell_type": "code",
   "execution_count": 30,
   "id": "f7bafb7e",
   "metadata": {},
   "outputs": [
    {
     "name": "stdout",
     "output_type": "stream",
     "text": [
      "fibo(35)에 계산에 활용된 덧셈 횟수는 73819716\n"
     ]
    }
   ],
   "source": [
    "fibo(35)\n",
    "print(\"fibo({})에 계산에 활용된 덧셈 횟수는 {}\".format(35 ,count))"
   ]
  },
  {
   "cell_type": "code",
   "execution_count": 34,
   "id": "f03135e1",
   "metadata": {},
   "outputs": [],
   "source": [
    "dict_fibo = {1:1, 2:1}\n",
    "\n",
    "def fibo_m(n):\n",
    "    global count_fibo\n",
    "    count_fibo += 1\n",
    "    if n in dict_fibo:\n",
    "        return dict_fibo[n]\n",
    "    else:\n",
    "        output = fibo_m(n-1) + fibo_m(n-2)\n",
    "        dict_fibo[n] = output\n",
    "        return output"
   ]
  },
  {
   "cell_type": "code",
   "execution_count": 37,
   "id": "508f145f",
   "metadata": {},
   "outputs": [
    {
     "name": "stdout",
     "output_type": "stream",
     "text": [
      "fibo 100 에 계산에 활용된 덧셈 횟수는 1\n"
     ]
    }
   ],
   "source": [
    "count_fibo = 0\n",
    "fibo_m(100)\n",
    "print(\"fibo {} 에 계산에 활용된 덧셈 횟수는 {}\".format(100, count_fibo))"
   ]
  },
  {
   "cell_type": "code",
   "execution_count": 38,
   "id": "273e1bc2",
   "metadata": {},
   "outputs": [
    {
     "name": "stdout",
     "output_type": "stream",
     "text": [
      "tuple[0]: 1\n",
      "a = 10, b = 20\n",
      "a = 20, b = 10\n",
      "<class 'int'> <class 'tuple'>\n"
     ]
    }
   ],
   "source": [
    "# tuple : 값 변경 안 됨()\n",
    "tuple_var = (1, 2, 3)\n",
    "print(\"tuple[0]:\", tuple_var[0])\n",
    "# tuple_var[1] = 4 # error\n",
    "\n",
    "a, b = 10, 20\n",
    "print(\"a = {}, b = {}\".format(a, b))\n",
    "a, b = b, a\n",
    "print(\"a = {}, b = {}\".format(a, b))\n",
    "print(type(a), type(tuple_var))"
   ]
  },
  {
   "cell_type": "code",
   "execution_count": null,
   "id": "339c5501",
   "metadata": {},
   "outputs": [],
   "source": [
    "for idx, alue in enumerate([1, 2, 3, 4]):\n",
    "    print(\"{} : {}\".format(idx, value))"
   ]
  },
  {
   "cell_type": "code",
   "execution_count": 44,
   "id": "70f2d161",
   "metadata": {},
   "outputs": [
    {
     "name": "stdout",
     "output_type": "stream",
     "text": [
      "map() :  [1, 4, 9, 16, 25]\n",
      "map() :  [1, 2]\n"
     ]
    }
   ],
   "source": [
    "# lambda는 함수를 간단하게 정의하는 것\n",
    "def power(x):\n",
    "    return x * x\n",
    "def under3(x):\n",
    "    return x < 3\n",
    "print(\"map() : \", list(map(power, [1, 2, 3, 4, 5]))) # 주소 불러옴\n",
    "print(\"map() : \", list(filter(under3, [1, 2, 3, 4, 5]))) # true or false"
   ]
  },
  {
   "cell_type": "code",
   "execution_count": 43,
   "id": "da20cb92",
   "metadata": {},
   "outputs": [
    {
     "name": "stdout",
     "output_type": "stream",
     "text": [
      "map() :  [1, 4, 9, 16, 25]\n",
      "map() :  [4, 5]\n"
     ]
    }
   ],
   "source": [
    "a_power = lambda x: x*x\n",
    "a_under3 = lambda x: 3<x\n",
    "\n",
    "print(\"map() : \", list(map(a_power, [1, 2, 3, 4, 5]))) # 주소 불러옴\n",
    "print(\"map() : \", list(filter(a_under3, [1, 2, 3, 4, 5]))) # true or false"
   ]
  },
  {
   "cell_type": "code",
   "execution_count": 45,
   "id": "c97c7ef1",
   "metadata": {},
   "outputs": [
    {
     "name": "stdout",
     "output_type": "stream",
     "text": [
      "map() :  [1, 4, 9, 16, 25]\n",
      "map() :  [4, 5]\n"
     ]
    }
   ],
   "source": [
    "print(\"map() : \", list(map(lambda x: x*x, [1, 2, 3, 4, 5]))) # 주소 불러옴\n",
    "print(\"map() : \", list(filter(lambda x: 3<x, [1, 2, 3, 4, 5]))) # true or false"
   ]
  },
  {
   "cell_type": "code",
   "execution_count": 53,
   "id": "3ca84901",
   "metadata": {},
   "outputs": [],
   "source": [
    "# file open, write, close\n",
    "#file = open(\"경로명/파일명\", mode = \"w, r, a\")\n",
    "# ./ : 현재 작업하고 있는 디렉토리, ../ : 상위 디렉토리, ./디렉토리명 : 하위 디렉토리명\n",
    "file = open(\"./basic.txt\", \"w\")# w:기존에 존재하면 기존 내용 없앰, 새로 생성\n",
    "file.write(\"Hello python programming\")\n",
    "file.close()"
   ]
  },
  {
   "cell_type": "code",
   "execution_count": 55,
   "id": "73392be2",
   "metadata": {},
   "outputs": [
    {
     "name": "stdout",
     "output_type": "stream",
     "text": [
      "Hello python programming\n"
     ]
    }
   ],
   "source": [
    "# file read\n",
    "file = open(\"./basic.txt\", 'r') # 입력모드로, 존재하지 않으면 error\n",
    "a = file.read()\n",
    "print(a)\n",
    "file.close()"
   ]
  },
  {
   "cell_type": "code",
   "execution_count": 56,
   "id": "4a960e16",
   "metadata": {},
   "outputs": [
    {
     "name": "stdout",
     "output_type": "stream",
     "text": [
      "Hello python programming\n"
     ]
    }
   ],
   "source": [
    "with open(\"./basic.txt\", \"r\") as file: # with 문장을 종료하면 file.close() 자동으로 실행\n",
    "    contents = file.read()\n",
    "print(contents)"
   ]
  },
  {
   "cell_type": "code",
   "execution_count": 70,
   "id": "cb1053be",
   "metadata": {},
   "outputs": [],
   "source": [
    "def write_file(score_file):\n",
    "    input_str = input(\"name score >\").split()\n",
    "    if \"q\" in input_str:\n",
    "        return False\n",
    "    score_file.write(\"{},{}\\n\".format(input_str[0], int(input_str[1]))) # 파일에 저장\n",
    "    return True"
   ]
  },
  {
   "cell_type": "code",
   "execution_count": 71,
   "id": "44c71022",
   "metadata": {},
   "outputs": [
    {
     "name": "stdout",
     "output_type": "stream",
     "text": [
      "name score >정일웅 100\n",
      "정일웅,100\n",
      "\n",
      "name score >오리 100\n",
      "정일웅,100\n",
      "\n",
      "오리,100\n",
      "\n",
      "name score >q\n",
      "---------------\n",
      "정일웅,100\n",
      "오리,100\n",
      "\n"
     ]
    }
   ],
   "source": [
    "# 파일명은 score.txt\n",
    "# 이름, 성적을 입력받아 파일에 저장 'q'가 입력되면 종료, 홍길동,90(구분자는 콤마, end는 \\n으로)\n",
    "# file.write() => print()와 유사, file.write(\"{},{}\\n\".format(name, score))\n",
    "# file을 읽어서 화면에 출력하\n",
    "with open(\"./score.txt\", \"w+\") as score_file: # w+ : read, write 가능 기존 파일 내용 지움\n",
    "    while True:\n",
    "        if not write_file(score_file):\n",
    "            break\n",
    "        score_file.seek(0) # 파일 포인터를 처음으로 이동시킴\n",
    "        for line in score_file: # 파일에서 한 라인씩 가져옴\n",
    "            print(line)\n",
    "    print(\"---------------\")\n",
    "    score_file.seek(0) # 파일 포인터를 처음으로 이동시킴\n",
    "    print(score_file.read())"
   ]
  },
  {
   "cell_type": "code",
   "execution_count": 73,
   "id": "17233196",
   "metadata": {},
   "outputs": [
    {
     "name": "stdout",
     "output_type": "stream",
     "text": [
      "{'정일웅': 100, '오리': 100}\n"
     ]
    }
   ],
   "source": [
    "# 파일에 저장된 자료를 읽어서 딕셔너리에 저장한 후 딕셔너리의 키와 값을 출력\n",
    "file = open(\"./score.txt\")\n",
    "dict_score = {}\n",
    "for line in file:\n",
    "    line_list = line.split(\",\")\n",
    "    if line_list[0] == \"이름\":\n",
    "        continue\n",
    "    dict_score[line_list[0]] = int(line_list[1])\n",
    "file.close()\n",
    "print(dict_score)"
   ]
  },
  {
   "cell_type": "code",
   "execution_count": null,
   "id": "b507c125",
   "metadata": {},
   "outputs": [],
   "source": [
    "with open(\"./score.txt\", \"r\") as score_file:\n",
    "    for line in score_file:\n",
    "        print(line)\n",
    "        score_file.seek(0)\n",
    "        print(score_file.read())"
   ]
  },
  {
   "cell_type": "code",
   "execution_count": 79,
   "id": "6cdc1b96",
   "metadata": {},
   "outputs": [
    {
     "name": "stdout",
     "output_type": "stream",
     "text": [
      "main\n",
      "test 1\n",
      "y test1\n",
      "test 2\n",
      "main 1 --- y test2\n",
      "test 3\n"
     ]
    },
    {
     "ename": "StopIteration",
     "evalue": "",
     "output_type": "error",
     "traceback": [
      "\u001b[1;31m---------------------------------------------------------------------------\u001b[0m",
      "\u001b[1;31mStopIteration\u001b[0m                             Traceback (most recent call last)",
      "\u001b[1;32m<ipython-input-79-3bb9356386d0>\u001b[0m in \u001b[0;36m<module>\u001b[1;34m\u001b[0m\n\u001b[0;32m     16\u001b[0m \u001b[1;33m\u001b[0m\u001b[0m\n\u001b[0;32m     17\u001b[0m \u001b[0mprint\u001b[0m\u001b[1;33m(\u001b[0m\u001b[1;34m\"main 1 ---\"\u001b[0m\u001b[1;33m,\u001b[0m \u001b[0mnext\u001b[0m\u001b[1;33m(\u001b[0m\u001b[0mfunc\u001b[0m\u001b[1;33m)\u001b[0m\u001b[1;33m)\u001b[0m\u001b[1;33m\u001b[0m\u001b[1;33m\u001b[0m\u001b[0m\n\u001b[1;32m---> 18\u001b[1;33m \u001b[0mprint\u001b[0m\u001b[1;33m(\u001b[0m\u001b[0mnext\u001b[0m\u001b[1;33m(\u001b[0m\u001b[0mfunc\u001b[0m\u001b[1;33m)\u001b[0m\u001b[1;33m)\u001b[0m\u001b[1;33m\u001b[0m\u001b[1;33m\u001b[0m\u001b[0m\n\u001b[0m",
      "\u001b[1;31mStopIteration\u001b[0m: "
     ]
    }
   ],
   "source": [
    "# yield 키워드를 사용하여 제너레이터 함수 생성\n",
    "def g_func():\n",
    "    print(\"test 1\")\n",
    "    yield \"y test1\"\n",
    "    print(\"test 2\")\n",
    "    yield \"y test2\"\n",
    "    print(\"test 3\")\n",
    "    \n",
    "func = g_func()\n",
    "\n",
    "print(\"main\")\n",
    "\n",
    "g_func() # 제너레이터 함수는 실행되지 않음\n",
    "\n",
    "print(next(func))# next(제너레이터 함수명) yield 까지 실해하고 yield 뒤에 나오는 자료를 return\n",
    "\n",
    "print(\"main 1 ---\", next(func))\n",
    "# print(next(func)) # 3번 yield가 없기 때문에 오류"
   ]
  },
  {
   "cell_type": "code",
   "execution_count": 86,
   "id": "37449463",
   "metadata": {},
   "outputs": [
    {
     "name": "stdout",
     "output_type": "stream",
     "text": [
      "5\n",
      "4\n",
      "3\n",
      "2\n",
      "1\n"
     ]
    }
   ],
   "source": [
    "a_list = [1, 2, 3, 4, 5]\n",
    "r_list = reversed(a_list)\n",
    "for i in range(len(a_list)):\n",
    "    print(next(r_list))"
   ]
  },
  {
   "cell_type": "code",
   "execution_count": 1,
   "id": "5915d4da",
   "metadata": {},
   "outputs": [
    {
     "name": "stdout",
     "output_type": "stream",
     "text": [
      "50\n",
      "40\n",
      "30\n",
      "20\n",
      "10\n"
     ]
    }
   ],
   "source": [
    "def r_func(v_list):\n",
    "    for i in range(len(v_list)-1, -1, -1):\n",
    "        yield v_list[i]\n",
    "        \n",
    "a_list = [10, 20, 30, 40, 50]\n",
    "a = r_func(a_list)\n",
    "for i in range(5):\n",
    "    print(next(a))"
   ]
  },
  {
   "cell_type": "code",
   "execution_count": 4,
   "id": "260cda52",
   "metadata": {},
   "outputs": [
    {
     "name": "stdout",
     "output_type": "stream",
     "text": [
      "1::2::3::4::5\n"
     ]
    }
   ],
   "source": [
    "# 결과가 1::2::3::4::5::6\n",
    "numbers = [1, 2, 3, 4, 5]\n",
    "print(\"::\".join(map(str, numbers)))"
   ]
  },
  {
   "cell_type": "code",
   "execution_count": 6,
   "id": "de3ed04a",
   "metadata": {},
   "outputs": [
    {
     "name": "stdout",
     "output_type": "stream",
     "text": [
      "# 홀수 출력\n",
      "[1, 3, 5, 7, 9]\n",
      "# 3이상 7미만 출력\n",
      "[3, 4, 5, 6]\n",
      "# 제곱해서 50미만 출력\n",
      "[1, 2, 3, 4, 5, 6, 7]\n"
     ]
    }
   ],
   "source": [
    "# lambda\n",
    "numbers = list(range(1, 10 +1))\n",
    "\n",
    "print(\"# 홀수 출력\")\n",
    "print(list(filter(lambda x: x%2 == 1, numbers)))\n",
    "\n",
    "print(\"# 3이상 7미만 출력\")\n",
    "print(list(filter(lambda x: 3 <= x <7, numbers)))\n",
    "\n",
    "print(\"# 제곱해서 50미만 출력\")\n",
    "print(list(filter(lambda x: x*x <50, numbers)))"
   ]
  },
  {
   "cell_type": "code",
   "execution_count": 3,
   "id": "0c775dca",
   "metadata": {},
   "outputs": [
    {
     "name": "stdout",
     "output_type": "stream",
     "text": [
      "정수 입력 > sdf\n",
      "invalid literal for int() with base 10: 'sdf'\n",
      "try - except - else - finally\n"
     ]
    }
   ],
   "source": [
    "# 예외처리 try ~ except ~ else ~ finally\n",
    "\n",
    "pi = 3.14\n",
    "\n",
    "try:\n",
    "    number_input = int(input(\"정수 입력 > \"))\n",
    "except Exception as e:\n",
    "    print(e)\n",
    "else:\n",
    "    print(\"원의 반지름 : {}\", number_input)\n",
    "    print(\"원의 둘레 : {}\", number_input * 2 * pi)\n",
    "    print(\"원의 넓이 : {}\", number_input * number_input * pi)\n",
    "    print(\"정상 입력\")\n",
    "finally:\n",
    "    print(\"try - except - else - finally\")"
   ]
  },
  {
   "cell_type": "code",
   "execution_count": 22,
   "id": "d1c5f1e9",
   "metadata": {
    "scrolled": true
   },
   "outputs": [
    {
     "name": "stdout",
     "output_type": "stream",
     "text": [
      "file close\n"
     ]
    }
   ],
   "source": [
    "# 파일을 try.txt 파일을 \"r\" 모드로 오픈 후 파일의 내용을 출력 에러 발생하면 \"w\"모드로 오픈\n",
    "#마지막에 close 하고 종료\n",
    "# with open(\"./try.txt\", \"r\") as tryfile:\n",
    "import os\n",
    "\n",
    "if exit(\"./try.txt\"):\n",
    "    del(exit)\n",
    "\n",
    "try:\n",
    "    file = open(\"./try.txt\", \"r\")\n",
    "except Exception as e:\n",
    "    print(e)\n",
    "    open(\"./try.txt\", \"w\")\n",
    "finally:\n",
    "    print(\"file close\")\n",
    "    file.close()\n",
    "    os.remove(\"./try.txt\")"
   ]
  },
  {
   "cell_type": "code",
   "execution_count": 23,
   "id": "5c8639c4",
   "metadata": {},
   "outputs": [
    {
     "name": "stdout",
     "output_type": "stream",
     "text": [
      "<module 'ntpath' from 'D:\\\\Anaconda3\\\\lib\\\\ntpath.py'>\n"
     ]
    }
   ],
   "source": [
    "print(os.path)\n",
    "\n",
    "# 상대경로 > 내가 작업하는 경로 아래\n",
    "# 절대경로 > C:\\부터 시작"
   ]
  },
  {
   "cell_type": "code",
   "execution_count": 30,
   "id": "e7ed1e7e",
   "metadata": {},
   "outputs": [
    {
     "data": {
      "text/plain": [
       "3"
      ]
     },
     "execution_count": 30,
     "metadata": {},
     "output_type": "execute_result"
    }
   ],
   "source": [
    "# index값 반환\n",
    "a_list = [1, 2, 3, 235, 56, 67, 58, 235, 3456786]\n",
    "a_list.index(235)\n",
    "\n",
    "# 값이 똑같은게 들어있으면 처음 인덱스를 반환 "
   ]
  },
  {
   "cell_type": "code",
   "execution_count": 35,
   "id": "f7e432f5",
   "metadata": {},
   "outputs": [],
   "source": [
    "numbers = [52, 273, 43, 103, 90, 10, 275]\n",
    "\n",
    "def search_num(s_num, numbers):\n",
    "    try:\n",
    "        print(\"- {}는 {}위치에 있습니다.\")\n",
    "    except:\n",
    "        print(\"- 리스트 내부에 없습니다.\")\n",
    "    finally:\n",
    "        print(\"함수가 종료 되었습니다.\")"
   ]
  },
  {
   "cell_type": "code",
   "execution_count": 36,
   "id": "d26334f7",
   "metadata": {},
   "outputs": [
    {
     "name": "stdout",
     "output_type": "stream",
     "text": [
      "- {}는 {}위치에 있습니다.\n",
      "함수가 종료 되었습니다.\n",
      "- {}는 {}위치에 있습니다.\n",
      "함수가 종료 되었습니다.\n"
     ]
    }
   ],
   "source": [
    "numbers = [53, 373, 32, 103, 100, 90, 10, 276]\n",
    "\n",
    "search_num(53, numbers)\n",
    "search_num(101, numbers)"
   ]
  },
  {
   "cell_type": "code",
   "execution_count": 46,
   "id": "d634ecf9",
   "metadata": {},
   "outputs": [
    {
     "name": "stdout",
     "output_type": "stream",
     "text": [
      "정수 입력 > 439fksg\n",
      "정수가 아닙니다. invalid literal for int() with base 10: '439fksg'\n",
      "type(error_contents): <class 'ValueError'>\n"
     ]
    }
   ],
   "source": [
    "numbers = [52, 273, 43, 103, 90, 10, 275]\n",
    "try:\n",
    "    input_num = int(input(\"정수 입력 > \")) # 찾고자 하는 인덱스값 입력\n",
    "    print(\"- {}는 {}위치에 있습니다.\".format(input_num, numbers[input_num]))\n",
    "    \n",
    "except ValueError as ex_val:\n",
    "    print(\"정수가 아닙니다.\", ex_val)\n",
    "    print(\"type(error_contents):\", type(ex_val))\n",
    "    \n",
    "except IndexError as ex_val:\n",
    "    print(\"인덱스를 벗어났습니다.\", ex_val)\n",
    "    print(\"type(error_contents):\", type(ex_val))\n",
    "    \n",
    "except Exception as ex_val:\n",
    "    print(\"예측하지 못한 에러 발생..\", type(ex_val))"
   ]
  },
  {
   "cell_type": "code",
   "execution_count": 3,
   "id": "3b56603f",
   "metadata": {
    "scrolled": false
   },
   "outputs": [
    {
     "ename": "KeyboardInterrupt",
     "evalue": "Interrupted by user",
     "output_type": "error",
     "traceback": [
      "\u001b[1;31m---------------------------------------------------------------------------\u001b[0m",
      "\u001b[1;31mKeyboardInterrupt\u001b[0m                         Traceback (most recent call last)",
      "\u001b[1;32m<ipython-input-3-1a3f39e9240e>\u001b[0m in \u001b[0;36m<module>\u001b[1;34m\u001b[0m\n\u001b[1;32m----> 1\u001b[1;33m \u001b[0mnumber\u001b[0m\u001b[1;33m=\u001b[0m \u001b[0mint\u001b[0m\u001b[1;33m(\u001b[0m\u001b[0minput\u001b[0m\u001b[1;33m(\u001b[0m\u001b[1;34m\"정수 입력 >\"\u001b[0m\u001b[1;33m)\u001b[0m\u001b[1;33m)\u001b[0m\u001b[1;33m\u001b[0m\u001b[1;33m\u001b[0m\u001b[0m\n\u001b[0m\u001b[0;32m      2\u001b[0m \u001b[1;32mif\u001b[0m \u001b[0mnumber\u001b[0m \u001b[1;33m>\u001b[0m \u001b[1;36m0\u001b[0m\u001b[1;33m:\u001b[0m\u001b[1;33m\u001b[0m\u001b[1;33m\u001b[0m\u001b[0m\n\u001b[0;32m      3\u001b[0m     \u001b[1;32mraise\u001b[0m \u001b[0mNotImplementedError\u001b[0m\u001b[1;33m(\u001b[0m\u001b[1;34m\"미구현\"\u001b[0m\u001b[1;33m)\u001b[0m \u001b[1;31m# 강제로 에러 발생\u001b[0m\u001b[1;33m\u001b[0m\u001b[1;33m\u001b[0m\u001b[0m\n\u001b[0;32m      4\u001b[0m \u001b[1;32melse\u001b[0m\u001b[1;33m:\u001b[0m\u001b[1;33m\u001b[0m\u001b[1;33m\u001b[0m\u001b[0m\n\u001b[0;32m      5\u001b[0m     \u001b[1;32mpass\u001b[0m\u001b[1;33m\u001b[0m\u001b[1;33m\u001b[0m\u001b[0m\n",
      "\u001b[1;32mD:\\Anaconda3\\lib\\site-packages\\ipykernel\\kernelbase.py\u001b[0m in \u001b[0;36mraw_input\u001b[1;34m(self, prompt)\u001b[0m\n\u001b[0;32m    858\u001b[0m                 \u001b[1;34m\"raw_input was called, but this frontend does not support input requests.\"\u001b[0m\u001b[1;33m\u001b[0m\u001b[1;33m\u001b[0m\u001b[0m\n\u001b[0;32m    859\u001b[0m             )\n\u001b[1;32m--> 860\u001b[1;33m         return self._input_request(str(prompt),\n\u001b[0m\u001b[0;32m    861\u001b[0m             \u001b[0mself\u001b[0m\u001b[1;33m.\u001b[0m\u001b[0m_parent_ident\u001b[0m\u001b[1;33m,\u001b[0m\u001b[1;33m\u001b[0m\u001b[1;33m\u001b[0m\u001b[0m\n\u001b[0;32m    862\u001b[0m             \u001b[0mself\u001b[0m\u001b[1;33m.\u001b[0m\u001b[0m_parent_header\u001b[0m\u001b[1;33m,\u001b[0m\u001b[1;33m\u001b[0m\u001b[1;33m\u001b[0m\u001b[0m\n",
      "\u001b[1;32mD:\\Anaconda3\\lib\\site-packages\\ipykernel\\kernelbase.py\u001b[0m in \u001b[0;36m_input_request\u001b[1;34m(self, prompt, ident, parent, password)\u001b[0m\n\u001b[0;32m    902\u001b[0m             \u001b[1;32mexcept\u001b[0m \u001b[0mKeyboardInterrupt\u001b[0m\u001b[1;33m:\u001b[0m\u001b[1;33m\u001b[0m\u001b[1;33m\u001b[0m\u001b[0m\n\u001b[0;32m    903\u001b[0m                 \u001b[1;31m# re-raise KeyboardInterrupt, to truncate traceback\u001b[0m\u001b[1;33m\u001b[0m\u001b[1;33m\u001b[0m\u001b[1;33m\u001b[0m\u001b[0m\n\u001b[1;32m--> 904\u001b[1;33m                 \u001b[1;32mraise\u001b[0m \u001b[0mKeyboardInterrupt\u001b[0m\u001b[1;33m(\u001b[0m\u001b[1;34m\"Interrupted by user\"\u001b[0m\u001b[1;33m)\u001b[0m \u001b[1;32mfrom\u001b[0m \u001b[1;32mNone\u001b[0m\u001b[1;33m\u001b[0m\u001b[1;33m\u001b[0m\u001b[0m\n\u001b[0m\u001b[0;32m    905\u001b[0m             \u001b[1;32mexcept\u001b[0m \u001b[0mException\u001b[0m \u001b[1;32mas\u001b[0m \u001b[0me\u001b[0m\u001b[1;33m:\u001b[0m\u001b[1;33m\u001b[0m\u001b[1;33m\u001b[0m\u001b[0m\n\u001b[0;32m    906\u001b[0m                 \u001b[0mself\u001b[0m\u001b[1;33m.\u001b[0m\u001b[0mlog\u001b[0m\u001b[1;33m.\u001b[0m\u001b[0mwarning\u001b[0m\u001b[1;33m(\u001b[0m\u001b[1;34m\"Invalid Message:\"\u001b[0m\u001b[1;33m,\u001b[0m \u001b[0mexc_info\u001b[0m\u001b[1;33m=\u001b[0m\u001b[1;32mTrue\u001b[0m\u001b[1;33m)\u001b[0m\u001b[1;33m\u001b[0m\u001b[1;33m\u001b[0m\u001b[0m\n",
      "\u001b[1;31mKeyboardInterrupt\u001b[0m: Interrupted by user"
     ]
    }
   ],
   "source": [
    "number= int(input(\"정수 입력 >\"))\n",
    "if number > 0:\n",
    "    raise NotImplementedError(\"미구현\") # 강제로 에러 발생\n",
    "else:\n",
    "    pass"
   ]
  },
  {
   "cell_type": "code",
   "execution_count": 62,
   "id": "9379a853",
   "metadata": {},
   "outputs": [
    {
     "name": "stdout",
     "output_type": "stream",
     "text": [
      "<class 'str'>\n",
      "<class 'str'>\n"
     ]
    },
    {
     "ename": "TypeError",
     "evalue": "unsupported operand type(s) for +: 'int' and 'str'",
     "output_type": "error",
     "traceback": [
      "\u001b[1;31m---------------------------------------------------------------------------\u001b[0m",
      "\u001b[1;31mTypeError\u001b[0m                                 Traceback (most recent call last)",
      "\u001b[1;32m<ipython-input-62-0fac5795a69d>\u001b[0m in \u001b[0;36m<module>\u001b[1;34m\u001b[0m\n\u001b[0;32m     11\u001b[0m     \u001b[0mconvert2int\u001b[0m\u001b[1;33m(\u001b[0m\u001b[0mlist\u001b[0m\u001b[1;33m[\u001b[0m\u001b[0mi\u001b[0m\u001b[1;33m]\u001b[0m\u001b[1;33m)\u001b[0m\u001b[1;33m\u001b[0m\u001b[1;33m\u001b[0m\u001b[0m\n\u001b[0;32m     12\u001b[0m     \u001b[0mconvert2int\u001b[0m\u001b[1;33m(\u001b[0m\u001b[0mlist\u001b[0m\u001b[1;33m[\u001b[0m\u001b[0mi\u001b[0m \u001b[1;33m+\u001b[0m \u001b[1;36m1\u001b[0m\u001b[1;33m]\u001b[0m\u001b[1;33m)\u001b[0m\u001b[1;33m\u001b[0m\u001b[1;33m\u001b[0m\u001b[0m\n\u001b[1;32m---> 13\u001b[1;33m     \u001b[0mprint\u001b[0m\u001b[1;33m(\u001b[0m\u001b[0mlist\u001b[0m\u001b[1;33m[\u001b[0m\u001b[0mi\u001b[0m\u001b[1;33m]\u001b[0m \u001b[1;33m+\u001b[0m \u001b[0mlist\u001b[0m\u001b[1;33m[\u001b[0m\u001b[0mi\u001b[0m \u001b[1;33m+\u001b[0m \u001b[1;36m1\u001b[0m\u001b[1;33m]\u001b[0m\u001b[1;33m)\u001b[0m\u001b[1;33m\u001b[0m\u001b[1;33m\u001b[0m\u001b[0m\n\u001b[0m",
      "\u001b[1;31mTypeError\u001b[0m: unsupported operand type(s) for +: 'int' and 'str'"
     ]
    }
   ],
   "source": [
    "list = [0, \"1\", 2, 3, 5, \"8\", 13, 21, \"34\", 55, 89, \"144\"]\n",
    "\n",
    "def convert2int(input_data):\n",
    "    if type(input_data) != int:\n",
    "        print(type(input_data))\n",
    "        int(input_data)\n",
    "        print(type(input_data))\n",
    "        return input_data\n",
    "\n",
    "for i in range(len(list)):\n",
    "    convert2int(list[i])\n",
    "    convert2int(list[i + 1])\n",
    "    print(list[i] + list[i + 1])"
   ]
  }
 ],
 "metadata": {
  "kernelspec": {
   "display_name": "Python 3",
   "language": "python",
   "name": "python3"
  },
  "language_info": {
   "codemirror_mode": {
    "name": "ipython",
    "version": 3
   },
   "file_extension": ".py",
   "mimetype": "text/x-python",
   "name": "python",
   "nbconvert_exporter": "python",
   "pygments_lexer": "ipython3",
   "version": "3.8.8"
  }
 },
 "nbformat": 4,
 "nbformat_minor": 5
}
