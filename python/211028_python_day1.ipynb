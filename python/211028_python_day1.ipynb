{
 "cells": [
  {
   "cell_type": "code",
   "execution_count": 8,
   "id": "c975b3d9",
   "metadata": {
    "scrolled": false
   },
   "outputs": [
    {
     "name": "stdout",
     "output_type": "stream",
     "text": [
      "a = ...10...b = ...20...a + b =...30\n"
     ]
    }
   ],
   "source": [
    "a = 10\n",
    "b = 20\n",
    "a + b\n",
    "print('a = ', a, 'b = ', b, 'a + b =', a + b, sep = '...')"
   ]
  },
  {
   "cell_type": "code",
   "execution_count": null,
   "id": "20cf8ed7",
   "metadata": {
    "scrolled": true
   },
   "outputs": [],
   "source": [
    "print(\"hello python\")"
   ]
  },
  {
   "cell_type": "markdown",
   "id": "3d20075b",
   "metadata": {},
   "source": [
    "    - 노트북 파일 확장자 = ipynb\n",
    "    - python 확장자 = py"
   ]
  },
  {
   "cell_type": "code",
   "execution_count": 6,
   "id": "e9eecf50",
   "metadata": {},
   "outputs": [
    {
     "name": "stdout",
     "output_type": "stream",
     "text": [
      "['False', 'None', 'True', 'and', 'as', 'assert', 'async', 'await', 'break', 'class', 'continue', 'def', 'del', 'elif', 'else', 'except', 'finally', 'for', 'from', 'global', 'if', 'import', 'in', 'is', 'lambda', 'nonlocal', 'not', 'or', 'pass', 'raise', 'return', 'try', 'while', 'with', 'yield'] test\n"
     ]
    }
   ],
   "source": [
    "# 키워드 출력\n",
    "import keyword\n",
    "\n",
    "print(keyword.kwlist, 'test')"
   ]
  },
  {
   "cell_type": "code",
   "execution_count": 11,
   "id": "8d9bef3e",
   "metadata": {},
   "outputs": [
    {
     "name": "stdout",
     "output_type": "stream",
     "text": [
      "# 하나만 출력합니다.\n",
      "Hello Python Programming...!\n",
      "\n",
      "# 여러 개를 출력합니다.\n",
      "10 20 30 40 50\n",
      "Hello Good Morning!\n",
      "\n",
      "# 아무것도 출력하지 않습니다.\n",
      "--- 확인 전용선 ---\n",
      "\n",
      "\n",
      "--- 확인 전용선 ---\n"
     ]
    }
   ],
   "source": [
    "# 하나만 출력합니다.\n",
    "print(\"# 하나만 출력합니다.\")\n",
    "print(\"Hello Python Programming...!\")\n",
    "print()\n",
    "\n",
    "# 여러 개를 출력합니다.\n",
    "print(\"# 여러 개를 출력합니다.\")\n",
    "print(10, 20, 30, 40 ,50)\n",
    "print(\"Hello\", \"Good\", \"Morning!\")\n",
    "print()\n",
    "\n",
    "# 아무것도 입력하지 않으면 단순하게 줄바꿈합니다.\n",
    "print(\"# 아무것도 출력하지 않습니다.\")\n",
    "print(\"--- 확인 전용선 ---\")\n",
    "print()\n",
    "print()\n",
    "print(\"--- 확인 전용선 ---\")"
   ]
  }
 ],
 "metadata": {
  "kernelspec": {
   "display_name": "Python 3",
   "language": "python",
   "name": "python3"
  },
  "language_info": {
   "codemirror_mode": {
    "name": "ipython",
    "version": 3
   },
   "file_extension": ".py",
   "mimetype": "text/x-python",
   "name": "python",
   "nbconvert_exporter": "python",
   "pygments_lexer": "ipython3",
   "version": "3.8.8"
  }
 },
 "nbformat": 4,
 "nbformat_minor": 5
}
