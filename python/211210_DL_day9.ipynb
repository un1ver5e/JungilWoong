{
 "cells": [
  {
   "cell_type": "markdown",
   "id": "7de2cd88",
   "metadata": {},
   "source": [
    "### 상대경로와 절대경로\n",
    "- 상대경로 - \"./\" 작업경로부터 시작, 유동적\n",
    "- 절대경로 - \"C:\\\"나 리눅스 root부터 시작"
   ]
  },
  {
   "cell_type": "code",
   "execution_count": 1,
   "id": "59d21c9f",
   "metadata": {},
   "outputs": [],
   "source": [
    "import os"
   ]
  },
  {
   "cell_type": "code",
   "execution_count": 2,
   "id": "0ce0b046",
   "metadata": {},
   "outputs": [],
   "source": [
    "horse_dir = \"./horse_or_human/horses/\""
   ]
  },
  {
   "cell_type": "code",
   "execution_count": 3,
   "id": "78667670",
   "metadata": {},
   "outputs": [],
   "source": [
    "horse_names = os.listdir(horse_dir)"
   ]
  },
  {
   "cell_type": "code",
   "execution_count": 4,
   "id": "dc649299",
   "metadata": {},
   "outputs": [],
   "source": [
    "horse_pix = [os.path.join(horse_dir, fname) for fname in horse_names]"
   ]
  },
  {
   "cell_type": "code",
   "execution_count": 5,
   "id": "4f770395",
   "metadata": {},
   "outputs": [],
   "source": [
    "from sklearn.model_selection import train_test_split"
   ]
  },
  {
   "cell_type": "code",
   "execution_count": 6,
   "id": "581287a9",
   "metadata": {},
   "outputs": [],
   "source": [
    "x_train, x_test = train_test_split(horse_pix, test_size = 0.2)"
   ]
  },
  {
   "cell_type": "code",
   "execution_count": 7,
   "id": "cc392363",
   "metadata": {},
   "outputs": [
    {
     "name": "stdout",
     "output_type": "stream",
     "text": [
      "500\n",
      "400 100\n"
     ]
    }
   ],
   "source": [
    "print(len(os.listdir(horse_dir)))\n",
    "print(len(x_train), len(x_test))"
   ]
  }
 ],
 "metadata": {
  "kernelspec": {
   "display_name": "Python 3",
   "language": "python",
   "name": "python3"
  },
  "language_info": {
   "codemirror_mode": {
    "name": "ipython",
    "version": 3
   },
   "file_extension": ".py",
   "mimetype": "text/x-python",
   "name": "python",
   "nbconvert_exporter": "python",
   "pygments_lexer": "ipython3",
   "version": "3.8.8"
  }
 },
 "nbformat": 4,
 "nbformat_minor": 5
}
