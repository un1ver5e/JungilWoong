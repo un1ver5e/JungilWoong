{
 "cells": [
  {
   "cell_type": "code",
   "execution_count": null,
   "id": "afcf2302",
   "metadata": {},
   "outputs": [],
   "source": [
    "# 키보드로부터 입력을 받아 해당 문자열을 출력하고 길이를 구하세요\n",
    "input_str = input(\"문자 입력\")\n",
    "\n",
    "print(\"입력받은 문자 :\", input_str)\n",
    "print(\"입력받은 문자열의 길이는 : \", len(input_str))"
   ]
  },
  {
   "cell_type": "code",
   "execution_count": null,
   "id": "b5831e24",
   "metadata": {},
   "outputs": [],
   "source": [
    "\"문자 입력\".format()"
   ]
  },
  {
   "cell_type": "code",
   "execution_count": null,
   "id": "1f88227c",
   "metadata": {},
   "outputs": [],
   "source": [
    "# format : {}에 값을 대입함\n",
    "print(\"{}\".format(10))   # 10\n",
    "print(\"{} {} {}\".format(10,'test',20))\n",
    "\n",
    "print(\"입력받은 문자:{}, 문자열의 길이는:{}\".format(input_str,len(input_str)))"
   ]
  },
  {
   "cell_type": "code",
   "execution_count": 2,
   "id": "0c18fd57",
   "metadata": {},
   "outputs": [
    {
     "name": "stdout",
     "output_type": "stream",
     "text": [
      "52\n",
      "   52\n",
      "  -52\n",
      "00052\n",
      "-0052\n"
     ]
    }
   ],
   "source": [
    "# 정수 자릿수 지정하기  {:d}  \n",
    "num_1 = 52\n",
    "print(\"{:d}\".format(num_1))      # 52\n",
    "print(\"{:5d}\".format(num_1))     #    52\n",
    "print(\"{:5d}\".format(num_1*-1))  #    -52\n",
    "print(\"{:05d}\".format(num_1))    # 00052\n",
    "print(\"{:05d}\".format(num_1*-1)) # -0052"
   ]
  },
  {
   "cell_type": "code",
   "execution_count": null,
   "id": "f77ad2a3",
   "metadata": {},
   "outputs": [],
   "source": [
    "# 부호 붙이기\n",
    "print(\"{:+d}\".format(num_1))       # +52\n",
    "print(\"{:+d}\".format(num_1 * -1))  # -52\n",
    "print(\"{: d}\".format(num_1))       #  52 양수는 부호 안붙임\n",
    "print(\"{: d}\".format(num_1 * -1))  # -52  음수는 부호 붙임"
   ]
  },
  {
   "cell_type": "code",
   "execution_count": 3,
   "id": "037d57ea",
   "metadata": {},
   "outputs": [
    {
     "name": "stdout",
     "output_type": "stream",
     "text": [
      "  +52\n",
      "  -52\n",
      "+  52\n",
      "-  52\n",
      "+0052\n",
      "-0052\n"
     ]
    }
   ],
   "source": [
    "# 조합하기\n",
    "print(\"{:+5d}\".format(num_1))       #    +52\n",
    "print(\"{:+5d}\".format(num_1 * -1))  #    -52\n",
    "print(\"{:=+5d}\".format(num_1))        # +  52\n",
    "print(\"{:=+5d}\".format(num_1 * -1))   # -  52\n",
    "print(\"{:=+05d}\".format(num_1))       # +0052\n",
    "print(\"{:=+05d}\".format(num_1 * -1))  # -0052"
   ]
  },
  {
   "cell_type": "code",
   "execution_count": 4,
   "id": "2d56b943",
   "metadata": {},
   "outputs": [
    {
     "name": "stdout",
     "output_type": "stream",
     "text": [
      "52.273000\n",
      "      52.273000\n",
      "     +52.273000\n",
      "+0000052.273000\n",
      "         52.273\n",
      "10\n"
     ]
    }
   ],
   "source": [
    "# 부동 소수점 출력  {:f}\n",
    "num_f = 52.273\n",
    "print(\"{:f}\".format(num_f))   # 52.273000\n",
    "print(\"{:15f}\".format(num_f)) #     52.273000  전체 표현하는 자리수가 15자리\n",
    "print(\"{:+15f}\".format(num_f))\n",
    "print(\"{:+015f}\".format(num_f))\n",
    "\n",
    "#소숫점 미만 표현 자리수 지정\n",
    "print(\"{:15.3f}\".format(num_f))   # 전체 표현 자리수는 15, 소숫점 미만 3자리\n",
    "\n",
    "# 의미없는 소수점 제거하기\n",
    "print(\"{:g}\".format(10.0))    # 10을 출력"
   ]
  },
  {
   "cell_type": "code",
   "execution_count": 21,
   "id": "8e2b8348",
   "metadata": {},
   "outputs": [
    {
     "name": "stdout",
     "output_type": "stream",
     "text": [
      "  HELLO WORLD !!   \n",
      "  hello world !!   \n",
      "/ Hello World !! /\n",
      "/ Hello World !!    /\n",
      "/   Hello World !! /\n"
     ]
    },
    {
     "data": {
      "text/plain": [
       "'hello world !!'"
      ]
     },
     "execution_count": 21,
     "metadata": {},
     "output_type": "execute_result"
    }
   ],
   "source": [
    "# upper(), lower(),  strip() :공백 제거 => 문자열.함수명()   \n",
    "str_a = '  Hello World !!   '\n",
    "print(str_a.upper())    # 대문자로\n",
    "print(str_a.lower())    # 소문자로\n",
    "print('/',str_a.strip(),'/')    # 양쪽 공백제거\n",
    "print('/',str_a.lstrip(),'/')    # 왼쪽 공백제거\n",
    "print('/',str_a.rstrip(),'/')    # 오른쪽 공백제거\n",
    "\n",
    "# 소문자로 바꿔서 공백 제거\n",
    "str_a.strip().lower()"
   ]
  },
  {
   "cell_type": "code",
   "execution_count": 33,
   "id": "5f917e4b",
   "metadata": {},
   "outputs": [
    {
     "name": "stdout",
     "output_type": "stream",
     "text": [
      "True\n",
      "True\n",
      "False\n"
     ]
    }
   ],
   "source": [
    "# 문자열 구성 파악하기  isOO()  => True or False\n",
    "print(\"Translate\".isalnum())   #  True\n",
    "print(\"10\".isdigit())          # True\n",
    "\n",
    "print(\"3 im A port\".isidentifier())"
   ]
  },
  {
   "cell_type": "code",
   "execution_count": 35,
   "id": "aa76ec0f",
   "metadata": {},
   "outputs": [
    {
     "name": "stdout",
     "output_type": "stream",
     "text": [
      "시작위치 :5, 마지막위치 :10, hello\n",
      "hello python\n"
     ]
    }
   ],
   "source": [
    "# find(), rfind() : 찾고자 하는 문자열의 위치(index) 반환\n",
    "input_str = \"abcd hellohello python\"  # 처음 나오는 hello를 추출해서 출력\n",
    "start_p = input_str.find(\"hello\")  # 처음 hello가 나오는 index 반환\n",
    "end_p = input_str.rfind(\"hello\")   # 뒤에서 부터 검색해서 처음 나오는 index\n",
    "\n",
    "print(\"시작위치 :{}, 마지막위치 :{}, {}\".format(start_p, end_p, \n",
    "                                       input_str[start_p : end_p]))\n",
    "\n",
    "# 마지막 위치의 hello부터 뒤에 있는 문자 모두 출력\n",
    "print(input_str[end_p:])"
   ]
  },
  {
   "cell_type": "code",
   "execution_count": 38,
   "id": "e566e8b4",
   "metadata": {},
   "outputs": [
    {
     "name": "stdout",
     "output_type": "stream",
     "text": [
      "문자열 입력 >test abcd\n",
      "test abcd\n",
      "\n",
      "test\n"
     ]
    }
   ],
   "source": [
    "# 키보드에서 공백 포함해서 문자열을 입력 받아 \n",
    "#  처음 공백 나오는 위치까지의 문자만 출력  abcd test => abcd만 출력\n",
    "input_str = input('문자열 입력 >')\n",
    "\n",
    "print(input_str); print()\n",
    "print(input_str[ : input_str.find(' ')])\n",
    "\n",
    "# 함수명()  : len(), print(), type()\n",
    "# 오브젝트.함수명()  -> 클래스 ( 멤버변수, 메서드 (함수)) => str.upper(), ...\n",
    "#                       str.format()"
   ]
  },
  {
   "cell_type": "code",
   "execution_count": 49,
   "id": "409552f6",
   "metadata": {},
   "outputs": [
    {
     "name": "stdout",
     "output_type": "stream",
     "text": [
      "['10', '20', '30', '40', 'test', 'abcd']\n",
      "['10', '20 30', '40', 'test', 'abcd']\n"
     ]
    },
    {
     "data": {
      "text/plain": [
       "True"
      ]
     },
     "execution_count": 49,
     "metadata": {},
     "output_type": "execute_result"
    }
   ],
   "source": [
    "#  문자열 자르기  문자열.split()  => list로 반환\n",
    "a_str = \"10 20 30 40 test abcd\"\n",
    "print(a_str.split())\n",
    "b_str = \"10,20 30,40,test,abcd\"\n",
    "print(b_str.split(','))\n",
    "\n",
    "( ',' in \"10,20 30,40,test,abcd\")  # True or False"
   ]
  },
  {
   "cell_type": "code",
   "execution_count": 44,
   "id": "52ff22dd",
   "metadata": {},
   "outputs": [
    {
     "name": "stdout",
     "output_type": "stream",
     "text": [
      "['10', '20', '30', '40', 'test', 'abcd']\n",
      "['10', '20 30', '40', 'test', 'abcd']\n",
      " input data >abcd test tewetw fdwafe\n",
      "abcd test tewetw fdwafe \t 2번째 입력 자료 : ['test', 'tewetw', 'fdwafe']\n"
     ]
    }
   ],
   "source": [
    "# 키보드로부터 데이터를 입력받아 공백으로 데이터를 분리하고 \n",
    "# 2번째 입력된 자료를 출력하세요\n",
    "# abcd test c 10 30   => test를 출력\n",
    "input_str = input(\" input data >\")\n",
    "input_split = input_str.split(' ')\n",
    "print(input_str, '\\t 2번째 입력 자료 :', input_split[1: ])"
   ]
  },
  {
   "cell_type": "code",
   "execution_count": 45,
   "id": "bf4308e9",
   "metadata": {},
   "outputs": [
    {
     "name": "stdout",
     "output_type": "stream",
     "text": [
      "False\n",
      "True\n",
      "True\n",
      "False\n",
      "True\n",
      "False\n",
      "True\n",
      "False\n",
      "False\n",
      "False\n",
      "True\n",
      "True\n",
      "True\n",
      "False\n",
      "True\n"
     ]
    }
   ],
   "source": [
    "# and, or , not , ==, !=, >, <, <=, >=\n",
    "a = 10; b = 20\n",
    "print(a==b)   # False\n",
    "print(a!=b)   # True\n",
    "print(a < b)   # True\n",
    "print(a > b)   # False\n",
    "print(a <=b)   # True\n",
    "print(a >= b)   # False\n",
    "print(a ==10 and b==20)  # True\n",
    "print(a !=10 and b==20)  # False\n",
    "print(a ==10 and b !=20)  # False\n",
    "print(a != 10 and b !=20) # False\n",
    "print(a ==10 or b==20)  # True\n",
    "print(a !=10 or b==20)  # True\n",
    "print(a ==10 or  b!=20)  # True\n",
    "print(a != 10 or b!=20) # False\n",
    "print(not ( a != 10 or b!=20)) # True"
   ]
  },
  {
   "cell_type": "markdown",
   "id": "1ad2f862",
   "metadata": {},
   "source": [
    "### 문자열 관련 함수\n",
    "#### format(), upper(), lower(), split(), strip(), find(), rfind(), isOO()\n",
    "#### 문자열 연산자 : in => '문자' in '문자열'"
   ]
  },
  {
   "cell_type": "code",
   "execution_count": null,
   "id": "f3197588",
   "metadata": {},
   "outputs": [],
   "source": [
    "# if 조건식: \n",
    "#    들여쓰기 \n",
    "if True:\n",
    "    print(\"if 문장 실행\")   #  실행 됨\n",
    "    \n",
    "if False:\n",
    "    print(\"if False 실행\")   # 실행되지 않음"
   ]
  },
  {
   "cell_type": "code",
   "execution_count": 73,
   "id": "77961379",
   "metadata": {},
   "outputs": [
    {
     "name": "stdout",
     "output_type": "stream",
     "text": [
      "정수 입력 >abcd\n",
      "숫자가 아닙니다\n"
     ]
    }
   ],
   "source": [
    "# 정수를 입력받아 10보다 작으면 입력된 값 출력\n",
    "# 1. 정수 입력 받음\n",
    "# 2. 숫자인지 확인  isdecimal()\n",
    "# 3. 숫자이면 문자를 숫자로 변경\n",
    "# 4. 10보다 작으면 출력\n",
    "input_num = input(\"정수 입력 >\")\n",
    "\n",
    "if not input_num.isdecimal(): \n",
    "    print('숫자가 아닙니다')\n",
    "    \n",
    "if input_num.isdecimal():            # 입력된 자료(문자열)가 숫자인지 확인\n",
    "    input_num = int(input_num)       # 입력된 자료를 int로 데이터 타입 변경\n",
    "    if input_num < 10:               # 입력된 숫자가 10보다 작으면\n",
    "        print(\"input_num : {:+5d}\".format(input_num))\n",
    "    if input_num >=10 :\n",
    "        print('10보다 크거나 같습니다') "
   ]
  },
  {
   "cell_type": "code",
   "execution_count": null,
   "id": "916cc7cf",
   "metadata": {},
   "outputs": [],
   "source": [
    "# 숫자를 입력받아 실수로 변환한 후 \n",
    "# 0보다 크면 '양수', 0보다 작으면 '음수', 0면 'zero'를 출력 하세요\n",
    "input_num = float(input(\"실수 입력 >\"))\n",
    "\n",
    "if input_num > 0 :\n",
    "    print(\"양수\")\n",
    "if input_num < 0 :\n",
    "    print(\"음수\")\n",
    "if not input_num :   # 숫자인 경우 0이면 False , 문자: None인경우 False\n",
    "    print(\"Zero\")\n",
    "a = ''\n",
    "if not a:\n",
    "    print(\"a는 False\")"
   ]
  },
  {
   "cell_type": "code",
   "execution_count": null,
   "id": "32459941",
   "metadata": {},
   "outputs": [],
   "source": [
    "# 날짜 시간 관련 함수를 사용하기 위해서 datetime 모듈 가져오기\n",
    "import datetime"
   ]
  },
  {
   "cell_type": "code",
   "execution_count": 75,
   "id": "f2739ad3",
   "metadata": {},
   "outputs": [
    {
     "name": "stdout",
     "output_type": "stream",
     "text": [
      "2021년 10월 29일 14시 8분 2초\n"
     ]
    }
   ],
   "source": [
    "now = datetime.datetime.now()\n",
    "\n",
    "print(\"{}년 {}월 {}일 {}시 {}분 {}초\".format(\n",
    "    now.year, now.month, now.day, now.hour, now.minute, now.second))"
   ]
  },
  {
   "cell_type": "code",
   "execution_count": 80,
   "id": "c10608a1",
   "metadata": {},
   "outputs": [
    {
     "name": "stdout",
     "output_type": "stream",
     "text": [
      "정수 입력 >4567\n",
      "홀수입니다\n",
      "홀수입니다\n",
      "홀수입니다\n"
     ]
    }
   ],
   "source": [
    "# 정수 입력 받아 짝수인지 확인  마지막 입력된 숫자가 0, 2, 4, 6, 8\n",
    "input_num = input(\"정수 입력 >\")\n",
    "last_char = input_num[-1]   # 마지막 글자 가져 옴\n",
    "last_num = int(last_char)   # 정수형으로 데이터 타입 변경\n",
    "if last_num ==0 or last_num ==2 or last_num ==4 \\\n",
    "   or last_num ==6 or last_num == 8:\n",
    "    print(\"짝수입니다\")\n",
    "if last_num ==1 or last_num ==3 or last_num ==5 \\\n",
    "   or last_num ==7 or last_num == 9:\n",
    "    print(\"홀수입니다\")\n",
    "    \n",
    "# int로 형 변환후 2로 나눈 나머지값이 0면 짝수 1이면 홀수\n",
    "input_num1 = int(input_num)\n",
    "if not input_num1 % 2:\n",
    "    print(\"짝수입니다\")\n",
    "if input_num1 % 2:\n",
    "    print(\"홀수입니다\")\n",
    "\n",
    "# in 연산자를 활용하여 처리\n",
    "if last_char in \"02468\":\n",
    "    print(\"짝수입니다\")\n",
    "if last_char in \"13579\":\n",
    "    print(\"홀수입니다\")"
   ]
  },
  {
   "cell_type": "code",
   "execution_count": 82,
   "id": "9215e59b",
   "metadata": {},
   "outputs": [
    {
     "name": "stdout",
     "output_type": "stream",
     "text": [
      "두 개의 정수 입력 > 46 57\n",
      "입력된 숫자는 46와 57입니다\n",
      "46는 3의 배수가 아닙니다\n",
      "57는 3의 배수입니다\n"
     ]
    }
   ],
   "source": [
    "# 1. 한번에 두 개의 숫자를 입력받아 작은수 부터 출력\n",
    "# 2. 작은 수와 큰 수가 각각에 대하여\n",
    "# 3의 배수이면 , '3의 배수', 아니면 '3의 배수가 아닙니다'\n",
    "# 57 34 입력 -> 입력된 숫자는 34와 57입니다\n",
    "# 34는 3의 배수가 아닙니다. 57은 3의 배수입니다\n",
    "input_number = input(\"두 개의 정수 입력 > \")\n",
    "#input_number = input_number.split()\n",
    "number_1 = int(input_number.split()[0]) # 처음 입력된 숫자\n",
    "number_2 = int(input_number.split()[1]) # 두번째 입력된 숫자\n",
    "\n",
    "if number_1 < number_2:\n",
    "    print(\"입력된 숫자는 {}와 {}입니다\".format(number_1, number_2))\n",
    "if number_1 >= number_2:\n",
    "    print(\"입력된 숫자는 {}와 {}입니다\".format(number_2,  number_1))\n",
    "if number_1 % 3:\n",
    "    print(\"{}는 3의 배수가 아닙니다\".format(number_1))\n",
    "if number_1 % 3 ==0 :\n",
    "    print(\"{}는 3의 배수입니다\".format(number_1));\n",
    "    \n",
    "if number_2 % 3:\n",
    "    print(\"{}는 3의 배수가 아닙니다\".format(number_2))\n",
    "if number_2 % 3 ==0 :\n",
    "    print(\"{}는 3의 배수입니다\".format(number_2));"
   ]
  },
  {
   "cell_type": "code",
   "execution_count": 83,
   "id": "02543344",
   "metadata": {},
   "outputs": [
    {
     "name": "stdout",
     "output_type": "stream",
     "text": [
      "입력된 숫자는 46와 57입니다\n",
      "46는 3의 배수가 아닙니다\n",
      "57는 3의 배수입니다\n"
     ]
    }
   ],
   "source": [
    "# if 조건식: 처리문  else: 처리문\n",
    "if number_1 < number_2:\n",
    "    print(\"입력된 숫자는 {}와 {}입니다\".format(number_1, number_2))\n",
    "else:\n",
    "    print(\"입력된 숫자는 {}와 {}입니다\".format(number_2,  number_1))\n",
    "if number_1 % 3:\n",
    "    print(\"{}는 3의 배수가 아닙니다\".format(number_1))\n",
    "else:\n",
    "    print(\"{}는 3의 배수입니다\".format(number_1));\n",
    "    \n",
    "if number_2 % 3:\n",
    "    print(\"{}는 3의 배수가 아닙니다\".format(number_2))\n",
    "else:\n",
    "    print(\"{}는 3의 배수입니다\".format(number_2));"
   ]
  },
  {
   "cell_type": "code",
   "execution_count": null,
   "id": "17b0a996",
   "metadata": {},
   "outputs": [],
   "source": [
    "# 다른 방법\n",
    "input_number = input(\"두 개의 정수 입력 > \")\n",
    "\n",
    "number_1 = int(input_number.split()[0]) # 처음 입력된 숫자\n",
    "number_2 = int(input_number.split()[1]) # 두번째 입력된 숫자\n",
    "\n",
    "if number_1 < number_2:\n",
    "    a = number_1\n",
    "    b = number_2\n",
    "if number_1 >= number_2:\n",
    "    a = number_2\n",
    "    b = number_1 \n",
    "print(\"입력된 숫자는 {}와 {}입니다\".format(a,b))\n",
    "\n",
    "if a % 3:\n",
    "    if b % 3:\n",
    "        print(\"{}와 {}는 3의 배수가 아닙니다\".format(a,b))\n",
    "    if b % 3 == 0:\n",
    "        print(\"{}는 3의 배수가 아니고 {}는 3의 배수 입니다\".format(a,b))\n",
    "if a % 3 ==0 :\n",
    "    if b % 3:\n",
    "        print(\"{}는 3의 배수이고, {}는 3의 배수가 아닙니다\".format(a,b))\n",
    "    if b % 3 == 0:\n",
    "        print(\"{}와 {}는 3의 배수 입니다\".format(a,b))"
   ]
  },
  {
   "cell_type": "code",
   "execution_count": 85,
   "id": "4fce5012",
   "metadata": {},
   "outputs": [
    {
     "name": "stdout",
     "output_type": "stream",
     "text": [
      "점수 입력 >100\n",
      "A\n"
     ]
    }
   ],
   "source": [
    "# 정수를 입력받아 90이상이면 'A', 80이상이면 'B', 70이상이면 'C', 그외 'D'\n",
    "# if , if ~ else,  if ~ elif ~ elif ~ ... else\n",
    "input_number = int(input(\"점수 입력 >\"))\n",
    "\n",
    "if input_number >= 90:\n",
    "    print('A')\n",
    "elif input_number >= 80:\n",
    "    print('B')\n",
    "elif input_number >=70:\n",
    "    print('C')\n",
    "else:\n",
    "    print('D')"
   ]
  },
  {
   "cell_type": "code",
   "execution_count": 101,
   "id": "abd9e34e",
   "metadata": {},
   "outputs": [
    {
     "name": "stdout",
     "output_type": "stream",
     "text": [
      "겨울\n"
     ]
    },
    {
     "data": {
      "text/plain": [
       "datetime.date(2021, 10, 29)"
      ]
     },
     "execution_count": 101,
     "metadata": {},
     "output_type": "execute_result"
    }
   ],
   "source": [
    "# 날짜 함수에서 월을 추출해서 현재 월이 봄인지, 가을인지 출력\n",
    "# 1~3월은 봄 4 ~6월은 여름  7~9월은 가을 10~12월은 겨울 이라고 출력 \n",
    "# if ~ elif ~... else\n",
    "import datetime\n",
    "\n",
    "#now = datetime.datetime.now()\n",
    "now = datetime.date.today()  #  년 월 일\n",
    "\n",
    "if 1 <= now.month <=3:\n",
    "    print('봄')\n",
    "elif 4 <= now.month <=6:\n",
    "    #print('여름')\n",
    "    pass\n",
    "elif 7 <= now.month <=9:\n",
    "    #print('가을')\n",
    "    raise NotImplementedError\n",
    "else:\n",
    "    print('겨울')\n",
    "now"
   ]
  },
  {
   "cell_type": "code",
   "execution_count": 110,
   "id": "9a181957",
   "metadata": {},
   "outputs": [
    {
     "name": "stdout",
     "output_type": "stream",
     "text": [
      "계산할 식 입력 ( 형식: 10 + 20 )>10 / 0\n",
      "0 이외의 수를 입력 하세요\n"
     ]
    }
   ],
   "source": [
    "# 숫자 부호 숫자를 입력받아 계산하는 프로그램 작성\n",
    "# 10 + 20 , 10 - 20  , 부호는 +, -, *, / 를 입력하세요\n",
    "# 10 + 20 = 30 이러한 형식으로 출력\n",
    "input_str = input(\"계산할 식 입력 ( 형식: 10 + 20 )>\")\n",
    "number_1 = int(input_str.split()[0])\n",
    "buho = input_str.split()[1]\n",
    "number_2 = int(input_str.split()[2])\n",
    "\n",
    "if buho == '+':\n",
    "    result = number_1 + number_2\n",
    "elif buho == '-':\n",
    "    result = number_1 - number_2\n",
    "elif buho == '*':\n",
    "    result = number_1 * number_2\n",
    "elif buho == '/':\n",
    "    if number_2:\n",
    "        result = number_1 / number_2           \n",
    "    else:\n",
    "        print(\"0 이외의 수를 입력 하세요\")\n",
    "else:\n",
    "    print(\"부호는 +, -, *, / 만 가능합니다\")\n",
    "    \n",
    "if not (buho == '/' and number_2 ==0 ) and buho in '+-*/':\n",
    "    print(\"{} {} {} = {}\".format(number_1, buho, number_2, result))"
   ]
  },
  {
   "cell_type": "code",
   "execution_count": 116,
   "id": "c9a9cff3",
   "metadata": {},
   "outputs": [
    {
     "name": "stdout",
     "output_type": "stream",
     "text": [
      "a_list + b_list : [1, 2, 3, 'a', 'b', 'c']\n",
      "a_list * 3 : [1, 2, 3, 1, 2, 3, 1, 2, 3]\n",
      "a_list갯수 :3, b_list갯수:3, c_list갯수:6\n",
      "[1, 2, 3, ['a', 'b', 'c']]\n",
      "a\n"
     ]
    },
    {
     "data": {
      "text/plain": [
       "[1, [1, 2, 3, 'a', 'b', 'c'], 2, 3, ['a', 'b', 'c']]"
      ]
     },
     "execution_count": 116,
     "metadata": {},
     "output_type": "execute_result"
    }
   ],
   "source": [
    "# list 여러개의 데이터 집합  변수명 = [ , , ... , ] \n",
    "# +, *, len()  리스트의 갯수\n",
    "# list.append(요소), list.insert(위치, 요소), list.extend(리스트) 리스트 연결\n",
    "a_list = [1,2,3]\n",
    "b_list = ['a','b','c']\n",
    "print(\"a_list + b_list :\", a_list + b_list)\n",
    "print(\"a_list * 3 :\", a_list * 3 ) # a_list를 3번 반복\n",
    "c_list = a_list + b_list\n",
    "print(\"a_list갯수 :{}, b_list갯수:{}, c_list갯수:{}\".format(len(a_list),\n",
    "                                                     len(b_list), \n",
    "                                                     len(c_list)))\n",
    "a_list.append(b_list)  # 마지막 위치에 b_list 추가\n",
    "print(a_list)\n",
    "# a_list의 'a'를 출력\n",
    "print(a_list[3][0])\n",
    "\n",
    "a_list.insert(1,c_list)  # a_list의 1 인덱스 위치에 c_list 추가\n",
    "a_list"
   ]
  },
  {
   "cell_type": "code",
   "execution_count": 123,
   "id": "efdc3c29",
   "metadata": {},
   "outputs": [
    {
     "name": "stdout",
     "output_type": "stream",
     "text": [
      "[1, 2, 3, 'test', 'abcd'] \t ['test', 'abcd']\n",
      "[1, 2, 3, 'test', 'abcd', ['test', 'abcd']] \t ['test', 'abcd']\n",
      "abcd\n",
      "['name', 'test', 'abcd']\n",
      "a :  [1, 'change', 3, 'test', 'abcd', ['name', 'test', 'abcd']] \n",
      " b :  ['name', 'test', 'abcd']\n"
     ]
    }
   ],
   "source": [
    "# a_list = [ 1, 2, 3],  b_list = [\"test\", \"abcd\"]\n",
    "a_list = [ 1, 2, 3]\n",
    "b_list = [\"test\", \"abcd\"]\n",
    "# a_list에 b_list를 '+'와 같은 개념으로 추가하세요\n",
    "a_list.extend(b_list)\n",
    "print(a_list, \"\\t\",b_list)\n",
    "# a_list에 b_list를 append로 추가하세요\n",
    "a_list.append(b_list)\n",
    "print(a_list, \"\\t\",b_list)\n",
    "# 추가된 a_list에서 \"abcd\" 를 출력 하세요 -> index 를 이용하여\n",
    "print(a_list[-1][-1])\n",
    "# b_list에서 \"test\" 앞에 \"name\"을 추가 하세요\n",
    "b_list.insert(0,'name')\n",
    "print(b_list)\n",
    "# a_list의 두번째 요소를 'change'로 변경하세요\n",
    "a_list[1] ='change'\n",
    "# a_list와 b_list를 출력해 보세요\n",
    "print(\"a : \", a_list,\"\\n\",\"b : \", b_list)\n"
   ]
  },
  {
   "cell_type": "code",
   "execution_count": null,
   "id": "a549cbd1",
   "metadata": {},
   "outputs": [],
   "source": [
    "대입연산자 \n",
    "a = 10  좌측 변수에 우측의 값을 입력 \n",
    "비교연산자 \n",
    " a == b a와 b의 값을 비교 True or False 반환\n",
    "\n",
    "문자 또는 문자열 \n",
    "a = '10 test'  => a[0]:1, a[1]:0, a[-1]:t, a[3:5] :te (3위치는 포함, \n",
    "                                                        5는 포함않음)\n",
    "num = 10 숫자 \n",
    "\n",
    "리스트 [ ]\n",
    "a_list = [1,2,'test',[1,'a','b']]\n",
    "a_list[0] : 1,  a_list[-1]: [1,'a','b'],  a_list[-1][1]:'a'        \n",
    "a_list[2:4] : ['test', [1,'a','b']]\n",
    "\n",
    "a_list.append(요소), a_list.insert(위치, 요소)\n",
    "a_list[1] = 'abcd' :1 의 값이 'abcd'로 변경 됨\n",
    "a_list.extend(리스트)\n",
    "\n",
    "\n",
    "\n",
    "\n",
    "\n",
    "\n",
    "\n",
    "\n",
    "\n",
    "\n",
    "\n",
    "\n",
    "\n",
    "\n",
    "\n",
    "\n",
    "\n",
    "\n",
    "\n",
    "\n"
   ]
  }
 ],
 "metadata": {
  "kernelspec": {
   "display_name": "Python 3",
   "language": "python",
   "name": "python3"
  },
  "language_info": {
   "codemirror_mode": {
    "name": "ipython",
    "version": 3
   },
   "file_extension": ".py",
   "mimetype": "text/x-python",
   "name": "python",
   "nbconvert_exporter": "python",
   "pygments_lexer": "ipython3",
   "version": "3.8.8"
  }
 },
 "nbformat": 4,
 "nbformat_minor": 5
}
