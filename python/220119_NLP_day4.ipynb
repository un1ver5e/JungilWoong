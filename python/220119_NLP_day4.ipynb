{
 "cells": [
  {
   "cell_type": "markdown",
   "metadata": {
    "id": "uOs6i2bumCqb"
   },
   "source": [
    "# 사전에 없는 단어의 문제"
   ]
  },
  {
   "cell_type": "markdown",
   "metadata": {
    "id": "RjuDiCv6mGDl"
   },
   "source": [
    "```\n",
    "코로나바이러스는 2019년 12월 중국 우한에서 처음 발생한 뒤\n",
    "전 세계로 확산된, 새로운 유형의 호흡기 감염 질환입니다.\n",
    "\n",
    "→\n",
    "\n",
    "<unk>는 2019년 12월 중국 <unk>에서 처음 발생한 뒤\n",
    "전 세계로 확산된, 새로운 유형의 호흡기 감염 질환입니다.\n",
    "```"
   ]
  },
  {
   "cell_type": "markdown",
   "metadata": {
    "id": "yt0ShUhGmIPa"
   },
   "source": [
    " 만약 위 문장을 영문으로 번역해야 한다면 어떨까요? 핵심인 단어 `코로나바이러스`와 `우한`을 모른다면 제대로 해낼 수 있을 리가 없습니다. 이를 **OOV(Out-Of-Vocabulary)** 문제라고 합니다. 이처럼 **새로 등장한(본 적 없는) 단어에 대해 약한 모습**을 보일 수밖에 없는 기법들이기에, 이를 해결하고자 하는 시도들이 있었습니다. 그리고 그것이 우리가 다음 스텝에서 배울, ***Wordpiece Model***이죠!"
   ]
  },
  {
   "cell_type": "markdown",
   "metadata": {
    "id": "MW9An0LLmRRL"
   },
   "source": [
    "*Wordpiece Model(WPM)* 은 우리가 접한 적이 있는 아이디어를 기반으로 만들어졌습니다. 두 단어 `preview`와 `predict`를 보면 접두어인 `pre`가 공통되고 있죠? `pre`가 들어간 단어는 주로 **\"미리\", \"이전의\"** 와 연계되는 의미를 가지고 있습니다. 컴퓨터도 두 단어를 따로 볼 게 아니라 `pre+view`와 `pre+dict`로 본다면 학습을 더 잘 할 수 있지 않을까요?\n",
    "\n",
    "이처럼 한 단어를 여러 개의 Subword의 집합으로 보는 방법이 WPM입니다. WPM의 원리를 알기 전, 먼저 알아야 할 것이 바로 **Byte Pair Encoding(BPE)** 입니다.\n",
    "\n",
    "# Byte Pair Encoding(BPE)\n",
    "\n",
    "---\n",
    "\n",
    "BPE 알고리즘이 고안된 것은 1994년입니다. 그때는 자연어 처리에 적용하기 위해서가 아니라 데이터 압축을 위해서 생겨났었죠. 데이터에서 **가장 많이 등장하는 바이트 쌍(Byte Pair)** 을 새로운 단어로 치환하여 압축하는 작업을 반복하는 방식으로 동작합니다. 예시는 아래와 같습니다.\n",
    "\n",
    "```\n",
    "aaabdaaabac # 가장 많이 등장한 바이트 쌍 \"aa\"를 \"Z\"로 치환합니다.\n",
    "→ \n",
    "ZabdZabac   # \"aa\" 총 두 개가 치환되어 4바이트를 2바이트로 압축하였습니다.\n",
    "Z=aa        # 그다음 많이 등장한 바이트 쌍 \"ab\"를 \"Y\"로 치환합니다.\n",
    "→ \n",
    "ZYdZYac     # \"ab\" 총 두 개가 치환되어 4바이트를 2바이트로 압축하였습니다.\n",
    "Z=aa        # 여기서 작업을 멈추어도 되지만, 치환된 바이트에 대해서도 진행한다면\n",
    "Y=ab        # 가장 많이 등장한 바이트 쌍 \"ZY\"를 \"X\"로 치환합니다.\n",
    "→ \n",
    "XdXac\n",
    "Z=aa\n",
    "Y=ab\n",
    "X=ZY       # 압축이 완료되었습니다!\n",
    "```\n",
    "\n",
    "아주 직관적인 알고리즘이죠? 이를 토큰화에 적용하자고 제안한 것은 2015년이었습니다. 모든 단어를 문자(바이트)들의 집합으로 취급하여 자주 등장하는 문자 쌍을 합치면, 접두어나 접미어의  의미를 캐치할 수 있고, 처음 등장하는 단어는 문자(알파벳)들의 조합으로 나타내어 **OOV 문제를 완전히 해결**할 수 있다는 것이죠!\n",
    "\n",
    "비교적 최근의 기술을 소개해드리는 만큼 논문을 함께 첨부합니다.\n",
    "\n",
    "- [Neural Machine Translation of Rare Words with Subword Units](https://arxiv.org/pdf/1508.07909.pdf)\n",
    "\n",
    "위 논문은 Python 소스 코드를 함께 제공해 주어 간편하게 실습을 해 볼 수 있습니다. 논문에서 제공해 주는 예제로 동작 방식을 자세히 들여다보죠!"
   ]
  },
  {
   "cell_type": "markdown",
   "metadata": {
    "id": "0t3GA1kittxR"
   },
   "source": [
    "# n-grams\n",
    "- 유니그램(uni-gram)\n",
    "- 바이그램(bi-gram)\n",
    "- 트라이그램(tri-gram)<br>\n",
    "나는 학교에 가서 공부를 합니다."
   ]
  },
  {
   "cell_type": "code",
   "execution_count": null,
   "metadata": {
    "colab": {
     "base_uri": "https://localhost:8080/"
    },
    "id": "jBPtx0_GtsCy",
    "outputId": "aa9ba319-7d40-465a-a550-87bbf2cd2458"
   },
   "outputs": [
    {
     "name": "stdout",
     "output_type": "stream",
     "text": [
      "[['mary'], [','], [\"n't\"], ['slap'], ['green'], ['witch'], ['.']]\n",
      "[['mary', ','], [',', \"n't\"], [\"n't\", 'slap'], ['slap', 'green'], ['green', 'witch'], ['witch', '.']]\n",
      "[['mary', ',', \"n't\"], [',', \"n't\", 'slap'], [\"n't\", 'slap', 'green'], ['slap', 'green', 'witch'], ['green', 'witch', '.']]\n"
     ]
    }
   ],
   "source": [
    "def n_grams(text, n):\n",
    "  return [text[i:i+n] for i in range(len(text) - n + 1)]\n",
    "\n",
    "cleaned = [\"mary\", \",\", \"n't\", \"slap\", \"green\", \"witch\", \".\"]\n",
    "print(n_grams(cleaned, 1)) # uni-gram 1덩이씩 출력\n",
    "print(n_grams(cleaned, 2)) # bi-gram 2덩이씩 출력\n",
    "print(n_grams(cleaned, 3)) # tri-gram 3덩이씩 출력"
   ]
  },
  {
   "cell_type": "code",
   "execution_count": null,
   "metadata": {
    "colab": {
     "base_uri": "https://localhost:8080/"
    },
    "id": "aU5WX1vGxegq",
    "outputId": "b7fdb1bb-4686-4897-f627-1885c533d499"
   },
   "outputs": [
    {
     "name": "stdout",
     "output_type": "stream",
     "text": [
      "['mary', ',', \"n't\", 'slap', 'green', 'witch', '.']\n",
      "['mary', ',', \"n't\", 'slap', 'green', 'witch', '.']\n",
      "['mary', ',', \"n't\", 'slap', 'green', 'witch', '.']\n"
     ]
    }
   ],
   "source": [
    "def n_grams(text, n):\n",
    "  for i in range(len(text) - n + 1):\n",
    "    text[i : i + n]\n",
    "    return text\n",
    "\n",
    "cleaned = [\"mary\", \",\", \"n't\", \"slap\", \"green\", \"witch\", \".\"]\n",
    "print(n_grams(cleaned, 1)) # uni-gram 1덩이씩 출력\n",
    "print(n_grams(cleaned, 2)) # bi-gram 2덩이씩 출력\n",
    "print(n_grams(cleaned, 3)) # tri-gram 3덩이씩 출력"
   ]
  },
  {
   "cell_type": "markdown",
   "metadata": {
    "id": "VC1VblfWmc16"
   },
   "source": [
    "# BPE Algorithm"
   ]
  },
  {
   "cell_type": "code",
   "execution_count": null,
   "metadata": {
    "id": "4ZIB5alwl0DU"
   },
   "outputs": [],
   "source": [
    "import re, collections"
   ]
  },
  {
   "cell_type": "code",
   "execution_count": null,
   "metadata": {
    "id": "TMgYgKKkmiub"
   },
   "outputs": [],
   "source": [
    "num_merges = 10 # BPE를 몇 회 수행할 것지 정함."
   ]
  },
  {
   "cell_type": "markdown",
   "metadata": {
    "id": "26GAZmkgmn0a"
   },
   "source": [
    "```\n",
    "# BPE corpus\n",
    "corpus = \"\"\"\n",
    "low lower newest widest\n",
    "low lower newest widest\n",
    "low       newest widest\n",
    "low       newest\n",
    "low       newest\n",
    "          newest\n",
    "\"\"\"\n",
    "```"
   ]
  },
  {
   "cell_type": "code",
   "execution_count": null,
   "metadata": {
    "id": "xtFUSxZumjHj"
   },
   "outputs": [],
   "source": [
    "dictionary = {'l o w </w>' : 5,\n",
    "              'l o w e r </w>' : 2,\n",
    "              'n e w e s t </w>' : 6,\n",
    "              'w i d e s t </w>' : 3\n",
    "}"
   ]
  },
  {
   "cell_type": "code",
   "execution_count": null,
   "metadata": {
    "id": "NtPT5K2Omqi7"
   },
   "outputs": [],
   "source": [
    "def get_stats(dictionary):\n",
    "\n",
    "    \"\"\"\n",
    "    단어 사전을 불러와\n",
    "    단어는 공백 단위로 쪼개어 문자 list를 만들고\n",
    "    빈도수와 쌍을 이루게 합니다. (symbols)\n",
    "    \"\"\"\n",
    "    \n",
    "  # 유니그램의 pair들의 빈도수를 카운트\n",
    "    pairs = collections.defaultdict(int)\n",
    "    for word, freq in dictionary.items():\n",
    "        symbols = word.split()\n",
    "        for i in range(len(symbols)-1):\n",
    "            pairs[symbols[i], symbols[i+1]] += freq\n",
    "    print('현재 pair들의 빈도수 :', dict(pairs))\n",
    "    return pairs"
   ]
  },
  {
   "cell_type": "code",
   "execution_count": null,
   "metadata": {
    "id": "GLpTDPkMmsJq"
   },
   "outputs": [],
   "source": [
    "def merge_dictionary(pair, v_in):\n",
    "    v_out = {}\n",
    "    bigram = re.escape(' '.join(pair))\n",
    "    p = re.compile(r'(?<!\\S)' + bigram + r'(?!\\S)')\n",
    "    for word in v_in:\n",
    "        w_out = p.sub(''.join(pair), word)\n",
    "        v_out[w_out] = v_in[word]\n",
    "    return v_out"
   ]
  },
  {
   "cell_type": "code",
   "execution_count": null,
   "metadata": {
    "colab": {
     "base_uri": "https://localhost:8080/"
    },
    "id": "cHpuyzKGmta6",
    "outputId": "f4aacf25-0bc7-47d7-cfba-d7eeb2975d10"
   },
   "outputs": [
    {
     "name": "stdout",
     "output_type": "stream",
     "text": [
      ">> Step 1\n",
      "현재 pair들의 빈도수 : {('l', 'o'): 7, ('o', 'w'): 7, ('w', '</w>'): 5, ('w', 'e'): 8, ('e', 'r'): 2, ('r', '</w>'): 2, ('n', 'e'): 6, ('e', 'w'): 6, ('e', 's'): 9, ('s', 't'): 9, ('t', '</w>'): 9, ('w', 'i'): 3, ('i', 'd'): 3, ('d', 'e'): 3}\n",
      "new merge: ('e', 's')\n",
      "dictionary: {'l o w </w>': 5, 'l o w e r </w>': 2, 'n e w es t </w>': 6, 'w i d es t </w>': 3}\n",
      ">> Step 2\n",
      "현재 pair들의 빈도수 : {('l', 'o'): 7, ('o', 'w'): 7, ('w', '</w>'): 5, ('w', 'e'): 2, ('e', 'r'): 2, ('r', '</w>'): 2, ('n', 'e'): 6, ('e', 'w'): 6, ('w', 'es'): 6, ('es', 't'): 9, ('t', '</w>'): 9, ('w', 'i'): 3, ('i', 'd'): 3, ('d', 'es'): 3}\n",
      "new merge: ('es', 't')\n",
      "dictionary: {'l o w </w>': 5, 'l o w e r </w>': 2, 'n e w est </w>': 6, 'w i d est </w>': 3}\n",
      ">> Step 3\n",
      "현재 pair들의 빈도수 : {('l', 'o'): 7, ('o', 'w'): 7, ('w', '</w>'): 5, ('w', 'e'): 2, ('e', 'r'): 2, ('r', '</w>'): 2, ('n', 'e'): 6, ('e', 'w'): 6, ('w', 'est'): 6, ('est', '</w>'): 9, ('w', 'i'): 3, ('i', 'd'): 3, ('d', 'est'): 3}\n",
      "new merge: ('est', '</w>')\n",
      "dictionary: {'l o w </w>': 5, 'l o w e r </w>': 2, 'n e w est</w>': 6, 'w i d est</w>': 3}\n",
      ">> Step 4\n",
      "현재 pair들의 빈도수 : {('l', 'o'): 7, ('o', 'w'): 7, ('w', '</w>'): 5, ('w', 'e'): 2, ('e', 'r'): 2, ('r', '</w>'): 2, ('n', 'e'): 6, ('e', 'w'): 6, ('w', 'est</w>'): 6, ('w', 'i'): 3, ('i', 'd'): 3, ('d', 'est</w>'): 3}\n",
      "new merge: ('l', 'o')\n",
      "dictionary: {'lo w </w>': 5, 'lo w e r </w>': 2, 'n e w est</w>': 6, 'w i d est</w>': 3}\n",
      ">> Step 5\n",
      "현재 pair들의 빈도수 : {('lo', 'w'): 7, ('w', '</w>'): 5, ('w', 'e'): 2, ('e', 'r'): 2, ('r', '</w>'): 2, ('n', 'e'): 6, ('e', 'w'): 6, ('w', 'est</w>'): 6, ('w', 'i'): 3, ('i', 'd'): 3, ('d', 'est</w>'): 3}\n",
      "new merge: ('lo', 'w')\n",
      "dictionary: {'low </w>': 5, 'low e r </w>': 2, 'n e w est</w>': 6, 'w i d est</w>': 3}\n",
      ">> Step 6\n",
      "현재 pair들의 빈도수 : {('low', '</w>'): 5, ('low', 'e'): 2, ('e', 'r'): 2, ('r', '</w>'): 2, ('n', 'e'): 6, ('e', 'w'): 6, ('w', 'est</w>'): 6, ('w', 'i'): 3, ('i', 'd'): 3, ('d', 'est</w>'): 3}\n",
      "new merge: ('n', 'e')\n",
      "dictionary: {'low </w>': 5, 'low e r </w>': 2, 'ne w est</w>': 6, 'w i d est</w>': 3}\n",
      ">> Step 7\n",
      "현재 pair들의 빈도수 : {('low', '</w>'): 5, ('low', 'e'): 2, ('e', 'r'): 2, ('r', '</w>'): 2, ('ne', 'w'): 6, ('w', 'est</w>'): 6, ('w', 'i'): 3, ('i', 'd'): 3, ('d', 'est</w>'): 3}\n",
      "new merge: ('ne', 'w')\n",
      "dictionary: {'low </w>': 5, 'low e r </w>': 2, 'new est</w>': 6, 'w i d est</w>': 3}\n",
      ">> Step 8\n",
      "현재 pair들의 빈도수 : {('low', '</w>'): 5, ('low', 'e'): 2, ('e', 'r'): 2, ('r', '</w>'): 2, ('new', 'est</w>'): 6, ('w', 'i'): 3, ('i', 'd'): 3, ('d', 'est</w>'): 3}\n",
      "new merge: ('new', 'est</w>')\n",
      "dictionary: {'low </w>': 5, 'low e r </w>': 2, 'newest</w>': 6, 'w i d est</w>': 3}\n",
      ">> Step 9\n",
      "현재 pair들의 빈도수 : {('low', '</w>'): 5, ('low', 'e'): 2, ('e', 'r'): 2, ('r', '</w>'): 2, ('w', 'i'): 3, ('i', 'd'): 3, ('d', 'est</w>'): 3}\n",
      "new merge: ('low', '</w>')\n",
      "dictionary: {'low</w>': 5, 'low e r </w>': 2, 'newest</w>': 6, 'w i d est</w>': 3}\n",
      ">> Step 10\n",
      "현재 pair들의 빈도수 : {('low', 'e'): 2, ('e', 'r'): 2, ('r', '</w>'): 2, ('w', 'i'): 3, ('i', 'd'): 3, ('d', 'est</w>'): 3}\n",
      "new merge: ('w', 'i')\n",
      "dictionary: {'low</w>': 5, 'low e r </w>': 2, 'newest</w>': 6, 'wi d est</w>': 3}\n"
     ]
    }
   ],
   "source": [
    "bpe_codes = {}\n",
    "bpe_codes_reverse = {}\n",
    "for i in range(num_merges):\n",
    "    print(\">> Step {0}\".format(i+1))\n",
    "    pairs = get_stats(dictionary)\n",
    "    best = max(pairs, key=pairs.get)\n",
    "    dictionary = merge_dictionary(best, dictionary)\n",
    "\n",
    "    bpe_codes[best] = i\n",
    "    bpe_codes_reverse[best[0] + best[1]] = best\n",
    "\n",
    "    print(\"new merge: {}\".format(best))\n",
    "    print(\"dictionary: {}\".format(dictionary))"
   ]
  },
  {
   "cell_type": "code",
   "execution_count": null,
   "metadata": {
    "colab": {
     "base_uri": "https://localhost:8080/"
    },
    "id": "EsuTzbGwmwzK",
    "outputId": "e1022861-5ee7-4345-c6ed-36866686f87b"
   },
   "outputs": [
    {
     "name": "stdout",
     "output_type": "stream",
     "text": [
      "{('e', 's'): 0, ('es', 't'): 1, ('est', '</w>'): 2, ('l', 'o'): 3, ('lo', 'w'): 4, ('n', 'e'): 5, ('ne', 'w'): 6, ('new', 'est</w>'): 7, ('low', '</w>'): 8, ('w', 'i'): 9}\n"
     ]
    }
   ],
   "source": [
    "print(bpe_codes)"
   ]
  },
  {
   "cell_type": "markdown",
   "metadata": {
    "id": "XJahuB7imzoq"
   },
   "source": [
    "# OOV 대처하기"
   ]
  },
  {
   "cell_type": "markdown",
   "metadata": {
    "id": "DstgOM1mm2ky"
   },
   "source": [
    "만일 `lowest`라는 처음 보는 단어가 등장하더라도, 위 알고리즘을 따르면 어느 정도 의미가 파악된 `low`와 `est`의 결합으로 표현할 수 있습니다. 또 BPE의 놀라운 점은 아무리 큰 데이터도 원하는 크기로 OOV 문제없이 사전을 정의할 수 있다는 것입니다. 극단적으로 생각했을 때 알파벳 26개와 특수문자, 문장부호를 아무리 추가해도 100개 이내로 사전을 정의할 수 있죠.(물론 그러면 안 됩니다!!)\n",
    "\n",
    "Embedding 레이어는  **단어의 개수 x Embedding 차원 수** 의 Weight를 생성하기 때문에 단어의 개수가 줄어드는 것은 곧 메모리의 절약으로 이어집니다. 많은 데이터가 곧 정확도로 이어지기 때문에 이런 기여는 굉장히 의미가 있습니다!\n",
    "\n",
    "하지만 아직도! 완벽하다고는 할 수 없습니다. 만약 수많은 데이터를 사용해 만든 BPE 사전으로 모델을 학습시키고 문장을 생성하게 했다고 합시다. 그게 `[i, am, a, b, o, y, a, n, d, you, are, a, gir, l]`이라면, 어떤 기준으로 이들을 결합해서 문장을 복원하죠? 몽땅 한꺼번에 합쳤다간 끔찍한 일이 벌어질 것만 같습니다... "
   ]
  },
  {
   "cell_type": "code",
   "execution_count": null,
   "metadata": {
    "id": "IRm53W3hmxqi"
   },
   "outputs": [],
   "source": [
    "def get_pairs(word):\n",
    "  pairs = set()\n",
    "  prev_char = word[0]\n",
    "  for char in word[1:]:\n",
    "    pairs.add((prev_char, char))\n",
    "    prev_char = char\n",
    "  return pairs"
   ]
  },
  {
   "cell_type": "code",
   "execution_count": null,
   "metadata": {
    "colab": {
     "base_uri": "https://localhost:8080/"
    },
    "id": "tIMvfNzpm5b6",
    "outputId": "36c3ffde-053c-4acf-8128-ade85c758100"
   },
   "outputs": [
    {
     "name": "stdout",
     "output_type": "stream",
     "text": [
      "('h', 'i', '</w>')\n"
     ]
    }
   ],
   "source": [
    "orig = 'hi'\n",
    "word = tuple(orig) + ('</w>',)\n",
    "print(word)"
   ]
  },
  {
   "cell_type": "code",
   "execution_count": null,
   "metadata": {
    "id": "pQzMsWL-m6rC"
   },
   "outputs": [],
   "source": [
    "def encode(orig):\n",
    "  word = tuple(orig) + ('</w>',)\n",
    "  print(\"__word split into characters:__ <tt>{}<tt>\".format(word))\n",
    "\n",
    "  pairs = get_pairs(word)\n",
    "\n",
    "  if not pairs:\n",
    "    return orig\n",
    "  \n",
    "  iteration = 0\n",
    "  while True:\n",
    "    iteration += 1\n",
    "    print(\"__Iteration {}:__\".format(iteration))\n",
    "\n",
    "    print(\"Bigram in the word: {}\".format(pairs))\n",
    "    bigram = min(pairs, key = lambda pair: bpe_codes.get(pair, float('inf')))\n",
    "    print(\"candidate for merging: {}\".format(bigram))\n",
    "    if bigram not in bpe_codes:\n",
    "      print(\"__Candidate not in BPE merges, algorithm stops.__\")\n",
    "      break\n",
    "    first, second = bigram\n",
    "    new_word = []\n",
    "    i = 0\n",
    "    while i < len(word):\n",
    "      try:\n",
    "        j = word.index(first, i)\n",
    "        new_word.extend(word[i:j])\n",
    "        i = j\n",
    "      except:\n",
    "        new_word.extend(word[i:])\n",
    "        break\n",
    "\n",
    "      if word[i] == first and i < len(word)-1 and word[i+1] == second:\n",
    "        new_word.append(first+second)\n",
    "        i += 2\n",
    "      else:\n",
    "        new_word.append(word[i])\n",
    "        i += 1\n",
    "    new_word = tuple(new_word)\n",
    "    word = new_word\n",
    "    print(\"word after merging : {}\".format(word))\n",
    "    if len(word) == 1:\n",
    "      break\n",
    "    else:\n",
    "      pairs = get_pairs(word)\n",
    "  \n",
    "  # 특별토큰인 </w>는 출력하지 않는다.\n",
    "  if word[-1] == '</w>':\n",
    "    word = word[:-1]\n",
    "  elif word[-1].endswith('</w>'):\n",
    "    word = word[:-1] + (word[-1].replace('</w>', ''), )\n",
    "  return word"
   ]
  },
  {
   "cell_type": "markdown",
   "metadata": {
    "id": "5VTXiSVlm96s"
   },
   "source": [
    "단어 'loki'가 들어오면 BPE 알고리즘 해당 단어를 어떻게 분리할까요?"
   ]
  },
  {
   "cell_type": "code",
   "execution_count": null,
   "metadata": {
    "id": "CLE8PXNXm79a"
   },
   "outputs": [],
   "source": [
    "encode(\"loki\")"
   ]
  },
  {
   "cell_type": "markdown",
   "metadata": {
    "id": "Zdh1DT57nBLS"
   },
   "source": [
    "현재 서브워드 단어집합에는 'lo'가 존재하므로, 'lo'는 유지하고 'k'와 'i'는 분리시킵니다. 단어 'lowest'에 대해서도 수행해봅시다."
   ]
  },
  {
   "cell_type": "code",
   "execution_count": null,
   "metadata": {
    "id": "dvz54RzcnAdm"
   },
   "outputs": [],
   "source": [
    "encode(\"lowest\")"
   ]
  },
  {
   "cell_type": "markdown",
   "metadata": {
    "id": "V2Mv_DsFnEvb"
   },
   "source": [
    "현재 서브워드 단어집합에 'low'와 'est'가 존재하므로, 'low'와 'est'를 분리시킵니다. 단어 'lowing'에 대해서도 수행해봅시다."
   ]
  },
  {
   "cell_type": "code",
   "execution_count": null,
   "metadata": {
    "id": "sd3C9BhMnGTS"
   },
   "outputs": [],
   "source": [
    "encode(\"lowing\")"
   ]
  },
  {
   "cell_type": "markdown",
   "metadata": {
    "id": "bQ2d53gZnIFi"
   },
   "source": [
    "현재 서브워드 단어집합에 'low'가 존재하지만, 'i', 'n', 'g'의 바이그램 조합으로 이루어진 서브워드는 존재하지 않으므로 'i', 'n', 'g'로 전부 분리합니다. 훈련된 데이터 중에서 어떤 서브워드도 존재하지 않는 'highing'은 어떨까요?"
   ]
  },
  {
   "cell_type": "code",
   "execution_count": null,
   "metadata": {
    "id": "hRG9hgFDnJdp"
   },
   "outputs": [],
   "source": [
    "encode(\"highing\")"
   ]
  },
  {
   "cell_type": "markdown",
   "metadata": {
    "id": "LwWdNhPanLXS"
   },
   "source": [
    "# Wordpiece Model(WPM)"
   ]
  },
  {
   "cell_type": "markdown",
   "metadata": {
    "id": "8AaadtBPnShC"
   },
   "source": [
    "이에 구글에서 BPE를 변형해 제안한 알고리즘이 바로 WPM입니다. WPM은 BPE에 대해 **두 가지 차별성**을 가집니다.\n",
    "\n",
    "1. 공백 복원을 위해 단어의 시작 부분에 언더바 _ 를 추가합니다.\n",
    "2. 빈도수 기반이 아닌 가능도(Likelihood)를 증가시키는 방향으로 문자 쌍을 합칩니다.\n",
    "\n",
    "첫 번째 문항은 아주 쉬운 내용으로, 앞서 사용한 예문을 빌리면 `[_i, _am, _a, _b, o, y, _a, n, d, _you, _are, _a, _gir, l]`로 토큰화를 한다는 것입니다. 이렇게 하면 문장을 복원하는 과정이 **1) 모든 토큰을 합친 후, 2) 언더바 _를 공백으로 치환**으로 마무리되어 간편하죠.\n",
    "\n",
    "두 번째 문항은 다소 난해하게 다가올 수도 있습니다. 직관적인 이해를 얻고 넘어가는 것을 목표로 하죠. 본 내용은 아래 논문 3절과 4절에 자세하게 나와 있습니다.\n",
    "   \n",
    "- [JAPANESE AND KOREAN VOICE SEARCH](https://static.googleusercontent.com/media/research.google.com/ko//pubs/archive/37842.pdf)\n",
    "\n",
    "(여기서 잠깐)\n",
    "구글에서 이 기법을 한국어, 일본어 텍스트 처리를 위해 고려했다는 사실이 흥미롭지 않나요? 이 점은 2가지를 시사합니다. \n",
    "- 조사, 어미 등의 활용이 많고 복잡한 한국어 같은 모델의 토크나이저로 WPM이 좋은 대안이 될 수 있다.\n",
    "- WPM은 어떤 언어든 무관하게 적용 가능한 language-neutral하고 general한 기법이다. 한국어 형태소 분석기처럼 한국어에만 적용 가능한 기법보다 훨씬 활용도가 크다.  "
   ]
  },
  {
   "cell_type": "markdown",
   "metadata": {
    "id": "o7LOd0bqnV26"
   },
   "source": [
    "![wpm.png](data:image/png;base64,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)"
   ]
  },
  {
   "cell_type": "code",
   "execution_count": null,
   "metadata": {
    "colab": {
     "base_uri": "https://localhost:8080/"
    },
    "id": "MxKeOP3qnQDi",
    "outputId": "297531d3-e49d-41f6-a75e-0bc8f48a328a"
   },
   "outputs": [
    {
     "name": "stdout",
     "output_type": "stream",
     "text": [
      "Collecting sentencepiece\n",
      "  Downloading sentencepiece-0.1.96-cp37-cp37m-manylinux_2_17_x86_64.manylinux2014_x86_64.whl (1.2 MB)\n",
      "\u001b[?25l\r",
      "\u001b[K     |▎                               | 10 kB 33.4 MB/s eta 0:00:01\r",
      "\u001b[K     |▌                               | 20 kB 20.7 MB/s eta 0:00:01\r",
      "\u001b[K     |▉                               | 30 kB 16.2 MB/s eta 0:00:01\r",
      "\u001b[K     |█                               | 40 kB 14.8 MB/s eta 0:00:01\r",
      "\u001b[K     |█▍                              | 51 kB 8.7 MB/s eta 0:00:01\r",
      "\u001b[K     |█▋                              | 61 kB 9.1 MB/s eta 0:00:01\r",
      "\u001b[K     |██                              | 71 kB 9.4 MB/s eta 0:00:01\r",
      "\u001b[K     |██▏                             | 81 kB 10.5 MB/s eta 0:00:01\r",
      "\u001b[K     |██▍                             | 92 kB 10.3 MB/s eta 0:00:01\r",
      "\u001b[K     |██▊                             | 102 kB 8.7 MB/s eta 0:00:01\r",
      "\u001b[K     |███                             | 112 kB 8.7 MB/s eta 0:00:01\r",
      "\u001b[K     |███▎                            | 122 kB 8.7 MB/s eta 0:00:01\r",
      "\u001b[K     |███▌                            | 133 kB 8.7 MB/s eta 0:00:01\r",
      "\u001b[K     |███▉                            | 143 kB 8.7 MB/s eta 0:00:01\r",
      "\u001b[K     |████                            | 153 kB 8.7 MB/s eta 0:00:01\r",
      "\u001b[K     |████▎                           | 163 kB 8.7 MB/s eta 0:00:01\r",
      "\u001b[K     |████▋                           | 174 kB 8.7 MB/s eta 0:00:01\r",
      "\u001b[K     |████▉                           | 184 kB 8.7 MB/s eta 0:00:01\r",
      "\u001b[K     |█████▏                          | 194 kB 8.7 MB/s eta 0:00:01\r",
      "\u001b[K     |█████▍                          | 204 kB 8.7 MB/s eta 0:00:01\r",
      "\u001b[K     |█████▊                          | 215 kB 8.7 MB/s eta 0:00:01\r",
      "\u001b[K     |██████                          | 225 kB 8.7 MB/s eta 0:00:01\r",
      "\u001b[K     |██████▏                         | 235 kB 8.7 MB/s eta 0:00:01\r",
      "\u001b[K     |██████▌                         | 245 kB 8.7 MB/s eta 0:00:01\r",
      "\u001b[K     |██████▊                         | 256 kB 8.7 MB/s eta 0:00:01\r",
      "\u001b[K     |███████                         | 266 kB 8.7 MB/s eta 0:00:01\r",
      "\u001b[K     |███████▎                        | 276 kB 8.7 MB/s eta 0:00:01\r",
      "\u001b[K     |███████▋                        | 286 kB 8.7 MB/s eta 0:00:01\r",
      "\u001b[K     |███████▉                        | 296 kB 8.7 MB/s eta 0:00:01\r",
      "\u001b[K     |████████                        | 307 kB 8.7 MB/s eta 0:00:01\r",
      "\u001b[K     |████████▍                       | 317 kB 8.7 MB/s eta 0:00:01\r",
      "\u001b[K     |████████▋                       | 327 kB 8.7 MB/s eta 0:00:01\r",
      "\u001b[K     |█████████                       | 337 kB 8.7 MB/s eta 0:00:01\r",
      "\u001b[K     |█████████▏                      | 348 kB 8.7 MB/s eta 0:00:01\r",
      "\u001b[K     |█████████▌                      | 358 kB 8.7 MB/s eta 0:00:01\r",
      "\u001b[K     |█████████▊                      | 368 kB 8.7 MB/s eta 0:00:01\r",
      "\u001b[K     |██████████                      | 378 kB 8.7 MB/s eta 0:00:01\r",
      "\u001b[K     |██████████▎                     | 389 kB 8.7 MB/s eta 0:00:01\r",
      "\u001b[K     |██████████▌                     | 399 kB 8.7 MB/s eta 0:00:01\r",
      "\u001b[K     |██████████▉                     | 409 kB 8.7 MB/s eta 0:00:01\r",
      "\u001b[K     |███████████                     | 419 kB 8.7 MB/s eta 0:00:01\r",
      "\u001b[K     |███████████▍                    | 430 kB 8.7 MB/s eta 0:00:01\r",
      "\u001b[K     |███████████▋                    | 440 kB 8.7 MB/s eta 0:00:01\r",
      "\u001b[K     |███████████▉                    | 450 kB 8.7 MB/s eta 0:00:01\r",
      "\u001b[K     |████████████▏                   | 460 kB 8.7 MB/s eta 0:00:01\r",
      "\u001b[K     |████████████▍                   | 471 kB 8.7 MB/s eta 0:00:01\r",
      "\u001b[K     |████████████▊                   | 481 kB 8.7 MB/s eta 0:00:01\r",
      "\u001b[K     |█████████████                   | 491 kB 8.7 MB/s eta 0:00:01\r",
      "\u001b[K     |█████████████▎                  | 501 kB 8.7 MB/s eta 0:00:01\r",
      "\u001b[K     |█████████████▌                  | 512 kB 8.7 MB/s eta 0:00:01\r",
      "\u001b[K     |█████████████▊                  | 522 kB 8.7 MB/s eta 0:00:01\r",
      "\u001b[K     |██████████████                  | 532 kB 8.7 MB/s eta 0:00:01\r",
      "\u001b[K     |██████████████▎                 | 542 kB 8.7 MB/s eta 0:00:01\r",
      "\u001b[K     |██████████████▋                 | 552 kB 8.7 MB/s eta 0:00:01\r",
      "\u001b[K     |██████████████▉                 | 563 kB 8.7 MB/s eta 0:00:01\r",
      "\u001b[K     |███████████████▏                | 573 kB 8.7 MB/s eta 0:00:01\r",
      "\u001b[K     |███████████████▍                | 583 kB 8.7 MB/s eta 0:00:01\r",
      "\u001b[K     |███████████████▋                | 593 kB 8.7 MB/s eta 0:00:01\r",
      "\u001b[K     |████████████████                | 604 kB 8.7 MB/s eta 0:00:01\r",
      "\u001b[K     |████████████████▏               | 614 kB 8.7 MB/s eta 0:00:01\r",
      "\u001b[K     |████████████████▌               | 624 kB 8.7 MB/s eta 0:00:01\r",
      "\u001b[K     |████████████████▊               | 634 kB 8.7 MB/s eta 0:00:01\r",
      "\u001b[K     |█████████████████               | 645 kB 8.7 MB/s eta 0:00:01\r",
      "\u001b[K     |█████████████████▎              | 655 kB 8.7 MB/s eta 0:00:01\r",
      "\u001b[K     |█████████████████▌              | 665 kB 8.7 MB/s eta 0:00:01\r",
      "\u001b[K     |█████████████████▉              | 675 kB 8.7 MB/s eta 0:00:01\r",
      "\u001b[K     |██████████████████              | 686 kB 8.7 MB/s eta 0:00:01\r",
      "\u001b[K     |██████████████████▍             | 696 kB 8.7 MB/s eta 0:00:01\r",
      "\u001b[K     |██████████████████▋             | 706 kB 8.7 MB/s eta 0:00:01\r",
      "\u001b[K     |███████████████████             | 716 kB 8.7 MB/s eta 0:00:01\r",
      "\u001b[K     |███████████████████▏            | 727 kB 8.7 MB/s eta 0:00:01\r",
      "\u001b[K     |███████████████████▍            | 737 kB 8.7 MB/s eta 0:00:01\r",
      "\u001b[K     |███████████████████▊            | 747 kB 8.7 MB/s eta 0:00:01\r",
      "\u001b[K     |████████████████████            | 757 kB 8.7 MB/s eta 0:00:01\r",
      "\u001b[K     |████████████████████▎           | 768 kB 8.7 MB/s eta 0:00:01\r",
      "\u001b[K     |████████████████████▌           | 778 kB 8.7 MB/s eta 0:00:01\r",
      "\u001b[K     |████████████████████▉           | 788 kB 8.7 MB/s eta 0:00:01\r",
      "\u001b[K     |█████████████████████           | 798 kB 8.7 MB/s eta 0:00:01\r",
      "\u001b[K     |█████████████████████▎          | 808 kB 8.7 MB/s eta 0:00:01\r",
      "\u001b[K     |█████████████████████▋          | 819 kB 8.7 MB/s eta 0:00:01\r",
      "\u001b[K     |█████████████████████▉          | 829 kB 8.7 MB/s eta 0:00:01\r",
      "\u001b[K     |██████████████████████▏         | 839 kB 8.7 MB/s eta 0:00:01\r",
      "\u001b[K     |██████████████████████▍         | 849 kB 8.7 MB/s eta 0:00:01\r",
      "\u001b[K     |██████████████████████▊         | 860 kB 8.7 MB/s eta 0:00:01\r",
      "\u001b[K     |███████████████████████         | 870 kB 8.7 MB/s eta 0:00:01\r",
      "\u001b[K     |███████████████████████▏        | 880 kB 8.7 MB/s eta 0:00:01\r",
      "\u001b[K     |███████████████████████▌        | 890 kB 8.7 MB/s eta 0:00:01\r",
      "\u001b[K     |███████████████████████▊        | 901 kB 8.7 MB/s eta 0:00:01\r",
      "\u001b[K     |████████████████████████        | 911 kB 8.7 MB/s eta 0:00:01\r",
      "\u001b[K     |████████████████████████▎       | 921 kB 8.7 MB/s eta 0:00:01\r",
      "\u001b[K     |████████████████████████▋       | 931 kB 8.7 MB/s eta 0:00:01\r",
      "\u001b[K     |████████████████████████▉       | 942 kB 8.7 MB/s eta 0:00:01\r",
      "\u001b[K     |█████████████████████████       | 952 kB 8.7 MB/s eta 0:00:01\r",
      "\u001b[K     |█████████████████████████▍      | 962 kB 8.7 MB/s eta 0:00:01\r",
      "\u001b[K     |█████████████████████████▋      | 972 kB 8.7 MB/s eta 0:00:01\r",
      "\u001b[K     |██████████████████████████      | 983 kB 8.7 MB/s eta 0:00:01\r",
      "\u001b[K     |██████████████████████████▏     | 993 kB 8.7 MB/s eta 0:00:01\r",
      "\u001b[K     |██████████████████████████▌     | 1.0 MB 8.7 MB/s eta 0:00:01\r",
      "\u001b[K     |██████████████████████████▊     | 1.0 MB 8.7 MB/s eta 0:00:01\r",
      "\u001b[K     |███████████████████████████     | 1.0 MB 8.7 MB/s eta 0:00:01\r",
      "\u001b[K     |███████████████████████████▎    | 1.0 MB 8.7 MB/s eta 0:00:01\r",
      "\u001b[K     |███████████████████████████▌    | 1.0 MB 8.7 MB/s eta 0:00:01\r",
      "\u001b[K     |███████████████████████████▉    | 1.1 MB 8.7 MB/s eta 0:00:01\r",
      "\u001b[K     |████████████████████████████    | 1.1 MB 8.7 MB/s eta 0:00:01\r",
      "\u001b[K     |████████████████████████████▍   | 1.1 MB 8.7 MB/s eta 0:00:01\r",
      "\u001b[K     |████████████████████████████▋   | 1.1 MB 8.7 MB/s eta 0:00:01\r",
      "\u001b[K     |████████████████████████████▉   | 1.1 MB 8.7 MB/s eta 0:00:01\r",
      "\u001b[K     |█████████████████████████████▏  | 1.1 MB 8.7 MB/s eta 0:00:01\r",
      "\u001b[K     |█████████████████████████████▍  | 1.1 MB 8.7 MB/s eta 0:00:01\r",
      "\u001b[K     |█████████████████████████████▊  | 1.1 MB 8.7 MB/s eta 0:00:01\r",
      "\u001b[K     |██████████████████████████████  | 1.1 MB 8.7 MB/s eta 0:00:01\r",
      "\u001b[K     |██████████████████████████████▎ | 1.1 MB 8.7 MB/s eta 0:00:01\r",
      "\u001b[K     |██████████████████████████████▌ | 1.2 MB 8.7 MB/s eta 0:00:01\r",
      "\u001b[K     |██████████████████████████████▊ | 1.2 MB 8.7 MB/s eta 0:00:01\r",
      "\u001b[K     |███████████████████████████████ | 1.2 MB 8.7 MB/s eta 0:00:01\r",
      "\u001b[K     |███████████████████████████████▎| 1.2 MB 8.7 MB/s eta 0:00:01\r",
      "\u001b[K     |███████████████████████████████▋| 1.2 MB 8.7 MB/s eta 0:00:01\r",
      "\u001b[K     |███████████████████████████████▉| 1.2 MB 8.7 MB/s eta 0:00:01\r",
      "\u001b[K     |████████████████████████████████| 1.2 MB 8.7 MB/s \n",
      "\u001b[?25hInstalling collected packages: sentencepiece\n",
      "Successfully installed sentencepiece-0.1.96\n"
     ]
    }
   ],
   "source": [
    "!pip install sentencepiece"
   ]
  },
  {
   "cell_type": "code",
   "execution_count": null,
   "metadata": {
    "id": "trR_5aRq47Cg"
   },
   "outputs": [],
   "source": [
    "import sentencepiece as spm\n",
    "import pandas as pd\n",
    "import urllib.request\n",
    "import csv"
   ]
  },
  {
   "cell_type": "code",
   "execution_count": null,
   "metadata": {
    "colab": {
     "base_uri": "https://localhost:8080/"
    },
    "id": "DOWhl7vW5GQm",
    "outputId": "70a73050-02bf-4ba4-ac0f-4c1b481e824d"
   },
   "outputs": [
    {
     "data": {
      "text/plain": [
       "('IMDb_Reviews.csv', <http.client.HTTPMessage at 0x7f253b5b4e50>)"
      ]
     },
     "execution_count": 3,
     "metadata": {},
     "output_type": "execute_result"
    }
   ],
   "source": [
    "urllib.request.urlretrieve(\"https://raw.githubusercontent.com/LawrenceDuan/IMDb-Review-Analysis/master/IMDb_Reviews.csv\", filename=\"IMDb_Reviews.csv\")"
   ]
  },
  {
   "cell_type": "code",
   "execution_count": null,
   "metadata": {
    "id": "P-uk5QC35lw7"
   },
   "outputs": [],
   "source": [
    "train_df = pd.read_csv(\"IMDb_Reviews.csv\")"
   ]
  },
  {
   "cell_type": "code",
   "execution_count": null,
   "metadata": {
    "colab": {
     "base_uri": "https://localhost:8080/",
     "height": 206
    },
    "id": "drpjzS1e5rM6",
    "outputId": "3fdd30be-2ebe-4c6b-bed5-5dcdf06a0b9c"
   },
   "outputs": [
    {
     "data": {
      "text/html": [
       "\n",
       "  <div id=\"df-2b380f1a-be3b-449a-937b-ae1e39390acd\">\n",
       "    <div class=\"colab-df-container\">\n",
       "      <div>\n",
       "<style scoped>\n",
       "    .dataframe tbody tr th:only-of-type {\n",
       "        vertical-align: middle;\n",
       "    }\n",
       "\n",
       "    .dataframe tbody tr th {\n",
       "        vertical-align: top;\n",
       "    }\n",
       "\n",
       "    .dataframe thead th {\n",
       "        text-align: right;\n",
       "    }\n",
       "</style>\n",
       "<table border=\"1\" class=\"dataframe\">\n",
       "  <thead>\n",
       "    <tr style=\"text-align: right;\">\n",
       "      <th></th>\n",
       "      <th>review</th>\n",
       "      <th>sentiment</th>\n",
       "    </tr>\n",
       "  </thead>\n",
       "  <tbody>\n",
       "    <tr>\n",
       "      <th>0</th>\n",
       "      <td>My family and I normally do not watch local mo...</td>\n",
       "      <td>1</td>\n",
       "    </tr>\n",
       "    <tr>\n",
       "      <th>1</th>\n",
       "      <td>Believe it or not, this was at one time the wo...</td>\n",
       "      <td>0</td>\n",
       "    </tr>\n",
       "    <tr>\n",
       "      <th>2</th>\n",
       "      <td>After some internet surfing, I found the \"Home...</td>\n",
       "      <td>0</td>\n",
       "    </tr>\n",
       "    <tr>\n",
       "      <th>3</th>\n",
       "      <td>One of the most unheralded great works of anim...</td>\n",
       "      <td>1</td>\n",
       "    </tr>\n",
       "    <tr>\n",
       "      <th>4</th>\n",
       "      <td>It was the Sixties, and anyone with long hair ...</td>\n",
       "      <td>0</td>\n",
       "    </tr>\n",
       "  </tbody>\n",
       "</table>\n",
       "</div>\n",
       "      <button class=\"colab-df-convert\" onclick=\"convertToInteractive('df-2b380f1a-be3b-449a-937b-ae1e39390acd')\"\n",
       "              title=\"Convert this dataframe to an interactive table.\"\n",
       "              style=\"display:none;\">\n",
       "        \n",
       "  <svg xmlns=\"http://www.w3.org/2000/svg\" height=\"24px\"viewBox=\"0 0 24 24\"\n",
       "       width=\"24px\">\n",
       "    <path d=\"M0 0h24v24H0V0z\" fill=\"none\"/>\n",
       "    <path d=\"M18.56 5.44l.94 2.06.94-2.06 2.06-.94-2.06-.94-.94-2.06-.94 2.06-2.06.94zm-11 1L8.5 8.5l.94-2.06 2.06-.94-2.06-.94L8.5 2.5l-.94 2.06-2.06.94zm10 10l.94 2.06.94-2.06 2.06-.94-2.06-.94-.94-2.06-.94 2.06-2.06.94z\"/><path d=\"M17.41 7.96l-1.37-1.37c-.4-.4-.92-.59-1.43-.59-.52 0-1.04.2-1.43.59L10.3 9.45l-7.72 7.72c-.78.78-.78 2.05 0 2.83L4 21.41c.39.39.9.59 1.41.59.51 0 1.02-.2 1.41-.59l7.78-7.78 2.81-2.81c.8-.78.8-2.07 0-2.86zM5.41 20L4 18.59l7.72-7.72 1.47 1.35L5.41 20z\"/>\n",
       "  </svg>\n",
       "      </button>\n",
       "      \n",
       "  <style>\n",
       "    .colab-df-container {\n",
       "      display:flex;\n",
       "      flex-wrap:wrap;\n",
       "      gap: 12px;\n",
       "    }\n",
       "\n",
       "    .colab-df-convert {\n",
       "      background-color: #E8F0FE;\n",
       "      border: none;\n",
       "      border-radius: 50%;\n",
       "      cursor: pointer;\n",
       "      display: none;\n",
       "      fill: #1967D2;\n",
       "      height: 32px;\n",
       "      padding: 0 0 0 0;\n",
       "      width: 32px;\n",
       "    }\n",
       "\n",
       "    .colab-df-convert:hover {\n",
       "      background-color: #E2EBFA;\n",
       "      box-shadow: 0px 1px 2px rgba(60, 64, 67, 0.3), 0px 1px 3px 1px rgba(60, 64, 67, 0.15);\n",
       "      fill: #174EA6;\n",
       "    }\n",
       "\n",
       "    [theme=dark] .colab-df-convert {\n",
       "      background-color: #3B4455;\n",
       "      fill: #D2E3FC;\n",
       "    }\n",
       "\n",
       "    [theme=dark] .colab-df-convert:hover {\n",
       "      background-color: #434B5C;\n",
       "      box-shadow: 0px 1px 3px 1px rgba(0, 0, 0, 0.15);\n",
       "      filter: drop-shadow(0px 1px 2px rgba(0, 0, 0, 0.3));\n",
       "      fill: #FFFFFF;\n",
       "    }\n",
       "  </style>\n",
       "\n",
       "      <script>\n",
       "        const buttonEl =\n",
       "          document.querySelector('#df-2b380f1a-be3b-449a-937b-ae1e39390acd button.colab-df-convert');\n",
       "        buttonEl.style.display =\n",
       "          google.colab.kernel.accessAllowed ? 'block' : 'none';\n",
       "\n",
       "        async function convertToInteractive(key) {\n",
       "          const element = document.querySelector('#df-2b380f1a-be3b-449a-937b-ae1e39390acd');\n",
       "          const dataTable =\n",
       "            await google.colab.kernel.invokeFunction('convertToInteractive',\n",
       "                                                     [key], {});\n",
       "          if (!dataTable) return;\n",
       "\n",
       "          const docLinkHtml = 'Like what you see? Visit the ' +\n",
       "            '<a target=\"_blank\" href=https://colab.research.google.com/notebooks/data_table.ipynb>data table notebook</a>'\n",
       "            + ' to learn more about interactive tables.';\n",
       "          element.innerHTML = '';\n",
       "          dataTable['output_type'] = 'display_data';\n",
       "          await google.colab.output.renderOutput(dataTable, element);\n",
       "          const docLink = document.createElement('div');\n",
       "          docLink.innerHTML = docLinkHtml;\n",
       "          element.appendChild(docLink);\n",
       "        }\n",
       "      </script>\n",
       "    </div>\n",
       "  </div>\n",
       "  "
      ],
      "text/plain": [
       "                                              review  sentiment\n",
       "0  My family and I normally do not watch local mo...          1\n",
       "1  Believe it or not, this was at one time the wo...          0\n",
       "2  After some internet surfing, I found the \"Home...          0\n",
       "3  One of the most unheralded great works of anim...          1\n",
       "4  It was the Sixties, and anyone with long hair ...          0"
      ]
     },
     "execution_count": 5,
     "metadata": {},
     "output_type": "execute_result"
    }
   ],
   "source": [
    "train_df.head()"
   ]
  },
  {
   "cell_type": "code",
   "execution_count": null,
   "metadata": {
    "colab": {
     "base_uri": "https://localhost:8080/"
    },
    "id": "rhWQDgJp5tR7",
    "outputId": "454b2349-ef36-499f-867b-f8d1ad935d85"
   },
   "outputs": [
    {
     "name": "stdout",
     "output_type": "stream",
     "text": [
      "리뷰 갯수 :  50000\n"
     ]
    }
   ],
   "source": [
    "print(\"리뷰 갯수 : \", len(train_df))"
   ]
  },
  {
   "cell_type": "code",
   "execution_count": null,
   "metadata": {
    "id": "Z19DOJG46RHu"
   },
   "outputs": [],
   "source": [
    "with open(\"imdb_review.txt\", \"w\", encoding = \"utf-8\") as f:\n",
    "  f.write('\\n'.join(train_df['review']))"
   ]
  },
  {
   "cell_type": "markdown",
   "metadata": {
    "id": "PamBMXsq6yxB"
   },
   "source": [
    "```\n",
    "spm.SentencePieceTrainer.train(\n",
    "    f\"--input={corpus} --model_prefix={prefix} --vocab_size={vocab_size + 7}\" + \n",
    "    \" --model_type=bpe\" +\n",
    "    \" --max_sentence_length=999999\" + # 문장 최대 길이\n",
    "    \" --pad_id=0 --pad_piece=[PAD]\" + # pad (0)\n",
    "    \" --unk_id=1 --unk_piece=[UNK]\" + # unknown (1)\n",
    "    \" --bos_id=2 --bos_piece=[BOS]\" + # begin of sequence (2)\n",
    "    \" --eos_id=3 --eos_piece=[EOS]\" + # end of sequence (3)\n",
    "    \" --user_defined_symbols=[SEP],[CLS],[MASK]\") # 사용자 정의 토큰\n",
    "```\n",
    "```\n",
    "spm.SentencePieceTrainer.Train('--input=imdb_review.txt --model_prefix=imdb --vocab_size=5000 --model_type=bpe --max_sentence_length=9999')\n",
    "```"
   ]
  },
  {
   "cell_type": "code",
   "execution_count": null,
   "metadata": {
    "id": "C87UmLYl616v"
   },
   "outputs": [],
   "source": [
    "corpus = \"imdb_review.txt\" # 입력 corpus\n",
    "prefix = \"imdb\"\n",
    "vocab_size = 5000\n",
    "spm.SentencePieceTrainer.Train(\n",
    "f\"--input={corpus} --model_prefix={prefix} --vocab_size={vocab_size}\" + \n",
    "    \" --model_type=bpe\" + \" --max_sentence_length=999999\" \n",
    ")"
   ]
  },
  {
   "cell_type": "code",
   "execution_count": null,
   "metadata": {
    "colab": {
     "base_uri": "https://localhost:8080/",
     "height": 363
    },
    "id": "F-Gd-p978kCH",
    "outputId": "890327e8-096f-4ff3-ee68-ef98550c2010"
   },
   "outputs": [
    {
     "data": {
      "text/html": [
       "\n",
       "  <div id=\"df-2f5719a2-1c78-4a6d-b195-890d33c57ffd\">\n",
       "    <div class=\"colab-df-container\">\n",
       "      <div>\n",
       "<style scoped>\n",
       "    .dataframe tbody tr th:only-of-type {\n",
       "        vertical-align: middle;\n",
       "    }\n",
       "\n",
       "    .dataframe tbody tr th {\n",
       "        vertical-align: top;\n",
       "    }\n",
       "\n",
       "    .dataframe thead th {\n",
       "        text-align: right;\n",
       "    }\n",
       "</style>\n",
       "<table border=\"1\" class=\"dataframe\">\n",
       "  <thead>\n",
       "    <tr style=\"text-align: right;\">\n",
       "      <th></th>\n",
       "      <th>0</th>\n",
       "      <th>1</th>\n",
       "    </tr>\n",
       "  </thead>\n",
       "  <tbody>\n",
       "    <tr>\n",
       "      <th>866</th>\n",
       "      <td>▁last</td>\n",
       "      <td>-863</td>\n",
       "    </tr>\n",
       "    <tr>\n",
       "      <th>2321</th>\n",
       "      <td>▁Pr</td>\n",
       "      <td>-2318</td>\n",
       "    </tr>\n",
       "    <tr>\n",
       "      <th>429</th>\n",
       "      <td>ary</td>\n",
       "      <td>-426</td>\n",
       "    </tr>\n",
       "    <tr>\n",
       "      <th>3902</th>\n",
       "      <td>▁funniest</td>\n",
       "      <td>-3899</td>\n",
       "    </tr>\n",
       "    <tr>\n",
       "      <th>1463</th>\n",
       "      <td>▁After</td>\n",
       "      <td>-1460</td>\n",
       "    </tr>\n",
       "    <tr>\n",
       "      <th>1755</th>\n",
       "      <td>uc</td>\n",
       "      <td>-1752</td>\n",
       "    </tr>\n",
       "    <tr>\n",
       "      <th>649</th>\n",
       "      <td>▁down</td>\n",
       "      <td>-646</td>\n",
       "    </tr>\n",
       "    <tr>\n",
       "      <th>1007</th>\n",
       "      <td>▁less</td>\n",
       "      <td>-1004</td>\n",
       "    </tr>\n",
       "    <tr>\n",
       "      <th>3247</th>\n",
       "      <td>fort</td>\n",
       "      <td>-3244</td>\n",
       "    </tr>\n",
       "    <tr>\n",
       "      <th>2708</th>\n",
       "      <td>▁fairly</td>\n",
       "      <td>-2705</td>\n",
       "    </tr>\n",
       "  </tbody>\n",
       "</table>\n",
       "</div>\n",
       "      <button class=\"colab-df-convert\" onclick=\"convertToInteractive('df-2f5719a2-1c78-4a6d-b195-890d33c57ffd')\"\n",
       "              title=\"Convert this dataframe to an interactive table.\"\n",
       "              style=\"display:none;\">\n",
       "        \n",
       "  <svg xmlns=\"http://www.w3.org/2000/svg\" height=\"24px\"viewBox=\"0 0 24 24\"\n",
       "       width=\"24px\">\n",
       "    <path d=\"M0 0h24v24H0V0z\" fill=\"none\"/>\n",
       "    <path d=\"M18.56 5.44l.94 2.06.94-2.06 2.06-.94-2.06-.94-.94-2.06-.94 2.06-2.06.94zm-11 1L8.5 8.5l.94-2.06 2.06-.94-2.06-.94L8.5 2.5l-.94 2.06-2.06.94zm10 10l.94 2.06.94-2.06 2.06-.94-2.06-.94-.94-2.06-.94 2.06-2.06.94z\"/><path d=\"M17.41 7.96l-1.37-1.37c-.4-.4-.92-.59-1.43-.59-.52 0-1.04.2-1.43.59L10.3 9.45l-7.72 7.72c-.78.78-.78 2.05 0 2.83L4 21.41c.39.39.9.59 1.41.59.51 0 1.02-.2 1.41-.59l7.78-7.78 2.81-2.81c.8-.78.8-2.07 0-2.86zM5.41 20L4 18.59l7.72-7.72 1.47 1.35L5.41 20z\"/>\n",
       "  </svg>\n",
       "      </button>\n",
       "      \n",
       "  <style>\n",
       "    .colab-df-container {\n",
       "      display:flex;\n",
       "      flex-wrap:wrap;\n",
       "      gap: 12px;\n",
       "    }\n",
       "\n",
       "    .colab-df-convert {\n",
       "      background-color: #E8F0FE;\n",
       "      border: none;\n",
       "      border-radius: 50%;\n",
       "      cursor: pointer;\n",
       "      display: none;\n",
       "      fill: #1967D2;\n",
       "      height: 32px;\n",
       "      padding: 0 0 0 0;\n",
       "      width: 32px;\n",
       "    }\n",
       "\n",
       "    .colab-df-convert:hover {\n",
       "      background-color: #E2EBFA;\n",
       "      box-shadow: 0px 1px 2px rgba(60, 64, 67, 0.3), 0px 1px 3px 1px rgba(60, 64, 67, 0.15);\n",
       "      fill: #174EA6;\n",
       "    }\n",
       "\n",
       "    [theme=dark] .colab-df-convert {\n",
       "      background-color: #3B4455;\n",
       "      fill: #D2E3FC;\n",
       "    }\n",
       "\n",
       "    [theme=dark] .colab-df-convert:hover {\n",
       "      background-color: #434B5C;\n",
       "      box-shadow: 0px 1px 3px 1px rgba(0, 0, 0, 0.15);\n",
       "      filter: drop-shadow(0px 1px 2px rgba(0, 0, 0, 0.3));\n",
       "      fill: #FFFFFF;\n",
       "    }\n",
       "  </style>\n",
       "\n",
       "      <script>\n",
       "        const buttonEl =\n",
       "          document.querySelector('#df-2f5719a2-1c78-4a6d-b195-890d33c57ffd button.colab-df-convert');\n",
       "        buttonEl.style.display =\n",
       "          google.colab.kernel.accessAllowed ? 'block' : 'none';\n",
       "\n",
       "        async function convertToInteractive(key) {\n",
       "          const element = document.querySelector('#df-2f5719a2-1c78-4a6d-b195-890d33c57ffd');\n",
       "          const dataTable =\n",
       "            await google.colab.kernel.invokeFunction('convertToInteractive',\n",
       "                                                     [key], {});\n",
       "          if (!dataTable) return;\n",
       "\n",
       "          const docLinkHtml = 'Like what you see? Visit the ' +\n",
       "            '<a target=\"_blank\" href=https://colab.research.google.com/notebooks/data_table.ipynb>data table notebook</a>'\n",
       "            + ' to learn more about interactive tables.';\n",
       "          element.innerHTML = '';\n",
       "          dataTable['output_type'] = 'display_data';\n",
       "          await google.colab.output.renderOutput(dataTable, element);\n",
       "          const docLink = document.createElement('div');\n",
       "          docLink.innerHTML = docLinkHtml;\n",
       "          element.appendChild(docLink);\n",
       "        }\n",
       "      </script>\n",
       "    </div>\n",
       "  </div>\n",
       "  "
      ],
      "text/plain": [
       "              0     1\n",
       "866       ▁last  -863\n",
       "2321        ▁Pr -2318\n",
       "429         ary  -426\n",
       "3902  ▁funniest -3899\n",
       "1463     ▁After -1460\n",
       "1755         uc -1752\n",
       "649       ▁down  -646\n",
       "1007      ▁less -1004\n",
       "3247       fort -3244\n",
       "2708    ▁fairly -2705"
      ]
     },
     "execution_count": 16,
     "metadata": {},
     "output_type": "execute_result"
    }
   ],
   "source": [
    "vocab_list = pd.read_csv(\"imdb.vocab\", sep=\"\\t\",\n",
    "                         header = None, quoting=csv.QUOTE_NONE)\n",
    "vocab_list.sample(10)"
   ]
  },
  {
   "cell_type": "code",
   "execution_count": null,
   "metadata": {
    "colab": {
     "base_uri": "https://localhost:8080/"
    },
    "id": "LKi7JioJ85JD",
    "outputId": "e93815bf-709c-49c2-a915-995edeb4799d"
   },
   "outputs": [
    {
     "data": {
      "text/plain": [
       "5000"
      ]
     },
     "execution_count": 17,
     "metadata": {},
     "output_type": "execute_result"
    }
   ],
   "source": [
    "len(vocab_list)"
   ]
  },
  {
   "cell_type": "code",
   "execution_count": null,
   "metadata": {
    "colab": {
     "base_uri": "https://localhost:8080/"
    },
    "id": "iw5EAD6289uj",
    "outputId": "c85f60db-d50c-4ead-cab2-d17aa3b522a6"
   },
   "outputs": [
    {
     "data": {
      "text/plain": [
       "True"
      ]
     },
     "execution_count": 18,
     "metadata": {},
     "output_type": "execute_result"
    }
   ],
   "source": [
    "sp = spm.SentencePieceProcessor()\n",
    "covab_file = \"imdb.model\"\n",
    "sp.load(covab_file)"
   ]
  },
  {
   "cell_type": "code",
   "execution_count": null,
   "metadata": {
    "colab": {
     "base_uri": "https://localhost:8080/"
    },
    "id": "5QtCRLRf9FbV",
    "outputId": "4b7c927a-8bdb-4f6d-e0ad-2f1dc6577f0b"
   },
   "outputs": [
    {
     "name": "stdout",
     "output_type": "stream",
     "text": [
      "I didn't at all think of it this way.\n",
      "['▁I', '▁didn', \"'\", 't', '▁at', '▁all', '▁think', '▁of', '▁it', '▁this', '▁way', '.']\n",
      "[41, 623, 4950, 4926, 138, 169, 379, 30, 58, 73, 414, 4945]\n",
      "\n",
      "I have waited a long time for someone to film\n",
      "['▁I', '▁have', '▁wa', 'ited', '▁a', '▁long', '▁time', '▁for', '▁someone', '▁to', '▁film']\n",
      "[41, 141, 1365, 1120, 4, 666, 285, 92, 1078, 33, 91]\n",
      "\n"
     ]
    }
   ],
   "source": [
    "lines = [\n",
    "         \"I didn't at all think of it this way.\",\n",
    "         \"I have waited a long time for someone to film\"\n",
    "]\n",
    "for line in lines:\n",
    "  print(line)\n",
    "  print(sp.encode_as_pieces(line)) # 문장을 입력하면 서브워드 시퀀스로 변환\n",
    "  print(sp.encode_as_ids(line)) # 문장을 입력하면 정수 시퀀스로 변환\n",
    "  print()"
   ]
  },
  {
   "cell_type": "code",
   "execution_count": null,
   "metadata": {
    "colab": {
     "base_uri": "https://localhost:8080/"
    },
    "id": "3QN4kOoJ9q3Y",
    "outputId": "2facadb6-628b-4f0e-d2ed-09a9f61e898e"
   },
   "outputs": [
    {
     "data": {
      "text/plain": [
       "5000"
      ]
     },
     "execution_count": 20,
     "metadata": {},
     "output_type": "execute_result"
    }
   ],
   "source": [
    "sp.GetPieceSize()"
   ]
  },
  {
   "cell_type": "code",
   "execution_count": null,
   "metadata": {
    "colab": {
     "base_uri": "https://localhost:8080/",
     "height": 35
    },
    "id": "S-i-VGwd9soU",
    "outputId": "0ab136ed-03c1-496b-d8ad-a3068cc3fbea"
   },
   "outputs": [
    {
     "data": {
      "application/vnd.google.colaboratory.intrinsic+json": {
       "type": "string"
      },
      "text/plain": [
       "'▁not'"
      ]
     },
     "execution_count": 21,
     "metadata": {},
     "output_type": "execute_result"
    }
   ],
   "source": [
    "sp.IdToPiece(120) # 정수로부터 매핑되는 서브워드 변환"
   ]
  },
  {
   "cell_type": "code",
   "execution_count": null,
   "metadata": {
    "colab": {
     "base_uri": "https://localhost:8080/"
    },
    "id": "PHs1rhnD-C6z",
    "outputId": "bafc27c1-bf2f-4b34-a3d9-e1a848e73a1e"
   },
   "outputs": [
    {
     "data": {
      "text/plain": [
       "0"
      ]
     },
     "execution_count": 22,
     "metadata": {},
     "output_type": "execute_result"
    }
   ],
   "source": [
    "sp.PieceToId(\" not\")"
   ]
  },
  {
   "cell_type": "code",
   "execution_count": null,
   "metadata": {
    "colab": {
     "base_uri": "https://localhost:8080/",
     "height": 35
    },
    "id": "e9_bPXjG-k2K",
    "outputId": "cf6db696-a72e-4887-d1ea-b46210923b7f"
   },
   "outputs": [
    {
     "data": {
      "application/vnd.google.colaboratory.intrinsic+json": {
       "type": "string"
      },
      "text/plain": [
       "'I have waited a long time for someone to film'"
      ]
     },
     "execution_count": 23,
     "metadata": {},
     "output_type": "execute_result"
    }
   ],
   "source": [
    "sp.DecodeIds([41, 141, 1365, 1120, 4, 666, 285, 92, 1078, 33, 91])"
   ]
  },
  {
   "cell_type": "code",
   "execution_count": null,
   "metadata": {
    "colab": {
     "base_uri": "https://localhost:8080/",
     "height": 35
    },
    "id": "ZDB77tB_-weZ",
    "outputId": "0b08401d-a9df-40fd-8490-e967fecb4e24"
   },
   "outputs": [
    {
     "data": {
      "application/vnd.google.colaboratory.intrinsic+json": {
       "type": "string"
      },
      "text/plain": [
       "'I have waited a long time for someone to film'"
      ]
     },
     "execution_count": 25,
     "metadata": {},
     "output_type": "execute_result"
    }
   ],
   "source": [
    "sp.DecodePieces(['▁I', '▁have', '▁wa', 'ited', '▁a', '▁long', '▁time', '▁for', '▁someone', '▁to', '▁film'])"
   ]
  },
  {
   "cell_type": "code",
   "execution_count": null,
   "metadata": {
    "colab": {
     "base_uri": "https://localhost:8080/"
    },
    "id": "r82QRHRj-2LH",
    "outputId": "9da10453-f899-434e-cc90-dc027d278f24"
   },
   "outputs": [
    {
     "name": "stdout",
     "output_type": "stream",
     "text": [
      "['▁I', '▁have', '▁wa', 'ited', '▁a', '▁long', '▁time', '▁for', '▁someone', '▁to', '▁film']\n",
      "[41, 141, 1365, 1120, 4, 666, 285, 92, 1078, 33, 91]\n"
     ]
    }
   ],
   "source": [
    "# subword sequence로 변환\n",
    "print(sp.encode('I have waited a long time for someone to film', out_type=str))\n",
    "# int sequence로 변환\n",
    "print(sp.encode('I have waited a long time for someone to film', out_type=int))"
   ]
  },
  {
   "cell_type": "markdown",
   "metadata": {
    "id": "aXjNOT6REXW9"
   },
   "source": [
    "# 네이버 영화 리뷰로 센텐스피스 적용하기"
   ]
  },
  {
   "cell_type": "code",
   "execution_count": null,
   "metadata": {
    "id": "7kYeOo-r_MF2"
   },
   "outputs": [],
   "source": [
    "import pandas as pd\n",
    "import sentencepiece as spm\n",
    "import urllib.request\n",
    "import csv"
   ]
  },
  {
   "cell_type": "code",
   "execution_count": null,
   "metadata": {
    "colab": {
     "base_uri": "https://localhost:8080/"
    },
    "id": "22sOQUpHEue8",
    "outputId": "e6dd1c07-c973-4b8f-8010-241adaff57aa"
   },
   "outputs": [
    {
     "data": {
      "text/plain": [
       "('ratings.txt', <http.client.HTTPMessage at 0x7efc9fdf6750>)"
      ]
     },
     "execution_count": 69,
     "metadata": {},
     "output_type": "execute_result"
    }
   ],
   "source": [
    "urllib.request.urlretrieve(\"https://raw.githubusercontent.com/e9t/nsmc/master/ratings.txt\", filename=\"ratings.txt\")"
   ]
  },
  {
   "cell_type": "code",
   "execution_count": null,
   "metadata": {
    "colab": {
     "base_uri": "https://localhost:8080/",
     "height": 206
    },
    "id": "u8kPlG_JEu1X",
    "outputId": "4dd2a75e-a0b8-4010-f760-cb8fc79621da"
   },
   "outputs": [
    {
     "data": {
      "text/html": [
       "\n",
       "  <div id=\"df-6b640505-434d-44ee-bf0b-19d60da76c10\">\n",
       "    <div class=\"colab-df-container\">\n",
       "      <div>\n",
       "<style scoped>\n",
       "    .dataframe tbody tr th:only-of-type {\n",
       "        vertical-align: middle;\n",
       "    }\n",
       "\n",
       "    .dataframe tbody tr th {\n",
       "        vertical-align: top;\n",
       "    }\n",
       "\n",
       "    .dataframe thead th {\n",
       "        text-align: right;\n",
       "    }\n",
       "</style>\n",
       "<table border=\"1\" class=\"dataframe\">\n",
       "  <thead>\n",
       "    <tr style=\"text-align: right;\">\n",
       "      <th></th>\n",
       "      <th>id</th>\n",
       "      <th>document</th>\n",
       "      <th>label</th>\n",
       "    </tr>\n",
       "  </thead>\n",
       "  <tbody>\n",
       "    <tr>\n",
       "      <th>0</th>\n",
       "      <td>8112052</td>\n",
       "      <td>어릴때보고 지금다시봐도 재밌어요ㅋㅋ</td>\n",
       "      <td>1</td>\n",
       "    </tr>\n",
       "    <tr>\n",
       "      <th>1</th>\n",
       "      <td>8132799</td>\n",
       "      <td>디자인을 배우는 학생으로, 외국디자이너와 그들이 일군 전통을 통해 발전해가는 문화산...</td>\n",
       "      <td>1</td>\n",
       "    </tr>\n",
       "    <tr>\n",
       "      <th>2</th>\n",
       "      <td>4655635</td>\n",
       "      <td>폴리스스토리 시리즈는 1부터 뉴까지 버릴께 하나도 없음.. 최고.</td>\n",
       "      <td>1</td>\n",
       "    </tr>\n",
       "    <tr>\n",
       "      <th>3</th>\n",
       "      <td>9251303</td>\n",
       "      <td>와.. 연기가 진짜 개쩔구나.. 지루할거라고 생각했는데 몰입해서 봤다.. 그래 이런...</td>\n",
       "      <td>1</td>\n",
       "    </tr>\n",
       "    <tr>\n",
       "      <th>4</th>\n",
       "      <td>10067386</td>\n",
       "      <td>안개 자욱한 밤하늘에 떠 있는 초승달 같은 영화.</td>\n",
       "      <td>1</td>\n",
       "    </tr>\n",
       "  </tbody>\n",
       "</table>\n",
       "</div>\n",
       "      <button class=\"colab-df-convert\" onclick=\"convertToInteractive('df-6b640505-434d-44ee-bf0b-19d60da76c10')\"\n",
       "              title=\"Convert this dataframe to an interactive table.\"\n",
       "              style=\"display:none;\">\n",
       "        \n",
       "  <svg xmlns=\"http://www.w3.org/2000/svg\" height=\"24px\"viewBox=\"0 0 24 24\"\n",
       "       width=\"24px\">\n",
       "    <path d=\"M0 0h24v24H0V0z\" fill=\"none\"/>\n",
       "    <path d=\"M18.56 5.44l.94 2.06.94-2.06 2.06-.94-2.06-.94-.94-2.06-.94 2.06-2.06.94zm-11 1L8.5 8.5l.94-2.06 2.06-.94-2.06-.94L8.5 2.5l-.94 2.06-2.06.94zm10 10l.94 2.06.94-2.06 2.06-.94-2.06-.94-.94-2.06-.94 2.06-2.06.94z\"/><path d=\"M17.41 7.96l-1.37-1.37c-.4-.4-.92-.59-1.43-.59-.52 0-1.04.2-1.43.59L10.3 9.45l-7.72 7.72c-.78.78-.78 2.05 0 2.83L4 21.41c.39.39.9.59 1.41.59.51 0 1.02-.2 1.41-.59l7.78-7.78 2.81-2.81c.8-.78.8-2.07 0-2.86zM5.41 20L4 18.59l7.72-7.72 1.47 1.35L5.41 20z\"/>\n",
       "  </svg>\n",
       "      </button>\n",
       "      \n",
       "  <style>\n",
       "    .colab-df-container {\n",
       "      display:flex;\n",
       "      flex-wrap:wrap;\n",
       "      gap: 12px;\n",
       "    }\n",
       "\n",
       "    .colab-df-convert {\n",
       "      background-color: #E8F0FE;\n",
       "      border: none;\n",
       "      border-radius: 50%;\n",
       "      cursor: pointer;\n",
       "      display: none;\n",
       "      fill: #1967D2;\n",
       "      height: 32px;\n",
       "      padding: 0 0 0 0;\n",
       "      width: 32px;\n",
       "    }\n",
       "\n",
       "    .colab-df-convert:hover {\n",
       "      background-color: #E2EBFA;\n",
       "      box-shadow: 0px 1px 2px rgba(60, 64, 67, 0.3), 0px 1px 3px 1px rgba(60, 64, 67, 0.15);\n",
       "      fill: #174EA6;\n",
       "    }\n",
       "\n",
       "    [theme=dark] .colab-df-convert {\n",
       "      background-color: #3B4455;\n",
       "      fill: #D2E3FC;\n",
       "    }\n",
       "\n",
       "    [theme=dark] .colab-df-convert:hover {\n",
       "      background-color: #434B5C;\n",
       "      box-shadow: 0px 1px 3px 1px rgba(0, 0, 0, 0.15);\n",
       "      filter: drop-shadow(0px 1px 2px rgba(0, 0, 0, 0.3));\n",
       "      fill: #FFFFFF;\n",
       "    }\n",
       "  </style>\n",
       "\n",
       "      <script>\n",
       "        const buttonEl =\n",
       "          document.querySelector('#df-6b640505-434d-44ee-bf0b-19d60da76c10 button.colab-df-convert');\n",
       "        buttonEl.style.display =\n",
       "          google.colab.kernel.accessAllowed ? 'block' : 'none';\n",
       "\n",
       "        async function convertToInteractive(key) {\n",
       "          const element = document.querySelector('#df-6b640505-434d-44ee-bf0b-19d60da76c10');\n",
       "          const dataTable =\n",
       "            await google.colab.kernel.invokeFunction('convertToInteractive',\n",
       "                                                     [key], {});\n",
       "          if (!dataTable) return;\n",
       "\n",
       "          const docLinkHtml = 'Like what you see? Visit the ' +\n",
       "            '<a target=\"_blank\" href=https://colab.research.google.com/notebooks/data_table.ipynb>data table notebook</a>'\n",
       "            + ' to learn more about interactive tables.';\n",
       "          element.innerHTML = '';\n",
       "          dataTable['output_type'] = 'display_data';\n",
       "          await google.colab.output.renderOutput(dataTable, element);\n",
       "          const docLink = document.createElement('div');\n",
       "          docLink.innerHTML = docLinkHtml;\n",
       "          element.appendChild(docLink);\n",
       "        }\n",
       "      </script>\n",
       "    </div>\n",
       "  </div>\n",
       "  "
      ],
      "text/plain": [
       "         id                                           document  label\n",
       "0   8112052                                어릴때보고 지금다시봐도 재밌어요ㅋㅋ      1\n",
       "1   8132799  디자인을 배우는 학생으로, 외국디자이너와 그들이 일군 전통을 통해 발전해가는 문화산...      1\n",
       "2   4655635               폴리스스토리 시리즈는 1부터 뉴까지 버릴께 하나도 없음.. 최고.      1\n",
       "3   9251303  와.. 연기가 진짜 개쩔구나.. 지루할거라고 생각했는데 몰입해서 봤다.. 그래 이런...      1\n",
       "4  10067386                        안개 자욱한 밤하늘에 떠 있는 초승달 같은 영화.      1"
      ]
     },
     "execution_count": 70,
     "metadata": {},
     "output_type": "execute_result"
    }
   ],
   "source": [
    "naver_df = pd.read_table('ratings.txt')\n",
    "naver_df.head()"
   ]
  },
  {
   "cell_type": "code",
   "execution_count": null,
   "metadata": {
    "colab": {
     "base_uri": "https://localhost:8080/"
    },
    "id": "3dk4krjFFYd6",
    "outputId": "406ace7e-ad07-48b9-bddb-1fda9e0de4ce"
   },
   "outputs": [
    {
     "name": "stdout",
     "output_type": "stream",
     "text": [
      "True\n"
     ]
    }
   ],
   "source": [
    "print(naver_df.isnull().values.any())"
   ]
  },
  {
   "cell_type": "code",
   "execution_count": null,
   "metadata": {
    "colab": {
     "base_uri": "https://localhost:8080/"
    },
    "id": "BpXiv7emFl4_",
    "outputId": "4a95df59-ca13-44f7-a82b-17951bd63afb"
   },
   "outputs": [
    {
     "name": "stdout",
     "output_type": "stream",
     "text": [
      "              id                                           document  label\n",
      "159438   1783503                          이게 스릴러냐? 정말 뻔해도 너무 뻔하네...      0\n",
      "107013   8467790                        아무리 영화라지만 정서상으로나 말도안되는 스토리네      0\n",
      "29899   10059406                   이거 어렷을때 봣을때 조금무섭긴햇는데 그래도 볼만햇던거같음      1\n",
      "11563    8688633  유아인을 비롯해 배우들 연기도 좋고 이 정도면 상업영화로 볼만하지 않나 싶은데 평점...      1\n",
      "151139    701677              아무 단서 없는 연쇄살인사건.. 100분 내내 답답하고 갑갑하다..      0\n",
      "185737   6006023                              성질죽이기를 가르치는 성질 돋구는 영화      0\n",
      "129648   6774189   보고 생각했는데 연기력이 좀.....연기력만 살리면 좋은 점수 줄 수 있을거 같습니다.      0\n",
      "148769   1906801               이렇게 재미없게 만들기도 힘들다. 아마추어가 만든듯한 연출과 구성      0\n",
      "67279    2489496                               조디의 연기는 .. 너무아름다운영화.      1\n",
      "88663    9813787                          지금 개봉해도 전혀 부족함없이 흥행할 영화다.      1\n"
     ]
    }
   ],
   "source": [
    "# Null값이 존재하는 행 제거\n",
    "naver_df = naver_df.dropna(how='any')\n",
    "# Null값이 존재하는지 확인하기\n",
    "print(naver_df.sample(10))"
   ]
  },
  {
   "cell_type": "code",
   "execution_count": null,
   "metadata": {
    "colab": {
     "base_uri": "https://localhost:8080/"
    },
    "id": "V762nHcyFnc4",
    "outputId": "6c919b12-18c4-4f7f-f55d-6426e511f23b"
   },
   "outputs": [
    {
     "name": "stdout",
     "output_type": "stream",
     "text": [
      "리뷰 갯수 : 199992\n"
     ]
    }
   ],
   "source": [
    "print(\"리뷰 갯수 :\", len(naver_df))"
   ]
  },
  {
   "cell_type": "code",
   "execution_count": null,
   "metadata": {
    "id": "7CfHrhNaF5Xy"
   },
   "outputs": [],
   "source": [
    "with open(\"naver_review.txt\", \"w\", encoding = \"utf-8\") as f:\n",
    "  f.write(\"\\n\".join(naver_df[\"document\"]))"
   ]
  },
  {
   "cell_type": "code",
   "execution_count": null,
   "metadata": {
    "id": "QplobBoJGE9T"
   },
   "outputs": [],
   "source": [
    "spm.SentencePieceTrainer.Train('--input=naver_review.txt --model_prefix=naver --vocab_size=5000 --model_type=bpe --max_sentence_length=9999')"
   ]
  },
  {
   "cell_type": "code",
   "execution_count": null,
   "metadata": {
    "colab": {
     "base_uri": "https://localhost:8080/",
     "height": 363
    },
    "id": "LCN9wx58Ge9i",
    "outputId": "accf09d0-c55e-4478-de86-0d39ff7b386b"
   },
   "outputs": [
    {
     "data": {
      "text/html": [
       "\n",
       "  <div id=\"df-f01d1dd3-65a4-4e89-90a2-c5640ab9a84f\">\n",
       "    <div class=\"colab-df-container\">\n",
       "      <div>\n",
       "<style scoped>\n",
       "    .dataframe tbody tr th:only-of-type {\n",
       "        vertical-align: middle;\n",
       "    }\n",
       "\n",
       "    .dataframe tbody tr th {\n",
       "        vertical-align: top;\n",
       "    }\n",
       "\n",
       "    .dataframe thead th {\n",
       "        text-align: right;\n",
       "    }\n",
       "</style>\n",
       "<table border=\"1\" class=\"dataframe\">\n",
       "  <thead>\n",
       "    <tr style=\"text-align: right;\">\n",
       "      <th></th>\n",
       "      <th>0</th>\n",
       "      <th>1</th>\n",
       "    </tr>\n",
       "  </thead>\n",
       "  <tbody>\n",
       "    <tr>\n",
       "      <th>0</th>\n",
       "      <td>&lt;unk&gt;</td>\n",
       "      <td>0</td>\n",
       "    </tr>\n",
       "    <tr>\n",
       "      <th>1</th>\n",
       "      <td>&lt;s&gt;</td>\n",
       "      <td>0</td>\n",
       "    </tr>\n",
       "    <tr>\n",
       "      <th>2</th>\n",
       "      <td>&lt;/s&gt;</td>\n",
       "      <td>0</td>\n",
       "    </tr>\n",
       "    <tr>\n",
       "      <th>3</th>\n",
       "      <td>..</td>\n",
       "      <td>0</td>\n",
       "    </tr>\n",
       "    <tr>\n",
       "      <th>4</th>\n",
       "      <td>영화</td>\n",
       "      <td>-1</td>\n",
       "    </tr>\n",
       "    <tr>\n",
       "      <th>5</th>\n",
       "      <td>▁영화</td>\n",
       "      <td>-2</td>\n",
       "    </tr>\n",
       "    <tr>\n",
       "      <th>6</th>\n",
       "      <td>▁이</td>\n",
       "      <td>-3</td>\n",
       "    </tr>\n",
       "    <tr>\n",
       "      <th>7</th>\n",
       "      <td>▁아</td>\n",
       "      <td>-4</td>\n",
       "    </tr>\n",
       "    <tr>\n",
       "      <th>8</th>\n",
       "      <td>...</td>\n",
       "      <td>-5</td>\n",
       "    </tr>\n",
       "    <tr>\n",
       "      <th>9</th>\n",
       "      <td>▁그</td>\n",
       "      <td>-6</td>\n",
       "    </tr>\n",
       "  </tbody>\n",
       "</table>\n",
       "</div>\n",
       "      <button class=\"colab-df-convert\" onclick=\"convertToInteractive('df-f01d1dd3-65a4-4e89-90a2-c5640ab9a84f')\"\n",
       "              title=\"Convert this dataframe to an interactive table.\"\n",
       "              style=\"display:none;\">\n",
       "        \n",
       "  <svg xmlns=\"http://www.w3.org/2000/svg\" height=\"24px\"viewBox=\"0 0 24 24\"\n",
       "       width=\"24px\">\n",
       "    <path d=\"M0 0h24v24H0V0z\" fill=\"none\"/>\n",
       "    <path d=\"M18.56 5.44l.94 2.06.94-2.06 2.06-.94-2.06-.94-.94-2.06-.94 2.06-2.06.94zm-11 1L8.5 8.5l.94-2.06 2.06-.94-2.06-.94L8.5 2.5l-.94 2.06-2.06.94zm10 10l.94 2.06.94-2.06 2.06-.94-2.06-.94-.94-2.06-.94 2.06-2.06.94z\"/><path d=\"M17.41 7.96l-1.37-1.37c-.4-.4-.92-.59-1.43-.59-.52 0-1.04.2-1.43.59L10.3 9.45l-7.72 7.72c-.78.78-.78 2.05 0 2.83L4 21.41c.39.39.9.59 1.41.59.51 0 1.02-.2 1.41-.59l7.78-7.78 2.81-2.81c.8-.78.8-2.07 0-2.86zM5.41 20L4 18.59l7.72-7.72 1.47 1.35L5.41 20z\"/>\n",
       "  </svg>\n",
       "      </button>\n",
       "      \n",
       "  <style>\n",
       "    .colab-df-container {\n",
       "      display:flex;\n",
       "      flex-wrap:wrap;\n",
       "      gap: 12px;\n",
       "    }\n",
       "\n",
       "    .colab-df-convert {\n",
       "      background-color: #E8F0FE;\n",
       "      border: none;\n",
       "      border-radius: 50%;\n",
       "      cursor: pointer;\n",
       "      display: none;\n",
       "      fill: #1967D2;\n",
       "      height: 32px;\n",
       "      padding: 0 0 0 0;\n",
       "      width: 32px;\n",
       "    }\n",
       "\n",
       "    .colab-df-convert:hover {\n",
       "      background-color: #E2EBFA;\n",
       "      box-shadow: 0px 1px 2px rgba(60, 64, 67, 0.3), 0px 1px 3px 1px rgba(60, 64, 67, 0.15);\n",
       "      fill: #174EA6;\n",
       "    }\n",
       "\n",
       "    [theme=dark] .colab-df-convert {\n",
       "      background-color: #3B4455;\n",
       "      fill: #D2E3FC;\n",
       "    }\n",
       "\n",
       "    [theme=dark] .colab-df-convert:hover {\n",
       "      background-color: #434B5C;\n",
       "      box-shadow: 0px 1px 3px 1px rgba(0, 0, 0, 0.15);\n",
       "      filter: drop-shadow(0px 1px 2px rgba(0, 0, 0, 0.3));\n",
       "      fill: #FFFFFF;\n",
       "    }\n",
       "  </style>\n",
       "\n",
       "      <script>\n",
       "        const buttonEl =\n",
       "          document.querySelector('#df-f01d1dd3-65a4-4e89-90a2-c5640ab9a84f button.colab-df-convert');\n",
       "        buttonEl.style.display =\n",
       "          google.colab.kernel.accessAllowed ? 'block' : 'none';\n",
       "\n",
       "        async function convertToInteractive(key) {\n",
       "          const element = document.querySelector('#df-f01d1dd3-65a4-4e89-90a2-c5640ab9a84f');\n",
       "          const dataTable =\n",
       "            await google.colab.kernel.invokeFunction('convertToInteractive',\n",
       "                                                     [key], {});\n",
       "          if (!dataTable) return;\n",
       "\n",
       "          const docLinkHtml = 'Like what you see? Visit the ' +\n",
       "            '<a target=\"_blank\" href=https://colab.research.google.com/notebooks/data_table.ipynb>data table notebook</a>'\n",
       "            + ' to learn more about interactive tables.';\n",
       "          element.innerHTML = '';\n",
       "          dataTable['output_type'] = 'display_data';\n",
       "          await google.colab.output.renderOutput(dataTable, element);\n",
       "          const docLink = document.createElement('div');\n",
       "          docLink.innerHTML = docLinkHtml;\n",
       "          element.appendChild(docLink);\n",
       "        }\n",
       "      </script>\n",
       "    </div>\n",
       "  </div>\n",
       "  "
      ],
      "text/plain": [
       "       0  1\n",
       "0  <unk>  0\n",
       "1    <s>  0\n",
       "2   </s>  0\n",
       "3     ..  0\n",
       "4     영화 -1\n",
       "5    ▁영화 -2\n",
       "6     ▁이 -3\n",
       "7     ▁아 -4\n",
       "8    ... -5\n",
       "9     ▁그 -6"
      ]
     },
     "execution_count": 45,
     "metadata": {},
     "output_type": "execute_result"
    }
   ],
   "source": [
    "# vocab을 불러오기 pd.read_csv\n",
    "vocab_list = pd.read_csv('naver.vocab', sep='\\t', header=None, quoting=csv.QUOTE_NONE)\n",
    "vocab_list.head(10)"
   ]
  },
  {
   "cell_type": "code",
   "execution_count": null,
   "metadata": {
    "colab": {
     "base_uri": "https://localhost:8080/"
    },
    "id": "BnI12r9CHNe6",
    "outputId": "99e86c69-d18e-474b-d544-62543829dc56"
   },
   "outputs": [
    {
     "data": {
      "text/plain": [
       "True"
      ]
     },
     "execution_count": 46,
     "metadata": {},
     "output_type": "execute_result"
    }
   ],
   "source": [
    "sp = spm.SentencePieceProcessor()\n",
    "vocab_file = \"naver.model\"\n",
    "sp.load(vocab_file)"
   ]
  },
  {
   "cell_type": "code",
   "execution_count": null,
   "metadata": {
    "colab": {
     "base_uri": "https://localhost:8080/"
    },
    "id": "3svlJeK3HO8_",
    "outputId": "f1e41904-ec68-4ba6-843d-9545400340f5"
   },
   "outputs": [
    {
     "name": "stdout",
     "output_type": "stream",
     "text": [
      "뭐 이딴 것도 영화냐.\n",
      "['▁뭐', '▁이딴', '▁것도', '▁영화냐', '.']\n",
      "진짜 최고의 영화입니다ㅋㅋ\n",
      "['▁진짜', '▁최고의', '▁영화입니다', 'ᄏᄏ']\n"
     ]
    }
   ],
   "source": [
    "lines = [\n",
    "         \"뭐 이딴 것도 영화냐.\",\n",
    "         \"진짜 최고의 영화입니다ㅋㅋ\",\n",
    "]\n",
    "for line in lines:\n",
    "    print(line)\n",
    "    print(sp.encode_as_pieces(line))"
   ]
  },
  {
   "cell_type": "code",
   "execution_count": null,
   "metadata": {
    "colab": {
     "base_uri": "https://localhost:8080/"
    },
    "id": "6dDOIkfNHQcB",
    "outputId": "3ae9b18c-ecb5-4949-b2ab-4563eb26df94"
   },
   "outputs": [
    {
     "data": {
      "text/plain": [
       "5000"
      ]
     },
     "execution_count": 48,
     "metadata": {},
     "output_type": "execute_result"
    }
   ],
   "source": [
    "sp.GetPieceSize()"
   ]
  },
  {
   "cell_type": "code",
   "execution_count": null,
   "metadata": {
    "colab": {
     "base_uri": "https://localhost:8080/",
     "height": 35
    },
    "id": "MJNgjz1mHTFX",
    "outputId": "586debe2-034b-423e-82dd-52232cd25a94"
   },
   "outputs": [
    {
     "data": {
      "application/vnd.google.colaboratory.intrinsic+json": {
       "type": "string"
      },
      "text/plain": [
       "'영화'"
      ]
     },
     "execution_count": 49,
     "metadata": {},
     "output_type": "execute_result"
    }
   ],
   "source": [
    "sp.IdToPiece(4)"
   ]
  },
  {
   "cell_type": "code",
   "execution_count": null,
   "metadata": {
    "colab": {
     "base_uri": "https://localhost:8080/"
    },
    "id": "OGy3JM7sHU6l",
    "outputId": "e453769f-6bad-4e1f-f2df-eb1db1156036"
   },
   "outputs": [
    {
     "data": {
      "text/plain": [
       "4"
      ]
     },
     "execution_count": 50,
     "metadata": {},
     "output_type": "execute_result"
    }
   ],
   "source": [
    "sp.PieceToId(\"영화\")"
   ]
  },
  {
   "cell_type": "code",
   "execution_count": null,
   "metadata": {
    "colab": {
     "base_uri": "https://localhost:8080/",
     "height": 35
    },
    "id": "eePvjO05HXRc",
    "outputId": "f572afd9-1fea-49b7-d904-6d0a80b16479"
   },
   "outputs": [
    {
     "data": {
      "application/vnd.google.colaboratory.intrinsic+json": {
       "type": "string"
      },
      "text/plain": [
       "'뭐 이딴 것도 영화냐.'"
      ]
     },
     "execution_count": 51,
     "metadata": {},
     "output_type": "execute_result"
    }
   ],
   "source": [
    "sp.DecodeIds([132, 966, 1296, 2590, 3276])"
   ]
  },
  {
   "cell_type": "code",
   "execution_count": null,
   "metadata": {
    "colab": {
     "base_uri": "https://localhost:8080/",
     "height": 35
    },
    "id": "_venwWxEHdyX",
    "outputId": "0999a858-179d-4b3d-be42-d90a7bd3d1a2"
   },
   "outputs": [
    {
     "data": {
      "application/vnd.google.colaboratory.intrinsic+json": {
       "type": "string"
      },
      "text/plain": [
       "'뭐 이딴 것도 영화냐.'"
      ]
     },
     "execution_count": 52,
     "metadata": {},
     "output_type": "execute_result"
    }
   ],
   "source": [
    "sp.DecodePieces(['▁뭐', '▁이딴', '▁것도', '▁영화냐', '.'])"
   ]
  },
  {
   "cell_type": "code",
   "execution_count": null,
   "metadata": {
    "colab": {
     "base_uri": "https://localhost:8080/"
    },
    "id": "O4gxb9ZrHtxa",
    "outputId": "76f4d046-e66a-480c-88ba-3532b844cdb8"
   },
   "outputs": [
    {
     "name": "stdout",
     "output_type": "stream",
     "text": [
      "['▁진짜', '▁최고의', '▁영화입니다', '▁ᄏᄏ']\n",
      "[54, 200, 821, 85]\n"
     ]
    }
   ],
   "source": [
    "print(sp.encode('진짜 최고의 영화입니다 ㅋㅋ', out_type=str))\n",
    "print(sp.encode('진짜 최고의 영화입니다 ㅋㅋ', out_type=int))"
   ]
  },
  {
   "cell_type": "code",
   "execution_count": null,
   "metadata": {
    "colab": {
     "base_uri": "https://localhost:8080/"
    },
    "id": "fOoYPgB6J7zV",
    "outputId": "46a77551-5eba-462a-b624-8b0706a915f4"
   },
   "outputs": [
    {
     "name": "stdout",
     "output_type": "stream",
     "text": [
      "Collecting konlpy\n",
      "  Downloading konlpy-0.6.0-py2.py3-none-any.whl (19.4 MB)\n",
      "\u001b[K     |████████████████████████████████| 19.4 MB 3.6 MB/s \n",
      "\u001b[?25hCollecting JPype1>=0.7.0\n",
      "  Downloading JPype1-1.3.0-cp37-cp37m-manylinux_2_5_x86_64.manylinux1_x86_64.whl (448 kB)\n",
      "\u001b[K     |████████████████████████████████| 448 kB 55.3 MB/s \n",
      "\u001b[?25hRequirement already satisfied: lxml>=4.1.0 in /usr/local/lib/python3.7/dist-packages (from konlpy) (4.2.6)\n",
      "Requirement already satisfied: numpy>=1.6 in /usr/local/lib/python3.7/dist-packages (from konlpy) (1.19.5)\n",
      "Requirement already satisfied: typing-extensions in /usr/local/lib/python3.7/dist-packages (from JPype1>=0.7.0->konlpy) (3.10.0.2)\n",
      "Installing collected packages: JPype1, konlpy\n",
      "Successfully installed JPype1-1.3.0 konlpy-0.6.0\n"
     ]
    }
   ],
   "source": [
    "!pip install konlpy"
   ]
  },
  {
   "cell_type": "code",
   "execution_count": null,
   "metadata": {
    "id": "viktGhxgKfOP"
   },
   "outputs": [],
   "source": [
    "!git clone https://github.com/SOMJANG/Mecab-ko-for-Google-Colab.git \n",
    "%cd Mecab-ko-for-Google-Colab/\n",
    "!bash install_mecab-ko_on_colab190912.sh\n",
    "%cd ../"
   ]
  },
  {
   "cell_type": "code",
   "execution_count": null,
   "metadata": {
    "id": "uDSxrtI3J4UX"
   },
   "outputs": [],
   "source": [
    "import pandas as pd\n",
    "import urllib.request\n",
    "import matplotlib.pyplot as plt\n",
    "import re\n",
    "from konlpy.tag import Okt\n",
    "from tensorflow import keras\n",
    "from tensorflow.keras.preprocessing.text import Tokenizer\n",
    "import numpy as np\n",
    "from tensorflow.keras.preprocessing.sequence import pad_sequences\n",
    "from collections import Counter"
   ]
  },
  {
   "cell_type": "code",
   "execution_count": null,
   "metadata": {
    "colab": {
     "base_uri": "https://localhost:8080/"
    },
    "id": "Zd_jui8ZJ4yS",
    "outputId": "f1133ceb-baf1-4134-bee6-dcca6d3efeda"
   },
   "outputs": [
    {
     "data": {
      "text/plain": [
       "('ratings_test.txt', <http.client.HTTPMessage at 0x7efc89b13410>)"
      ]
     },
     "execution_count": 42,
     "metadata": {},
     "output_type": "execute_result"
    }
   ],
   "source": [
    "urllib.request.urlretrieve(\"https://raw.githubusercontent.com/e9t/nsmc/master/ratings_train.txt\", filename=\"ratings_train.txt\")\n",
    "urllib.request.urlretrieve(\"https://raw.githubusercontent.com/e9t/nsmc/master/ratings_test.txt\", filename=\"ratings_test.txt\")"
   ]
  },
  {
   "cell_type": "code",
   "execution_count": null,
   "metadata": {
    "id": "cokt0CS9Q8-d"
   },
   "outputs": [],
   "source": [
    "train_data = pd.read_table('ratings_train.txt')\n",
    "test_data = pd.read_table('ratings_test.txt')"
   ]
  },
  {
   "cell_type": "code",
   "execution_count": null,
   "metadata": {
    "id": "pSWxlfdMJ6nN"
   },
   "outputs": [],
   "source": [
    "from konlpy.tag import Mecab\n",
    "\n",
    "def tokenize_and_remove_stopwords(data, stopwords, tokenizer):\n",
    "  result = []\n",
    "\n",
    "  for sentence in data:\n",
    "    curr_data = []\n",
    "    curr_data = tokenizer.morphs(sentence)\n",
    "    curr_data = [word for word in curr_data if not word in stopwords]\n",
    "    result.append(curr_data)\n",
    "  return result"
   ]
  },
  {
   "cell_type": "code",
   "execution_count": null,
   "metadata": {
    "id": "1qDj94hVMkFa"
   },
   "outputs": [],
   "source": [
    "tokenizer = Mecab()\n",
    "stopwords = ['의','가','이','은','들','는','좀','잘',\n",
    "             '걍','과','도','를','으로','자','에','와','한','하다']"
   ]
  },
  {
   "cell_type": "code",
   "execution_count": null,
   "metadata": {
    "id": "B5DSSacENK1A"
   },
   "outputs": [],
   "source": [
    "def load_data(train_data, test_data, num_words = 10000):\n",
    "  # 중복 제거\n",
    "  train_data.drop_duplicates(subset = [\"document\"], inplace = True)\n",
    "  test_data.drop_duplicates(subset = [\"document\"], inplace = True)\n",
    "\n",
    "  # NaN 결측치 제거\n",
    "  train_data = train_data.dropna(how = \"any\")\n",
    "  test_data = test_data.dropna(how = \"any\")\n",
    "\n",
    "  # 토큰화 및 불용어 제거\n",
    "  x_train = tokenize_and_remove_stopwords(train_data[\"document\"], stopwords, tokenizer)\n",
    "  x_test = tokenize_and_remove_stopwords(test_data[\"document\"], stopwords, tokenizer)\n",
    "\n",
    "  # 단어장\n",
    "  words = np.concatenate(x_train).tolist()\n",
    "  counter = Counter(words)\n",
    "  counter = counter.most_common(10000-4)\n",
    "  vocab = [\"<PAD>\", \"<BOS>\", \"<UNK>\", \"<UNUSED>\"] + [key for key, _ in counter]\n",
    "  word_to_index = {word:index for index, word in enumerate(vocab)}\n",
    "\n",
    "  def wordlist_to_indexlist(wordlist):\n",
    "    return [word_to_index[word] if word in word_to_index else word_to_index[\"<UNK>\"] for word in wordlist]\n",
    "\n",
    "  x_train = list(map(wordlist_to_indexlist, x_train))\n",
    "  x_test = list(map(wordlist_to_indexlist, x_test))\n",
    "\n",
    "  return x_train, np.array(list(train_data[\"label\"])), x_test, np.array(list(test_data[\"label\"])), word_to_index"
   ]
  },
  {
   "cell_type": "code",
   "execution_count": null,
   "metadata": {
    "id": "DZHtmZq0P627"
   },
   "outputs": [],
   "source": [
    "x_train, y_train, x_test, y_test, word_to_index = load_data(train_data, test_data)"
   ]
  },
  {
   "cell_type": "code",
   "execution_count": null,
   "metadata": {
    "colab": {
     "base_uri": "https://localhost:8080/"
    },
    "id": "O2lyK0MIRglx",
    "outputId": "80e99bdd-4b72-4927-8071-5c901714b1d9"
   },
   "outputs": [
    {
     "name": "stdout",
     "output_type": "stream",
     "text": [
      "[2, 4, 39, 229, 6, 535]\n"
     ]
    }
   ],
   "source": [
    "print(x_train[10])"
   ]
  },
  {
   "cell_type": "code",
   "execution_count": null,
   "metadata": {
    "id": "0h71Ni4CSYjX"
   },
   "outputs": [],
   "source": [
    "index_to_word = {index:word for word, index in word_to_index.items()}"
   ]
  },
  {
   "cell_type": "code",
   "execution_count": null,
   "metadata": {
    "id": "oJUTRismSdga"
   },
   "outputs": [],
   "source": [
    "#문장 1개를 활용할 딕셔너리와 함께 주면, 단어 인덱스 리스트 벡터로 변환해 주는 함수입니다.\n",
    "# 단, 모든 문장은 <BOS>로 시작하는 것을 합니다.\n",
    "def get_encoded_sentence(sentence, word_to_index):\n",
    "  return [word_to_index[\"<BOS>\"]] + [word_to_index[word] if word in word_to_index else word_to_index[\"<UNK>\"] for word in sentence.split()]\n",
    "\n",
    "# 여러 개의 문장 리스트를 한꺼번에 단어 인덱스 리스트 벡터로 encode해 주는 함수입니다.\n",
    "def get_encoded_sentences(sentences, word_to_index):\n",
    "  return [get_encoded_sentence(sentence, word_to_index) for sentence in sentences]\n",
    "\n",
    "# 숫자 벡터로 encode 된 문장을 원래대로 decode 하는 함수\n",
    "def get_decoded_sentence(encoded_sentence, index_to_word):\n",
    "  return \" \".join(index_to_word[index] if index in index_to_word else \"<UNK>\" for index in encoded_sentence[1:])\n",
    "\n",
    "# 여러개의 숫자 벡터로 encode된 문장을 한꺼번에 원래대로 decode 하는 함수입니다.\n",
    "def get_decoded_sentences(encoded_sentences, index_to_word):\n",
    "  return [get_decoded_sentence(encoded_sentence, index_to_word) for encoded_sentence in encoded_sentences]"
   ]
  },
  {
   "cell_type": "code",
   "execution_count": null,
   "metadata": {
    "colab": {
     "base_uri": "https://localhost:8080/",
     "height": 35
    },
    "id": "lRhtthM1Tj1p",
    "outputId": "bfa038a4-346e-4df5-fecf-5da6fbf41b43"
   },
   "outputs": [
    {
     "data": {
      "application/vnd.google.colaboratory.intrinsic+json": {
       "type": "string"
      },
      "text/plain": [
       "'. 진짜 짱 다 ♥'"
      ]
     },
     "execution_count": 52,
     "metadata": {},
     "output_type": "execute_result"
    }
   ],
   "source": [
    "get_decoded_sentence(x_train[10], index_to_word)"
   ]
  },
  {
   "cell_type": "code",
   "execution_count": null,
   "metadata": {
    "colab": {
     "base_uri": "https://localhost:8080/"
    },
    "id": "VliGfVU8TnQe",
    "outputId": "d3c62e88-ec96-4dd8-97d8-a93ff78c9875"
   },
   "outputs": [
    {
     "name": "stdout",
     "output_type": "stream",
     "text": [
      "평균 :  15.96940191154864\n",
      "최대 :  116\n",
      "표준편차 :  12.843571191092\n",
      "pad sequences maxlen :  41\n",
      "전체 문장의 0.9342988343341575%가 maxlen 설정 값 이내에 포함됩니다.\n"
     ]
    }
   ],
   "source": [
    "# 데이터셋 내 문장 길이 분포\n",
    "total_data_text = list(x_train) + list(x_test)\n",
    "# 텍스트데이터 문장길이의 리스트를 생선한 후\n",
    "num_tokens = [len(tokens) for tokens in total_data_text]\n",
    "num_tokens = np.array(num_tokens)\n",
    "\n",
    "# 문장 길이의 평균값, 최대값, 표준편차를 계산\n",
    "print(\"평균 : \", np.mean(num_tokens))\n",
    "print(\"최대 : \", np.max(num_tokens))\n",
    "print(\"표준편차 : \", np.std(num_tokens))\n",
    "\n",
    "# ex 최대 길이를 (평균 + 2 * 표준편차)로 한다면\n",
    "max_tokens = np.mean(num_tokens) + 2 * np.std(num_tokens)\n",
    "\n",
    "maxlen = int(max_tokens)\n",
    "print(\"pad sequences maxlen : \", maxlen)\n",
    "print(\"전체 문장의 {}%가 maxlen 설정 값 이내에 포함됩니다.\".format(np.sum(num_tokens < max_tokens) / len(num_tokens)))"
   ]
  },
  {
   "cell_type": "code",
   "execution_count": null,
   "metadata": {
    "colab": {
     "base_uri": "https://localhost:8080/"
    },
    "id": "gr0q1RP5UqFM",
    "outputId": "78770da5-d613-4e8c-f067-12748e83d1b8"
   },
   "outputs": [
    {
     "name": "stdout",
     "output_type": "stream",
     "text": [
      "(146182, 41) (49157, 41)\n"
     ]
    }
   ],
   "source": [
    "# 패딩 추가\n",
    "x_train = keras.preprocessing.sequence.pad_sequences(x_train, value = word_to_index[\"<PAD>\"], padding = \"pre\", maxlen = maxlen)\n",
    "x_test = keras.preprocessing.sequence.pad_sequences(x_test, value = word_to_index[\"<PAD>\"], padding = \"pre\", maxlen = maxlen)\n",
    "print(x_train.shape, x_test.shape)"
   ]
  },
  {
   "cell_type": "code",
   "execution_count": null,
   "metadata": {
    "colab": {
     "base_uri": "https://localhost:8080/"
    },
    "id": "JqhLh5XVVRA_",
    "outputId": "f2febe59-4922-4bd6-fbf6-eac8cf8ed256"
   },
   "outputs": [
    {
     "name": "stdout",
     "output_type": "stream",
     "text": [
      "Model: \"sequential_2\"\n",
      "_________________________________________________________________\n",
      " Layer (type)                Output Shape              Param #   \n",
      "=================================================================\n",
      " embedding_1 (Embedding)     (None, None, 200)         2000000   \n",
      "                                                                 \n",
      " lstm_1 (LSTM)               (None, 8)                 6688      \n",
      "                                                                 \n",
      " dense_2 (Dense)             (None, 8)                 72        \n",
      "                                                                 \n",
      " dense_3 (Dense)             (None, 1)                 9         \n",
      "                                                                 \n",
      "=================================================================\n",
      "Total params: 2,006,769\n",
      "Trainable params: 2,006,769\n",
      "Non-trainable params: 0\n",
      "_________________________________________________________________\n"
     ]
    }
   ],
   "source": [
    "vocab_size = 10000 \n",
    "word_vector_dim = 200 \n",
    "\n",
    "model = keras.Sequential()\n",
    "model.add(keras.layers.Embedding(vocab_size, word_vector_dim, input_shape=(None,)))\n",
    "model.add(keras.layers.LSTM(8))\n",
    "model.add(keras.layers.Dense(8, activation='relu'))\n",
    "model.add(keras.layers.Dense(1, activation='sigmoid'))\n",
    "model.summary()"
   ]
  },
  {
   "cell_type": "code",
   "execution_count": null,
   "metadata": {
    "id": "CkjoG4WEWU6A"
   },
   "outputs": [],
   "source": [
    "# validation set 분리 (임의로 50000건 설정)\n",
    "x_val = x_train[:50000]\n",
    "y_val = y_train[:50000]\n",
    "\n",
    "partial_x_train = x_train[50000:]\n",
    "partial_y_train = y_train[50000:]"
   ]
  },
  {
   "cell_type": "code",
   "execution_count": null,
   "metadata": {
    "colab": {
     "base_uri": "https://localhost:8080/"
    },
    "id": "0q4BURDVWj3p",
    "outputId": "1874dc1d-63d5-4283-8649-d09dcdda2af2"
   },
   "outputs": [
    {
     "name": "stdout",
     "output_type": "stream",
     "text": [
      "Epoch 1/100\n",
      "188/188 [==============================] - 4s 11ms/step - loss: 0.2204 - ACC: 0.9127 - val_loss: 0.3696 - val_ACC: 0.8519\n",
      "Epoch 2/100\n",
      "188/188 [==============================] - 2s 9ms/step - loss: 0.1985 - ACC: 0.9222 - val_loss: 0.3976 - val_ACC: 0.8488\n",
      "Epoch 3/100\n",
      "188/188 [==============================] - 2s 9ms/step - loss: 0.1820 - ACC: 0.9299 - val_loss: 0.4173 - val_ACC: 0.8496\n",
      "Epoch 4/100\n",
      "188/188 [==============================] - 2s 9ms/step - loss: 0.1656 - ACC: 0.9376 - val_loss: 0.4409 - val_ACC: 0.8450\n",
      "Epoch 5/100\n",
      "188/188 [==============================] - 2s 9ms/step - loss: 0.1522 - ACC: 0.9439 - val_loss: 0.4733 - val_ACC: 0.8439\n",
      "Epoch 6/100\n",
      "188/188 [==============================] - 2s 9ms/step - loss: 0.1382 - ACC: 0.9500 - val_loss: 0.5210 - val_ACC: 0.8419\n",
      "Epoch 7/100\n",
      "188/188 [==============================] - 2s 9ms/step - loss: 0.1285 - ACC: 0.9532 - val_loss: 0.5281 - val_ACC: 0.8384\n",
      "Epoch 8/100\n",
      "188/188 [==============================] - 2s 9ms/step - loss: 0.1186 - ACC: 0.9584 - val_loss: 0.5638 - val_ACC: 0.8377\n",
      "Epoch 9/100\n",
      "188/188 [==============================] - 2s 9ms/step - loss: 0.1095 - ACC: 0.9616 - val_loss: 0.5937 - val_ACC: 0.8371\n",
      "Epoch 10/100\n",
      "188/188 [==============================] - 2s 9ms/step - loss: 0.1029 - ACC: 0.9638 - val_loss: 0.6082 - val_ACC: 0.8318\n",
      "Epoch 11/100\n",
      "188/188 [==============================] - 2s 9ms/step - loss: 0.0982 - ACC: 0.9662 - val_loss: 0.6349 - val_ACC: 0.8313\n",
      "Epoch 12/100\n",
      "188/188 [==============================] - 2s 9ms/step - loss: 0.0926 - ACC: 0.9684 - val_loss: 0.6691 - val_ACC: 0.8357\n",
      "Epoch 13/100\n",
      "188/188 [==============================] - 2s 9ms/step - loss: 0.0837 - ACC: 0.9720 - val_loss: 0.7200 - val_ACC: 0.8331\n",
      "Epoch 14/100\n",
      "188/188 [==============================] - 2s 9ms/step - loss: 0.0787 - ACC: 0.9744 - val_loss: 0.7108 - val_ACC: 0.8285\n",
      "Epoch 15/100\n",
      "188/188 [==============================] - 2s 9ms/step - loss: 0.0760 - ACC: 0.9750 - val_loss: 0.7760 - val_ACC: 0.8307\n",
      "Epoch 16/100\n",
      "188/188 [==============================] - 2s 9ms/step - loss: 0.0713 - ACC: 0.9769 - val_loss: 0.7919 - val_ACC: 0.8301\n",
      "Epoch 17/100\n",
      "188/188 [==============================] - 2s 9ms/step - loss: 0.0715 - ACC: 0.9766 - val_loss: 0.8271 - val_ACC: 0.8300\n",
      "Epoch 18/100\n",
      "188/188 [==============================] - 2s 9ms/step - loss: 0.0644 - ACC: 0.9793 - val_loss: 0.8181 - val_ACC: 0.8264\n",
      "Epoch 19/100\n",
      "188/188 [==============================] - 2s 9ms/step - loss: 0.0645 - ACC: 0.9795 - val_loss: 0.8807 - val_ACC: 0.8314\n",
      "Epoch 20/100\n",
      "188/188 [==============================] - 2s 9ms/step - loss: 0.0626 - ACC: 0.9804 - val_loss: 0.8594 - val_ACC: 0.8250\n",
      "Epoch 21/100\n",
      "188/188 [==============================] - 2s 9ms/step - loss: 0.0560 - ACC: 0.9827 - val_loss: 0.8759 - val_ACC: 0.8269\n",
      "Epoch 22/100\n",
      "188/188 [==============================] - 2s 9ms/step - loss: 0.0528 - ACC: 0.9836 - val_loss: 0.9341 - val_ACC: 0.8268\n",
      "Epoch 23/100\n",
      "188/188 [==============================] - 2s 9ms/step - loss: 0.0551 - ACC: 0.9826 - val_loss: 0.9657 - val_ACC: 0.8270\n",
      "Epoch 24/100\n",
      "188/188 [==============================] - 2s 9ms/step - loss: 0.0563 - ACC: 0.9824 - val_loss: 0.9877 - val_ACC: 0.8255\n",
      "Epoch 25/100\n",
      "188/188 [==============================] - 2s 8ms/step - loss: 0.0527 - ACC: 0.9839 - val_loss: 0.9669 - val_ACC: 0.8276\n",
      "Epoch 26/100\n",
      "188/188 [==============================] - 2s 9ms/step - loss: 0.0493 - ACC: 0.9847 - val_loss: 0.9963 - val_ACC: 0.8266\n",
      "Epoch 27/100\n",
      "188/188 [==============================] - 2s 9ms/step - loss: 0.0437 - ACC: 0.9871 - val_loss: 1.0731 - val_ACC: 0.8262\n",
      "Epoch 28/100\n",
      "188/188 [==============================] - 2s 9ms/step - loss: 0.0399 - ACC: 0.9885 - val_loss: 1.1038 - val_ACC: 0.8250\n",
      "Epoch 29/100\n",
      "188/188 [==============================] - 2s 9ms/step - loss: 0.0404 - ACC: 0.9877 - val_loss: 1.0955 - val_ACC: 0.8232\n",
      "Epoch 30/100\n",
      "188/188 [==============================] - 2s 9ms/step - loss: 0.0400 - ACC: 0.9878 - val_loss: 1.1682 - val_ACC: 0.8235\n",
      "Epoch 31/100\n",
      "188/188 [==============================] - 2s 9ms/step - loss: 0.0401 - ACC: 0.9882 - val_loss: 1.1479 - val_ACC: 0.8253\n",
      "Epoch 32/100\n",
      "188/188 [==============================] - 2s 9ms/step - loss: 0.0420 - ACC: 0.9873 - val_loss: 1.1489 - val_ACC: 0.8246\n",
      "Epoch 33/100\n",
      "188/188 [==============================] - 2s 9ms/step - loss: 0.0424 - ACC: 0.9870 - val_loss: 1.1080 - val_ACC: 0.8231\n",
      "Epoch 34/100\n",
      "188/188 [==============================] - 2s 9ms/step - loss: 0.0385 - ACC: 0.9880 - val_loss: 1.2090 - val_ACC: 0.8251\n",
      "Epoch 35/100\n",
      "188/188 [==============================] - 2s 9ms/step - loss: 0.0351 - ACC: 0.9895 - val_loss: 1.1322 - val_ACC: 0.8204\n",
      "Epoch 36/100\n",
      "188/188 [==============================] - 2s 9ms/step - loss: 0.0348 - ACC: 0.9896 - val_loss: 1.2516 - val_ACC: 0.8249\n",
      "Epoch 37/100\n",
      "188/188 [==============================] - 2s 9ms/step - loss: 0.0397 - ACC: 0.9876 - val_loss: 1.2070 - val_ACC: 0.8235\n",
      "Epoch 38/100\n",
      "188/188 [==============================] - 2s 9ms/step - loss: 0.0373 - ACC: 0.9888 - val_loss: 1.2746 - val_ACC: 0.8251\n",
      "Epoch 39/100\n",
      "188/188 [==============================] - 2s 9ms/step - loss: 0.0339 - ACC: 0.9898 - val_loss: 1.2481 - val_ACC: 0.8238\n",
      "Epoch 40/100\n",
      "188/188 [==============================] - 2s 9ms/step - loss: 0.0327 - ACC: 0.9905 - val_loss: 1.2854 - val_ACC: 0.8237\n",
      "Epoch 41/100\n",
      "188/188 [==============================] - 2s 9ms/step - loss: 0.0308 - ACC: 0.9908 - val_loss: 1.2941 - val_ACC: 0.8235\n",
      "Epoch 42/100\n",
      "188/188 [==============================] - 2s 9ms/step - loss: 0.0281 - ACC: 0.9917 - val_loss: 1.3698 - val_ACC: 0.8196\n",
      "Epoch 43/100\n",
      "188/188 [==============================] - 2s 9ms/step - loss: 0.0287 - ACC: 0.9916 - val_loss: 1.4327 - val_ACC: 0.8233\n",
      "Epoch 44/100\n",
      "188/188 [==============================] - 2s 9ms/step - loss: 0.0324 - ACC: 0.9902 - val_loss: 1.3192 - val_ACC: 0.8192\n",
      "Epoch 45/100\n",
      "188/188 [==============================] - 2s 9ms/step - loss: 0.0317 - ACC: 0.9905 - val_loss: 1.4503 - val_ACC: 0.8203\n",
      "Epoch 46/100\n",
      "188/188 [==============================] - 2s 9ms/step - loss: 0.0318 - ACC: 0.9902 - val_loss: 1.4132 - val_ACC: 0.8210\n",
      "Epoch 47/100\n",
      "188/188 [==============================] - 2s 9ms/step - loss: 0.0299 - ACC: 0.9909 - val_loss: 1.3637 - val_ACC: 0.8221\n",
      "Epoch 48/100\n",
      "188/188 [==============================] - 2s 9ms/step - loss: 0.0285 - ACC: 0.9913 - val_loss: 1.3721 - val_ACC: 0.8230\n",
      "Epoch 49/100\n",
      "188/188 [==============================] - 2s 9ms/step - loss: 0.0259 - ACC: 0.9923 - val_loss: 1.4981 - val_ACC: 0.8227\n",
      "Epoch 50/100\n",
      "188/188 [==============================] - 2s 9ms/step - loss: 0.0290 - ACC: 0.9911 - val_loss: 1.4318 - val_ACC: 0.8224\n",
      "Epoch 51/100\n",
      "188/188 [==============================] - 2s 9ms/step - loss: 0.0288 - ACC: 0.9910 - val_loss: 1.4283 - val_ACC: 0.8226\n",
      "Epoch 52/100\n",
      "188/188 [==============================] - 2s 9ms/step - loss: 0.0299 - ACC: 0.9910 - val_loss: 1.3908 - val_ACC: 0.8227\n",
      "Epoch 53/100\n",
      "188/188 [==============================] - 2s 9ms/step - loss: 0.0271 - ACC: 0.9916 - val_loss: 1.5035 - val_ACC: 0.8233\n",
      "Epoch 54/100\n",
      "188/188 [==============================] - 2s 9ms/step - loss: 0.0262 - ACC: 0.9922 - val_loss: 1.5062 - val_ACC: 0.8222\n",
      "Epoch 55/100\n",
      "188/188 [==============================] - 2s 9ms/step - loss: 0.0222 - ACC: 0.9936 - val_loss: 1.5244 - val_ACC: 0.8214\n",
      "Epoch 56/100\n",
      "188/188 [==============================] - 2s 9ms/step - loss: 0.0202 - ACC: 0.9940 - val_loss: 1.5852 - val_ACC: 0.8234\n",
      "Epoch 57/100\n",
      "188/188 [==============================] - 2s 9ms/step - loss: 0.0210 - ACC: 0.9938 - val_loss: 1.5585 - val_ACC: 0.8208\n",
      "Epoch 58/100\n",
      "188/188 [==============================] - 2s 9ms/step - loss: 0.0221 - ACC: 0.9934 - val_loss: 1.5390 - val_ACC: 0.8210\n",
      "Epoch 59/100\n",
      "188/188 [==============================] - 2s 9ms/step - loss: 0.0219 - ACC: 0.9934 - val_loss: 1.6030 - val_ACC: 0.8202\n",
      "Epoch 60/100\n",
      "188/188 [==============================] - 2s 9ms/step - loss: 0.0207 - ACC: 0.9935 - val_loss: 1.6224 - val_ACC: 0.8225\n",
      "Epoch 61/100\n",
      "188/188 [==============================] - 2s 9ms/step - loss: 0.0222 - ACC: 0.9929 - val_loss: 1.5779 - val_ACC: 0.8199\n",
      "Epoch 62/100\n",
      "188/188 [==============================] - 2s 9ms/step - loss: 0.0276 - ACC: 0.9913 - val_loss: 1.5568 - val_ACC: 0.8219\n",
      "Epoch 63/100\n",
      "188/188 [==============================] - 2s 9ms/step - loss: 0.0262 - ACC: 0.9916 - val_loss: 1.7493 - val_ACC: 0.8205\n",
      "Epoch 64/100\n",
      "188/188 [==============================] - 2s 9ms/step - loss: 0.0317 - ACC: 0.9902 - val_loss: 1.5775 - val_ACC: 0.8234\n",
      "Epoch 65/100\n",
      "188/188 [==============================] - 2s 9ms/step - loss: 0.0237 - ACC: 0.9927 - val_loss: 1.5923 - val_ACC: 0.8219\n",
      "Epoch 66/100\n",
      "188/188 [==============================] - 2s 9ms/step - loss: 0.0201 - ACC: 0.9939 - val_loss: 1.5236 - val_ACC: 0.8198\n",
      "Epoch 67/100\n",
      "188/188 [==============================] - 2s 9ms/step - loss: 0.0181 - ACC: 0.9942 - val_loss: 1.6719 - val_ACC: 0.8208\n",
      "Epoch 68/100\n",
      "188/188 [==============================] - 2s 9ms/step - loss: 0.0171 - ACC: 0.9946 - val_loss: 1.7064 - val_ACC: 0.8213\n",
      "Epoch 69/100\n",
      "188/188 [==============================] - 2s 9ms/step - loss: 0.0161 - ACC: 0.9951 - val_loss: 1.7185 - val_ACC: 0.8215\n",
      "Epoch 70/100\n",
      "188/188 [==============================] - 2s 9ms/step - loss: 0.0147 - ACC: 0.9954 - val_loss: 1.7810 - val_ACC: 0.8195\n",
      "Epoch 71/100\n",
      "188/188 [==============================] - 2s 9ms/step - loss: 0.0322 - ACC: 0.9909 - val_loss: 1.7013 - val_ACC: 0.8229\n",
      "Epoch 72/100\n",
      "188/188 [==============================] - 2s 9ms/step - loss: 0.0248 - ACC: 0.9916 - val_loss: 1.6425 - val_ACC: 0.8219\n",
      "Epoch 73/100\n",
      "188/188 [==============================] - 2s 9ms/step - loss: 0.0210 - ACC: 0.9933 - val_loss: 1.6647 - val_ACC: 0.8214\n",
      "Epoch 74/100\n",
      "188/188 [==============================] - 2s 9ms/step - loss: 0.0188 - ACC: 0.9940 - val_loss: 1.7102 - val_ACC: 0.8227\n",
      "Epoch 75/100\n",
      "188/188 [==============================] - 2s 9ms/step - loss: 0.0163 - ACC: 0.9950 - val_loss: 1.6677 - val_ACC: 0.8206\n",
      "Epoch 76/100\n",
      "188/188 [==============================] - 2s 9ms/step - loss: 0.0151 - ACC: 0.9951 - val_loss: 1.6762 - val_ACC: 0.8235\n",
      "Epoch 77/100\n",
      "188/188 [==============================] - 2s 9ms/step - loss: 0.0150 - ACC: 0.9950 - val_loss: 1.7256 - val_ACC: 0.8196\n",
      "Epoch 78/100\n",
      "188/188 [==============================] - 2s 9ms/step - loss: 0.0152 - ACC: 0.9951 - val_loss: 1.7337 - val_ACC: 0.8210\n",
      "Epoch 79/100\n",
      "188/188 [==============================] - 2s 9ms/step - loss: 0.0146 - ACC: 0.9952 - val_loss: 1.8330 - val_ACC: 0.8213\n",
      "Epoch 80/100\n",
      "188/188 [==============================] - 2s 9ms/step - loss: 0.0137 - ACC: 0.9954 - val_loss: 1.8558 - val_ACC: 0.8194\n",
      "Epoch 81/100\n",
      "188/188 [==============================] - 2s 9ms/step - loss: 0.0156 - ACC: 0.9947 - val_loss: 1.8322 - val_ACC: 0.8170\n",
      "Epoch 82/100\n",
      "188/188 [==============================] - 2s 9ms/step - loss: 0.0231 - ACC: 0.9924 - val_loss: 1.8987 - val_ACC: 0.8249\n",
      "Epoch 83/100\n",
      "188/188 [==============================] - 2s 9ms/step - loss: 0.0207 - ACC: 0.9930 - val_loss: 1.8661 - val_ACC: 0.8234\n",
      "Epoch 84/100\n",
      "188/188 [==============================] - 2s 9ms/step - loss: 0.0172 - ACC: 0.9939 - val_loss: 1.8409 - val_ACC: 0.8224\n",
      "Epoch 85/100\n",
      "188/188 [==============================] - 2s 9ms/step - loss: 0.0153 - ACC: 0.9949 - val_loss: 1.8457 - val_ACC: 0.8206\n",
      "Epoch 86/100\n",
      "188/188 [==============================] - 2s 9ms/step - loss: 0.0152 - ACC: 0.9951 - val_loss: 1.8979 - val_ACC: 0.8206\n",
      "Epoch 87/100\n",
      "188/188 [==============================] - 2s 9ms/step - loss: 0.0130 - ACC: 0.9957 - val_loss: 1.9527 - val_ACC: 0.8199\n",
      "Epoch 88/100\n",
      "188/188 [==============================] - 2s 9ms/step - loss: 0.0126 - ACC: 0.9958 - val_loss: 1.8839 - val_ACC: 0.8198\n",
      "Epoch 89/100\n",
      "188/188 [==============================] - 2s 9ms/step - loss: 0.0155 - ACC: 0.9947 - val_loss: 1.9198 - val_ACC: 0.8181\n",
      "Epoch 90/100\n",
      "188/188 [==============================] - 2s 9ms/step - loss: 0.0190 - ACC: 0.9938 - val_loss: 1.9620 - val_ACC: 0.8208\n",
      "Epoch 91/100\n",
      "188/188 [==============================] - 2s 9ms/step - loss: 0.0191 - ACC: 0.9935 - val_loss: 1.9346 - val_ACC: 0.8204\n",
      "Epoch 92/100\n",
      "188/188 [==============================] - 2s 9ms/step - loss: 0.0247 - ACC: 0.9921 - val_loss: 1.8490 - val_ACC: 0.8174\n",
      "Epoch 93/100\n",
      "188/188 [==============================] - 2s 9ms/step - loss: 0.0168 - ACC: 0.9943 - val_loss: 1.8270 - val_ACC: 0.8174\n",
      "Epoch 94/100\n",
      "188/188 [==============================] - 2s 9ms/step - loss: 0.0132 - ACC: 0.9956 - val_loss: 1.9594 - val_ACC: 0.8201\n",
      "Epoch 95/100\n",
      "188/188 [==============================] - 2s 9ms/step - loss: 0.0119 - ACC: 0.9960 - val_loss: 1.9419 - val_ACC: 0.8223\n",
      "Epoch 96/100\n",
      "188/188 [==============================] - 2s 9ms/step - loss: 0.0112 - ACC: 0.9961 - val_loss: 1.9850 - val_ACC: 0.8204\n",
      "Epoch 97/100\n",
      "188/188 [==============================] - 2s 9ms/step - loss: 0.0111 - ACC: 0.9962 - val_loss: 2.0740 - val_ACC: 0.8198\n",
      "Epoch 98/100\n",
      "188/188 [==============================] - 2s 9ms/step - loss: 0.0111 - ACC: 0.9961 - val_loss: 2.0527 - val_ACC: 0.8209\n",
      "Epoch 99/100\n",
      "188/188 [==============================] - 2s 9ms/step - loss: 0.0102 - ACC: 0.9964 - val_loss: 2.0753 - val_ACC: 0.8201\n",
      "Epoch 100/100\n",
      "188/188 [==============================] - 2s 9ms/step - loss: 0.0117 - ACC: 0.9959 - val_loss: 2.0389 - val_ACC: 0.8183\n"
     ]
    }
   ],
   "source": [
    "model.compile(optimizer = \"adam\", loss = \"BCE\", metrics = [\"ACC\"])\n",
    "\n",
    "epochs = 100\n",
    "\n",
    "history = model.fit(partial_x_train, partial_y_train, epochs = epochs, batch_size = 512, validation_data = (x_val, y_val),\n",
    "                    verbose = True)"
   ]
  },
  {
   "cell_type": "code",
   "execution_count": null,
   "metadata": {
    "colab": {
     "base_uri": "https://localhost:8080/"
    },
    "id": "WWNX2nGXW6K_",
    "outputId": "36935c54-6f69-4e29-b713-621746540808"
   },
   "outputs": [
    {
     "name": "stdout",
     "output_type": "stream",
     "text": [
      "1537/1537 - 4s - loss: 2.0828 - ACC: 0.8142 - 4s/epoch - 3ms/step\n",
      "[2.0827558040618896, 0.8142278790473938]\n"
     ]
    }
   ],
   "source": [
    "results = model.evaluate(x_test, y_test, verbose = 2)\n",
    "print(results)"
   ]
  },
  {
   "cell_type": "markdown",
   "metadata": {
    "id": "PgqfmLJbXMte"
   },
   "source": [
    "### loss, acc 그래프 시각화"
   ]
  },
  {
   "cell_type": "code",
   "execution_count": null,
   "metadata": {
    "colab": {
     "base_uri": "https://localhost:8080/"
    },
    "id": "-U9qHAPlXFne",
    "outputId": "d5849017-3f83-4bab-d18c-c6419e778aa4"
   },
   "outputs": [
    {
     "name": "stdout",
     "output_type": "stream",
     "text": [
      "dict_keys(['loss', 'ACC', 'val_loss', 'val_ACC'])\n"
     ]
    }
   ],
   "source": [
    "history_dict = history.history\n",
    "print(history_dict.keys())\n",
    "\n",
    "acc = history_dict[\"ACC\"]\n",
    "val_acc = history_dict[\"val_ACC\"]\n",
    "loss = history_dict[\"loss\"]\n",
    "val_loss = history_dict[\"val_loss\"]"
   ]
  },
  {
   "cell_type": "code",
   "execution_count": null,
   "metadata": {
    "colab": {
     "base_uri": "https://localhost:8080/",
     "height": 295
    },
    "id": "EfB1_3XpXcVN",
    "outputId": "24113ca8-7ec8-4e43-a10b-11de582d0571"
   },
   "outputs": [
    {
     "data": {
      "image/png": "[encoded data removed]",
      "text/plain": [
       "<Figure size 432x288 with 1 Axes>"
      ]
     },
     "metadata": {
      "needs_background": "light"
     },
     "output_type": "display_data"
    }
   ],
   "source": [
    "epochs = range(1, len(acc) + 1)\n",
    "\n",
    "plt.plot(epochs, loss, \"bo\", label= \"Training loss\")\n",
    "plt.plot(epochs, val_loss, \"b\", label=\"Validation loss\")\n",
    "plt.title(\"Training and validation loss\")\n",
    "plt.xlabel(\"Epochs\")\n",
    "plt.ylabel(\"Loss\")\n",
    "plt.legend()\n",
    "plt.show()"
   ]
  },
  {
   "cell_type": "code",
   "execution_count": null,
   "metadata": {
    "colab": {
     "base_uri": "https://localhost:8080/",
     "height": 35
    },
    "id": "bD4EX1exX8Ve",
    "outputId": "70cb5f5a-83ff-4abd-9887-523db011ff1c"
   },
   "outputs": [
    {
     "data": {
      "text/plain": [
       "<Figure size 432x288 with 0 Axes>"
      ]
     },
     "metadata": {},
     "output_type": "display_data"
    }
   ],
   "source": [
    "plt.clf()"
   ]
  }
 ],
 "metadata": {
  "accelerator": "GPU",
  "colab": {
   "name": "22_01_19_day04.ipynb",
   "provenance": []
  },
  "kernelspec": {
   "display_name": "Python 3",
   "language": "python",
   "name": "python3"
  },
  "language_info": {
   "codemirror_mode": {
    "name": "ipython",
    "version": 3
   },
   "file_extension": ".py",
   "mimetype": "text/x-python",
   "name": "python",
   "nbconvert_exporter": "python",
   "pygments_lexer": "ipython3",
   "version": "3.8.8"
  }
 },
 "nbformat": 4,
 "nbformat_minor": 1
}
