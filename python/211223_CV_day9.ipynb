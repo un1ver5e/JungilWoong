{
 "cells": [
  {
   "cell_type": "code",
   "execution_count": 1,
   "id": "07a4aecd",
   "metadata": {},
   "outputs": [],
   "source": [
    "import numpy as np\n",
    "import cv2\n",
    "import sys\n",
    "import matplotlib.pyplot as plt"
   ]
  },
  {
   "cell_type": "code",
   "execution_count": null,
   "id": "73a40bd9",
   "metadata": {},
   "outputs": [],
   "source": [
    "oldx, oldy = -1, -1\n",
    "\n",
    "def mouse_callback(event, x, y, flags param):\n",
    "    global oldx, oldy\n",
    "    if event == cv2.EVENT_LBUTTONDOWN:\n",
    "        oltx, oldy = x, y\n",
    "    elif event == cv2.EVENT_MOUSEMOVE:\n",
    "        if flags == cv2.EVENT_FLAG_LBUTTON:\n",
    "            cv2.line(img, (oldx, oldy), (x, y), (0, 0, 255), 5, cv2.LINE_AA)\n",
    "            cv2.imshow(\"img\", img)\n",
    "            oldx, oldy = x, y\n",
    "\n",
    "img = np.ones((400, 600, 3), np.uint8) * 255\n",
    "\n",
    "cv2.namedWindow(\"img\")\n",
    "\n",
    "cv2.setMouseCallback('img', mouse_callback)\n",
    "\n",
    "cv2.imshow(\"img\")\n",
    "\n",
    "cv2.waitKey()\n",
    "cv2.destroyAllWindows()"
   ]
  },
  {
   "cell_type": "code",
   "execution_count": 6,
   "id": "c1d9b1e0",
   "metadata": {},
   "outputs": [
    {
     "ename": "error",
     "evalue": "OpenCV(4.5.4) :-1: error: (-5:Bad argument) in function 'merge'\n> Overload resolution failed:\n>  - merge() takes at most 2 arguments (3 given)\n>  - merge() takes at most 2 arguments (3 given)\n",
     "output_type": "error",
     "traceback": [
      "\u001b[1;31m---------------------------------------------------------------------------\u001b[0m",
      "\u001b[1;31merror\u001b[0m                                     Traceback (most recent call last)",
      "\u001b[1;32m<ipython-input-6-e76c5f8d56ac>\u001b[0m in \u001b[0;36m<module>\u001b[1;34m\u001b[0m\n\u001b[0;32m      7\u001b[0m \u001b[1;33m\u001b[0m\u001b[0m\n\u001b[0;32m      8\u001b[0m \u001b[0my\u001b[0m\u001b[1;33m,\u001b[0m \u001b[0mcr\u001b[0m\u001b[1;33m,\u001b[0m \u001b[0mcb\u001b[0m \u001b[1;33m=\u001b[0m \u001b[0mcv2\u001b[0m\u001b[1;33m.\u001b[0m\u001b[0msplit\u001b[0m\u001b[1;33m(\u001b[0m\u001b[0msrc_ycrcb\u001b[0m\u001b[1;33m)\u001b[0m\u001b[1;33m\u001b[0m\u001b[1;33m\u001b[0m\u001b[0m\n\u001b[1;32m----> 9\u001b[1;33m \u001b[0msrc_ycrcb\u001b[0m \u001b[1;33m=\u001b[0m \u001b[0mcv2\u001b[0m\u001b[1;33m.\u001b[0m\u001b[0mmerge\u001b[0m\u001b[1;33m(\u001b[0m\u001b[0my\u001b[0m\u001b[1;33m,\u001b[0m \u001b[0mcr\u001b[0m\u001b[1;33m,\u001b[0m \u001b[0mcb\u001b[0m\u001b[1;33m)\u001b[0m\u001b[1;33m\u001b[0m\u001b[1;33m\u001b[0m\u001b[0m\n\u001b[0m\u001b[0;32m     10\u001b[0m \u001b[1;33m\u001b[0m\u001b[0m\n\u001b[0;32m     11\u001b[0m \u001b[1;31m# dst_norm = cv2.normalize(src, None, 0, 255, cv2.NORM_MINMAX, -1)\u001b[0m\u001b[1;33m\u001b[0m\u001b[1;33m\u001b[0m\u001b[1;33m\u001b[0m\u001b[0m\n",
      "\u001b[1;31merror\u001b[0m: OpenCV(4.5.4) :-1: error: (-5:Bad argument) in function 'merge'\n> Overload resolution failed:\n>  - merge() takes at most 2 arguments (3 given)\n>  - merge() takes at most 2 arguments (3 given)\n"
     ]
    }
   ],
   "source": [
    "src = cv2.imread(\"./fig_4/field.bmp\", 1)\n",
    "\n",
    "# src_ycrcb = cv2.cvtColor(src, cv2.COLOR_BGR2YCrCb)\n",
    "# src_ycrcb[0, :, :] = cv2.equalizeHist(src_ycrcb[0, :, :])\n",
    "\n",
    "dst = cv2.cvtColor(src_ycrcb, cv2.COLOR_YCrCb2BGR)\n",
    "\n",
    "y, cr, cb = cv2.split(src_ycrcb)\n",
    "src_ycrcb = cv2.merge(y, cr, cb)\n",
    "\n",
    "# dst_norm = cv2.normalize(src, None, 0, 255, cv2.NORM_MINMAX, -1)\n",
    "# dst_eq = cv2.equalizeHist(src)\n",
    "\n",
    "# smin, smax, _, _ = cv2.minMaxLoc(src)\n",
    "# dst = np.clip(255 * (src - smin) / (smax - smin), 0, 255).astype(np.uint8)\n",
    "\n",
    "cv2.imshow(\"src\", src)\n",
    "cv2.imshow(\"dst\", dst)\n",
    "# cv2.imshow(\"dst_norm\", dst_norm)\n",
    "# cv2.imshow(\"dst_eq\", dst_eq)\n",
    "\n",
    "cv2.waitKey()\n",
    "cv2.destroyAllWindows()"
   ]
  },
  {
   "cell_type": "code",
   "execution_count": 7,
   "id": "a1e0e4b0",
   "metadata": {
    "scrolled": true
   },
   "outputs": [
    {
     "ename": "error",
     "evalue": "OpenCV(4.5.4) D:\\a\\opencv-python\\opencv-python\\opencv\\modules\\highgui\\src\\window_w32.cpp:2363: error: (-27:Null pointer) NULL window: 'dst' in function 'icvCreateTrackbar'\n",
     "output_type": "error",
     "traceback": [
      "\u001b[1;31m---------------------------------------------------------------------------\u001b[0m",
      "\u001b[1;31merror\u001b[0m                                     Traceback (most recent call last)",
      "\u001b[1;32m<ipython-input-7-04d0f6e4e161>\u001b[0m in \u001b[0;36m<module>\u001b[1;34m\u001b[0m\n\u001b[0;32m     13\u001b[0m \u001b[0mcv2\u001b[0m\u001b[1;33m.\u001b[0m\u001b[0mnamedWindow\u001b[0m\u001b[1;33m(\u001b[0m\u001b[1;34m\"src\"\u001b[0m\u001b[1;33m)\u001b[0m\u001b[1;33m\u001b[0m\u001b[1;33m\u001b[0m\u001b[0m\n\u001b[0;32m     14\u001b[0m \u001b[1;33m\u001b[0m\u001b[0m\n\u001b[1;32m---> 15\u001b[1;33m \u001b[0mcv2\u001b[0m\u001b[1;33m.\u001b[0m\u001b[0mcreateTrackbar\u001b[0m\u001b[1;33m(\u001b[0m\u001b[1;34m\"min\"\u001b[0m\u001b[1;33m,\u001b[0m \u001b[1;34m\"dst\"\u001b[0m\u001b[1;33m,\u001b[0m \u001b[1;36m0\u001b[0m\u001b[1;33m,\u001b[0m \u001b[1;36m179\u001b[0m\u001b[1;33m,\u001b[0m \u001b[0mcall_trackbar\u001b[0m\u001b[1;33m)\u001b[0m\u001b[1;33m\u001b[0m\u001b[1;33m\u001b[0m\u001b[0m\n\u001b[0m\u001b[0;32m     16\u001b[0m \u001b[0mcv2\u001b[0m\u001b[1;33m.\u001b[0m\u001b[0mcreateTrackbar\u001b[0m\u001b[1;33m(\u001b[0m\u001b[1;34m\"max\"\u001b[0m\u001b[1;33m,\u001b[0m \u001b[1;34m\"dst\"\u001b[0m\u001b[1;33m,\u001b[0m \u001b[1;36m50\u001b[0m\u001b[1;33m,\u001b[0m \u001b[1;36m179\u001b[0m\u001b[1;33m,\u001b[0m \u001b[0mcall_trackbar\u001b[0m\u001b[1;33m)\u001b[0m\u001b[1;33m\u001b[0m\u001b[1;33m\u001b[0m\u001b[0m\n\u001b[0;32m     17\u001b[0m \u001b[1;33m\u001b[0m\u001b[0m\n",
      "\u001b[1;31merror\u001b[0m: OpenCV(4.5.4) D:\\a\\opencv-python\\opencv-python\\opencv\\modules\\highgui\\src\\window_w32.cpp:2363: error: (-27:Null pointer) NULL window: 'dst' in function 'icvCreateTrackbar'\n"
     ]
    }
   ],
   "source": [
    "def call_trackbar(x):\n",
    "    hmin = cv2.getTrackbarPos(\"min\", \"dst\")\n",
    "    hmax = cv2.getTrackbarPos(\"max\", \"dst\")\n",
    "    hue = cv2.inRange(src_hsv, (hmin, 150, 0), (hmax, 255, 255))\n",
    "    cv2.imshow(\"dst\", dst)\n",
    "    \n",
    "src = cv2.imread(\"./fig_4/candies.png\", 1)\n",
    "\n",
    "src_hsv = cv2.cvtColor(src, cv2.COLOR_BGR2HSV)\n",
    "\n",
    "cv2.namedWindow(\"src\")\n",
    "\n",
    "cv2.createTrackbar(\"min\", \"dst\", 0, 179, call_trackbar)\n",
    "cv2.createTrackbar(\"max\", \"dst\", 50, 179, call_trackbar)\n",
    "\n",
    "cv2.imshow(\"src\", src)\n",
    "cv2.waitKey()\n",
    "cv2.destroyAllWindows()"
   ]
  },
  {
   "cell_type": "code",
   "execution_count": null,
   "id": "361d2610",
   "metadata": {},
   "outputs": [],
   "source": [
    "### ROI selector"
   ]
  },
  {
   "cell_type": "code",
   "execution_count": 2,
   "id": "16cbf219",
   "metadata": {},
   "outputs": [],
   "source": [
    "src = cv2.imread(\"./fig_4/cropland.png\")\n",
    "src_ycrcb = cv2.cvtColor(src, cv2.COLOR_BGR2YCrCb)\n",
    "\n",
    "x, y, w, h = cv2.selectROI(src)\n",
    "crop = src_ycrcb[y : y + h, x : x + w] # numpy라서 h부터\n",
    "\n",
    "channels = [1, 2]\n",
    "histsize = [256, 256]\n",
    "ranges = [0, 256, 0, 256]\n",
    "\n",
    "hist = cv2.calcHist([crop], channels, None, histsize, ranges)\n",
    "# hist = cv2.calcHist([crop], [0], None, [256], [0, 256])\n",
    "\n",
    "# cv2.calcBackProject 마스크 파라미터를 받지 않음\n",
    "backproj = cv2.calcBackProject([src_ycrcb], channels, hist, ranges, 1)\n",
    "dst = cv2.copyTo(src, backproj)\n",
    "\n",
    "cv2.imshow(\"src\", src)\n",
    "cv2.imshow(\"crop\", crop)\n",
    "cv2.imshow(\"hist\", hist)\n",
    "cv2.imshow(\"backproj\", backproj)\n",
    "cv2.imshow(\"dst\", dst)\n",
    "\n",
    "cv2.waitKey()\n",
    "cv2.destroyAllWindows()"
   ]
  },
  {
   "cell_type": "markdown",
   "id": "0f48c43f",
   "metadata": {},
   "source": [
    "### 필터링"
   ]
  },
  {
   "cell_type": "code",
   "execution_count": 5,
   "id": "2c980724",
   "metadata": {},
   "outputs": [],
   "source": [
    "# bluring, 평균 필터\n",
    "src = cv2.imread(\"./Ch_5_filtering/fig/blue_eyes.png\", 1)\n",
    "kernel_3 = np.ones((3, 3), np.float32) / 9.\n",
    "\n",
    "# filter2D(src, ddepth, kernel[, dst[, anchor[, delta[, borderType]]]]) \n",
    "# -> dst\n",
    "# src: 입력영상\n",
    "# ddepth: 출력영상의 타입 (cv2.CV_8U, cv2.CV_32F, cv2.CV_64F), \n",
    "#     -1 => 입력영상과 같은 타입\n",
    "# kernel: filter 행렬, 실수형\n",
    "# anchor: (-1, -1)  필터의 중앙점\n",
    "# delta:   더할 값\n",
    "# borderType: 가장자리 픽셀확장 방식\n",
    "# dst: 출력영상\n",
    "dst = cv2.filter2D(src, -1, kernel_3)\n",
    "\n",
    "\n",
    "cv2.imshow(\"src\", src)\n",
    "cv2.imshow(\"dst\", dst)\n",
    "\n",
    "cv2.waitKey()\n",
    "cv2.destroyAllWindows()"
   ]
  },
  {
   "cell_type": "code",
   "execution_count": 8,
   "id": "fd2a448c",
   "metadata": {},
   "outputs": [],
   "source": [
    "src = cv2.imread(\"./Ch_5_filtering/fig/KakaoTalk_20211222_091042463.jpg\", 1)\n",
    "\n",
    "dst_blur = cv2.blur(src, (7, 7))\n",
    "\n",
    "# GaussianBlur(src, ksize, sigmaX[, dst[, sigmaY[, borderType]]]) -> dst\n",
    "# src: 입력영상\n",
    "# ksize: mean filter kernel size, (0, 0) 자동으로 결정\n",
    "# sigmaX:  gaussian x 방향의 sigma\n",
    "# sigmaY:  gaussian y 방향의 sigma\n",
    "dst_g = cv2.GaussianBlur(src, (0, 0), 1)\n",
    "\n",
    "cv2.imshow(\"src\", src)\n",
    "cv2.imshow(\"dst_g\", dst_g)\n",
    "\n",
    "cv2.waitKey()\n",
    "cv2.destroyAllWindows()"
   ]
  }
 ],
 "metadata": {
  "kernelspec": {
   "display_name": "Python 3",
   "language": "python",
   "name": "python3"
  },
  "language_info": {
   "codemirror_mode": {
    "name": "ipython",
    "version": 3
   },
   "file_extension": ".py",
   "mimetype": "text/x-python",
   "name": "python",
   "nbconvert_exporter": "python",
   "pygments_lexer": "ipython3",
   "version": "3.8.8"
  }
 },
 "nbformat": 4,
 "nbformat_minor": 5
}
