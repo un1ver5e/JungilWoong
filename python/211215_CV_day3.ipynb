{
 "cells": [
  {
   "cell_type": "markdown",
   "id": "66874f1d",
   "metadata": {},
   "source": [
    "### review"
   ]
  },
  {
   "cell_type": "code",
   "execution_count": null,
   "id": "303d01aa",
   "metadata": {},
   "outputs": [],
   "source": [
    "import cv2\n",
    "import sys\n",
    "import numpy as np"
   ]
  },
  {
   "cell_type": "code",
   "execution_count": null,
   "id": "936ac6c2",
   "metadata": {},
   "outputs": [],
   "source": [
    "img = cv2.imread(\"./fig/puppy.bmp\", 1)\n",
    "\n",
    "if img is None:\n",
    "    print(\"image read failed\")\n",
    "    sys.exit()\n",
    "    \n",
    "# image resize\n",
    "# resized_image = cv2.resize(img, (600, 400))\n",
    "\n",
    "# save image\n",
    "#cv2.imwrite(\"new_puppy.png\", resized_image)\n",
    "    \n",
    "cv2.namedWindow(\"puppy\", cv2.WINDOW_NORMAL)\n",
    "cv2.imshow(\"puppy\", img)\n",
    "\n",
    "while True:\n",
    "    if cv2.waitKey() == 27:\n",
    "        break\n",
    "\n",
    "cv2.destroyAllWindows()"
   ]
  },
  {
   "cell_type": "code",
   "execution_count": null,
   "id": "e58f02e1",
   "metadata": {},
   "outputs": [],
   "source": [
    "import matplotlib.pyplot as plt"
   ]
  },
  {
   "cell_type": "code",
   "execution_count": null,
   "id": "e9979988",
   "metadata": {},
   "outputs": [],
   "source": [
    "imgbgr = cv2.imread(\"./fig/puppy.bmp\")\n",
    "imggray = cv2.imread(\"./fig/puppy.bmp\", cv2.IMREAD_GRAYSCALE)\n",
    "\n",
    "if imgbgr is None or imggray is None:\n",
    "    sys.exit(\"image read failed\")\n",
    "    \n",
    "imgrgb = cv2.cvtColor(imgbgr, cv2.COLOR_BGR2RGB)\n",
    "    \n",
    "plt.figure(figsize = (20, 10))\n",
    "    \n",
    "plt.subplot(1,3,1) # (행, 열, 위치)\n",
    "plt.imshow(imgbgr)\n",
    "plt.axis(\"off\")\n",
    "\n",
    "plt.subplot(1,3,2)\n",
    "plt.imshow(imgrgb)\n",
    "plt.axis(\"off\")\n",
    "\n",
    "plt.subplot(1,3,3)\n",
    "plt.imshow(imggray, cmap = \"gray\")\n",
    "plt.axis(\"off\")\n",
    "\n",
    "plt.show()"
   ]
  },
  {
   "cell_type": "code",
   "execution_count": null,
   "id": "3f5589e8",
   "metadata": {},
   "outputs": [],
   "source": [
    "import os"
   ]
  },
  {
   "cell_type": "code",
   "execution_count": null,
   "id": "007d983b",
   "metadata": {
    "scrolled": true
   },
   "outputs": [],
   "source": [
    "img_list = os.listdir(\"./images/\")\n",
    "\n",
    "img_files = []\n",
    "for i in img_list:\n",
    "    img_file = \"./images/\" + i\n",
    "    img_files.append(img_file)\n",
    "\n",
    "# print(img_files)\n",
    "\n",
    "cv2.namedWindow(\"scene\", cv2.WINDOW_NORMAL)\n",
    "cv2.setWindowProperty(\"scene\", cv2.WND_PROP_FULLSCREEN,\n",
    "                     cv2.WINDOW_FULLSCREEN)\n",
    "\n",
    "idx = 0\n",
    "while True:\n",
    "    img = cv2.imread(img_files[idx])\n",
    "    cv2.imshow(\"scene\", img)\n",
    "    if cv2.waitKey(2000) == 27:\n",
    "        break\n",
    "    idx += 1\n",
    "        \n",
    "    if idx >= 5:\n",
    "        idx = 0\n",
    "        \n",
    "cv2.destroyAllWindows()"
   ]
  },
  {
   "cell_type": "code",
   "execution_count": null,
   "id": "705d7e91",
   "metadata": {},
   "outputs": [],
   "source": [
    "img = cv2.imread(\"./fig/puppy.bmp\")\n",
    "print(type(img))\n",
    "print(img.shape)\n",
    "print(img.dtype) # img value의 dtype\n",
    "\n",
    "h, w = img.shape[:2]\n",
    "print(\"image dimension = {} x {}\".format(w, h))"
   ]
  },
  {
   "cell_type": "code",
   "execution_count": null,
   "id": "900c2c68",
   "metadata": {},
   "outputs": [],
   "source": [
    "img1 = cv2.imread(\"./fig/puppy.bmp\", 0)\n",
    "img2 = cv2.imread(\"./fig/puppy.bmp\", 1)\n",
    "\n",
    "img1[150:250, 270:500] = 0\n",
    "img2[150:250, 270:500] = (0, 0, 0)\n",
    "\n",
    "cv2.imshow(\"image1\", img1)\n",
    "cv2.imshow(\"image2\", img2)\n",
    "\n",
    "cv2.waitKey()\n",
    "cv2.destroyAllWindows()"
   ]
  },
  {
   "cell_type": "code",
   "execution_count": null,
   "id": "9bc0978d",
   "metadata": {},
   "outputs": [],
   "source": [
    "import cv2\n",
    "import sys\n",
    "import numpy as np\n",
    "import os"
   ]
  },
  {
   "cell_type": "code",
   "execution_count": null,
   "id": "0ba743dc",
   "metadata": {},
   "outputs": [],
   "source": [
    "img1 = np.zeros((600, 800), np.uint8)\n",
    "img2 = np.zeros((600, 800, 3), np.uint8)\n",
    "img3 = np.full((600, 800, 3), (255, 255, 255), np.uint8)\n",
    "img4 = np.ones((600, 800, 3), np.uint8)\n",
    "img5 = np.full((600, 800, 3), (0, 255, 255), np.uint8)"
   ]
  },
  {
   "cell_type": "code",
   "execution_count": null,
   "id": "3b8d460a",
   "metadata": {},
   "outputs": [],
   "source": [
    "cv2.imshow(\"img1\", img1)\n",
    "\n",
    "cv2.waitKey()\n",
    "cv2.destroyAllWindows()"
   ]
  },
  {
   "cell_type": "code",
   "execution_count": null,
   "id": "0a06789d",
   "metadata": {},
   "outputs": [],
   "source": [
    "cv2.imshow(\"img2\", img2)\n",
    "\n",
    "cv2.waitKey()\n",
    "cv2.destroyAllWindows()"
   ]
  },
  {
   "cell_type": "code",
   "execution_count": null,
   "id": "0e439eeb",
   "metadata": {},
   "outputs": [],
   "source": [
    "cv2.imshow(\"img3\", img3)\n",
    "\n",
    "cv2.waitKey()\n",
    "cv2.destroyAllWindows()"
   ]
  },
  {
   "cell_type": "code",
   "execution_count": null,
   "id": "1d137910",
   "metadata": {},
   "outputs": [],
   "source": [
    "cv2.imshow(\"img4\", img4)\n",
    "\n",
    "cv2.waitKey()\n",
    "cv2.destroyAllWindows()"
   ]
  },
  {
   "cell_type": "code",
   "execution_count": null,
   "id": "4a50df39",
   "metadata": {},
   "outputs": [],
   "source": [
    "cv2.imshow(\"img5\", img5)\n",
    "\n",
    "cv2.waitKey()\n",
    "cv2.destroyAllWindows()"
   ]
  },
  {
   "cell_type": "code",
   "execution_count": null,
   "id": "ace7d9cb",
   "metadata": {},
   "outputs": [],
   "source": [
    "import cv2\n",
    "import sys\n",
    "import numpy as np\n",
    "import os"
   ]
  },
  {
   "cell_type": "code",
   "execution_count": null,
   "id": "947b6a8f",
   "metadata": {},
   "outputs": [],
   "source": [
    "# 합성하는데 편함\n",
    "img1 = cv2.imread(\"./fig/puppy.bmp\", cv2.IMREAD_COLOR)\n",
    "img2 = img1[100:300, 200:500]\n",
    "img3 = img1[100:300, 200:500].copy()\n",
    "\n",
    "img2[20:60, 20:60] = (0, 0, 255)\n",
    "\n",
    "# img1[200:300, 200:300] = (0, 0, 255)\n",
    "\n",
    "cv2.imshow(\"img1\", img1)\n",
    "cv2.imshow(\"img2\", img2)\n",
    "cv2.imshow(\"img3\", img3)\n",
    "\n",
    "cv2.waitKey()\n",
    "cv2.destroyAllWindows()"
   ]
  },
  {
   "cell_type": "code",
   "execution_count": null,
   "id": "df8b7e81",
   "metadata": {},
   "outputs": [],
   "source": [
    "img1 = cv2.imread(\"./images/rudolf.png\")"
   ]
  },
  {
   "cell_type": "code",
   "execution_count": null,
   "id": "1cf816a4",
   "metadata": {},
   "outputs": [],
   "source": [
    "x1 = img1.shape[0] // 2\n",
    "y1 = img1.shape[1] // 2\n",
    "\n",
    "x2 = img2.shape[0] // 2\n",
    "y2 = img2.shape[0] // 2\n",
    "\n",
    "img2 = img1[x1 - 100 : x1 + 100, y1 - 100 : y1 + 100]\n",
    "img3 = img1[x1 - 100 : x1 + 100, y1 - 100 : y1 + 100].copy()\n",
    "# circle(img, center, radius, color[, thickness[, lineType[, shift]]])\n",
    "cv2.circle(img2, (x2, y2), 70, (0, 0, 255), -1)\n",
    "\n",
    "cv2.imshow(\"img1\", img1)\n",
    "cv2.imshow(\"img2\", img2)\n",
    "cv2.imshow(\"img3\", img3)\n",
    "\n",
    "cv2.waitKey()\n",
    "cv2.destroyAllWindows()"
   ]
  },
  {
   "cell_type": "code",
   "execution_count": null,
   "id": "09b48f1a",
   "metadata": {},
   "outputs": [],
   "source": [
    "import numpy as np\n",
    "import cv2\n",
    "import sys"
   ]
  },
  {
   "cell_type": "code",
   "execution_count": null,
   "id": "8d3bdbc5",
   "metadata": {},
   "outputs": [],
   "source": [
    "src = cv2.imread(\"./images/airplane.bmp\", 1)\n",
    "mask = cv2.imread(\"./images/mask_plane.bmp\", 0)\n",
    "dst = cv2.imread(\"./images/field.bmp\", 1) # destination\n",
    "\n",
    "if src is None or mask is None or dst is None:\n",
    "    print(\"image read failed, go home\")\n",
    "    sys.exit()\n",
    "\n",
    "dst[mask > 0] = src[mask > 0]\n",
    "    \n",
    "# copyTo(src, mask[, dst]) -> dst\n",
    "cv2.copyTo(src, mask, dst) # output을 다시 input으로 넣어주는 것\n",
    "\n",
    "cv2.imshow(\"src\", src)\n",
    "cv2.imshow(\"mask\", mask)\n",
    "cv2.imshow(\"dst\", dst)\n",
    "\n",
    "cv2.waitKey()\n",
    "cv2.destroyAllWindows()"
   ]
  },
  {
   "cell_type": "code",
   "execution_count": null,
   "id": "cc1d43a2",
   "metadata": {},
   "outputs": [],
   "source": [
    "src = cv2.imread(\"./images/airplane.bmp\", 1)\n",
    "mask = cv2.imread(\"./images/mask_plane.bmp\", 0)\n",
    "\n",
    "src_gray = cv2.cvtColor(src, cv2.COLOR_BGR2GRAY)\n",
    "\n",
    "print(src.shape)\n",
    "print(src_gray.shape)"
   ]
  },
  {
   "cell_type": "code",
   "execution_count": 1,
   "id": "ba7bfc03",
   "metadata": {},
   "outputs": [],
   "source": [
    "import numpy as np\n",
    "import cv2\n",
    "import sys"
   ]
  },
  {
   "cell_type": "code",
   "execution_count": 12,
   "id": "ee9296cd",
   "metadata": {},
   "outputs": [],
   "source": [
    "i1 = cv2.imread(\"./images/s.jpg\")\n",
    "i2 = cv2.imread(\"./images/moon.PNG\")\n",
    "i1_g = cv2.cvtColor(i1, cv2.COLOR_BGR2GRAY)\n",
    "\n",
    "h, w = i1.shape[:2]\n",
    "i2 = cv2.resize(i2, (w, h), cv2.INTER_AREA)\n",
    "\n",
    "retval, mask = cv2.threshold(i1_g, 244, 255, cv2.THRESH_BINARY_INV)\n",
    "\n",
    "cv2.copyTo(i1, mask, i2)\n",
    "\n",
    "cv2.imshow(\"squirrel\", i2)\n",
    "# cv2.imshow('dst', dst)\n",
    "# cv2.imshow('src_gray', src_gray)\n",
    "# cv2.imshow('mask', mask)\n",
    "\n",
    "cv2.waitKey()\n",
    "cv2.destroyAllWindows()"
   ]
  },
  {
   "cell_type": "code",
   "execution_count": null,
   "id": "a52a699f",
   "metadata": {},
   "outputs": [],
   "source": []
  }
 ],
 "metadata": {
  "kernelspec": {
   "display_name": "Python 3",
   "language": "python",
   "name": "python3"
  },
  "language_info": {
   "codemirror_mode": {
    "name": "ipython",
    "version": 3
   },
   "file_extension": ".py",
   "mimetype": "text/x-python",
   "name": "python",
   "nbconvert_exporter": "python",
   "pygments_lexer": "ipython3",
   "version": "3.8.8"
  }
 },
 "nbformat": 4,
 "nbformat_minor": 5
}
