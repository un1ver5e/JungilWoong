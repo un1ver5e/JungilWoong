{
 "cells": [
  {
   "cell_type": "code",
   "execution_count": 3,
   "id": "62a7f130",
   "metadata": {},
   "outputs": [],
   "source": [
    "import numpy as np\n",
    "import cv2\n",
    "import sys"
   ]
  },
  {
   "cell_type": "code",
   "execution_count": null,
   "id": "c4e6a6af",
   "metadata": {},
   "outputs": [],
   "source": [
    "cap = cv2.VideoCapture(0)\n",
    "\n",
    "if not cap.isOpened():\n",
    "    sys.exit(\"video open failed\")\n",
    "    \n",
    "h = round(cap.get(cv2.CAP_PROP_FRAME_HEIGHT))\n",
    "w = round(cap.get(cv2.CAP_PROP_FRAME_WIDTH))\n",
    "fps = round(cap.get(cv2.CAP_PROP_FPS * 0.75))\n",
    "fourcc = cv2.VideoWriter_fourcc(*\"DIVX\")\n",
    "\n",
    "out = cv2.VideoWriter(\"20211222out.avi\", fourcc, fps, (w, h))\n",
    "\n",
    "while 1:\n",
    "    retval, frame = cap.read()\n",
    "    \n",
    "    if not retval:\n",
    "        print(\"video read failed\")\n",
    "        break\n",
    "        \n",
    "    edge = cv2.Canny(frame, 50, 150) # 50 하한 / 150 상한\n",
    "    \n",
    "    out.write(frame)\n",
    "    \n",
    "    cv2.imshow(edge)\n",
    "    cv2.imshow(frame)\n",
    "    \n",
    "    if cv2.waitKey(30) == 27:\n",
    "        break\n",
    "    \n",
    "cap.release()\n",
    "cv2.destroyAllWindows()"
   ]
  },
  {
   "cell_type": "code",
   "execution_count": 4,
   "id": "488745fd",
   "metadata": {},
   "outputs": [],
   "source": [
    "img = cv2.imread(\"./fig/puppy.bmp\", 0)\n",
    "\n",
    "if img is None:\n",
    "    print(\"image read failed\")\n",
    "    sys.exit()\n",
    "    \n",
    "cv2.imshow(\"img\", img)\n",
    "\n",
    "while 1:\n",
    "    key = cv2.waitKey()\n",
    "    \n",
    "    if key == 27:\n",
    "        break\n",
    "    elif key == ord(\"e\"):\n",
    "        img = cv2.Canny(img, 50, 150)\n",
    "        cv2.imshow(\"img\", img)\n",
    "    elif key == ord(\"i\"):\n",
    "        img =~ img\n",
    "        cv2.imshow(\"img\", img)\n",
    "        \n",
    "cv2.destroyAllWindows()"
   ]
  },
  {
   "cell_type": "code",
   "execution_count": 5,
   "id": "69d8eb4a",
   "metadata": {},
   "outputs": [],
   "source": [
    "oldx, oldy = -1, -1\n",
    "\n",
    "def call_mouse(event, x, y, flags, param):\n",
    "    global oldx, oldy\n",
    "    if event == cv2.EVENT_LBUTTONDOWN:\n",
    "        oldx, oldy = x, y\n",
    "    elif event == cv2.EVENT_MOUSEMOVE:\n",
    "        if flags == cv2.EVENT_FLAG_LBUTTON:\n",
    "            cv2.line(img, (oldx, oldy), (x, y), (0, 0, 255), 5)\n",
    "            cv2.imshow(\"image\", img)\n",
    "            oldx, oldy = x, y\n",
    "\n",
    "img = np.ones((480, 640, 3), np.uint8) * 255\n",
    "\n",
    "cv2.namedWindow(\"image\")\n",
    "\n",
    "cv2.setMouseCallback(\"image\", call_mouse, img)\n",
    "cv2.imshow(\"image\", img)\n",
    "\n",
    "cv2.waitKey()\n",
    "cv2.destroyAllWindows()"
   ]
  },
  {
   "cell_type": "code",
   "execution_count": 8,
   "id": "b9b219f3",
   "metadata": {},
   "outputs": [],
   "source": [
    "def call_trackbar(x):\n",
    "    img2 = img + x\n",
    "    cv2.imshow(\"image\", img2)\n",
    "\n",
    "img = np.zeros((480, 640), np.uint8)\n",
    "\n",
    "cv2.namedWindow(\"image\")\n",
    "cv2.createTrackbar(\"level\", \"image\", 0, 255, call_trackbar)\n",
    "\n",
    "cv2.waitKey()\n",
    "cv2.destroyAllWindows()"
   ]
  },
  {
   "cell_type": "code",
   "execution_count": 9,
   "id": "c3917914",
   "metadata": {},
   "outputs": [],
   "source": [
    "img = cv2.imread(\"./fig/puppy.bmp\")\n",
    "\n",
    "b, g, r = cv2.split(img)\n",
    "img_bgr = cv2.merge([b, g, r]) # numpy.ndarray\n",
    "\n",
    "cv2.imshow(\"src\", img)\n",
    "# cv2.imshow(\"b\", b)\n",
    "# cv2.imshow(\"g\", g)\n",
    "# cv2.imshow(\"r\", r)\n",
    "cv2.imshow(\"img_bgr\", img_bgr)\n",
    "\n",
    "cv2.waitKey()\n",
    "cv2.destroyAllWindows()"
   ]
  },
  {
   "cell_type": "code",
   "execution_count": 1,
   "id": "87271aea",
   "metadata": {},
   "outputs": [],
   "source": [
    "import matplotlib.pyplot as plt"
   ]
  },
  {
   "cell_type": "code",
   "execution_count": 13,
   "id": "f69b5c4c",
   "metadata": {},
   "outputs": [
    {
     "data": {
      "image/png": "[encoded data removed]",
      "text/plain": [
       "<Figure size 432x288 with 1 Axes>"
      ]
     },
     "metadata": {
      "needs_background": "light"
     },
     "output_type": "display_data"
    }
   ],
   "source": [
    "img = cv2.imread(\"./images/field.bmp\", 0)\n",
    "\n",
    "# hist = cv2.calcHist([img], [0], None, [256], [0, 256])\n",
    "bgr_p = cv2.split(img)\n",
    "colors = [\"b\", \"g\", \"r\"]\n",
    "\n",
    "for (p, c) in zip(bgr_p, colors):\n",
    "    hist = cv2.calcHist([p], [0], None, [256], [0, 256])\n",
    "    plt.plot(hist, color = c)\n",
    "    \n",
    "# plt.plot(hist)\n",
    "plt.show()\n",
    "\n",
    "cv2.imshow(\"src\", img)\n",
    "\n",
    "cv2.waitKey()\n",
    "cv2.destroyAllWindows()"
   ]
  },
  {
   "cell_type": "code",
   "execution_count": 40,
   "id": "666f1571",
   "metadata": {},
   "outputs": [],
   "source": [
    "src = cv2.imread(\"./images/field.bmp\")\n",
    "src_ycrcb = cv2.cvtColor(src, cv2.COLOR_BGR2YCrCb)\n",
    "\n",
    "y, cr, cb = cv2.split(src_ycrcb)\n",
    "# y = cv2.equalizeHist(y) # 명도 채널 수정\n",
    "src_ycrcb = cv2.equalizeHist(src_ycrcb[:, :, 0])\n",
    "\n",
    "# dst_ycrcb = cv2.merge([y, cr, cb])\n",
    "dst = cv2.cvtColor(dst_ycrcb, cv2.COLOR_YCrCb2BGR)\n",
    "\n",
    "cv2.imshow(\"src\", src)\n",
    "# cv2.imshow(\"y\", y)\n",
    "# cv2.imshow(\"cr\", cr)\n",
    "# cv2.imshow(\"cb\", cb)\n",
    "cv2.imshow(\"dst\", dst)\n",
    "\n",
    "cv2.waitKey()\n",
    "cv2.destroyAllWindows()"
   ]
  },
  {
   "cell_type": "code",
   "execution_count": 48,
   "id": "e5bb0b54",
   "metadata": {},
   "outputs": [],
   "source": [
    "src = cv2.imread(\"./fig_4/cropland.png\")\n",
    "x = cv2.cvtColor(src, cv2.COLOR_BGR2HSV)\n",
    "h, s, v = cv2.split(x)\n",
    "\n",
    "v = cv2.equalizeHist(v)\n",
    "\n",
    "dst_hsv = cv2.merge([h, s, v])\n",
    "dst_hsv = cv2.cvtColor(dst_hsv, cv2.COLOR_HSV2BGR)\n",
    "\n",
    "cv2.imshow(\"v\", dst_hsv)\n",
    "\n",
    "cv2.waitKey()\n",
    "cv2.destroyAllWindows()"
   ]
  },
  {
   "cell_type": "code",
   "execution_count": 5,
   "id": "51419b71",
   "metadata": {},
   "outputs": [],
   "source": [
    "src = cv2.imread(\"./fig_4/candies.png\")\n",
    "\n",
    "# inRange(src, lowerb, upperb[, dst]) -> dst\n",
    "# src: 입력영상\n",
    "# lowerb: 하한값\n",
    "# upperb: 상한값\n",
    "dst_bgr = cv2.inRange(src, (0, 100, 0), (50, 255, 50)) \n",
    "# color의 range를 뽑아내는 것\n",
    "\n",
    "dst_hsv = cv2.inRange(src_hsv, ())\n",
    "\n",
    "cv2.imshow(\"src\", src)\n",
    "cv2.imshow(\"dst_bgr0\", dst_bgr)\n",
    "\n",
    "cv2.waitKey()\n",
    "cv2.destroyAllWindows()"
   ]
  },
  {
   "cell_type": "code",
   "execution_count": 6,
   "id": "f48b7533",
   "metadata": {},
   "outputs": [],
   "source": [
    "src = cv2.imread(\"./fig_4/candies.png\")\n",
    "\n",
    "src_hsv = cv2.cvtColor(src, cv2.COLOR_BGR2HSV)\n",
    "\n",
    "dst_hsv = cv2.inRange(src_hsv, (50, 170, 0), (70, 255, 255))\n",
    "\n",
    "cv2.imshow(\"src\", src)\n",
    "cv2.imshow(\"dst_bgr0\", dst_bgr)\n",
    "\n",
    "cv2.waitKey()\n",
    "cv2.destroyAllWindows()"
   ]
  },
  {
   "cell_type": "code",
   "execution_count": 5,
   "id": "a5d7dd54",
   "metadata": {},
   "outputs": [],
   "source": [
    "import numpy as np\n",
    "import cv2\n",
    "import sys\n",
    "import matplotlib.pyplot as plt"
   ]
  },
  {
   "cell_type": "code",
   "execution_count": 24,
   "id": "829c340e",
   "metadata": {},
   "outputs": [],
   "source": [
    "src = cv2.imread(\"./fig_4/flowers.jpg\")\n",
    "\n",
    "src_hsv = cv2.cvtColor(src, cv2.COLOR_BGR2HSV)\n",
    "\n",
    "# dst_hsv = cv2.inRange(src_hsv, (150, 50, 0), (179, 255, 255))\n",
    "dst_hr = cv2.inRange(src_hsv, (150, 150, 0), (179, 255, 255))\n",
    "dst_hg = cv2.inRange(src_hsv, (30, 50, 0), (70, 255, 255))\n",
    "dst_hb = cv2.inRange(src_hsv, (100, 150, 0), (120, 255, 255))\n",
    "\n",
    "cv2.imshow(\"src\", src)\n",
    "# cv2.imshow(\"dst_bgr0\", dst_hsv)\n",
    "cv2.imshow(\"dst_hr\", dst_hr)\n",
    "cv2.imshow(\"dst_hg\", dst_hg)\n",
    "cv2.imshow(\"dst_hb\", dst_hb)\n",
    "\n",
    "cv2.waitKey()\n",
    "cv2.destroyAllWindows()"
   ]
  },
  {
   "cell_type": "code",
   "execution_count": 25,
   "id": "d074979c",
   "metadata": {},
   "outputs": [],
   "source": [
    "def call_trackbar(x):\n",
    "    hmin = cv2.getTrackbarPos(\"min\", \"dst\")\n",
    "    hmax = cv2.getTrackbarPos(\"max\", \"dst\")\n",
    "    \n",
    "    dst = cv2.inRange(src_hsv, (hmin, 150, 0), (hmax, 255, 255))\n",
    "    cv2.imshow(\"dst\", dst)\n",
    "\n",
    "src = cv2.imread(\"./fig_4/candies.png\")\n",
    "\n",
    "src_hsv = cv2.cvtColor(src, cv2.COLOR_BGR2HSV)\n",
    "\n",
    "cv2.namedWindow(\"dst\")\n",
    "cv2.createTrackbar(\"min\", \"dst\", 0, 179, call_trackbar)\n",
    "cv2.createTrackbar(\"max\", \"dst\", 100, 179, call_trackbar)\n",
    "\n",
    "# dst_hsv = cv2.inRange(src_hsv, (150, 50, 0), (179, 255, 255))\n",
    "# dst_hr = cv2.inRange(src_hsv, (150, 150, 0), (179, 255, 255))\n",
    "# dst_hg = cv2.inRange(src_hsv, (30, 50, 0), (70, 255, 255))\n",
    "# dst_hb = cv2.inRange(src_hsv, (100, 150, 0), (120, 255, 255))\n",
    "\n",
    "# cv2.imshow(\"dst\", src)\n",
    "# cv2.imshow(\"dst_bgr0\", dst_hsv)\n",
    "\n",
    "cv2.waitKey()\n",
    "cv2.destroyAllWindows()"
   ]
  }
 ],
 "metadata": {
  "kernelspec": {
   "display_name": "Python 3",
   "language": "python",
   "name": "python3"
  },
  "language_info": {
   "codemirror_mode": {
    "name": "ipython",
    "version": 3
   },
   "file_extension": ".py",
   "mimetype": "text/x-python",
   "name": "python",
   "nbconvert_exporter": "python",
   "pygments_lexer": "ipython3",
   "version": "3.8.8"
  }
 },
 "nbformat": 4,
 "nbformat_minor": 5
}
