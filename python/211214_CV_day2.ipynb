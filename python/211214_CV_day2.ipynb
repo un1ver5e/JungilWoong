{
 "cells": [
  {
   "cell_type": "markdown",
   "id": "c92675f2",
   "metadata": {},
   "source": [
    "### 1214 Review"
   ]
  },
  {
   "cell_type": "code",
   "execution_count": null,
   "id": "942c73f9",
   "metadata": {},
   "outputs": [],
   "source": [
    "import numpy as np\n",
    "import cv2\n",
    "import sys"
   ]
  },
  {
   "cell_type": "code",
   "execution_count": null,
   "id": "51ebd128",
   "metadata": {},
   "outputs": [],
   "source": [
    "img = cv2.imread(\"./fig/u.jpg\", cv2.IMREAD_COLOR) # \"BGR\" FORMAT"
   ]
  },
  {
   "cell_type": "code",
   "execution_count": null,
   "id": "4b8dc863",
   "metadata": {},
   "outputs": [],
   "source": [
    "if img is None:\n",
    "    print(\"image read failed\")\n",
    "    sys.exit()\n",
    "\n",
    "cv2.namedWindow(\"image\", \n",
    "                cv2.WINDOW_AUTOSIZE) # WINDOW_NORMAL = 창크기 조정 가능\n",
    "cv2.imshow(\"image\", img)\n",
    "cv2.waitKey()\n",
    "cv2.destroyAllWindows()"
   ]
  },
  {
   "cell_type": "code",
   "execution_count": null,
   "id": "6931ebc6",
   "metadata": {},
   "outputs": [],
   "source": [
    "# 이미지 크기 줄이기\n",
    "img_small = cv2.resize(img, (640//2, 480//2))\n",
    "print(img_small.shape)"
   ]
  },
  {
   "cell_type": "code",
   "execution_count": null,
   "id": "14960d8c",
   "metadata": {},
   "outputs": [],
   "source": [
    "cv2.namedWindow(\"image\", cv2.WINDOW_AUTOSIZE)\n",
    "cv2.imshow(\"image_small\", img_small)\n",
    "cv2.waitKey()\n",
    "cv2.destroyAllWindows()"
   ]
  },
  {
   "cell_type": "code",
   "execution_count": null,
   "id": "0fb79844",
   "metadata": {},
   "outputs": [],
   "source": [
    "# esc를 입력받으면 창 종료\n",
    "if img is None:\n",
    "    print(\"image read failed\")\n",
    "    sys.exit()\n",
    "\n",
    "cv2.namedWindow(\"image\", \n",
    "                cv2.WINDOW_AUTOSIZE)\n",
    "cv2.imshow(\"image\", img)\n",
    "\n",
    "while True:\n",
    "    if cv2.waitKey() == 27:\n",
    "        break\n",
    "\n",
    "cv2.destroyAllWindows()"
   ]
  },
  {
   "cell_type": "code",
   "execution_count": null,
   "id": "5e0db923",
   "metadata": {},
   "outputs": [],
   "source": [
    "import matplotlib.pyplot as plt"
   ]
  },
  {
   "cell_type": "code",
   "execution_count": null,
   "id": "baeaba3d",
   "metadata": {},
   "outputs": [],
   "source": [
    "img_bgr = cv2.imread(\"./fig/u.jpg\", 1) # 1 color"
   ]
  },
  {
   "cell_type": "code",
   "execution_count": null,
   "id": "c07f1561",
   "metadata": {},
   "outputs": [],
   "source": [
    "if img_bgr is None:\n",
    "    print(\"image read failed\")\n",
    "    sys.exit()\n",
    "\n",
    "cv2.imshow(\"img_bgr\", img_bgr)"
   ]
  },
  {
   "cell_type": "code",
   "execution_count": null,
   "id": "3f95452a",
   "metadata": {},
   "outputs": [],
   "source": [
    "img_gray = cv2.imread(\"./fig/u.jpg\", 0) # grayscale\n",
    "img_rgb = cv2.cvtColor(img_bgr, cv2.COLOR_BGR2RGB)\n",
    "\n",
    "plt.figure(figsize = (10, 10))\n",
    "plt.imshow(img_gray, cmap = \"gray\")\n",
    "plt.imshow(img_rgb)\n",
    "plt.axis(\"off\")\n",
    "plt.show()"
   ]
  },
  {
   "cell_type": "code",
   "execution_count": null,
   "id": "5f2374c8",
   "metadata": {},
   "outputs": [],
   "source": [
    "plt.figure(figsize = (10, 10))\n",
    "plt.subplot(121), plt.imshow(img_gray, cmap = \"gray\"), plt.axis(\"off\")\n",
    "plt.subplot(122), plt.imshow(img_rgb), plt.axis(\"off\")\n",
    "plt.show()"
   ]
  },
  {
   "cell_type": "code",
   "execution_count": null,
   "id": "458c22ae",
   "metadata": {},
   "outputs": [],
   "source": [
    "cv2.imwrite(\"./fig/u_gray.jpg\", img_gray)"
   ]
  },
  {
   "cell_type": "markdown",
   "id": "123ec89a",
   "metadata": {},
   "source": [
    "### image slide"
   ]
  },
  {
   "cell_type": "code",
   "execution_count": 1,
   "id": "6dcb67c0",
   "metadata": {},
   "outputs": [],
   "source": [
    "import numpy as np\n",
    "import cv2\n",
    "import sys\n",
    "import os"
   ]
  },
  {
   "cell_type": "code",
   "execution_count": 2,
   "id": "95cd0024",
   "metadata": {},
   "outputs": [
    {
     "data": {
      "text/plain": [
       "['autumn_forest_park_128379_1920x1080.jpg',\n",
       " 'boat_mountains_lake_135258_1920x1080.jpg',\n",
       " 'forest_fog_trees_128751_1920x1080.jpg',\n",
       " 'pier_dock_sea_dusk_shore_118549_1920x1080.jpg',\n",
       " 'road_marking_evening_clouds_horizon_120298_1920x1080.jpg']"
      ]
     },
     "execution_count": 2,
     "metadata": {},
     "output_type": "execute_result"
    }
   ],
   "source": [
    "img_list_os = os.listdir(\"./images/\")\n",
    "img_list_os"
   ]
  },
  {
   "cell_type": "code",
   "execution_count": 3,
   "id": "216cfd46",
   "metadata": {},
   "outputs": [],
   "source": [
    "img_files = []\n",
    "for i in img_list_os:\n",
    "    image_path = \"./images/\" + i\n",
    "    img_files.append(image_path)"
   ]
  },
  {
   "cell_type": "code",
   "execution_count": 4,
   "id": "b363d4f5",
   "metadata": {},
   "outputs": [],
   "source": [
    "# # 하나씩 display\n",
    "# cv2.namedWindow(\"scene\", cv2.WINDOW_NORMAL)\n",
    "# cv2.setWindowProperty(\"scene\", cv2.WND_PROP_FULLSCREEN,\n",
    "#                      cv2.WINDOW_FULLSCREEN)\n",
    "\n",
    "# for i in img_files:\n",
    "#     img = cv2.imread(i)\n",
    "#     cv2.imshow(\"scene\", img)\n",
    "#     if cv2.waitKey(3000) == 27: # 3000 = 기다리는 시간\n",
    "#         break\n",
    "\n",
    "# cv2.destroyAllWindows()"
   ]
  },
  {
   "cell_type": "code",
   "execution_count": 5,
   "id": "7994e647",
   "metadata": {},
   "outputs": [],
   "source": [
    "cv2.namedWindow(\"scene\", cv2.WINDOW_NORMAL)\n",
    "cv2.setWindowProperty(\"scene\", cv2.WND_PROP_FULLSCREEN,\n",
    "                     cv2.WINDOW_FULLSCREEN)\n",
    "idx = 0\n",
    "while True:\n",
    "    img = cv2.imread(img_files[idx])\n",
    "    cv2.imshow(\"scene\", img)\n",
    "    \n",
    "    if cv2.waitKey(1000) == 27:\n",
    "        break\n",
    "        \n",
    "    idx += 1\n",
    "    \n",
    "    if idx >= 5:\n",
    "        idx = 0\n",
    "\n",
    "cv2.destroyAllWindows()"
   ]
  },
  {
   "cell_type": "markdown",
   "id": "e97dd458",
   "metadata": {},
   "source": [
    "### 실습"
   ]
  },
  {
   "cell_type": "code",
   "execution_count": 6,
   "id": "8fdddb3b",
   "metadata": {},
   "outputs": [],
   "source": [
    "import numpy as np\n",
    "import cv2\n",
    "import sys\n",
    "import os"
   ]
  },
  {
   "cell_type": "code",
   "execution_count": 8,
   "id": "c839617c",
   "metadata": {},
   "outputs": [],
   "source": [
    "img_list_os = os.listdir(\"../DL/horse_or_human/horses/\")"
   ]
  },
  {
   "cell_type": "code",
   "execution_count": 9,
   "id": "3cf3abe4",
   "metadata": {},
   "outputs": [],
   "source": [
    "img_files = []\n",
    "for i in img_list_os:\n",
    "    image_path = \"../DL/horse_or_human/horses/\" + i\n",
    "    img_files.append(image_path)"
   ]
  },
  {
   "cell_type": "code",
   "execution_count": 11,
   "id": "76e3e12d",
   "metadata": {},
   "outputs": [],
   "source": [
    "# cv2.namedWindow(\"scene\", cv2.WINDOW_NORMAL)\n",
    "# cv2.setWindowProperty(\"scene\", cv2.WND_PROP_FULLSCREEN,\n",
    "#                      cv2.WINDOW_FULLSCREEN)\n",
    "\n",
    "cv2.namedWindow(\"horses\")\n",
    "\n",
    "idx = 0\n",
    "len_ = len(img_files)\n",
    "while True:\n",
    "    img = cv2.imread(img_files[idx])\n",
    "    cv2.imshow(\"horses\", img)\n",
    "    \n",
    "    if cv2.waitKey(1000) == 27:\n",
    "        break\n",
    "        \n",
    "    idx += 1\n",
    "    \n",
    "    if idx >= len_:\n",
    "        idx = 0\n",
    "\n",
    "cv2.destroyAllWindows()"
   ]
  },
  {
   "cell_type": "code",
   "execution_count": 24,
   "id": "e37901ee",
   "metadata": {},
   "outputs": [],
   "source": [
    "import glob"
   ]
  },
  {
   "cell_type": "code",
   "execution_count": 31,
   "id": "03cac16a",
   "metadata": {},
   "outputs": [],
   "source": [
    "glob_img_files = glob.glob(\"../dl/horse_or_human/horses/*.png\")"
   ]
  },
  {
   "cell_type": "markdown",
   "id": "36f5cf32",
   "metadata": {},
   "source": [
    "### 이미지 다루기 살짝 심화"
   ]
  },
  {
   "cell_type": "code",
   "execution_count": 3,
   "id": "f930f3e6",
   "metadata": {},
   "outputs": [],
   "source": [
    "import numpy as np\n",
    "import cv2\n",
    "import sys\n",
    "import os"
   ]
  },
  {
   "cell_type": "code",
   "execution_count": 48,
   "id": "b96f7b7b",
   "metadata": {},
   "outputs": [
    {
     "name": "stdout",
     "output_type": "stream",
     "text": [
      "image type =  <class 'numpy.ndarray'>\n",
      "image shape : 640 * 480\n",
      "image data type =  uint8\n"
     ]
    }
   ],
   "source": [
    "img = cv2.imread(\"./fig/cat.bmp\", cv2.IMREAD_GRAYSCALE)\n",
    "\n",
    "h, w = img.shape[:2]\n",
    "\n",
    "print(\"image type = \", type(img))\n",
    "print(\"image shape : {} * {}\".format(w, h))\n",
    "print(\"image data type = \", img.dtype) \n",
    "# unsigned int, 이미지는 특별한경우가 아니면 negative가 없음"
   ]
  },
  {
   "cell_type": "code",
   "execution_count": 49,
   "id": "d5fa317f",
   "metadata": {},
   "outputs": [],
   "source": [
    "# 픽셀값 참조\n",
    "img1 = cv2.imread(\"./fig/cat.bmp\", 0)\n",
    "img2 = cv2.imread(\"./fig/cat.bmp\", 1)\n",
    "\n",
    "if img1 is None or img2 is None:\n",
    "    print(\"image not found\")\n",
    "    sys.exit()\n",
    "\n",
    "cv2.imshow(\"img1\", img1)\n",
    "cv2.imshow(\"img2\", img2)\n",
    "\n",
    "cv2.waitKey()\n",
    "cv2.destroyAllWindows()"
   ]
  },
  {
   "cell_type": "code",
   "execution_count": 50,
   "id": "dac13567",
   "metadata": {},
   "outputs": [
    {
     "data": {
      "text/plain": [
       "array([[184, 190, 196, ..., 241, 241, 241],\n",
       "       [186, 191, 197, ..., 241, 241, 241],\n",
       "       [186, 191, 198, ..., 241, 241, 241],\n",
       "       ...,\n",
       "       [ 17,  18,  20, ...,  10,  11,  10],\n",
       "       [ 18,  19,  19, ...,  10,  11,  10],\n",
       "       [ 18,  17,  17, ...,  10,  11,  10]], dtype=uint8)"
      ]
     },
     "execution_count": 50,
     "metadata": {},
     "output_type": "execute_result"
    }
   ],
   "source": [
    "img1"
   ]
  },
  {
   "cell_type": "code",
   "execution_count": 51,
   "id": "908e80ff",
   "metadata": {},
   "outputs": [
    {
     "data": {
      "text/plain": [
       "114"
      ]
     },
     "execution_count": 51,
     "metadata": {},
     "output_type": "execute_result"
    }
   ],
   "source": [
    "img1[img1.shape[0] // 2, img1.shape[1] // 2]"
   ]
  },
  {
   "cell_type": "code",
   "execution_count": 46,
   "id": "0748a4a0",
   "metadata": {
    "scrolled": true
   },
   "outputs": [
    {
     "data": {
      "text/plain": [
       "array([255,   0,   0], dtype=uint8)"
      ]
     },
     "execution_count": 46,
     "metadata": {},
     "output_type": "execute_result"
    }
   ],
   "source": [
    "img2[img2.shape[0] // 2, img2.shape[1] // 2]"
   ]
  },
  {
   "cell_type": "code",
   "execution_count": 5,
   "id": "0cd42196",
   "metadata": {},
   "outputs": [],
   "source": [
    "dog_img = cv2.imread(\"./fig/puppy.bmp\", 1)\n",
    "\n",
    "dog_img[150:250, 230:500] = (0, 0, 0)\n",
    "\n",
    "if dog_img is None:\n",
    "    print(\"image not found\")\n",
    "    sys.exit()\n",
    "\n",
    "cv2.imshow(\"poor_dog\", dog_img)\n",
    "\n",
    "cv2.waitKey()\n",
    "cv2.destroyAllWindows()"
   ]
  }
 ],
 "metadata": {
  "kernelspec": {
   "display_name": "Python 3",
   "language": "python",
   "name": "python3"
  },
  "language_info": {
   "codemirror_mode": {
    "name": "ipython",
    "version": 3
   },
   "file_extension": ".py",
   "mimetype": "text/x-python",
   "name": "python",
   "nbconvert_exporter": "python",
   "pygments_lexer": "ipython3",
   "version": "3.8.8"
  }
 },
 "nbformat": 4,
 "nbformat_minor": 5
}
