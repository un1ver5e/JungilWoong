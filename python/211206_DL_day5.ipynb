{
 "cells": [
  {
   "cell_type": "markdown",
   "id": "b4e9eeef",
   "metadata": {},
   "source": [
    "# 오전"
   ]
  },
  {
   "cell_type": "code",
   "execution_count": 7,
   "id": "bc0ae955",
   "metadata": {},
   "outputs": [],
   "source": [
    "import numpy as np\n",
    "import pandas as pd\n",
    "import seaborn as sns\n",
    "import matplotlib.pyplot as plt\n",
    "import tensorflow as tf\n",
    "from tensorflow import keras\n",
    "from tensorflow.keras.models import Sequential\n",
    "from tensorflow.keras import layers\n",
    "from sklearn.preprocessing import LabelEncoder\n",
    "from sklearn.model_selection import train_test_split\n",
    "from keras.utils import np_utils\n",
    "from keras.datasets import mnist\n",
    "from keras.datasets import fashion_mnist"
   ]
  },
  {
   "cell_type": "code",
   "execution_count": null,
   "id": "c6077db0",
   "metadata": {},
   "outputs": [],
   "source": [
    "(train_input, train_target), (test_input, test_target) = keras.datasets.fashion_mnist.load_data()\n",
    "\n",
    "train_scaled = train_input.reshape(-1, 28, 28, 1) / 255\n",
    "\n",
    "train_scaled, val_scaled, train_target, val_target = train_test_split(\n",
    "    train_scaled, train_target, test_size=0.2, random_state=42)"
   ]
  },
  {
   "cell_type": "code",
   "execution_count": null,
   "id": "13e2bf76",
   "metadata": {},
   "outputs": [],
   "source": [
    "# 모델 생성, 마스크 갯수 32, 마스크 사이즈 3 ** 2\n",
    "# 입력 데이터의 사이즈 28 * 28 * 1 -> 1은 흑백\n",
    "model = Sequential()\n",
    "model.add(layers.Conv2D(32, kernel_size = 3, activation = \"relu\",\n",
    "                       padding = \"same\", input_shape = (28, 28, 1)))"
   ]
  },
  {
   "cell_type": "code",
   "execution_count": null,
   "id": "f01c6eb5",
   "metadata": {},
   "outputs": [],
   "source": [
    "# 맥스 풀링 2 * 2\n",
    "model.add(layers.MaxPooling2D(2))"
   ]
  },
  {
   "cell_type": "code",
   "execution_count": null,
   "id": "64286d28",
   "metadata": {},
   "outputs": [],
   "source": [
    "model.add(layers.Conv2D(64, kernel_size = (3, 3), activation = \"relu\",\n",
    "                       padding = \"same\"))\n",
    "model.add(layers.MaxPool2D(2))"
   ]
  },
  {
   "cell_type": "code",
   "execution_count": null,
   "id": "5bd460ad",
   "metadata": {},
   "outputs": [],
   "source": [
    "model.add(layers.Flatten()) # 차원 줄이기\n",
    "model.add(layers.Dense(100, activation = \"relu\")) # 모델\n",
    "model.add(layers.Dropout(0.4))\n",
    "model.add(layers.Dense(10, activation = \"softmax\"))"
   ]
  },
  {
   "cell_type": "code",
   "execution_count": null,
   "id": "5706f785",
   "metadata": {},
   "outputs": [],
   "source": [
    "model.compile(optimizer=\"adam\", loss = \"sparse_categorical_crossentropy\", \n",
    "              metrics = [\"ACC\"])"
   ]
  },
  {
   "cell_type": "code",
   "execution_count": null,
   "id": "db728975",
   "metadata": {},
   "outputs": [],
   "source": [
    "checkpoint_cb = keras.callbacks.ModelCheckpoint(\"best-cnn-model.h5\")\n",
    "early_stopping_cb = keras.callbacks.EarlyStopping(patience = 2,\n",
    "                                                 restore_best_weights = True)"
   ]
  },
  {
   "cell_type": "code",
   "execution_count": null,
   "id": "4f659137",
   "metadata": {},
   "outputs": [],
   "source": [
    "history = model.fit(train_scaled, train_target, epochs = 20, \n",
    "                    validation_data = (val_scaled, val_target),\n",
    "                    callbacks = [checkpoint_cb, early_stopping_cb])"
   ]
  },
  {
   "cell_type": "markdown",
   "id": "28e81403",
   "metadata": {},
   "source": [
    "### CNN 구현"
   ]
  },
  {
   "cell_type": "code",
   "execution_count": null,
   "id": "96e31ff6",
   "metadata": {},
   "outputs": [],
   "source": []
  },
  {
   "cell_type": "code",
   "execution_count": null,
   "id": "26965d00",
   "metadata": {},
   "outputs": [],
   "source": [
    "seed = 0\n",
    "np.random.seed(seed)\n",
    "tf.random.set_seed(seed)"
   ]
  },
  {
   "cell_type": "code",
   "execution_count": null,
   "id": "ff48bc4f",
   "metadata": {},
   "outputs": [],
   "source": [
    "(X_train, Y_train), (X_test, Y_test) = mnist.load_data()\n",
    "X_train = X_train.reshape(X_train.shape[0], 28, 28, 1).astype(\"float32\") / 255\n",
    "X_test = X_test.reshape(X_test.shape[0], 28, 28, 1).astype(\"float32\") / 255\n",
    "Y_train = np_utils.to_categorical(Y_train)\n",
    "Y_test = np_utils.to_categorical(Y_test)"
   ]
  },
  {
   "cell_type": "code",
   "execution_count": null,
   "id": "ddbb5e1c",
   "metadata": {},
   "outputs": [],
   "source": [
    "X_train.shape"
   ]
  },
  {
   "cell_type": "code",
   "execution_count": null,
   "id": "6d19a9ce",
   "metadata": {},
   "outputs": [],
   "source": [
    "# CNN\n",
    "model = Sequential()\n",
    "model.add(layers.Conv2D(32, kernel_size = (3, 3), input_shape = (28, 28, 1), padding = \"valid\",\n",
    "                       activation = \"relu\"))\n",
    "model.add(layers.Conv2D(32, kernel_size = (3, 3), activation = \"relu\"))\n",
    "model.add(layers.MaxPooling2D(pool_size = 2))\n",
    "model.add(layers.Dropout(0.25))\n",
    "model.add(layers.Flatten())\n",
    "model.add(layers.Dense(128, activation = \"relu\"))\n",
    "model.add(layers.Dropout(0.5))\n",
    "model.add(layers.Dense(10, activation = \"softmax\"))"
   ]
  },
  {
   "cell_type": "code",
   "execution_count": null,
   "id": "f8c59d39",
   "metadata": {},
   "outputs": [],
   "source": [
    "model.compile(optimizer = \"adam\", loss = \"categorical_crossentropy\", \n",
    "              metrics= [\"ACC\"])"
   ]
  },
  {
   "cell_type": "code",
   "execution_count": null,
   "id": "59fcca33",
   "metadata": {},
   "outputs": [],
   "source": [
    "model.summary()"
   ]
  },
  {
   "cell_type": "code",
   "execution_count": null,
   "id": "3752ec69",
   "metadata": {},
   "outputs": [],
   "source": [
    "model.fit(X_train, Y_train, epochs = 20, validation_data = (X_test, Y_test))"
   ]
  },
  {
   "cell_type": "markdown",
   "id": "a2823320",
   "metadata": {},
   "source": [
    "# 오후"
   ]
  },
  {
   "cell_type": "code",
   "execution_count": 28,
   "id": "cbf9ace4",
   "metadata": {},
   "outputs": [],
   "source": [
    "seed = 0\n",
    "np.random.seed(seed)\n",
    "tf.random.set_seed(seed)"
   ]
  },
  {
   "cell_type": "code",
   "execution_count": 29,
   "id": "a2429408",
   "metadata": {},
   "outputs": [],
   "source": [
    "(X_train, Y_train), (X_test, Y_test) = mnist.load_data()"
   ]
  },
  {
   "cell_type": "code",
   "execution_count": 30,
   "id": "810895b4",
   "metadata": {},
   "outputs": [],
   "source": [
    "X_train, X_val, Y_train, Y_val = train_test_split(X_test, Y_test, \n",
    "                                                    test_size = 0.3, shuffle = False)"
   ]
  },
  {
   "cell_type": "code",
   "execution_count": 32,
   "id": "e478d753",
   "metadata": {},
   "outputs": [],
   "source": [
    "X_train, X_test, Y_train, Y_test = train_test_split(X_train, Y_train, \n",
    "                                                    test_size = 0.1, shuffle = False)"
   ]
  },
  {
   "cell_type": "code",
   "execution_count": 33,
   "id": "f539af84",
   "metadata": {},
   "outputs": [
    {
     "name": "stdout",
     "output_type": "stream",
     "text": [
      "(6300, 28, 28) (3000, 28, 28) (700, 28, 28) (6300,) (3000,) (700,)\n"
     ]
    }
   ],
   "source": [
    "print(X_train.shape, X_val.shape, X_test.shape, Y_train.shape, Y_val.shape, Y_test.shape)"
   ]
  },
  {
   "cell_type": "code",
   "execution_count": 34,
   "id": "ed3f900d",
   "metadata": {},
   "outputs": [],
   "source": [
    "Y_train = np_utils.to_categorical(Y_train, 10)\n",
    "Y_val = np_utils.to_categorical(Y_val, 10)\n",
    "Y_test = np_utils.to_categorical(Y_test, 10)"
   ]
  },
  {
   "cell_type": "code",
   "execution_count": 35,
   "id": "1b4f1831",
   "metadata": {},
   "outputs": [],
   "source": [
    "model = Sequential()\n",
    "model.add(layers.Conv2D(32, kernel_size = (3, 3), input_shape = (28, 28, 1), padding = \"valid\",\n",
    "                       activation = \"relu\"))\n",
    "model.add(layers.Conv2D(32, kernel_size = (3, 3), activation = \"relu\"))\n",
    "model.add(layers.MaxPooling2D(pool_size = 2))\n",
    "model.add(layers.Dropout(0.25))\n",
    "model.add(layers.Flatten())\n",
    "model.add(layers.Dense(128, activation = \"relu\"))\n",
    "model.add(layers.Dropout(0.5))\n",
    "model.add(layers.Dense(10, activation = \"softmax\"))"
   ]
  },
  {
   "cell_type": "code",
   "execution_count": 39,
   "id": "04c75743",
   "metadata": {},
   "outputs": [],
   "source": [
    "model.compile(optimizer = \"adam\", loss = \"categorical_crossentropy\", \n",
    "              metrics= [\"ACC\"])"
   ]
  },
  {
   "cell_type": "code",
   "execution_count": 40,
   "id": "f5aa988a",
   "metadata": {},
   "outputs": [],
   "source": [
    "import os\n",
    "from keras.callbacks import ModelCheckpoint, EarlyStopping\n",
    "\n",
    "model_dir = \"./20211206CNN\"\n",
    "if not os.path.exists(model_dir):\n",
    "    os.mkdir(model_dir)\n",
    "\n",
    "modelpath = \"./\" + model_dir + \"/{epoch:02d}-{val_loss:.4f}.hdf5\"\n",
    "\n",
    "checkpointer = ModelCheckpoint(filepath = modelpath, monitor = \"val_loss\",\n",
    "                             verbose = 0, save_best_only = True)\n",
    "\n",
    "early_stopping_callback = EarlyStopping(patience = 3)"
   ]
  },
  {
   "cell_type": "code",
   "execution_count": 42,
   "id": "58616a80",
   "metadata": {},
   "outputs": [
    {
     "name": "stdout",
     "output_type": "stream",
     "text": [
      "Epoch 1/200\n",
      "32/32 [==============================] - 4s 125ms/step - loss: 0.4232 - ACC: 0.8637 - val_loss: 0.1599 - val_ACC: 0.9527\n",
      "Epoch 2/200\n",
      "32/32 [==============================] - 4s 125ms/step - loss: 0.3204 - ACC: 0.8952 - val_loss: 0.1341 - val_ACC: 0.9617\n",
      "Epoch 3/200\n",
      "32/32 [==============================] - 4s 127ms/step - loss: 0.2424 - ACC: 0.9186 - val_loss: 0.1113 - val_ACC: 0.9657\n",
      "Epoch 4/200\n",
      "32/32 [==============================] - 4s 129ms/step - loss: 0.2032 - ACC: 0.9317 - val_loss: 0.1007 - val_ACC: 0.9680\n",
      "Epoch 5/200\n",
      "32/32 [==============================] - 4s 129ms/step - loss: 0.1647 - ACC: 0.9471 - val_loss: 0.0978 - val_ACC: 0.9697\n",
      "Epoch 6/200\n",
      "32/32 [==============================] - 4s 138ms/step - loss: 0.1414 - ACC: 0.9530 - val_loss: 0.0786 - val_ACC: 0.9717\n",
      "Epoch 7/200\n",
      "32/32 [==============================] - 4s 139ms/step - loss: 0.1172 - ACC: 0.9583 - val_loss: 0.0920 - val_ACC: 0.9720\n",
      "Epoch 8/200\n",
      "32/32 [==============================] - 5s 158ms/step - loss: 0.1031 - ACC: 0.9638 - val_loss: 0.0826 - val_ACC: 0.9737\n",
      "Epoch 9/200\n",
      "32/32 [==============================] - 5s 167ms/step - loss: 0.0916 - ACC: 0.9697 - val_loss: 0.0737 - val_ACC: 0.9773\n",
      "Epoch 10/200\n",
      "32/32 [==============================] - 6s 174ms/step - loss: 0.0897 - ACC: 0.9679 - val_loss: 0.0684 - val_ACC: 0.9777\n",
      "Epoch 11/200\n",
      "32/32 [==============================] - 6s 186ms/step - loss: 0.0843 - ACC: 0.9717 - val_loss: 0.0775 - val_ACC: 0.9760\n",
      "Epoch 12/200\n",
      "32/32 [==============================] - 7s 214ms/step - loss: 0.0824 - ACC: 0.9738 - val_loss: 0.0884 - val_ACC: 0.9737\n",
      "Epoch 13/200\n",
      "32/32 [==============================] - 8s 249ms/step - loss: 0.0762 - ACC: 0.9756 - val_loss: 0.0677 - val_ACC: 0.9793\n",
      "Epoch 14/200\n",
      "32/32 [==============================] - 9s 277ms/step - loss: 0.0652 - ACC: 0.9776 - val_loss: 0.0907 - val_ACC: 0.9763\n",
      "Epoch 15/200\n",
      "32/32 [==============================] - 7s 227ms/step - loss: 0.0676 - ACC: 0.9743 - val_loss: 0.0854 - val_ACC: 0.9753\n",
      "Epoch 16/200\n",
      "32/32 [==============================] - 7s 209ms/step - loss: 0.0581 - ACC: 0.9795 - val_loss: 0.0803 - val_ACC: 0.9763\n"
     ]
    }
   ],
   "source": [
    "history = model.fit(X_train, Y_train, validation_data = (X_val, Y_val), epochs = 200,\n",
    "         batch_size = 200, verbose = 1, callbacks = [checkpointer, early_stopping_callback])"
   ]
  },
  {
   "cell_type": "code",
   "execution_count": 91,
   "id": "8c72b978",
   "metadata": {},
   "outputs": [],
   "source": [
    "y_vloss = history.history[\"val_loss\"]\n",
    "y_loss = history.history[\"loss\"]"
   ]
  },
  {
   "cell_type": "code",
   "execution_count": 122,
   "id": "4b1a773b",
   "metadata": {},
   "outputs": [
    {
     "data": {
      "image/png": "[encoded data removed]",
      "text/plain": [
       "<Figure size 720x360 with 1 Axes>"
      ]
     },
     "metadata": {
      "needs_background": "light"
     },
     "output_type": "display_data"
    }
   ],
   "source": [
    "plt.figure(figsize = (10, 5))\n",
    "plt.plot(y_vloss, marker = \"o\", c = \"red\", label = \"Test\")\n",
    "plt.plot(y_loss, marker = \"o\", c = \"blue\", label = \"Train\")\n",
    "plt.legend(loc = \"best\")\n",
    "plt.show()"
   ]
  },
  {
   "cell_type": "code",
   "execution_count": 111,
   "id": "0c2f10a3",
   "metadata": {},
   "outputs": [
    {
     "data": {
      "image/png": "[encoded data removed]",
      "text/plain": [
       "<Figure size 720x360 with 2 Axes>"
      ]
     },
     "metadata": {
      "needs_background": "light"
     },
     "output_type": "display_data"
    }
   ],
   "source": [
    "x_len = np.arange(len(y_loss))\n",
    "\n",
    "fig = plt.figure(figsize = (10, 5))\n",
    "\n",
    "ax1 = fig.add_subplot(1, 2, 1)\n",
    "ax2 = fig.add_subplot(1, 2, 2)\n",
    "\n",
    "ax1.plot(y_vloss, marker = \"o\", c = \"red\", label = \"Test\")\n",
    "ax2.plot(y_loss, marker = \"o\", c = \"blue\", label = \"Train\")\n",
    "\n",
    "ax1.legend(loc = \"best\")\n",
    "ax2.legend(loc = \"best\")\n",
    "\n",
    "plt.xlabel(\"epochs\")\n",
    "plt.ylabel(\"loss\")\n",
    "\n",
    "plt.show()"
   ]
  },
  {
   "cell_type": "code",
   "execution_count": 114,
   "id": "74020b6a",
   "metadata": {},
   "outputs": [],
   "source": [
    "test_model = keras.models.load_model(\"./20211206CNN/13-0.0677.hdf5\")\n",
    "X_test = X_test.astype(\"float32\") / 255"
   ]
  },
  {
   "cell_type": "code",
   "execution_count": 118,
   "id": "6c10379b",
   "metadata": {},
   "outputs": [
    {
     "data": {
      "text/plain": [
       "(700, 28, 28)"
      ]
     },
     "execution_count": 118,
     "metadata": {},
     "output_type": "execute_result"
    }
   ],
   "source": [
    "X_test.shape"
   ]
  },
  {
   "cell_type": "code",
   "execution_count": 117,
   "id": "50f497b6",
   "metadata": {},
   "outputs": [
    {
     "data": {
      "text/plain": [
       "(700, 10)"
      ]
     },
     "execution_count": 117,
     "metadata": {},
     "output_type": "execute_result"
    }
   ],
   "source": [
    "Y_test.shape"
   ]
  },
  {
   "cell_type": "code",
   "execution_count": 119,
   "id": "7e4337db",
   "metadata": {},
   "outputs": [
    {
     "name": "stdout",
     "output_type": "stream",
     "text": [
      "Model: \"sequential\"\n",
      "_________________________________________________________________\n",
      " Layer (type)                Output Shape              Param #   \n",
      "=================================================================\n",
      " conv2d (Conv2D)             (None, 26, 26, 32)        320       \n",
      "                                                                 \n",
      " conv2d_1 (Conv2D)           (None, 24, 24, 32)        9248      \n",
      "                                                                 \n",
      " max_pooling2d (MaxPooling2D  (None, 12, 12, 32)       0         \n",
      " )                                                               \n",
      "                                                                 \n",
      " dropout (Dropout)           (None, 12, 12, 32)        0         \n",
      "                                                                 \n",
      " flatten (Flatten)           (None, 4608)              0         \n",
      "                                                                 \n",
      " dense (Dense)               (None, 128)               589952    \n",
      "                                                                 \n",
      " dropout_1 (Dropout)         (None, 128)               0         \n",
      "                                                                 \n",
      " dense_1 (Dense)             (None, 10)                1290      \n",
      "                                                                 \n",
      "=================================================================\n",
      "Total params: 600,810\n",
      "Trainable params: 600,810\n",
      "Non-trainable params: 0\n",
      "_________________________________________________________________\n"
     ]
    }
   ],
   "source": [
    "test_model.summary()"
   ]
  },
  {
   "cell_type": "code",
   "execution_count": 120,
   "id": "dacb7b29",
   "metadata": {},
   "outputs": [
    {
     "name": "stdout",
     "output_type": "stream",
     "text": [
      "22/22 [==============================] - 1s 7ms/step - loss: 2.2522 - ACC: 0.2829\n"
     ]
    },
    {
     "data": {
      "text/plain": [
       "[2.252216339111328, 0.28285714983940125]"
      ]
     },
     "execution_count": 120,
     "metadata": {},
     "output_type": "execute_result"
    }
   ],
   "source": [
    "test_model.evaluate(X_test.reshape(-1, 28, 28, 1), Y_test) # 테스트 데이터로 결과 확인"
   ]
  },
  {
   "cell_type": "markdown",
   "id": "7e82404b",
   "metadata": {},
   "source": [
    "### 자연어처리"
   ]
  },
  {
   "cell_type": "code",
   "execution_count": 126,
   "id": "dd8598b6",
   "metadata": {},
   "outputs": [],
   "source": [
    "from keras.preprocessing.text import text_to_word_sequence, Tokenizer"
   ]
  },
  {
   "cell_type": "code",
   "execution_count": 127,
   "id": "91252109",
   "metadata": {},
   "outputs": [],
   "source": [
    "text = \"해보지 않으면 해낼 수 없다.\""
   ]
  },
  {
   "cell_type": "code",
   "execution_count": 128,
   "id": "a6fdc595",
   "metadata": {},
   "outputs": [
    {
     "data": {
      "text/plain": [
       "['해보지', '않으면', '해낼', '수', '없다']"
      ]
     },
     "execution_count": 128,
     "metadata": {},
     "output_type": "execute_result"
    }
   ],
   "source": [
    "# tokenization 결과, 단어로 쪼갠 결과 반환, 리스트로\n",
    "result = text_to_word_sequence(text)\n",
    "result"
   ]
  },
  {
   "cell_type": "code",
   "execution_count": 130,
   "id": "58029377",
   "metadata": {},
   "outputs": [],
   "source": [
    "# 단어를 빈도 순으로 정리\n",
    "# 토큰화 함수에 적용 후 단어의 빈도 수 출력\n",
    "docs = ['먼저 텍스트의 각 단어를 나누어 토큰화 합니다.',\n",
    "       '텍스트의 단어로 토큰화 해야 딥러닝에서 인식됩니다.',\n",
    "       '토큰화 한 결과는 딥러닝에서 사용 할 수 있습니다.'\n",
    "       ]"
   ]
  },
  {
   "cell_type": "code",
   "execution_count": 142,
   "id": "ddac0c41",
   "metadata": {},
   "outputs": [
    {
     "data": {
      "text/plain": [
       "OrderedDict([('먼저', 1),\n",
       "             ('텍스트의', 2),\n",
       "             ('각', 1),\n",
       "             ('단어를', 1),\n",
       "             ('나누어', 1),\n",
       "             ('토큰화', 3),\n",
       "             ('합니다', 1),\n",
       "             ('단어로', 1),\n",
       "             ('해야', 1),\n",
       "             ('딥러닝에서', 2),\n",
       "             ('인식됩니다', 1),\n",
       "             ('한', 1),\n",
       "             ('결과는', 1),\n",
       "             ('사용', 1),\n",
       "             ('할', 1),\n",
       "             ('수', 1),\n",
       "             ('있습니다', 1)])"
      ]
     },
     "execution_count": 142,
     "metadata": {},
     "output_type": "execute_result"
    }
   ],
   "source": [
    "token = Tokenizer()\n",
    "token.fit_on_texts(docs)\n",
    "token.word_counts"
   ]
  },
  {
   "cell_type": "code",
   "execution_count": 133,
   "id": "41c11aec",
   "metadata": {},
   "outputs": [
    {
     "data": {
      "text/plain": [
       "collections.OrderedDict"
      ]
     },
     "execution_count": 133,
     "metadata": {},
     "output_type": "execute_result"
    }
   ],
   "source": [
    "type(token.word_counts)"
   ]
  },
  {
   "cell_type": "code",
   "execution_count": 135,
   "id": "4e84f6df",
   "metadata": {},
   "outputs": [
    {
     "name": "stdout",
     "output_type": "stream",
     "text": [
      "문장 : 3\n"
     ]
    }
   ],
   "source": [
    "print(\"문장 :\", token.document_count)"
   ]
  },
  {
   "cell_type": "code",
   "execution_count": 136,
   "id": "ce2a09a0",
   "metadata": {},
   "outputs": [
    {
     "name": "stdout",
     "output_type": "stream",
     "text": [
      "각 단어의 수 : OrderedDict([('먼저', 1), ('텍스트의', 2), ('각', 1), ('단어를', 1), ('나누어', 1), ('토큰화', 3), ('합니다', 1), ('단어로', 1), ('해야', 1), ('딥러닝에서', 2), ('인식됩니다', 1), ('한', 1), ('결과는', 1), ('사용', 1), ('할', 1), ('수', 1), ('있습니다', 1)])\n"
     ]
    }
   ],
   "source": [
    "print(\"각 단어의 수 :\", token.word_counts)"
   ]
  },
  {
   "cell_type": "code",
   "execution_count": 137,
   "id": "121c430c",
   "metadata": {},
   "outputs": [
    {
     "name": "stdout",
     "output_type": "stream",
     "text": [
      "각 단어에 매겨진 인덱스 : {'토큰화': 1, '텍스트의': 2, '딥러닝에서': 3, '먼저': 4, '각': 5, '단어를': 6, '나누어': 7, '합니다': 8, '단어로': 9, '해야': 10, '인식됩니다': 11, '한': 12, '결과는': 13, '사용': 14, '할': 15, '수': 16, '있습니다': 17}\n"
     ]
    }
   ],
   "source": [
    "print(\"각 단어에 매겨진 인덱스 :\", token.word_index)"
   ]
  },
  {
   "cell_type": "code",
   "execution_count": 146,
   "id": "f8e4e00e",
   "metadata": {},
   "outputs": [],
   "source": [
    "# 텍스트 리뷰로 부정과 긍정을 도출"
   ]
  },
  {
   "cell_type": "code",
   "execution_count": 147,
   "id": "5347d8a2",
   "metadata": {},
   "outputs": [],
   "source": [
    "docs = [\"너무 재밌네요\",\"최고예요\",\"참 잘 만든 영화예요\",\n",
    "        \"추천하고 싶은 영화입니다\",\"한번 더 보고싶네요\",\"글쎄요\",\n",
    "        \"별로예요\",\"생각보다 지루하네요\",\"연기가 어색해요\",\"재미없어요\"]"
   ]
  },
  {
   "cell_type": "code",
   "execution_count": 151,
   "id": "e0e5adfc",
   "metadata": {},
   "outputs": [],
   "source": [
    "target = np.array([1, 1, 1, 1, 1, 0, 0, 0, 0, 0])"
   ]
  },
  {
   "cell_type": "code",
   "execution_count": 158,
   "id": "15988cd8",
   "metadata": {},
   "outputs": [],
   "source": [
    "# 토큰화\n",
    "token = Tokenizer()\n",
    "token.fit_on_texts(docs)"
   ]
  },
  {
   "cell_type": "code",
   "execution_count": 165,
   "id": "ab7b2b49",
   "metadata": {},
   "outputs": [
    {
     "data": {
      "text/plain": [
       "array([[ 0,  0,  1,  2],\n",
       "       [ 0,  0,  0,  3],\n",
       "       [ 4,  5,  6,  7],\n",
       "       [ 0,  8,  9, 10],\n",
       "       [ 0, 11, 12, 13],\n",
       "       [ 0,  0,  0, 14],\n",
       "       [ 0,  0,  0, 15],\n",
       "       [ 0,  0, 16, 17],\n",
       "       [ 0,  0, 18, 19],\n",
       "       [ 0,  0,  0, 20]])"
      ]
     },
     "execution_count": 165,
     "metadata": {},
     "output_type": "execute_result"
    }
   ],
   "source": [
    "from keras.preprocessing.sequence import pad_sequences\n",
    "# embedding : 데이터를 4로 길이를 맞춤\n",
    "x = token.texts_to_sequences(docs) # 각 문장마다 단어의 갯수로 분리함\n",
    "padded_x = pad_sequences(x, 4) # maximum 4로\n",
    "padded_x"
   ]
  },
  {
   "cell_type": "code",
   "execution_count": 166,
   "id": "a0a7f7d8",
   "metadata": {},
   "outputs": [
    {
     "data": {
      "text/plain": [
       "[[1, 2],\n",
       " [3],\n",
       " [4, 5, 6, 7],\n",
       " [8, 9, 10],\n",
       " [11, 12, 13],\n",
       " [14],\n",
       " [15],\n",
       " [16, 17],\n",
       " [18, 19],\n",
       " [20]]"
      ]
     },
     "execution_count": 166,
     "metadata": {},
     "output_type": "execute_result"
    }
   ],
   "source": [
    "x"
   ]
  },
  {
   "cell_type": "code",
   "execution_count": 176,
   "id": "16ef7d3d",
   "metadata": {},
   "outputs": [
    {
     "name": "stdout",
     "output_type": "stream",
     "text": [
      "Epoch 1/15\n",
      "1/1 [==============================] - 0s 372ms/step - loss: 0.6998 - ACC: 0.1000\n",
      "Epoch 2/15\n",
      "1/1 [==============================] - 0s 4ms/step - loss: 0.6976 - ACC: 0.2000\n",
      "Epoch 3/15\n",
      "1/1 [==============================] - 0s 3ms/step - loss: 0.6954 - ACC: 0.4000\n",
      "Epoch 4/15\n",
      "1/1 [==============================] - 0s 4ms/step - loss: 0.6932 - ACC: 0.6000\n",
      "Epoch 5/15\n",
      "1/1 [==============================] - 0s 2ms/step - loss: 0.6911 - ACC: 0.7000\n",
      "Epoch 6/15\n",
      "1/1 [==============================] - 0s 4ms/step - loss: 0.6889 - ACC: 0.7000\n",
      "Epoch 7/15\n",
      "1/1 [==============================] - 0s 3ms/step - loss: 0.6868 - ACC: 0.8000\n",
      "Epoch 8/15\n",
      "1/1 [==============================] - 0s 4ms/step - loss: 0.6846 - ACC: 0.8000\n",
      "Epoch 9/15\n",
      "1/1 [==============================] - 0s 4ms/step - loss: 0.6825 - ACC: 0.9000\n",
      "Epoch 10/15\n",
      "1/1 [==============================] - 0s 3ms/step - loss: 0.6804 - ACC: 0.9000\n",
      "Epoch 11/15\n",
      "1/1 [==============================] - 0s 4ms/step - loss: 0.6783 - ACC: 0.9000\n",
      "Epoch 12/15\n",
      "1/1 [==============================] - 0s 5ms/step - loss: 0.6761 - ACC: 0.9000\n",
      "Epoch 13/15\n",
      "1/1 [==============================] - 0s 4ms/step - loss: 0.6740 - ACC: 0.9000\n",
      "Epoch 14/15\n",
      "1/1 [==============================] - 0s 5ms/step - loss: 0.6719 - ACC: 0.9000\n",
      "Epoch 15/15\n",
      "1/1 [==============================] - 0s 4ms/step - loss: 0.6698 - ACC: 0.9000\n"
     ]
    },
    {
     "data": {
      "text/plain": [
       "<keras.callbacks.History at 0x1f330a21ac0>"
      ]
     },
     "execution_count": 176,
     "metadata": {},
     "output_type": "execute_result"
    }
   ],
   "source": [
    "model = Sequential()\n",
    "model.add(layers.Embedding(len(token.index_word) + 1, 8, input_length = 4))\n",
    "model.add(layers.Flatten())\n",
    "model.add(layers.Dense(1, activation = \"sigmoid\"))\n",
    "model.compile(loss = \"BCE\", optimizer = \"adam\", metrics = \"ACC\")\n",
    "model.fit(padded_x, target, epochs = 15)"
   ]
  },
  {
   "cell_type": "code",
   "execution_count": 178,
   "id": "4b583bf8",
   "metadata": {},
   "outputs": [
    {
     "name": "stdout",
     "output_type": "stream",
     "text": [
      "1/1 [==============================] - 0s 22ms/step - loss: 0.6676 - ACC: 0.9000\n",
      "\n",
      " ACC : 0.9000\n"
     ]
    }
   ],
   "source": [
    "print(\"\\n ACC : %.4f\" % model.evaluate(padded_x, target)[1])"
   ]
  }
 ],
 "metadata": {
  "kernelspec": {
   "display_name": "Python 3",
   "language": "python",
   "name": "python3"
  },
  "language_info": {
   "codemirror_mode": {
    "name": "ipython",
    "version": 3
   },
   "file_extension": ".py",
   "mimetype": "text/x-python",
   "name": "python",
   "nbconvert_exporter": "python",
   "pygments_lexer": "ipython3",
   "version": "3.8.8"
  }
 },
 "nbformat": 4,
 "nbformat_minor": 5
}
