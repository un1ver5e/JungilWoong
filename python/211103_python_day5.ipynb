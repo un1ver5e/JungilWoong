{
 "cells": [
  {
   "cell_type": "markdown",
   "id": "3db68a3b",
   "metadata": {},
   "source": [
    "python의 데이터 타입 == 문자, 숫자, boolean\n",
    "\n",
    "자료를 모아서 사용하는 데이터 == list, dictionary, tuple\n",
    "\n",
    "list\n",
    "a = [1, \"abcd\", [1, 2, 3], \"test\"]\n",
    "list에 접근하는 방법\n",
    "-> index 첨자로 접근하는 방법 == a:[1:3] 시작은 포함 끝은 포함하지 않음\n",
    "    요소 변경 == a[0] = 10, 처음부터 끝까지 == a[:], 해당인덱스부터 끝까지 == a[1:], \n",
    "    처음부터 해당인덱스까지 == a[:3], 역순 == a[-1]\n",
    "-> list에 관련된 메서드\n",
    "    a.append(요소), a.insert(위치, 요소), 리스트에 추가 == a.extend(a), 요소 삭제 == del a[3], # 전체 삭제 == a.remove()\n",
    "\n",
    "dictionary\n",
    "키와 값을 저장하는 데이터 : dictionary {키:값, 키:값,}\n",
    "b = {\"a\":10, \"b\":20}\n",
    "딕셔너리를 접근하는 방법 == b[key], b[\"c\"] = \"abcd\"\n",
    "제거 == del b[key], 모든 자료 삭제 b.clear()\n",
    "\n",
    "tuple\n",
    "c = (1, 2, 3, 4)\n",
    "읽기전용\n",
    "\n",
    "for문\n",
    "for 식별자 in 반복값: == 반복값만큼 연속 작업\n",
    "for txt in 반복:\n",
    "    txt 가공 : 리스트 == 요소를 하나씩 가져옴\n",
    "              dict == 키 값을 하나씩 가져옴\n",
    "              file == \\n을 기준으로 데이터를 가져옴(한줄씩)\n",
    "for index, value in enumerate(a_list) == 리스트에서 index와 value를 동시 반환\n",
    "for key in dictionary == 키를 반환\n",
    "for key, value in dictionary.items() == 키와 밸류를 동시에 반환하므로 따라서 변수가 2개가 필요함\n",
    "\n",
    "while 표현식: == 표현식 조건이 만족하는 동안\n",
    "\n",
    "file(저장장치에 저장된)에 접근 방법\n",
    "-> fp = open(파일명, 모드) -> 파일명은 경로 포함, mode == w, r, a, w+, r+, a+, wb..\n",
    "r == if exist 읽어오기 else error\n",
    "w == if exist 내용 싹지우고 시작 else 새로운 파일 생성\n",
    "a == if exist 이어쓰기 else error\n",
    "-> text = \"abcd\" == text의 내용을 파일로 저장 fp.write(text)\n",
    "-> fp.close() 항상 닫아줘야 함\n",
    "\n",
    "함수 == 정의 부분과 실행 부분\n",
    "정의 == 작성만 하고 불러들여질 준비만 해놓는 단계 def 함수명(매개변수)\n",
    "실행 == 함수명(매개변수) -> 함수를 호출(실행)"
   ]
  },
  {
   "cell_type": "code",
   "execution_count": null,
   "id": "c1a03db8",
   "metadata": {},
   "outputs": [],
   "source": [
    "def num_total(s_num, e_num):\n",
    "    total = 0\n",
    "    for num in range(start_no, end_no + 1)\n",
    "    total += num\n",
    "    return total\n",
    "\n",
    "num_total(10, 100)"
   ]
  },
  {
   "cell_type": "code",
   "execution_count": null,
   "id": "6041e252",
   "metadata": {},
   "outputs": [],
   "source": [
    "# 이름을 입력받아 list_name에 저장 : 입력의 끝은 \"q\" -> input_name_func()으로 구현\n",
    "# 입력된 이름의 개수만큼 성적을 입력받아 list_score에 저장 -> input_score_func()로 구현\n",
    "# 입력된 이름을 키로 성적을 값으로 저장하는 함수 작성 dict_name_score 식별자, make_dict_func()로 구현\n",
    "# 저장된 dict_name_score의 자료를 파일로 저장 -> 구분자는 \",\"로 ex) \"홍길동,90\\n김철수,80\\n\"\n",
    "# 파일 명은 file.txt로 저장 \"w\"모드로 open -> 저장이 끝나면 file close -> file_write() 함수로\n",
    "# 저장된 파일을 r 모드로 open해서 파일의 내용을 dict로 저장하고 dict로 출력 => file_read() 함수로"
   ]
  },
  {
   "cell_type": "code",
   "execution_count": null,
   "id": "b6452ebf",
   "metadata": {},
   "outputs": [],
   "source": [
    "# 이름을 입력받아 list_name에 저장 : 입력의 끝은 \"q\" -> input_name_func()으로 구현\n",
    "def input_name_func():\n",
    "    list_name = []\n",
    "    while True:\n",
    "        name = input(\"이름 입력 (종료는 q) > \")\n",
    "        if name == \"q\":\n",
    "            break\n",
    "        list_name.append(name)\n",
    "    return list_name"
   ]
  },
  {
   "cell_type": "code",
   "execution_count": null,
   "id": "33b17167",
   "metadata": {},
   "outputs": [],
   "source": [
    "# 입력된 이름의 개수만큼 성적을 입력받아 list_score에 저장 -> input_score_func()로 구현\n",
    "def input_score_func(ln_len):\n",
    "    list_score = []\n",
    "    i = 0\n",
    "    while i < ln_len:\n",
    "        score = input(\"점수 입력 > \")\n",
    "        if not score.isdigit():\n",
    "            print(\"숫자만 입력해\")\n",
    "        else:\n",
    "            list_score.append(score)\n",
    "            i += 1\n",
    "    return list_score"
   ]
  },
  {
   "cell_type": "code",
   "execution_count": null,
   "id": "014b8f91",
   "metadata": {},
   "outputs": [],
   "source": [
    "# 입력된 이름을 키로 성적을 값으로 저장하는 함수 작성 dict_name_score 식별자, make_dict_func()로 구현\n",
    "def make_dict_func(list_name, list_score):\n",
    "    dict_name_score = {}\n",
    "    for index, name in enumerate(list_name):\n",
    "        dict_name_score[name] = list_score[index]\n",
    "    return dict_name_score"
   ]
  },
  {
   "cell_type": "code",
   "execution_count": null,
   "id": "ebe5c769",
   "metadata": {},
   "outputs": [],
   "source": [
    "# 저장된 dict_name_score의 자료를 파일로 저장 -> 구분자는 \",\"로 ex) \"홍길동,90\\n김철수,80\\n\"\n",
    "# 파일 명은 file.txt로 저장 \"w\"모드로 open -> 저장이 끝나면 file close -> file_write() 함수로\n",
    "def save_text_func(input_dict, filename, mode):\n",
    "    import datetime as dt\n",
    "    \n",
    "    save_file = open(filename, mode)\n",
    "    for i in range(len(dict_name_score)):\n",
    "        save_file.write(\"{},{}\\n\".format(list_name[i], list_score[i]))\n",
    "    save_file.close()\n",
    "    print(\"\\n저장 완료 -\", dt.datetime.now())\n",
    "    return"
   ]
  },
  {
   "cell_type": "code",
   "execution_count": null,
   "id": "e7e84ba6",
   "metadata": {},
   "outputs": [],
   "source": [
    "# 저장된 파일을 r 모드로 open해서 파일의 내용을 dict로 저장하고 dict로 출력 => file_read() 함수로\n",
    "def file_read(filename, mode):\n",
    "    open_file = open(filename, mode)\n",
    "    dict_name_score = {}\n",
    "    contents = open_file.read()\n",
    "    open_file.seek(0)\n",
    "\n",
    "    for contents in open_file:\n",
    "        name_score = contents.split(\",\")\n",
    "        dict_name_score[name_score[0]] = int(name_score[1])\n",
    "        \n",
    "    open_file.close()\n",
    "    return dict_name_score"
   ]
  },
  {
   "cell_type": "code",
   "execution_count": null,
   "id": "cfd8f17c",
   "metadata": {},
   "outputs": [],
   "source": [
    "#### 함수 호출\n",
    "list_name = input_name_func()\n",
    "list_score = input_score_func(len(list_name))\n",
    "dict_name_score = make_dict_func(list_name, list_score)\n",
    "save_text_func(dict_name_score, \"./file.txt\", \"w\")\n",
    "file_read(\"./file.txt\", \"r\")"
   ]
  },
  {
   "cell_type": "code",
   "execution_count": null,
   "id": "4007af3c",
   "metadata": {},
   "outputs": [],
   "source": [
    "# 검색하고자 하는 이름을 입력\n",
    "# 파일의 내용에서 같은 이름을 검색해서 점수를 출력\n",
    "# 이름이 중복된 경우 처음 점수만 출력"
   ]
  },
  {
   "cell_type": "code",
   "execution_count": null,
   "id": "a0c53015",
   "metadata": {},
   "outputs": [],
   "source": [
    "# 검색하고자 하는 이름을 입력\n",
    "def search_name_func():\n",
    "    name = input(\"이름 입력 (종료는 q) > \")\n",
    "    return name"
   ]
  },
  {
   "cell_type": "code",
   "execution_count": null,
   "id": "9a5a8972",
   "metadata": {},
   "outputs": [],
   "source": [
    "# 파일의 내용에서 같은 이름을 검색해서 점수를 출력\n",
    "def open_file_func(path, mode):\n",
    "    open_file = open(path, mode)\n",
    "\n",
    "    i = 0\n",
    "    for contents in open_file:\n",
    "        name_score = contents.split(\",\")\n",
    "        idx_list = [i, name_score]\n",
    "        print(idx_list)"
   ]
  },
  {
   "cell_type": "code",
   "execution_count": null,
   "id": "a40dca1c",
   "metadata": {
    "scrolled": true
   },
   "outputs": [],
   "source": [
    "search_name = search_name_func()\n",
    "open_file = open_file_func(\"./file.txt\", \"r\")"
   ]
  },
  {
   "cell_type": "code",
   "execution_count": null,
   "id": "91e368ea",
   "metadata": {},
   "outputs": [],
   "source": [
    "# 모듈은 소스와 분리되어 저장된 변수와 함수의 집합체\n",
    "import math\n",
    "num = 34.5\n",
    "print(math.ceil(num), math.floor(num), math.sin(num))"
   ]
  },
  {
   "cell_type": "code",
   "execution_count": null,
   "id": "fc611bec",
   "metadata": {},
   "outputs": [],
   "source": [
    "# from 모듈 이름 import 변수 또는 함수 => 변수나 함수만 가져옴\n",
    "from math import sin, cos, ceil, floor\n",
    "sin(10)"
   ]
  },
  {
   "cell_type": "code",
   "execution_count": null,
   "id": "a9b3f2f9",
   "metadata": {},
   "outputs": [],
   "source": [
    "# from 모듈 이름 as 식별자 => 식별자로 모듈 사용 가능\n",
    "import math as mt\n",
    "mt.sin(10)\n",
    "\n",
    "# from 모듈 이름 import 변수 또는 함수 as 식별자도 사용 가능\n",
    "from math import sin as S\n",
    "S(10)"
   ]
  },
  {
   "cell_type": "code",
   "execution_count": null,
   "id": "3169a6f8",
   "metadata": {},
   "outputs": [],
   "source": [
    "import random as rand\n",
    "import math\n",
    "rand.random() # docstring random() -> x in the interval [0, 1]\n",
    "math.ceil(rand.uniform(0, 100 + 1))"
   ]
  },
  {
   "cell_type": "code",
   "execution_count": null,
   "id": "5b8579ad",
   "metadata": {},
   "outputs": [],
   "source": [
    "import random\n",
    "print(\"# random 모듈\")\n",
    "\n",
    "# random(): 0.0 <= x < 1.0 사이의 float을 리턴\n",
    "print(\"- random():\", random.random())\n",
    "\n",
    "# uniform(man, max): 지정한 범위 사이의 float을 리턴\n",
    "print(\"- uniform(10, 20):\", random.uniform(10, 20))\n",
    "\n",
    "# randrange(): 지정한 범위의 int를 리턴\n",
    "# - randrange(max): 0부터 max 사이의 값을 리턴\n",
    "# - randrange(min, max): min부터 max 사이의 값을 리턴\n",
    "print(\"- randrange(10):\", random.randrange(10))\n",
    "\n",
    "# choice(list): 리스트의 요소들을 랜덤하게 섞\n",
    "print(\"- shuffle([1, 2, 3, 4, 5]):\", random.shuffle([1, 2, 3, 4, 5])) # shuffle은 원래 데이터를 수정함\n",
    "\n",
    "# sample(list, k=<숫자>): 리스트의 요소 중에 k개를 뽑습니다.\n",
    "print(\"- sample([1, 2, 3, 4, 5], k=2)\", random.sample([1, 2, 3, 4, 5], k = 2))"
   ]
  },
  {
   "cell_type": "code",
   "execution_count": null,
   "id": "fd1587d3",
   "metadata": {
    "scrolled": true
   },
   "outputs": [],
   "source": [
    "# import os == 운영체제와 관련된 기능들을 가진 모듈\n",
    "import os\n",
    "\n",
    "print(\"현재 운영체제:\", os.name) # name은 변수\n",
    "print(\"현재 작업 폴더:\", os.getcwd()) # getcwd는 함수\n",
    "print(\"현재 작업 폴더의 디렉토리:\", os.listdir())\n",
    "\n",
    "os.mkdir(\"test_dir\") # test_dir 폴더 만들기\n",
    "os.rmdir(\"test_dir\") # test_dir 폴더 삭제\n",
    "\n",
    "# file 삭제\n",
    "os.remove(파일명) # 파일명 파일 삭제\n",
    "os.system(명령어) # cmd 명령어 입력\n",
    "\n",
    "import time\n",
    "time.sleep(5)"
   ]
  },
  {
   "cell_type": "code",
   "execution_count": null,
   "id": "928295f4",
   "metadata": {},
   "outputs": [],
   "source": [
    "# urllib 모듈 url을 다루는 라이브러리\n",
    "from urllib import request\n",
    "\n",
    "web_page = request.urlopen(\"https://google.com/\")\n",
    "output = web_page.read()\n",
    "\n",
    "print(output) # html 소스 가져오기"
   ]
  },
  {
   "cell_type": "code",
   "execution_count": null,
   "id": "6730a17a",
   "metadata": {},
   "outputs": [],
   "source": [
    "# !pip install Beautifulsoup4\n",
    "from urllib import request\n",
    "from bs4 import BeautifulSoup\n",
    "\n",
    "target = request.urlopen(\"http://www.ycampus.co.kr/\")\n",
    "\n",
    "soup = BeautifulSoup(target) # tag로 분리해서 가져옴\n",
    "\n",
    "for script in soup.select(\"title\"):\n",
    "    print(script)"
   ]
  },
  {
   "cell_type": "code",
   "execution_count": null,
   "id": "972fb2ef",
   "metadata": {},
   "outputs": [],
   "source": [
    "from urllib import request\n",
    "from bs4 import BeautifulSoup\n",
    "\n",
    "# urlopen() 함수로 기상청의 전국 날씨를 읽습니다.\n",
    "target = request.urlopen(\"http://www.kma.go.kr/weather/forecast/mid-term-rss3.jsp?stnId=108\")\n",
    "\n",
    "# BeautifulSoup을 사용해 웹 페이지를 분석합니다.\n",
    "soup = BeautifulSoup(target, \"html.parser\")\n",
    "\n",
    "# location 태그를 찾습니다.\n",
    "for location in soup.select(\"location\"):\n",
    "    # 내부의 city, wf, tmn, tmx 태그를 찾아 출력합니다.\n",
    "    print(\"도시:\", location.select_one(\"city\").string)\n",
    "    print(\"날씨:\", location.select_one(\"wf\").string)\n",
    "    print(\"최저기온:\", location.select_one(\"tmn\").string)\n",
    "    print(\"최고기온:\", location.select_one(\"tmx\").string)\n",
    "    print()"
   ]
  },
  {
   "cell_type": "code",
   "execution_count": 1,
   "id": "07fce9d9",
   "metadata": {},
   "outputs": [],
   "source": [
    "# flask_basic\n",
    "# import flask\n",
    "from flask import Flask\n",
    "\n",
    "app = Flask(__name__)\n",
    "\n",
    "@app.route(\"/\")\n",
    "def hello():\n",
    "    return \"<h1> Hello World </h1>\""
   ]
  },
  {
   "cell_type": "code",
   "execution_count": null,
   "id": "8a02dfa5",
   "metadata": {},
   "outputs": [],
   "source": [
    "# urlopen => urllib -> request.open(\"경로\")\n",
    "# Beautifulsoup = url 내용을 <html> tag로 변경 해주는 함수\n",
    "\n",
    "from urllib import request\n",
    "from bs4 import BeautifulSoup\n",
    "# 1. url open\n",
    "target = request.open(\"url 경로\")\n",
    "soup = BeautifulSoup(target, \"html.parser\")\n",
    "\n",
    "# 웹 브라우저를 활용한 프로그램, Django나 Flask 사용\n",
    "from flask import Flask"
   ]
  }
 ],
 "metadata": {
  "kernelspec": {
   "display_name": "Python 3",
   "language": "python",
   "name": "python3"
  },
  "language_info": {
   "codemirror_mode": {
    "name": "ipython",
    "version": 3
   },
   "file_extension": ".py",
   "mimetype": "text/x-python",
   "name": "python",
   "nbconvert_exporter": "python",
   "pygments_lexer": "ipython3",
   "version": "3.8.8"
  }
 },
 "nbformat": 4,
 "nbformat_minor": 5
}
