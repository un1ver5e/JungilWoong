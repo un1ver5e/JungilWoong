{
  "nbformat": 4,
  "nbformat_minor": 0,
  "metadata": {
    "colab": {
      "name": "Untitled2.ipynb의 사본",
      "provenance": [],
      "collapsed_sections": []
    },
    "kernelspec": {
      "name": "python3",
      "display_name": "Python 3"
    },
    "language_info": {
      "name": "python"
    }
  },
  "cells": [
    {
      "cell_type": "code",
      "execution_count": null,
      "metadata": {
        "id": "BJwsu5c93XHp"
      },
      "outputs": [],
      "source": [
        "import re"
      ]
    },
    {
      "cell_type": "code",
      "source": [
        "# 숫자 찾기\n",
        "ex = \"2002 02 18 thursday\"\n",
        "print(re.findall(\"[0-9]\", ex))\n",
        "\n",
        "# 숫자가 아닌 것 찾기\n",
        "print(re.findall(\"[^0-9]\", ex))"
      ],
      "metadata": {
        "colab": {
          "base_uri": "https://localhost:8080/"
        },
        "id": "NI844nvf3yX9",
        "outputId": "043bcc49-8f58-4d89-f6a8-6d6e0a4e9fe3"
      },
      "execution_count": null,
      "outputs": [
        {
          "output_type": "stream",
          "name": "stdout",
          "text": [
            "['2', '0', '0', '2', '0', '2', '1', '8']\n",
            "[' ', ' ', ' ', 't', 'h', 'u', 'r', 's', 'd', 'a', 'y']\n"
          ]
        }
      ]
    },
    {
      "cell_type": "code",
      "source": [
        "# 이메일 주소를 찾기\n",
        "ex1 = \"제 이메일은 jiw8718@naver.com 입니다. jiw8718@gmail.com으로 변경되었습니다.\"\n",
        "print(re.findall(\"\\S+[a-z]\", ex1))"
      ],
      "metadata": {
        "colab": {
          "base_uri": "https://localhost:8080/"
        },
        "id": "i9RXoMTx4Tf5",
        "outputId": "9bd19d71-380d-46fa-9b1f-a82a0cf77012"
      },
      "execution_count": null,
      "outputs": [
        {
          "output_type": "stream",
          "name": "stdout",
          "text": [
            "['jiw8718@naver.com', 'jiw8718@gmail.com']\n"
          ]
        }
      ]
    },
    {
      "cell_type": "code",
      "source": [
        "# URL 찾기\n",
        "ex2 = \"https://google.co.kr에 네이버 검색하시면 https://www.naver.com/이 상단에 노출됩니다.\"\n",
        "print(re.findall(\"\\S+[a-z]\", ex2))"
      ],
      "metadata": {
        "colab": {
          "base_uri": "https://localhost:8080/"
        },
        "id": "eSzB1ynq4ovu",
        "outputId": "113c7291-124f-44d0-9536-e225da11f416"
      },
      "execution_count": null,
      "outputs": [
        {
          "output_type": "stream",
          "name": "stdout",
          "text": [
            "['https://google.co.kr', 'https://www.naver.com']\n"
          ]
        }
      ]
    },
    {
      "cell_type": "code",
      "source": [
        "# 파일 찾기\n",
        "ex3 = \"제 바탕화면 보시면 sonata01.png 파일과 avante02.jpg 파일 그리고 socar2021.gif 파일이 존재합니다.\"\n",
        "print(re.findall(\"\\S+[a-z]\", ex3))"
      ],
      "metadata": {
        "colab": {
          "base_uri": "https://localhost:8080/"
        },
        "id": "_Js-9F4I4gwr",
        "outputId": "15349543-a4ed-4fb0-f0f2-97ed81d87134"
      },
      "execution_count": null,
      "outputs": [
        {
          "output_type": "stream",
          "name": "stdout",
          "text": [
            "['sonata01.png', 'avante02.jpg', 'socar2021.gif']\n"
          ]
        }
      ]
    },
    {
      "cell_type": "code",
      "source": [
        "def pad_punctualtion(sentence, punc):\n",
        "  for p in punc:\n",
        "    sentence = sentence.replace(p, \" \" + p + \" \")\n",
        "\n",
        "    return sentence\n",
        "  \n",
        "sentence = \"Hi, my name is john.\"\n",
        "\n",
        "print(pad_punctualtion)(sentence, [\".\", \"?\", \"!\", \",\"])"
      ],
      "metadata": {
        "id": "q4T_GjLAGs9v"
      },
      "execution_count": null,
      "outputs": []
    },
    {
      "cell_type": "code",
      "source": [
        "sentence = \"First, open the first chapter.\"\n",
        "\n",
        "print(sentence.lower())"
      ],
      "metadata": {
        "id": "vvjesEwZHHon"
      },
      "execution_count": null,
      "outputs": []
    },
    {
      "cell_type": "code",
      "source": [
        "sentence = \"First, open the first chapter.\"\n",
        "\n",
        "print(sentence.upper())"
      ],
      "metadata": {
        "id": "s9-keTYYHN3g"
      },
      "execution_count": null,
      "outputs": []
    },
    {
      "cell_type": "code",
      "source": [
        "sentence = \"He is a ten-year-old boy.\"\n",
        "sentence = re.sub(\"([^a-zA-Z.,?!])\", \" \", sentence)\n",
        "\n",
        "print(sentence)"
      ],
      "metadata": {
        "id": "hmk4RIxXHRhA"
      },
      "execution_count": null,
      "outputs": []
    },
    {
      "cell_type": "code",
      "source": [
        "corpus = \\\n",
        "\"\"\"\n",
        "The Project Gutenberg eBook of The Story of My Life, by Helen Keller\n",
        "This eBook is for the use of anyone anywhere in the United States and most other parts of the world at no cost and with almost no restrictions whatsoever. You may copy it, give it away or re-use it under the terms of the Project Gutenberg License included with this eBook or online at www.gutenberg.org. If you are not located in the United States, you will have to check the laws of the country where you are located before using this eBook.\n",
        "Title: The Story of My Life\n",
        "Author: Helen Keller\n",
        "Release Date: November, 2000 [eBook #2397]\n",
        "[Most recently updated: November 3, 2021]\n",
        "\"\"\""
      ],
      "metadata": {
        "id": "2CBfv3MII02V"
      },
      "execution_count": null,
      "outputs": []
    },
    {
      "cell_type": "code",
      "source": [
        "def cleaning_text(text, punc, regex):\n",
        "  # noise1\n",
        "\n",
        "  # noise2\n",
        "\n",
        "  # noise3\n",
        "\n",
        "  return text\n",
        "\n",
        "print(cleaning_text(corpus, [\".\", \"?\", \"!\", \",\"], \"정규화식문법\"))"
      ],
      "metadata": {
        "id": "sDFutO1nI5nS"
      },
      "execution_count": null,
      "outputs": []
    }
  ]
}