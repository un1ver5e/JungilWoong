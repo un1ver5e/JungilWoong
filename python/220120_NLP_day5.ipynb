{
 "cells": [
  {
   "cell_type": "markdown",
   "metadata": {
    "id": "shXs_OUW4CxF"
   },
   "source": [
    "# IMDB리뷰 tensorflow의 subwordTextEncoder로 토큰화"
   ]
  },
  {
   "cell_type": "code",
   "execution_count": 1,
   "metadata": {
    "id": "UaSNIAL44OVK"
   },
   "outputs": [],
   "source": [
    "import tensorflow_datasets as tfds\n",
    "import urllib.request\n",
    "import pandas as pd"
   ]
  },
  {
   "cell_type": "code",
   "execution_count": 2,
   "metadata": {
    "colab": {
     "base_uri": "https://localhost:8080/"
    },
    "id": "QeXPNqlP5n5u",
    "outputId": "77860530-fd34-4ecc-c7b9-14f7d1bb5b38"
   },
   "outputs": [
    {
     "data": {
      "text/plain": [
       "('IMDb_Reviews.csv', <http.client.HTTPMessage at 0x7f5550975250>)"
      ]
     },
     "execution_count": 2,
     "metadata": {},
     "output_type": "execute_result"
    }
   ],
   "source": [
    "urllib.request.urlretrieve(\"https://raw.githubusercontent.com/LawrenceDuan/IMDb-Review-Analysis/master/IMDb_Reviews.csv\", filename=\"IMDb_Reviews.csv\")"
   ]
  },
  {
   "cell_type": "code",
   "execution_count": 3,
   "metadata": {
    "id": "idPvgcE65oM_"
   },
   "outputs": [],
   "source": [
    "train_df = pd.read_csv('IMDb_Reviews.csv')"
   ]
  },
  {
   "cell_type": "code",
   "execution_count": 4,
   "metadata": {
    "colab": {
     "base_uri": "https://localhost:8080/"
    },
    "id": "nYvsQl095pqw",
    "outputId": "bea06eb1-9fb8-4c8d-eff6-de435117be33"
   },
   "outputs": [
    {
     "data": {
      "text/plain": [
       "0        My family and I normally do not watch local mo...\n",
       "1        Believe it or not, this was at one time the wo...\n",
       "2        After some internet surfing, I found the \"Home...\n",
       "3        One of the most unheralded great works of anim...\n",
       "4        It was the Sixties, and anyone with long hair ...\n",
       "                               ...                        \n",
       "49995    the people who came up with this are SICK AND ...\n",
       "49996    The script is so so laughable... this in turn,...\n",
       "49997    \"So there's this bride, you see, and she gets ...\n",
       "49998    Your mind will not be satisfied by this nobud...\n",
       "49999    The chaser's war on everything is a weekly sho...\n",
       "Name: review, Length: 50000, dtype: object"
      ]
     },
     "execution_count": 4,
     "metadata": {},
     "output_type": "execute_result"
    }
   ],
   "source": [
    "train_df[\"review\"]"
   ]
  },
  {
   "cell_type": "code",
   "execution_count": 5,
   "metadata": {
    "colab": {
     "base_uri": "https://localhost:8080/"
    },
    "id": "6nFUol0z5u4o",
    "outputId": "e1177cc0-7631-4f6a-eebe-d8e1f9d37d94"
   },
   "outputs": [
    {
     "data": {
      "text/plain": [
       "0        1\n",
       "1        0\n",
       "2        0\n",
       "3        1\n",
       "4        0\n",
       "        ..\n",
       "49995    0\n",
       "49996    0\n",
       "49997    0\n",
       "49998    0\n",
       "49999    1\n",
       "Name: sentiment, Length: 50000, dtype: int64"
      ]
     },
     "execution_count": 5,
     "metadata": {},
     "output_type": "execute_result"
    }
   ],
   "source": [
    "# train_df에서 sentiment 컬럼만 출력하기\n",
    "train_df[\"sentiment\"]"
   ]
  },
  {
   "cell_type": "code",
   "execution_count": 6,
   "metadata": {
    "id": "DHnKbOaA68al"
   },
   "outputs": [],
   "source": [
    "tokenizer = tfds.deprecated.text.SubwordTextEncoder.build_from_corpus(train_df[\"review\"], target_vocab_size=2**13)"
   ]
  },
  {
   "cell_type": "code",
   "execution_count": 10,
   "metadata": {
    "colab": {
     "base_uri": "https://localhost:8080/"
    },
    "id": "6QgUb9zq7pPb",
    "outputId": "8828fe92-30be-4d43-8dd9-d52058e70ba3"
   },
   "outputs": [
    {
     "data": {
      "text/plain": [
       "['the_',\n",
       " ', ',\n",
       " '. ',\n",
       " 'a_',\n",
       " 'and_',\n",
       " 'of_',\n",
       " 'to_',\n",
       " 's_',\n",
       " 'is_',\n",
       " 'br',\n",
       " 'in_',\n",
       " 'I_',\n",
       " 'that_',\n",
       " 'this_',\n",
       " 'it_',\n",
       " ' /><',\n",
       " ' />',\n",
       " 'was_',\n",
       " 'The_',\n",
       " 't_',\n",
       " 'as_',\n",
       " 'with_',\n",
       " 'for_',\n",
       " '.<',\n",
       " 'on_',\n",
       " 'but_',\n",
       " 'movie_',\n",
       " 'are_',\n",
       " ' (',\n",
       " 'have_',\n",
       " 'his_',\n",
       " 'film_',\n",
       " 'not_',\n",
       " 'be_',\n",
       " 'you_',\n",
       " 'ing_',\n",
       " ' \"',\n",
       " 'ed_',\n",
       " 'it',\n",
       " 'd_',\n",
       " 'an_',\n",
       " 'at_',\n",
       " 'by_',\n",
       " 'he_',\n",
       " 'one_',\n",
       " 'who_',\n",
       " 'from_',\n",
       " 'y_',\n",
       " 'or_',\n",
       " 'e_',\n",
       " 'like_',\n",
       " 'all_',\n",
       " '\" ',\n",
       " 'they_',\n",
       " 'so_',\n",
       " 'just_',\n",
       " 'has_',\n",
       " ') ',\n",
       " 'about_',\n",
       " 'her_',\n",
       " 'out_',\n",
       " 'This_',\n",
       " 'some_',\n",
       " 'movie',\n",
       " 'ly_',\n",
       " 'film',\n",
       " 'very_',\n",
       " 'more_',\n",
       " 'It_',\n",
       " 'what_',\n",
       " 'would_',\n",
       " 'when_',\n",
       " 'if_',\n",
       " 'good_',\n",
       " 'up_',\n",
       " 'which_',\n",
       " 'their_',\n",
       " 'only_',\n",
       " 'even_',\n",
       " 'my_',\n",
       " 'really_',\n",
       " 'had_',\n",
       " 'can_',\n",
       " 'no_',\n",
       " 'were_',\n",
       " 'see_',\n",
       " '? ',\n",
       " 'she_',\n",
       " 'than_',\n",
       " '! ',\n",
       " 'there_',\n",
       " 'been_',\n",
       " 'get_',\n",
       " 'into_',\n",
       " 'will_',\n",
       " ' - ',\n",
       " 'much_',\n",
       " 'n_',\n",
       " 'because_',\n",
       " 'ing']"
      ]
     },
     "execution_count": 10,
     "metadata": {},
     "output_type": "execute_result"
    }
   ],
   "source": [
    "# q1 tokenizer의 subword를 100까지 출력하세요.\n",
    "tokenizer.subwords[0:100]"
   ]
  },
  {
   "cell_type": "code",
   "execution_count": 8,
   "metadata": {
    "colab": {
     "base_uri": "https://localhost:8080/",
     "height": 146
    },
    "id": "mAa-Osme7Hgo",
    "outputId": "27dd317e-42b1-412e-cba9-1474eacd16d6"
   },
   "outputs": [
    {
     "data": {
      "application/vnd.google.colaboratory.intrinsic+json": {
       "type": "string"
      },
      "text/plain": [
       "\"The SF premise isn't unique (although it pretty much was back then), but the focus is a completely different one than in other artificial reality films. Especially during the first part it is an elaborate crime picture, that uses the SF premise to tell an unusual crime story in which the forced detective tries to solve a mystery with the obstacle of vanishing characters and unhelpful witnesses who don't have to lie to be unhelpful. Instead of an unreliable narrator we have an unreliable world.<br /><br />In part two we follow the main character's struggle for sanity and it turns more into a psychological examination of a character in an extreme situation. He knows his very existence is nothing more than electrical impulses, how does he deal with this knowledge? He knows that there is a world that is more real than his, but he is trapped in an artificial world, a world where nobody can understand him. The problem of thinking of knowing something essential about the world that nobody else knows or wants to believe is a very real one that many of us can identify with. For me the film transports this hopelessness very well, with its dreary, artificial atmosphere which also supports the factual artificiality of the film's world.<br /><br />Other than 'The Matrix' or 'The Thirteenth Floor' it's little concerned with evoking a sense of awe for its artificial reality plot, instead it very much focuses on the psychological aspects. Philosophy is only in so far interesting in that certain philosophical concepts are essential in how they shape and alter the character's perception of the world.<br /><br />Arguably it is longer than it has to be (which isn't a problem if you are as captivated by it as I was) and part 2 runs pretty low on steam.\""
      ]
     },
     "execution_count": 8,
     "metadata": {},
     "output_type": "execute_result"
    }
   ],
   "source": [
    "# q2 train_df의 \"review\" 컬럼에서 20번째 문장을 출력하세요.\n",
    "train_df[\"review\"].iloc[19]"
   ]
  },
  {
   "cell_type": "code",
   "execution_count": null,
   "metadata": {
    "id": "GpBlH4sW7Om0"
   },
   "outputs": [],
   "source": [
    "# tokenizer.encode를 활용하여 train_df_의 20번째 문장을 텍스트 -> 숫자로 바꾸세요.\n",
    "tokenizer.encode(train_df[\"review\"].iloc[19])"
   ]
  },
  {
   "cell_type": "markdown",
   "metadata": {
    "id": "LVtKJ3MD81Iq"
   },
   "source": [
    "# 샘플 문장으로 인코딩 디코딩 해보기"
   ]
  },
  {
   "cell_type": "code",
   "execution_count": 23,
   "metadata": {
    "colab": {
     "base_uri": "https://localhost:8080/"
    },
    "id": "IRayZBaLBF0j",
    "outputId": "87e178c0-c136-4b61-c2e4-3a992e20e005"
   },
   "outputs": [
    {
     "name": "stdout",
     "output_type": "stream",
     "text": [
      "정수 인코딩 후의 문장 [137, 8051, 8, 910, 8057, 2169, 36, 7, 103, 13, 14, 32, 18, 79, 681]\n",
      "기존 문장 : It's mind-blowing to me that this film was even made\n",
      "단어 집합의 크기(vocab size) : 8268\n"
     ]
    }
   ],
   "source": [
    "# 리뷰 데이터가 아닌 샘플 문장으로 인코딩하고 디코딩\n",
    "sample_string = \"It's mind-blowing to me that this film was even made\"\n",
    "\n",
    "# q1) 인코딩해서 저장\n",
    "# h1) 변수명.encode\n",
    "tokenized_string = tokenizer.encode(sample_string)\n",
    "print(\"정수 인코딩 후의 문장 {}\".format(tokenized_string))\n",
    "\n",
    "# q2) 디코딩해서 저장\n",
    "# h2) 변수명.decode\n",
    "original_string = tokenizer.decode(tokenized_string)\n",
    "print(\"기존 문장 : {}\".format(original_string))\n",
    "\n",
    "# q3) vocab_size 구하기\n",
    "# h3) 변수명.vocab_size\n",
    "print(\"단어 집합의 크기(vocab size) :\", tokenizer.vocab_size)"
   ]
  },
  {
   "cell_type": "code",
   "execution_count": 25,
   "metadata": {
    "colab": {
     "base_uri": "https://localhost:8080/"
    },
    "id": "iZ-tK-qcFigq",
    "outputId": "ce0326a9-dfa7-4b91-e3a5-c548f4384ae5"
   },
   "outputs": [
    {
     "name": "stdout",
     "output_type": "stream",
     "text": [
      "137 --> It\n",
      "8051 --> '\n",
      "8 --> s \n",
      "910 --> mind\n",
      "8057 --> -\n",
      "2169 --> blow\n",
      "36 --> ing \n",
      "7 --> to \n",
      "103 --> me \n",
      "13 --> that \n",
      "14 --> this \n",
      "32 --> film \n",
      "18 --> was \n",
      "79 --> even \n",
      "681 --> made\n"
     ]
    }
   ],
   "source": [
    "for ts in tokenized_string:\n",
    "  print(\"{} --> {}\".format(ts, tokenizer.decode([ts])))"
   ]
  },
  {
   "cell_type": "markdown",
   "metadata": {
    "id": "v8ErrsPDGQQk"
   },
   "source": [
    "#2. 샘플 문장으로 인코딩 디코딩해보기"
   ]
  },
  {
   "cell_type": "code",
   "execution_count": 27,
   "metadata": {
    "colab": {
     "base_uri": "https://localhost:8080/"
    },
    "id": "NR1nBsfGGVBR",
    "outputId": "2c2f5af6-0946-4a5a-f7dd-f9bb39a9277a"
   },
   "outputs": [
    {
     "name": "stdout",
     "output_type": "stream",
     "text": [
      "정수 인코딩 후의 문장 [137, 8051, 8, 910, 8057, 2169, 36, 7, 103, 13, 14, 32, 18, 7974, 8132, 8133, 997, 681]\n",
      "기존 문장 : It's mind-blowing to me that this film was evenxyz made\n",
      "137 --> It\n",
      "8051 --> '\n",
      "8 --> s \n",
      "910 --> mind\n",
      "8057 --> -\n",
      "2169 --> blow\n",
      "36 --> ing \n",
      "7 --> to \n",
      "103 --> me \n",
      "13 --> that \n",
      "14 --> this \n",
      "32 --> film \n",
      "18 --> was \n",
      "7974 --> even\n",
      "8132 --> x\n",
      "8133 --> y\n",
      "997 --> z \n",
      "681 --> made\n"
     ]
    }
   ],
   "source": [
    "# 리뷰데이터가 아닌 샘플 문장으로 인코딩하고 디코딩\n",
    "sample_string = \"It's mind-blowing to me that this film was evenxyz made\"\n",
    "\n",
    "tokenized_string = tokenizer.encode(sample_string)\n",
    "print(\"정수 인코딩 후의 문장 {}\".format(tokenized_string))\n",
    "\n",
    "original_string = tokenizer.decode(tokenized_string)\n",
    "print(\"기존 문장 : {}\".format(original_string))\n",
    "\n",
    "for ts in tokenized_string:\n",
    "  print(\"{} --> {}\".format(ts, tokenizer.decode([ts])))"
   ]
  },
  {
   "cell_type": "markdown",
   "metadata": {
    "id": "u0tPsOImGd0j"
   },
   "source": [
    "네이버 영화리뷰로 서브워드 토크나이저"
   ]
  },
  {
   "cell_type": "code",
   "execution_count": 28,
   "metadata": {
    "colab": {
     "base_uri": "https://localhost:8080/"
    },
    "id": "d6qfK91bHm38",
    "outputId": "bc71a03c-1b3f-417d-ac42-537f743ec967"
   },
   "outputs": [
    {
     "data": {
      "text/plain": [
       "('ratings_test.txt', <http.client.HTTPMessage at 0x7f554c8a9b10>)"
      ]
     },
     "execution_count": 28,
     "metadata": {},
     "output_type": "execute_result"
    }
   ],
   "source": [
    "urllib.request.urlretrieve(\"https://raw.githubusercontent.com/e9t/nsmc/master/ratings_train.txt\", filename=\"ratings_train.txt\")\n",
    "urllib.request.urlretrieve(\"https://raw.githubusercontent.com/e9t/nsmc/master/ratings_test.txt\", filename=\"ratings_test.txt\")"
   ]
  },
  {
   "cell_type": "code",
   "execution_count": 35,
   "metadata": {
    "colab": {
     "base_uri": "https://localhost:8080/",
     "height": 206
    },
    "id": "CaRU3vCpHuKL",
    "outputId": "d9123aba-e8d0-488e-f77a-53707ed1e2a6"
   },
   "outputs": [
    {
     "data": {
      "text/html": [
       "\n",
       "  <div id=\"df-4f2933d3-3349-4bcb-9292-88a513d3be76\">\n",
       "    <div class=\"colab-df-container\">\n",
       "      <div>\n",
       "<style scoped>\n",
       "    .dataframe tbody tr th:only-of-type {\n",
       "        vertical-align: middle;\n",
       "    }\n",
       "\n",
       "    .dataframe tbody tr th {\n",
       "        vertical-align: top;\n",
       "    }\n",
       "\n",
       "    .dataframe thead th {\n",
       "        text-align: right;\n",
       "    }\n",
       "</style>\n",
       "<table border=\"1\" class=\"dataframe\">\n",
       "  <thead>\n",
       "    <tr style=\"text-align: right;\">\n",
       "      <th></th>\n",
       "      <th>id</th>\n",
       "      <th>document</th>\n",
       "      <th>label</th>\n",
       "    </tr>\n",
       "  </thead>\n",
       "  <tbody>\n",
       "    <tr>\n",
       "      <th>0</th>\n",
       "      <td>9976970</td>\n",
       "      <td>아 더빙.. 진짜 짜증나네요 목소리</td>\n",
       "      <td>0</td>\n",
       "    </tr>\n",
       "    <tr>\n",
       "      <th>1</th>\n",
       "      <td>3819312</td>\n",
       "      <td>흠...포스터보고 초딩영화줄....오버연기조차 가볍지 않구나</td>\n",
       "      <td>1</td>\n",
       "    </tr>\n",
       "    <tr>\n",
       "      <th>2</th>\n",
       "      <td>10265843</td>\n",
       "      <td>너무재밓었다그래서보는것을추천한다</td>\n",
       "      <td>0</td>\n",
       "    </tr>\n",
       "    <tr>\n",
       "      <th>3</th>\n",
       "      <td>9045019</td>\n",
       "      <td>교도소 이야기구먼 ..솔직히 재미는 없다..평점 조정</td>\n",
       "      <td>0</td>\n",
       "    </tr>\n",
       "    <tr>\n",
       "      <th>4</th>\n",
       "      <td>6483659</td>\n",
       "      <td>사이몬페그의 익살스런 연기가 돋보였던 영화!스파이더맨에서 늙어보이기만 했던 커스틴 ...</td>\n",
       "      <td>1</td>\n",
       "    </tr>\n",
       "  </tbody>\n",
       "</table>\n",
       "</div>\n",
       "      <button class=\"colab-df-convert\" onclick=\"convertToInteractive('df-4f2933d3-3349-4bcb-9292-88a513d3be76')\"\n",
       "              title=\"Convert this dataframe to an interactive table.\"\n",
       "              style=\"display:none;\">\n",
       "        \n",
       "  <svg xmlns=\"http://www.w3.org/2000/svg\" height=\"24px\"viewBox=\"0 0 24 24\"\n",
       "       width=\"24px\">\n",
       "    <path d=\"M0 0h24v24H0V0z\" fill=\"none\"/>\n",
       "    <path d=\"M18.56 5.44l.94 2.06.94-2.06 2.06-.94-2.06-.94-.94-2.06-.94 2.06-2.06.94zm-11 1L8.5 8.5l.94-2.06 2.06-.94-2.06-.94L8.5 2.5l-.94 2.06-2.06.94zm10 10l.94 2.06.94-2.06 2.06-.94-2.06-.94-.94-2.06-.94 2.06-2.06.94z\"/><path d=\"M17.41 7.96l-1.37-1.37c-.4-.4-.92-.59-1.43-.59-.52 0-1.04.2-1.43.59L10.3 9.45l-7.72 7.72c-.78.78-.78 2.05 0 2.83L4 21.41c.39.39.9.59 1.41.59.51 0 1.02-.2 1.41-.59l7.78-7.78 2.81-2.81c.8-.78.8-2.07 0-2.86zM5.41 20L4 18.59l7.72-7.72 1.47 1.35L5.41 20z\"/>\n",
       "  </svg>\n",
       "      </button>\n",
       "      \n",
       "  <style>\n",
       "    .colab-df-container {\n",
       "      display:flex;\n",
       "      flex-wrap:wrap;\n",
       "      gap: 12px;\n",
       "    }\n",
       "\n",
       "    .colab-df-convert {\n",
       "      background-color: #E8F0FE;\n",
       "      border: none;\n",
       "      border-radius: 50%;\n",
       "      cursor: pointer;\n",
       "      display: none;\n",
       "      fill: #1967D2;\n",
       "      height: 32px;\n",
       "      padding: 0 0 0 0;\n",
       "      width: 32px;\n",
       "    }\n",
       "\n",
       "    .colab-df-convert:hover {\n",
       "      background-color: #E2EBFA;\n",
       "      box-shadow: 0px 1px 2px rgba(60, 64, 67, 0.3), 0px 1px 3px 1px rgba(60, 64, 67, 0.15);\n",
       "      fill: #174EA6;\n",
       "    }\n",
       "\n",
       "    [theme=dark] .colab-df-convert {\n",
       "      background-color: #3B4455;\n",
       "      fill: #D2E3FC;\n",
       "    }\n",
       "\n",
       "    [theme=dark] .colab-df-convert:hover {\n",
       "      background-color: #434B5C;\n",
       "      box-shadow: 0px 1px 3px 1px rgba(0, 0, 0, 0.15);\n",
       "      filter: drop-shadow(0px 1px 2px rgba(0, 0, 0, 0.3));\n",
       "      fill: #FFFFFF;\n",
       "    }\n",
       "  </style>\n",
       "\n",
       "      <script>\n",
       "        const buttonEl =\n",
       "          document.querySelector('#df-4f2933d3-3349-4bcb-9292-88a513d3be76 button.colab-df-convert');\n",
       "        buttonEl.style.display =\n",
       "          google.colab.kernel.accessAllowed ? 'block' : 'none';\n",
       "\n",
       "        async function convertToInteractive(key) {\n",
       "          const element = document.querySelector('#df-4f2933d3-3349-4bcb-9292-88a513d3be76');\n",
       "          const dataTable =\n",
       "            await google.colab.kernel.invokeFunction('convertToInteractive',\n",
       "                                                     [key], {});\n",
       "          if (!dataTable) return;\n",
       "\n",
       "          const docLinkHtml = 'Like what you see? Visit the ' +\n",
       "            '<a target=\"_blank\" href=https://colab.research.google.com/notebooks/data_table.ipynb>data table notebook</a>'\n",
       "            + ' to learn more about interactive tables.';\n",
       "          element.innerHTML = '';\n",
       "          dataTable['output_type'] = 'display_data';\n",
       "          await google.colab.output.renderOutput(dataTable, element);\n",
       "          const docLink = document.createElement('div');\n",
       "          docLink.innerHTML = docLinkHtml;\n",
       "          element.appendChild(docLink);\n",
       "        }\n",
       "      </script>\n",
       "    </div>\n",
       "  </div>\n",
       "  "
      ],
      "text/plain": [
       "         id                                           document  label\n",
       "0   9976970                                아 더빙.. 진짜 짜증나네요 목소리      0\n",
       "1   3819312                  흠...포스터보고 초딩영화줄....오버연기조차 가볍지 않구나      1\n",
       "2  10265843                                  너무재밓었다그래서보는것을추천한다      0\n",
       "3   9045019                      교도소 이야기구먼 ..솔직히 재미는 없다..평점 조정      0\n",
       "4   6483659  사이몬페그의 익살스런 연기가 돋보였던 영화!스파이더맨에서 늙어보이기만 했던 커스틴 ...      1"
      ]
     },
     "execution_count": 35,
     "metadata": {},
     "output_type": "execute_result"
    }
   ],
   "source": [
    "# train_data의 상위 5개를 출력\n",
    "train_data = pd.read_table(\"ratings_train.txt\")\n",
    "test_data = pd.read_table(\"ratings_test.txt\")\n",
    "train_data.head()"
   ]
  },
  {
   "cell_type": "code",
   "execution_count": 38,
   "metadata": {
    "colab": {
     "base_uri": "https://localhost:8080/"
    },
    "id": "AgVJ0KjdJ6Yk",
    "outputId": "00a5cee4-f484-4f63-b18b-a62e53603870"
   },
   "outputs": [
    {
     "name": "stdout",
     "output_type": "stream",
     "text": [
      "True\n"
     ]
    }
   ],
   "source": [
    "# null값이 존재하는지 확인\n",
    "print(train_data.isnull().values.any())"
   ]
  },
  {
   "cell_type": "code",
   "execution_count": 40,
   "metadata": {
    "id": "CF4EClFTKR6n"
   },
   "outputs": [],
   "source": [
    "# null값이 존재하는 행 제거\n",
    "train_data = train_data.dropna(how = \"any\")"
   ]
  },
  {
   "cell_type": "code",
   "execution_count": 41,
   "metadata": {
    "colab": {
     "base_uri": "https://localhost:8080/"
    },
    "id": "di31pPnDKn0x",
    "outputId": "7c2a18cc-6678-4e66-9ecf-c2fb91a53435"
   },
   "outputs": [
    {
     "name": "stdout",
     "output_type": "stream",
     "text": [
      "False\n"
     ]
    }
   ],
   "source": [
    "# null 값이 존재하는지 확인\n",
    "print(train_data.isnull().values.any())"
   ]
  },
  {
   "cell_type": "code",
   "execution_count": 42,
   "metadata": {
    "id": "g42uSkdhOVEc"
   },
   "outputs": [],
   "source": [
    "tokenizer = tfds.deprecated.text.SubwordTextEncoder.build_from_corpus(train_data['document'], target_vocab_size=2**13)"
   ]
  },
  {
   "cell_type": "code",
   "execution_count": 44,
   "metadata": {
    "colab": {
     "base_uri": "https://localhost:8080/"
    },
    "id": "7RJjqWv8OeEa",
    "outputId": "dd2b3851-da50-4418-c18c-402b481f6134"
   },
   "outputs": [
    {
     "name": "stdout",
     "output_type": "stream",
     "text": [
      "['. ', '..', '영화', '이_', '...', '의_', '는_', '도_', '다', ', ', '을_', '고_', '은_', '가_', '에_', '.. ', '한_', '너무_', '정말_', '를_', '고', '게_', '영화_', '지', '... ', '진짜_', '이', '다_', '요', '만_', '? ', '과_', '나', '가', '서_', '지_', '로_', '으로_', '아', '어', '....', '음', '한', '수_', '와_', '도', '네', '그냥_', '나_', '더_', '왜_', '이런_', '면_', '기', '하고_', '보고_', '하는_', '서', '좀_', '리', '자', '스', '안', '! ', '에서_', '영화를_', '미', 'ㅋㅋ', '네요', '시', '주', '라', '는', '오', '없는_', '에', '해', '사', '!!', '영화는_', '마', '잘_', '수', '영화가_', '만', '본_', '로', '그_', '지만_', '대', '은', '비', '의', '일', '개', '있는_', '없다', '함', '구', '하']\n"
     ]
    }
   ],
   "source": [
    "# Quiz 1) 토크나이저의 subwords를 100까지 출력\n",
    "print(tokenizer.subwords[0:100])"
   ]
  },
  {
   "cell_type": "code",
   "execution_count": 62,
   "metadata": {
    "colab": {
     "base_uri": "https://localhost:8080/"
    },
    "id": "5maNLjzbRYjl",
    "outputId": "d2f14f82-3eed-4b19-ac42-92a36f829e25"
   },
   "outputs": [
    {
     "name": "stdout",
     "output_type": "stream",
     "text": [
      "[146, 26, 219, 1554, 16, 3149, 3438, 8030, 272, 1317, 1713, 8030, 955, 4385, 893, 2887, 523, 3, 1, 81, 513, 2810, 3244, 410, 436, 110, 3930, 8030, 493, 79]\n"
     ]
    }
   ],
   "source": [
    "# Quiz2) 21번째 문장 인코딩\n",
    "print(tokenizer.encode(train_data[\"document\"].iloc[20]))"
   ]
  },
  {
   "cell_type": "code",
   "execution_count": 70,
   "metadata": {
    "colab": {
     "base_uri": "https://localhost:8080/"
    },
    "id": "i59Z1bZnRY5Z",
    "outputId": "ec75f639-28b5-4699-d5c6-e2ba1f0588dd"
   },
   "outputs": [
    {
     "name": "stdout",
     "output_type": "stream",
     "text": [
      "정수 인코딩 후의 문장 [27, 8235, 8148, 8142, 2, 139, 695, 8088, 229, 6828, 8030, 771, 574, 8044, 451, 18, 234, 739, 47, 8124]\n",
      "기존 문장 : 이햐..전격Z작전도 있었구나.ㅋㅋㅋ 너무 반갑네~\n"
     ]
    }
   ],
   "source": [
    "# Quiz3) 21번째 문장\n",
    "sample_string = train_data[\"document\"].iloc[20]\n",
    "\n",
    "# Quiz4) encode\n",
    "tokenized_string = tokenizer.encode(sample_string)\n",
    "print(\"정수 인코딩 후의 문장 {}\".format(tokenized_string))\n",
    "\n",
    "# Quiz5) decode\n",
    "original_string = tokenizer.decode(tokenized_string)\n",
    "print(\"기존 문장 : {}\".format(original_string))"
   ]
  },
  {
   "cell_type": "code",
   "execution_count": 64,
   "metadata": {
    "colab": {
     "base_uri": "https://localhost:8080/"
    },
    "id": "GqR3Lho-SgN1",
    "outputId": "b24ae1f9-60dc-4245-d80d-7c86b1e62792"
   },
   "outputs": [
    {
     "name": "stdout",
     "output_type": "stream",
     "text": [
      "146 ----> 난 \n",
      "26 ----> 진짜 \n",
      "219 ----> 재밌게 \n",
      "1554 ----> 봤음\n",
      "16 ----> .. \n",
      "3149 ----> 나에게 \n",
      "3438 ----> 샘\n",
      "8030 ---->  \n",
      "272 ----> 워\n",
      "1317 ----> 싱\n",
      "1713 ----> 턴\n",
      "8030 ---->  \n",
      "955 ----> 이라는 \n",
      "4385 ----> 배우를 \n",
      "893 ----> 처음 \n",
      "2887 ----> 알려\n",
      "523 ----> 준 \n",
      "3 ----> 영화\n",
      "1 ----> . \n",
      "81 ----> 마\n",
      "513 ----> 커\n",
      "2810 ----> 스가 \n",
      "3244 ----> 존 \n",
      "410 ----> 코\n",
      "436 ----> 너\n",
      "110 ----> 보다 \n",
      "3930 ----> 카리스마\n",
      "8030 ---->  \n",
      "493 ----> 대박\n",
      "79 ----> !!\n"
     ]
    }
   ],
   "source": [
    "for ts in tokenized_string:\n",
    "    print('{} ----> {}'.format(ts, tokenizer.decode([ts])))"
   ]
  },
  {
   "cell_type": "code",
   "execution_count": 65,
   "metadata": {
    "colab": {
     "base_uri": "https://localhost:8080/"
    },
    "id": "dF1e5DoIVECB",
    "outputId": "eefa7305-508f-40ea-8e9a-ca686ed0f2bc"
   },
   "outputs": [
    {
     "name": "stdout",
     "output_type": "stream",
     "text": [
      "정수 인코딩 [4, 23, 1364, 2157, 8235, 8128, 8130, 8235, 8147, 8169, 8235, 8147, 8169, 393]\n",
      "기존 문장 이 영화 굉장히 재밌다 킄핫핫ㅎ\n"
     ]
    }
   ],
   "source": [
    "sample_string = '이 영화 굉장히 재밌다 킄핫핫ㅎ'\n",
    "\n",
    "# encode\n",
    "tokenized_string = tokenizer.encode(sample_string)\n",
    "print(\"정수 인코딩 {}\".format(tokenized_string))\n",
    "\n",
    "original_string = tokenizer.decode(tokenized_string)\n",
    "print(\"기존 문장 {}\".format(original_string))\n",
    "\n",
    "assert original_string == sample_string"
   ]
  },
  {
   "cell_type": "code",
   "execution_count": 267,
   "metadata": {
    "colab": {
     "base_uri": "https://localhost:8080/"
    },
    "id": "C8Qgu0ZYUqUc",
    "outputId": "7b237912-dd1f-4db8-a1ca-dc9dcbc79ecf"
   },
   "outputs": [
    {
     "name": "stdout",
     "output_type": "stream",
     "text": [
      "[74, 64, 4672, 770, 3421, 201]\n",
      "정수 인코딩 후의 문장 [74, 64, 4672, 770, 3421, 201]\n",
      "기존 문장 : 오! 기대이상!!! 특이하다\n"
     ]
    }
   ],
   "source": [
    "import numpy as np\n",
    "# np.random.seed(1)\n",
    "r = np.random.randint(len(train_data))\n",
    "\n",
    "# Quiz2) 21번째 문장 인코딩\n",
    "print(tokenizer.encode(train_data[\"document\"].iloc[r]))\n",
    "# Quiz3) 21번째 문장\n",
    "sample_string = train_data[\"document\"].iloc[r]\n",
    "\n",
    "# Quiz4) encode\n",
    "tokenized_string = tokenizer.encode(sample_string)\n",
    "print(\"정수 인코딩 후의 문장 {}\".format(tokenized_string))\n",
    "\n",
    "# Quiz5) decode\n",
    "original_string = tokenizer.decode(tokenized_string)\n",
    "print(\"기존 문장 : {}\".format(original_string))"
   ]
  }
 ],
 "metadata": {
  "accelerator": "GPU",
  "colab": {
   "collapsed_sections": [],
   "name": "220120_NLP_day5.ipynb",
   "provenance": []
  },
  "kernelspec": {
   "display_name": "Python 3",
   "language": "python",
   "name": "python3"
  },
  "language_info": {
   "codemirror_mode": {
    "name": "ipython",
    "version": 3
   },
   "file_extension": ".py",
   "mimetype": "text/x-python",
   "name": "python",
   "nbconvert_exporter": "python",
   "pygments_lexer": "ipython3",
   "version": "3.8.8"
  }
 },
 "nbformat": 4,
 "nbformat_minor": 1
}
