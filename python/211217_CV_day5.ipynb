{
 "cells": [
  {
   "cell_type": "markdown",
   "id": "87cb8959",
   "metadata": {},
   "source": [
    "### 복습"
   ]
  },
  {
   "cell_type": "code",
   "execution_count": null,
   "id": "3afa5670",
   "metadata": {},
   "outputs": [],
   "source": [
    "import numpy as np\n",
    "import cv2\n",
    "import sys"
   ]
  },
  {
   "cell_type": "code",
   "execution_count": null,
   "id": "2d5425a4",
   "metadata": {},
   "outputs": [],
   "source": [
    "img = cv2.imread(\"./fig/cat.bmp\")\n",
    "\n",
    "if img is None:\n",
    "    print(\"없음\")\n",
    "    sys.exit()\n",
    "    \n",
    "cv2.namedWindow(\"image\")\n",
    "cv2.imshow(\"image\", img)\n",
    "\n",
    "while True:\n",
    "    if cv2.waitKey() == 27:\n",
    "        break\n",
    "        \n",
    "cv2.destroyAllWindows()"
   ]
  },
  {
   "cell_type": "code",
   "execution_count": null,
   "id": "8c035ef4",
   "metadata": {},
   "outputs": [],
   "source": [
    "import matplotlib.pyplot as plt"
   ]
  },
  {
   "cell_type": "code",
   "execution_count": null,
   "id": "b635db9e",
   "metadata": {},
   "outputs": [],
   "source": [
    "imgbgr = cv2.imread(\"./fig/cat.bmp\", 1)\n",
    "imggray = cv2.imread(\"./fig/cat.bmp\", 0)\n",
    "imgrgb = cv2.cvtColor(imgbgr, cv2.COLOR_BGR2RGB)\n",
    "\n",
    "if imgbgr is None or imggray is None or imgrgb is None:\n",
    "    sys.exit(\"없음\")\n",
    "    \n",
    "plt.figure(figsize = (15, 10))\n",
    "plt.subplot(131), plt.imshow(imgbgr), plt.axis(\"off\")\n",
    "plt.subplot(132), plt.imshow(imggray, cmap = \"gray\"), plt.axis(\"off\")\n",
    "plt.subplot(133), plt.imshow(imgrgb), plt.axis(\"off\")\n",
    "\n",
    "plt.show()"
   ]
  },
  {
   "cell_type": "code",
   "execution_count": null,
   "id": "3dc6f4ae",
   "metadata": {},
   "outputs": [],
   "source": [
    "import os"
   ]
  },
  {
   "cell_type": "code",
   "execution_count": null,
   "id": "bffdac58",
   "metadata": {},
   "outputs": [],
   "source": [
    "img_list = os.listdir(\"./images/\")\n",
    "\n",
    "img_files = []\n",
    "for i in img_list:\n",
    "    img_file = \"./images/\" + i\n",
    "    img_files.append(img_file)\n",
    "    \n",
    "# print(img_files)\n",
    "\n",
    "cv2.namedWindow(\"scene\", cv2.WINDOW_NORMAL)\n",
    "cv2.setWindowProperty(\"scene\", cv2.WND_PROP_FULLSCREEN,\n",
    "                     cv2.WINDOW_FULLSCREEN)\n",
    "\n",
    "idx = 0\n",
    "while True:\n",
    "    img = cv2.imread(img_files[idx])\n",
    "    cv2.imshow(\"scene\", img)\n",
    "    \n",
    "    if cv2.waitKey(2000) == 27:\n",
    "        break\n",
    "        \n",
    "    idx += 1\n",
    "    \n",
    "    if idx >= len(img_list):\n",
    "        idx = 0\n",
    "\n",
    "cv2.destroyAllWindows()"
   ]
  },
  {
   "cell_type": "code",
   "execution_count": null,
   "id": "e976b932",
   "metadata": {},
   "outputs": [],
   "source": [
    "h, w = img.shape[:2]\n",
    "print(type(img))\n",
    "print(h, w)"
   ]
  },
  {
   "cell_type": "code",
   "execution_count": null,
   "id": "4f21fcc3",
   "metadata": {},
   "outputs": [],
   "source": [
    "img1 = np.zeros((600, 400, 3), np.uint8)\n",
    "img2 = np.ones((600, 400, 3), np.uint8) * 255\n",
    "img3 = np.full((600, 400, 3), (0, 0, 255), np.uint8)\n",
    "img4 = np.random.randint(0, 255, (600, 400), np.uint8)\n",
    "\n",
    "cv2.imshow(\"img1\", img1)\n",
    "cv2.imshow(\"img2\", img2)\n",
    "cv2.imshow(\"img3\", img3)\n",
    "cv2.imshow(\"img4\", img4)\n",
    "\n",
    "cv2.waitKey()\n",
    "cv2.destroyAllWindows()"
   ]
  },
  {
   "cell_type": "code",
   "execution_count": null,
   "id": "c41f8083",
   "metadata": {},
   "outputs": [],
   "source": [
    "img1 = cv2.imread(\"./fig/u.jpg\")\n",
    "img2 = img1 # 메모리 주소 공유\n",
    "img3 = img1.copy() # 메모리 새로 할당"
   ]
  },
  {
   "cell_type": "code",
   "execution_count": null,
   "id": "6cbf4b1a",
   "metadata": {},
   "outputs": [],
   "source": [
    "src = cv2.imread(\"./images/airplane.bmp\")\n",
    "mask = cv2.imread(\"./images/mask_plane.bmp\")\n",
    "dst = cv2.imread(\"./images/field.bmp\")\n",
    "\n",
    "# dst = cv2.copyTo(src, mask) dst에 할당하지 않기 때문에 \n",
    "# 입력과 출력이 동시에 이뤄지지 않음\n",
    "dst = cv2.copyTo(src, mask, dst)\n",
    "\n",
    "cv2.imshow(\"src\", src)\n",
    "cv2.imshow(\"mask\", mask)\n",
    "cv2.imshow(\"dst\", dst)\n",
    "\n",
    "cv2.waitKey()\n",
    "cv2.destroyAllWindows()"
   ]
  },
  {
   "cell_type": "code",
   "execution_count": null,
   "id": "1da2b563",
   "metadata": {},
   "outputs": [],
   "source": [
    "# 마스크를 만들어야함\n",
    "\n",
    "img1 = cv2.imread(\"./images/cow.png\")\n",
    "img2 = cv2.imread(\"./images/green.png\")\n",
    "img1_gray = cv2.cvtColor(img1, cv2.COLOR_BGR2GRAY)\n",
    "\n",
    "h, w = img1.shape[0:2]\n",
    "img2 = cv2.resize(img2, (w, h), cv2.INTER_AREA) # 줄일 때 INTER_AREA 꼭 쓰기\n",
    "\n",
    "returnvalue, mask = cv2.threshold(img1_gray, \n",
    "                                  240, 255,\n",
    "                                  cv2.THRESH_BINARY_INV\n",
    "                                 | cv2.THRESH_OTSU) # 인버스 안하면 다르게 나옴\n",
    "                                 # OTSU는 골짜기를 자기가 찾음 \n",
    "\n",
    "cv2.copyTo(img1, mask, img2)\n",
    "\n",
    "cv2.imshow(\"img1\", img1)\n",
    "cv2.imshow(\"mask\", mask)\n",
    "cv2.imshow(\"img2\", img2)\n",
    "\n",
    "cv2.waitKey()\n",
    "cv2.destroyAllWindows()"
   ]
  },
  {
   "cell_type": "code",
   "execution_count": null,
   "id": "0083ab90",
   "metadata": {},
   "outputs": [],
   "source": [
    "src = cv2.imread(\"./fig/puppy.bmp\")\n",
    "sunglass = cv2.imread(\"./images/imgbin_sunglasses_1.png\", cv2.IMREAD_UNCHANGED)\n",
    "\n",
    "sunglass = cv2.resize(sunglass, (300, 150))\n",
    "\n",
    "mask = sunglass[:, :, -1]\n",
    "glass = sunglass[:, :, 0:3]\n",
    "\n",
    "h, w = mask.shape[:2]\n",
    "crop = src[120:120 + h, 220:220 + w]\n",
    "cv2.copyTo(glass, mask, crop)\n",
    "\n",
    "cv2.imshow(\"src\", src)\n",
    "cv2.imshow(\"mask\", mask)\n",
    "cv2.imshow(\"glass\", glass)\n",
    "\n",
    "cv2.waitKey()\n",
    "cv2.destroyAllWindows()"
   ]
  },
  {
   "cell_type": "code",
   "execution_count": null,
   "id": "7da84425",
   "metadata": {},
   "outputs": [],
   "source": [
    "src = cv2.imread(\"./fig/puppy.bmp\")\n",
    "sunglass = cv2.imread(\"./images/imgbin_sunglasses_1.png\", cv2.IMREAD_UNCHANGED)\n",
    "\n",
    "sunglass = cv2.resize(sunglass, (300, 150))\n",
    "\n",
    "mask = sunglass[:, :, -1]\n",
    "glass = sunglass[:, :, 0:3]\n",
    "\n",
    "h, w = mask.shape[:2]\n",
    "crop = src[120:120 + h, 220:220 + w]\n",
    "# cv2.copyTo(glass, mask, crop)\n",
    "\n",
    "crop[mask > 0] = (0, 0, 255) # ndarray\n",
    "\n",
    "cv2.imshow(\"src\", src)\n",
    "cv2.imshow(\"mask\", mask)\n",
    "cv2.imshow(\"glass\", glass)\n",
    "\n",
    "cv2.waitKey()\n",
    "cv2.destroyAllWindows()"
   ]
  },
  {
   "cell_type": "code",
   "execution_count": null,
   "id": "68492041",
   "metadata": {},
   "outputs": [],
   "source": [
    "img = np.full((600, 1200, 3), (255, 255, 255), np.uint8)\n",
    "\n",
    "cv2.line(img, (50, 50), (200, 50), (0, 0, 255), 5)\n",
    "cv2.arrowedLine(img, (50, 70), (200, 70), (255, 0, 0), 5)\n",
    "cv2.rectangle(img, (50, 90), (200, 150), (0, 255, 0), -1) # -1 : 네모 안 채우기\n",
    "cv2.circle(img, (300, 100), 80, (0, 0, 0), 5, cv2.LINE_AA)\n",
    "\n",
    "text = \"opencv version = \" + cv2.__version__\n",
    "cv2.putText(img, text, (50,230), cv2.FONT_HERSHEY_SIMPLEX, \n",
    "            1, (0, 0, 0), cv2.LINE_AA)\n",
    "\n",
    "cv2.imshow(\"img\", img)\n",
    "cv2.waitKey()\n",
    "cv2.destroyAllWindows()"
   ]
  },
  {
   "cell_type": "markdown",
   "id": "29d83d64",
   "metadata": {},
   "source": [
    "### 카메라 열기"
   ]
  },
  {
   "cell_type": "code",
   "execution_count": null,
   "id": "72b20d39",
   "metadata": {},
   "outputs": [],
   "source": [
    "import numpy as np\n",
    "import cv2\n",
    "import sys"
   ]
  },
  {
   "cell_type": "code",
   "execution_count": null,
   "id": "c68f40b5",
   "metadata": {},
   "outputs": [],
   "source": [
    "cap = cv2.VideoCapture(0)\n",
    "cap.isOpened()\n",
    "\n",
    "if not cap.isOpened():\n",
    "    print(\"camera open failed\")\n",
    "    sys.exit()\n",
    "    \n",
    "w = round(cap.get(cv2.CAP_PROP_FRAME_WIDTH)) # w에 길이 할당\n",
    "h = round(cap.get(cv2.CAP_PROP_FRAME_HEIGHT)) # h에 높이 할당\n",
    "fps = round(cap.get(cv2.CAP_PROP_FPS))\n",
    "fourcc = cv2.VideoWriter_fourcc(*\"DIVX\")\n",
    "# fourcc = cv2.VideoWriter_fourcc(\"D\", \"I\", \"V\", \"X\")\n",
    "\n",
    "# cap.set(cv2.CAP_PROP_FRAME_WIDTH, w / 2) # 출력되는 영상 크기 좌우 길이 설정\n",
    "# cap.set(cv2.CAP_PROP_FRAME_HEIGHT, h / 2) # 출력되는 영상의 상하 길이 설정\n",
    "\n",
    "# cv2.VideoWriter(filename, fourcc, (width, height))\n",
    "\n",
    "out = cv2.VideoWriter(\"out.avi\", fourcc, fps, (w, h))\n",
    "\n",
    "while True:\n",
    "    returnvalue, frame = cap.read()\n",
    "    \n",
    "    if not returnvalue:\n",
    "        print(\"video read failed\")\n",
    "        break\n",
    "        \n",
    "    edge = cv2.Canny(frame, 50, 150)\n",
    "    edge_color = cv2.cvtColor(edge, cv2.COLOR_GRAY2BGR)\n",
    "    \n",
    "    out.write(edge_color)\n",
    "    \n",
    "    cv2.imshow(\"image\", frame)\n",
    "    cv2.imshow(\"edge\", edge)\n",
    "    \n",
    "    if cv2.waitKey(30) == 27:\n",
    "        break\n",
    "        \n",
    "out.release()\n",
    "cap.release()    \n",
    "cv2.destroyAllWindows()"
   ]
  },
  {
   "cell_type": "markdown",
   "id": "d494a6f8",
   "metadata": {},
   "source": [
    "### 키보드 키 이벤트"
   ]
  },
  {
   "cell_type": "code",
   "execution_count": null,
   "id": "e944c602",
   "metadata": {},
   "outputs": [],
   "source": [
    "import numpy as np\n",
    "import cv2\n",
    "import sys"
   ]
  },
  {
   "cell_type": "code",
   "execution_count": null,
   "id": "fca052f0",
   "metadata": {},
   "outputs": [],
   "source": [
    "img = cv2.imread(\"./fig/cat.bmp\", 0)\n",
    "img1 = img.copy()\n",
    "\n",
    "if img is None:\n",
    "    sys.exit()\n",
    "    \n",
    "cv2.imshow(\"image\", img1)\n",
    "\n",
    "while True:\n",
    "    key = cv2.waitKey()\n",
    "    \n",
    "    if key == 27:\n",
    "        break\n",
    "    elif key == ord(\"e\"):\n",
    "        img1 = cv2.Canny(img1, 50, 150)\n",
    "        cv2.imshow(\"image\", img1)\n",
    "    elif key == ord(\"i\"):\n",
    "        img1 = ~img1\n",
    "        cv2.imshow(\"image\", img1)\n",
    "    elif key == ord(\"r\"):\n",
    "        img1 = img\n",
    "        cv2.imshow(\"image\", img)\n",
    "        \n",
    "cv2.destroyAllWindows()"
   ]
  },
  {
   "cell_type": "markdown",
   "id": "904680f1",
   "metadata": {},
   "source": [
    "### 마우스 키 이벤트"
   ]
  },
  {
   "cell_type": "code",
   "execution_count": null,
   "id": "767644cf",
   "metadata": {},
   "outputs": [],
   "source": [
    "import numpy as np\n",
    "import cv2\n",
    "import sys"
   ]
  },
  {
   "cell_type": "code",
   "execution_count": null,
   "id": "7e8ca58d",
   "metadata": {},
   "outputs": [],
   "source": [
    "oldx = -1\n",
    "oldy = -1\n",
    "\n",
    "def call_mouse(event, x, y, flags, param):\n",
    "    global oldx, oldy\n",
    "    \n",
    "    if event == cv2.EVENT_LBUTTONDOWN:\n",
    "        oldx, oldy = x, y\n",
    "    elif event == cv2.EVENT_LBUTTONUP:\n",
    "        pass\n",
    "#         print(\"Lbuttonup\", x, y)\n",
    "    elif event == cv2.EVENT_MOUSEMOVE:\n",
    "        if flags == cv2.EVENT_FLAG_LBUTTON:\n",
    "            cv2.line(img, (oldx, oldy), (x, y), (0, 0, 0), 5, cv2.LINE_AA)\n",
    "            cv2.imshow(\"image\", img)\n",
    "            oldx, oldy = x, y"
   ]
  },
  {
   "cell_type": "code",
   "execution_count": null,
   "id": "ab3a565d",
   "metadata": {},
   "outputs": [],
   "source": [
    "img = np.ones((480, 480, 3), np.uint8) * 255\n",
    "\n",
    "cv2.namedWindow(\"image\")\n",
    "#         cv2.circle(img, (x, y), 30, (0, 0, 0), 5, cv2.LINE_AA)\n",
    "cv2.setMouseCallback(\"image\", call_mouse, img)\n",
    "\n",
    "cv2.imshow(\"image\", img)\n",
    "\n",
    "cv2.waitKey()\n",
    "cv2.destroyAllWindows()"
   ]
  }
 ],
 "metadata": {
  "kernelspec": {
   "display_name": "Python 3",
   "language": "python",
   "name": "python3"
  },
  "language_info": {
   "codemirror_mode": {
    "name": "ipython",
    "version": 3
   },
   "file_extension": ".py",
   "mimetype": "text/x-python",
   "name": "python",
   "nbconvert_exporter": "python",
   "pygments_lexer": "ipython3",
   "version": "3.8.8"
  }
 },
 "nbformat": 4,
 "nbformat_minor": 5
}
